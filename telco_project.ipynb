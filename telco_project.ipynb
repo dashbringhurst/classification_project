{
 "cells": [
  {
   "cell_type": "markdown",
   "id": "2089524e",
   "metadata": {},
   "source": [
    "# Telco Project"
   ]
  },
  {
   "cell_type": "markdown",
   "id": "daba27c2",
   "metadata": {},
   "source": [
    "- What are the main features driving customer churn at Telco?\n",
    "\n",
    "- Is tenure indicative of churn? When are customers most likely to leave?\n",
    "\n",
    "- Are monthly charges related to churn, and if so, how?\n",
    "\n",
    "- What additional features keep customers from churning?\n",
    "\n",
    "- How does contract type affect customer churn?"
   ]
  },
  {
   "cell_type": "markdown",
   "id": "9b6970ba",
   "metadata": {},
   "source": [
    "## Acquire and prepare data"
   ]
  },
  {
   "cell_type": "code",
   "execution_count": 1,
   "id": "9090aa54",
   "metadata": {},
   "outputs": [],
   "source": [
    "import pandas as pd\n",
    "import numpy as np\n",
    "import acquire\n",
    "import prepare\n",
    "import matplotlib.pyplot as plt\n",
    "import seaborn as sns\n",
    "from scipy import stats\n",
    "from sklearn.tree import DecisionTreeClassifier, plot_tree\n",
    "from sklearn.metrics import classification_report\n",
    "from sklearn.metrics import confusion_matrix\n",
    "from sklearn.ensemble import RandomForestClassifier\n",
    "from sklearn.neighbors import KNeighborsClassifier\n",
    "from sklearn.linear_model import LogisticRegression"
   ]
  },
  {
   "cell_type": "code",
   "execution_count": 2,
   "id": "e9287bfd",
   "metadata": {},
   "outputs": [],
   "source": [
    "def new_telco_data():\n",
    "    '''\n",
    "    This function reads the telco data from the Codeup db into a df.\n",
    "    '''\n",
    "    sql_query = \"\"\"\n",
    "                select * from customers\n",
    "                join contract_types using (contract_type_id)\n",
    "                join internet_service_types using (internet_service_type_id)\n",
    "                join payment_types using (payment_type_id)\n",
    "                \"\"\"\n",
    "    \n",
    "    # Read in DataFrame from Codeup db.\n",
    "    df = pd.read_sql(sql_query, acquire.get_connection('telco_churn'))\n",
    "    \n",
    "    return df"
   ]
  },
  {
   "cell_type": "code",
   "execution_count": 3,
   "id": "f745fe54",
   "metadata": {},
   "outputs": [],
   "source": [
    "def get_telco_data():\n",
    "    '''\n",
    "    This function reads in telco data from Codeup database, writes data to\n",
    "    a csv file if a local file does not exist, and returns a df.\n",
    "    '''\n",
    "    if os.path.isfile('telco.csv'):\n",
    "        \n",
    "        # If csv file exists read in data from csv file.\n",
    "        df = pd.read_csv('telco.csv', index_col=0)\n",
    "        \n",
    "    else:\n",
    "        \n",
    "        # Read fresh data from db into a DataFrame\n",
    "        df = new_telco_data()\n",
    "        \n",
    "        # Cache data\n",
    "        df.to_csv('telco.csv')\n",
    "        \n",
    "    return df"
   ]
  },
  {
   "cell_type": "code",
   "execution_count": 4,
   "id": "9c9821a0",
   "metadata": {},
   "outputs": [],
   "source": [
    "import os\n",
    "telco = get_telco_data()"
   ]
  },
  {
   "cell_type": "code",
   "execution_count": 5,
   "id": "b38d4cff",
   "metadata": {},
   "outputs": [
    {
     "data": {
      "text/html": [
       "<div>\n",
       "<style scoped>\n",
       "    .dataframe tbody tr th:only-of-type {\n",
       "        vertical-align: middle;\n",
       "    }\n",
       "\n",
       "    .dataframe tbody tr th {\n",
       "        vertical-align: top;\n",
       "    }\n",
       "\n",
       "    .dataframe thead th {\n",
       "        text-align: right;\n",
       "    }\n",
       "</style>\n",
       "<table border=\"1\" class=\"dataframe\">\n",
       "  <thead>\n",
       "    <tr style=\"text-align: right;\">\n",
       "      <th></th>\n",
       "      <th>payment_type_id</th>\n",
       "      <th>internet_service_type_id</th>\n",
       "      <th>contract_type_id</th>\n",
       "      <th>customer_id</th>\n",
       "      <th>gender</th>\n",
       "      <th>senior_citizen</th>\n",
       "      <th>partner</th>\n",
       "      <th>dependents</th>\n",
       "      <th>tenure</th>\n",
       "      <th>phone_service</th>\n",
       "      <th>...</th>\n",
       "      <th>tech_support</th>\n",
       "      <th>streaming_tv</th>\n",
       "      <th>streaming_movies</th>\n",
       "      <th>paperless_billing</th>\n",
       "      <th>monthly_charges</th>\n",
       "      <th>total_charges</th>\n",
       "      <th>churn</th>\n",
       "      <th>contract_type</th>\n",
       "      <th>internet_service_type</th>\n",
       "      <th>payment_type</th>\n",
       "    </tr>\n",
       "  </thead>\n",
       "  <tbody>\n",
       "    <tr>\n",
       "      <th>0</th>\n",
       "      <td>2</td>\n",
       "      <td>1</td>\n",
       "      <td>2</td>\n",
       "      <td>0002-ORFBO</td>\n",
       "      <td>Female</td>\n",
       "      <td>0</td>\n",
       "      <td>Yes</td>\n",
       "      <td>Yes</td>\n",
       "      <td>9</td>\n",
       "      <td>Yes</td>\n",
       "      <td>...</td>\n",
       "      <td>Yes</td>\n",
       "      <td>Yes</td>\n",
       "      <td>No</td>\n",
       "      <td>Yes</td>\n",
       "      <td>65.6</td>\n",
       "      <td>593.3</td>\n",
       "      <td>No</td>\n",
       "      <td>One year</td>\n",
       "      <td>DSL</td>\n",
       "      <td>Mailed check</td>\n",
       "    </tr>\n",
       "    <tr>\n",
       "      <th>1</th>\n",
       "      <td>2</td>\n",
       "      <td>1</td>\n",
       "      <td>1</td>\n",
       "      <td>0003-MKNFE</td>\n",
       "      <td>Male</td>\n",
       "      <td>0</td>\n",
       "      <td>No</td>\n",
       "      <td>No</td>\n",
       "      <td>9</td>\n",
       "      <td>Yes</td>\n",
       "      <td>...</td>\n",
       "      <td>No</td>\n",
       "      <td>No</td>\n",
       "      <td>Yes</td>\n",
       "      <td>No</td>\n",
       "      <td>59.9</td>\n",
       "      <td>542.4</td>\n",
       "      <td>No</td>\n",
       "      <td>Month-to-month</td>\n",
       "      <td>DSL</td>\n",
       "      <td>Mailed check</td>\n",
       "    </tr>\n",
       "    <tr>\n",
       "      <th>2</th>\n",
       "      <td>1</td>\n",
       "      <td>2</td>\n",
       "      <td>1</td>\n",
       "      <td>0004-TLHLJ</td>\n",
       "      <td>Male</td>\n",
       "      <td>0</td>\n",
       "      <td>No</td>\n",
       "      <td>No</td>\n",
       "      <td>4</td>\n",
       "      <td>Yes</td>\n",
       "      <td>...</td>\n",
       "      <td>No</td>\n",
       "      <td>No</td>\n",
       "      <td>No</td>\n",
       "      <td>Yes</td>\n",
       "      <td>73.9</td>\n",
       "      <td>280.85</td>\n",
       "      <td>Yes</td>\n",
       "      <td>Month-to-month</td>\n",
       "      <td>Fiber optic</td>\n",
       "      <td>Electronic check</td>\n",
       "    </tr>\n",
       "    <tr>\n",
       "      <th>3</th>\n",
       "      <td>1</td>\n",
       "      <td>2</td>\n",
       "      <td>1</td>\n",
       "      <td>0011-IGKFF</td>\n",
       "      <td>Male</td>\n",
       "      <td>1</td>\n",
       "      <td>Yes</td>\n",
       "      <td>No</td>\n",
       "      <td>13</td>\n",
       "      <td>Yes</td>\n",
       "      <td>...</td>\n",
       "      <td>No</td>\n",
       "      <td>Yes</td>\n",
       "      <td>Yes</td>\n",
       "      <td>Yes</td>\n",
       "      <td>98.0</td>\n",
       "      <td>1237.85</td>\n",
       "      <td>Yes</td>\n",
       "      <td>Month-to-month</td>\n",
       "      <td>Fiber optic</td>\n",
       "      <td>Electronic check</td>\n",
       "    </tr>\n",
       "    <tr>\n",
       "      <th>4</th>\n",
       "      <td>2</td>\n",
       "      <td>2</td>\n",
       "      <td>1</td>\n",
       "      <td>0013-EXCHZ</td>\n",
       "      <td>Female</td>\n",
       "      <td>1</td>\n",
       "      <td>Yes</td>\n",
       "      <td>No</td>\n",
       "      <td>3</td>\n",
       "      <td>Yes</td>\n",
       "      <td>...</td>\n",
       "      <td>Yes</td>\n",
       "      <td>Yes</td>\n",
       "      <td>No</td>\n",
       "      <td>Yes</td>\n",
       "      <td>83.9</td>\n",
       "      <td>267.4</td>\n",
       "      <td>Yes</td>\n",
       "      <td>Month-to-month</td>\n",
       "      <td>Fiber optic</td>\n",
       "      <td>Mailed check</td>\n",
       "    </tr>\n",
       "  </tbody>\n",
       "</table>\n",
       "<p>5 rows × 24 columns</p>\n",
       "</div>"
      ],
      "text/plain": [
       "   payment_type_id  internet_service_type_id  contract_type_id customer_id  \\\n",
       "0                2                         1                 2  0002-ORFBO   \n",
       "1                2                         1                 1  0003-MKNFE   \n",
       "2                1                         2                 1  0004-TLHLJ   \n",
       "3                1                         2                 1  0011-IGKFF   \n",
       "4                2                         2                 1  0013-EXCHZ   \n",
       "\n",
       "   gender  senior_citizen partner dependents  tenure phone_service  ...  \\\n",
       "0  Female               0     Yes        Yes       9           Yes  ...   \n",
       "1    Male               0      No         No       9           Yes  ...   \n",
       "2    Male               0      No         No       4           Yes  ...   \n",
       "3    Male               1     Yes         No      13           Yes  ...   \n",
       "4  Female               1     Yes         No       3           Yes  ...   \n",
       "\n",
       "  tech_support streaming_tv streaming_movies paperless_billing  \\\n",
       "0          Yes          Yes               No               Yes   \n",
       "1           No           No              Yes                No   \n",
       "2           No           No               No               Yes   \n",
       "3           No          Yes              Yes               Yes   \n",
       "4          Yes          Yes               No               Yes   \n",
       "\n",
       "  monthly_charges total_charges churn   contract_type  internet_service_type  \\\n",
       "0            65.6         593.3    No        One year                    DSL   \n",
       "1            59.9         542.4    No  Month-to-month                    DSL   \n",
       "2            73.9        280.85   Yes  Month-to-month            Fiber optic   \n",
       "3            98.0       1237.85   Yes  Month-to-month            Fiber optic   \n",
       "4            83.9         267.4   Yes  Month-to-month            Fiber optic   \n",
       "\n",
       "       payment_type  \n",
       "0      Mailed check  \n",
       "1      Mailed check  \n",
       "2  Electronic check  \n",
       "3  Electronic check  \n",
       "4      Mailed check  \n",
       "\n",
       "[5 rows x 24 columns]"
      ]
     },
     "execution_count": 5,
     "metadata": {},
     "output_type": "execute_result"
    }
   ],
   "source": [
    "telco.head()"
   ]
  },
  {
   "cell_type": "code",
   "execution_count": 6,
   "id": "410fa6d6",
   "metadata": {},
   "outputs": [
    {
     "name": "stdout",
     "output_type": "stream",
     "text": [
      "<class 'pandas.core.frame.DataFrame'>\n",
      "RangeIndex: 7043 entries, 0 to 7042\n",
      "Data columns (total 24 columns):\n",
      " #   Column                    Non-Null Count  Dtype  \n",
      "---  ------                    --------------  -----  \n",
      " 0   payment_type_id           7043 non-null   int64  \n",
      " 1   internet_service_type_id  7043 non-null   int64  \n",
      " 2   contract_type_id          7043 non-null   int64  \n",
      " 3   customer_id               7043 non-null   object \n",
      " 4   gender                    7043 non-null   object \n",
      " 5   senior_citizen            7043 non-null   int64  \n",
      " 6   partner                   7043 non-null   object \n",
      " 7   dependents                7043 non-null   object \n",
      " 8   tenure                    7043 non-null   int64  \n",
      " 9   phone_service             7043 non-null   object \n",
      " 10  multiple_lines            7043 non-null   object \n",
      " 11  online_security           7043 non-null   object \n",
      " 12  online_backup             7043 non-null   object \n",
      " 13  device_protection         7043 non-null   object \n",
      " 14  tech_support              7043 non-null   object \n",
      " 15  streaming_tv              7043 non-null   object \n",
      " 16  streaming_movies          7043 non-null   object \n",
      " 17  paperless_billing         7043 non-null   object \n",
      " 18  monthly_charges           7043 non-null   float64\n",
      " 19  total_charges             7043 non-null   object \n",
      " 20  churn                     7043 non-null   object \n",
      " 21  contract_type             7043 non-null   object \n",
      " 22  internet_service_type     7043 non-null   object \n",
      " 23  payment_type              7043 non-null   object \n",
      "dtypes: float64(1), int64(5), object(18)\n",
      "memory usage: 1.3+ MB\n"
     ]
    }
   ],
   "source": [
    "telco.info()"
   ]
  },
  {
   "cell_type": "code",
   "execution_count": 7,
   "id": "f48af085",
   "metadata": {},
   "outputs": [
    {
     "data": {
      "text/html": [
       "<div>\n",
       "<style scoped>\n",
       "    .dataframe tbody tr th:only-of-type {\n",
       "        vertical-align: middle;\n",
       "    }\n",
       "\n",
       "    .dataframe tbody tr th {\n",
       "        vertical-align: top;\n",
       "    }\n",
       "\n",
       "    .dataframe thead th {\n",
       "        text-align: right;\n",
       "    }\n",
       "</style>\n",
       "<table border=\"1\" class=\"dataframe\">\n",
       "  <thead>\n",
       "    <tr style=\"text-align: right;\">\n",
       "      <th></th>\n",
       "      <th>payment_type_id</th>\n",
       "      <th>internet_service_type_id</th>\n",
       "      <th>contract_type_id</th>\n",
       "      <th>senior_citizen</th>\n",
       "      <th>tenure</th>\n",
       "      <th>monthly_charges</th>\n",
       "    </tr>\n",
       "  </thead>\n",
       "  <tbody>\n",
       "    <tr>\n",
       "      <th>count</th>\n",
       "      <td>7043.000000</td>\n",
       "      <td>7043.000000</td>\n",
       "      <td>7043.000000</td>\n",
       "      <td>7043.000000</td>\n",
       "      <td>7043.000000</td>\n",
       "      <td>7043.000000</td>\n",
       "    </tr>\n",
       "    <tr>\n",
       "      <th>mean</th>\n",
       "      <td>2.315633</td>\n",
       "      <td>1.872923</td>\n",
       "      <td>1.690473</td>\n",
       "      <td>0.162147</td>\n",
       "      <td>32.371149</td>\n",
       "      <td>64.761692</td>\n",
       "    </tr>\n",
       "    <tr>\n",
       "      <th>std</th>\n",
       "      <td>1.148907</td>\n",
       "      <td>0.737796</td>\n",
       "      <td>0.833755</td>\n",
       "      <td>0.368612</td>\n",
       "      <td>24.559481</td>\n",
       "      <td>30.090047</td>\n",
       "    </tr>\n",
       "    <tr>\n",
       "      <th>min</th>\n",
       "      <td>1.000000</td>\n",
       "      <td>1.000000</td>\n",
       "      <td>1.000000</td>\n",
       "      <td>0.000000</td>\n",
       "      <td>0.000000</td>\n",
       "      <td>18.250000</td>\n",
       "    </tr>\n",
       "    <tr>\n",
       "      <th>25%</th>\n",
       "      <td>1.000000</td>\n",
       "      <td>1.000000</td>\n",
       "      <td>1.000000</td>\n",
       "      <td>0.000000</td>\n",
       "      <td>9.000000</td>\n",
       "      <td>35.500000</td>\n",
       "    </tr>\n",
       "    <tr>\n",
       "      <th>50%</th>\n",
       "      <td>2.000000</td>\n",
       "      <td>2.000000</td>\n",
       "      <td>1.000000</td>\n",
       "      <td>0.000000</td>\n",
       "      <td>29.000000</td>\n",
       "      <td>70.350000</td>\n",
       "    </tr>\n",
       "    <tr>\n",
       "      <th>75%</th>\n",
       "      <td>3.000000</td>\n",
       "      <td>2.000000</td>\n",
       "      <td>2.000000</td>\n",
       "      <td>0.000000</td>\n",
       "      <td>55.000000</td>\n",
       "      <td>89.850000</td>\n",
       "    </tr>\n",
       "    <tr>\n",
       "      <th>max</th>\n",
       "      <td>4.000000</td>\n",
       "      <td>3.000000</td>\n",
       "      <td>3.000000</td>\n",
       "      <td>1.000000</td>\n",
       "      <td>72.000000</td>\n",
       "      <td>118.750000</td>\n",
       "    </tr>\n",
       "  </tbody>\n",
       "</table>\n",
       "</div>"
      ],
      "text/plain": [
       "       payment_type_id  internet_service_type_id  contract_type_id  \\\n",
       "count      7043.000000               7043.000000       7043.000000   \n",
       "mean          2.315633                  1.872923          1.690473   \n",
       "std           1.148907                  0.737796          0.833755   \n",
       "min           1.000000                  1.000000          1.000000   \n",
       "25%           1.000000                  1.000000          1.000000   \n",
       "50%           2.000000                  2.000000          1.000000   \n",
       "75%           3.000000                  2.000000          2.000000   \n",
       "max           4.000000                  3.000000          3.000000   \n",
       "\n",
       "       senior_citizen       tenure  monthly_charges  \n",
       "count     7043.000000  7043.000000      7043.000000  \n",
       "mean         0.162147    32.371149        64.761692  \n",
       "std          0.368612    24.559481        30.090047  \n",
       "min          0.000000     0.000000        18.250000  \n",
       "25%          0.000000     9.000000        35.500000  \n",
       "50%          0.000000    29.000000        70.350000  \n",
       "75%          0.000000    55.000000        89.850000  \n",
       "max          1.000000    72.000000       118.750000  "
      ]
     },
     "execution_count": 7,
     "metadata": {},
     "output_type": "execute_result"
    }
   ],
   "source": [
    "telco.describe()"
   ]
  },
  {
   "cell_type": "markdown",
   "id": "a1cfdea1",
   "metadata": {},
   "source": [
    "## Initial Analysis of Dataset\n",
    "\n",
    "- The descriptive statistics of the telco dataset show that further preparation is required for EDA. The data has no nulls and contains many features that are categorical, but are in string format. \n",
    "\n",
    "- Gender is evenly distributed and can likely be removed from the dataset. Roughly half of the customers have a partner, 38 percent have dependents, and 16 percent are senior citizens.\n",
    "\n",
    "- The average tenure is 32 months, 59 percent use paperless billing. Is this the same data as the automatic payment vs. manual payments? 26.5 percent of customers have churned, average monthly charges are 64.76, and 90 percent of customers have phone service."
   ]
  },
  {
   "cell_type": "markdown",
   "id": "89aed4fb",
   "metadata": {},
   "source": [
    "## Further Preparation of Data\n",
    "\n",
    "- I am encoding the categorical features using 1 for yes and 0 for no. This will allow me to calculate proportions for each feature.\n",
    "\n",
    "- For columns that are in string format, I will get the value counts of each to see if there are ways to clean the data further. "
   ]
  },
  {
   "cell_type": "code",
   "execution_count": 8,
   "id": "abdcefe3",
   "metadata": {},
   "outputs": [],
   "source": [
    "# encoding categorical variables\n",
    "\n",
    "telco['gender'] = telco.gender.map({'Female': 0, 'Male': 1})\n",
    "\n",
    "telco['partner'] = telco.partner.map({'Yes': 1, 'No': 0})\n",
    "\n",
    "telco['dependents'] = telco.dependents.map({'Yes': 1, 'No': 0})\n",
    "\n",
    "telco['phone_service'] = telco.phone_service.map({'Yes': 1, 'No': 0})\n",
    "\n",
    "telco['paperless_billing'] = telco.paperless_billing.map({'Yes': 1, 'No': 0})\n",
    "\n",
    "telco['churn'] = telco.churn.map({'Yes': 1, 'No': 0})"
   ]
  },
  {
   "cell_type": "code",
   "execution_count": 9,
   "id": "0c4326fb",
   "metadata": {},
   "outputs": [
    {
     "name": "stdout",
     "output_type": "stream",
     "text": [
      "<class 'pandas.core.frame.DataFrame'>\n",
      "RangeIndex: 7043 entries, 0 to 7042\n",
      "Data columns (total 24 columns):\n",
      " #   Column                    Non-Null Count  Dtype  \n",
      "---  ------                    --------------  -----  \n",
      " 0   payment_type_id           7043 non-null   int64  \n",
      " 1   internet_service_type_id  7043 non-null   int64  \n",
      " 2   contract_type_id          7043 non-null   int64  \n",
      " 3   customer_id               7043 non-null   object \n",
      " 4   gender                    7043 non-null   int64  \n",
      " 5   senior_citizen            7043 non-null   int64  \n",
      " 6   partner                   7043 non-null   int64  \n",
      " 7   dependents                7043 non-null   int64  \n",
      " 8   tenure                    7043 non-null   int64  \n",
      " 9   phone_service             7043 non-null   int64  \n",
      " 10  multiple_lines            7043 non-null   object \n",
      " 11  online_security           7043 non-null   object \n",
      " 12  online_backup             7043 non-null   object \n",
      " 13  device_protection         7043 non-null   object \n",
      " 14  tech_support              7043 non-null   object \n",
      " 15  streaming_tv              7043 non-null   object \n",
      " 16  streaming_movies          7043 non-null   object \n",
      " 17  paperless_billing         7043 non-null   int64  \n",
      " 18  monthly_charges           7043 non-null   float64\n",
      " 19  total_charges             7043 non-null   object \n",
      " 20  churn                     7043 non-null   int64  \n",
      " 21  contract_type             7043 non-null   object \n",
      " 22  internet_service_type     7043 non-null   object \n",
      " 23  payment_type              7043 non-null   object \n",
      "dtypes: float64(1), int64(11), object(12)\n",
      "memory usage: 1.3+ MB\n"
     ]
    }
   ],
   "source": [
    "telco.info()"
   ]
  },
  {
   "cell_type": "markdown",
   "id": "e0708f19",
   "metadata": {},
   "source": [
    "- the multiple_lines column has three values: Yes, No, and No phone service. Since phone_service already captures whether or not a person has phone service, I will combine the No and No phone service values into one value, No, and encode the column."
   ]
  },
  {
   "cell_type": "code",
   "execution_count": 10,
   "id": "d6357e51",
   "metadata": {},
   "outputs": [],
   "source": [
    "# multiple_lines has two separate columns for No: No and No phone service. I am combining these into one No value\n",
    "# for encoding and analysis.\n",
    "\n",
    "telco['multiple_lines'] = telco.multiple_lines.str.replace('No phone service', 'No')"
   ]
  },
  {
   "cell_type": "code",
   "execution_count": 11,
   "id": "7ee63512",
   "metadata": {},
   "outputs": [
    {
     "data": {
      "text/plain": [
       "No     4072\n",
       "Yes    2971\n",
       "Name: multiple_lines, dtype: int64"
      ]
     },
     "execution_count": 11,
     "metadata": {},
     "output_type": "execute_result"
    }
   ],
   "source": [
    "telco.multiple_lines.value_counts()"
   ]
  },
  {
   "cell_type": "code",
   "execution_count": 12,
   "id": "ef19993a",
   "metadata": {},
   "outputs": [
    {
     "data": {
      "text/plain": [
       "Electronic check             2365\n",
       "Mailed check                 1612\n",
       "Bank transfer (automatic)    1544\n",
       "Credit card (automatic)      1522\n",
       "Name: payment_type, dtype: int64"
      ]
     },
     "execution_count": 12,
     "metadata": {},
     "output_type": "execute_result"
    }
   ],
   "source": [
    "telco.payment_type.value_counts()"
   ]
  },
  {
   "cell_type": "markdown",
   "id": "2ad52e30",
   "metadata": {},
   "source": [
    "- The payment_type column has four values, but they can be combined into two values, manual and automatic, and encoded as well."
   ]
  },
  {
   "cell_type": "code",
   "execution_count": 13,
   "id": "e2c9c9ec",
   "metadata": {},
   "outputs": [],
   "source": [
    "# replacing the two manual payment types into one variable, 'manual'\n",
    "\n",
    "telco['payment_type'] = telco.payment_type.str.replace('Electronic check','manual').str.replace('Mailed check','manual')"
   ]
  },
  {
   "cell_type": "code",
   "execution_count": 14,
   "id": "62d05845",
   "metadata": {},
   "outputs": [
    {
     "name": "stderr",
     "output_type": "stream",
     "text": [
      "/var/folders/5g/xrhpsnj56_v3scw9s4trbgxc0000gn/T/ipykernel_18951/618385701.py:1: FutureWarning: The default value of regex will change from True to False in a future version. In addition, single character regular expressions will *not* be treated as literal strings when regex=True.\n",
      "  telco['payment_type'] = telco.payment_type.str.replace('(','').str.replace(')', '').str.replace('Bank transfer automatic', 'auto').str.replace('Credit card automatic', 'auto')\n"
     ]
    }
   ],
   "source": [
    "# replacing the two automatic payment types into one variable, 'auto'\n",
    "\n",
    "telco['payment_type'] = telco.payment_type.str.replace('(','').str.replace(')', '').str.replace('Bank transfer automatic', 'auto').str.replace('Credit card automatic', 'auto')"
   ]
  },
  {
   "cell_type": "code",
   "execution_count": 15,
   "id": "be64c843",
   "metadata": {},
   "outputs": [
    {
     "data": {
      "text/plain": [
       "manual    3977\n",
       "auto      3066\n",
       "Name: payment_type, dtype: int64"
      ]
     },
     "execution_count": 15,
     "metadata": {},
     "output_type": "execute_result"
    }
   ],
   "source": [
    "telco.payment_type.value_counts()"
   ]
  },
  {
   "cell_type": "code",
   "execution_count": 16,
   "id": "dc4b5b93",
   "metadata": {},
   "outputs": [
    {
     "data": {
      "text/html": [
       "<div>\n",
       "<style scoped>\n",
       "    .dataframe tbody tr th:only-of-type {\n",
       "        vertical-align: middle;\n",
       "    }\n",
       "\n",
       "    .dataframe tbody tr th {\n",
       "        vertical-align: top;\n",
       "    }\n",
       "\n",
       "    .dataframe thead th {\n",
       "        text-align: right;\n",
       "    }\n",
       "</style>\n",
       "<table border=\"1\" class=\"dataframe\">\n",
       "  <thead>\n",
       "    <tr style=\"text-align: right;\">\n",
       "      <th>streaming_movies</th>\n",
       "      <th>No</th>\n",
       "      <th>No internet service</th>\n",
       "      <th>Yes</th>\n",
       "    </tr>\n",
       "    <tr>\n",
       "      <th>streaming_tv</th>\n",
       "      <th></th>\n",
       "      <th></th>\n",
       "      <th></th>\n",
       "    </tr>\n",
       "  </thead>\n",
       "  <tbody>\n",
       "    <tr>\n",
       "      <th>No</th>\n",
       "      <td>2018</td>\n",
       "      <td>0</td>\n",
       "      <td>792</td>\n",
       "    </tr>\n",
       "    <tr>\n",
       "      <th>No internet service</th>\n",
       "      <td>0</td>\n",
       "      <td>1526</td>\n",
       "      <td>0</td>\n",
       "    </tr>\n",
       "    <tr>\n",
       "      <th>Yes</th>\n",
       "      <td>767</td>\n",
       "      <td>0</td>\n",
       "      <td>1940</td>\n",
       "    </tr>\n",
       "  </tbody>\n",
       "</table>\n",
       "</div>"
      ],
      "text/plain": [
       "streaming_movies       No  No internet service   Yes\n",
       "streaming_tv                                        \n",
       "No                   2018                    0   792\n",
       "No internet service     0                 1526     0\n",
       "Yes                   767                    0  1940"
      ]
     },
     "execution_count": 16,
     "metadata": {},
     "output_type": "execute_result"
    }
   ],
   "source": [
    "pd.crosstab(telco.streaming_tv, telco.streaming_movies)"
   ]
  },
  {
   "cell_type": "markdown",
   "id": "0603c98f",
   "metadata": {},
   "source": [
    "- The streaming_tv and streaming_movies columns can be converted into two values like like the multiple_lines columns because it the No internet service value is already captured in the internet_service_type_id column."
   ]
  },
  {
   "cell_type": "code",
   "execution_count": 17,
   "id": "8b1e05c9",
   "metadata": {},
   "outputs": [],
   "source": [
    "telco['streaming_tv'] = telco.streaming_tv.str.replace('No internet service','No')\n",
    "telco['streaming_movies'] = telco.streaming_movies.str.replace('No internet service', 'No')"
   ]
  },
  {
   "cell_type": "code",
   "execution_count": 18,
   "id": "4577d3dd",
   "metadata": {},
   "outputs": [
    {
     "data": {
      "text/plain": [
       "(No     4311\n",
       " Yes    2732\n",
       " Name: streaming_movies, dtype: int64,\n",
       " No     4336\n",
       " Yes    2707\n",
       " Name: streaming_tv, dtype: int64)"
      ]
     },
     "execution_count": 18,
     "metadata": {},
     "output_type": "execute_result"
    }
   ],
   "source": [
    "telco.streaming_movies.value_counts(), telco.streaming_tv.value_counts()"
   ]
  },
  {
   "cell_type": "markdown",
   "id": "35b6ca74",
   "metadata": {},
   "source": [
    "- All the extra feature columns for internet service will be changed into two values instead of three and then encoded."
   ]
  },
  {
   "cell_type": "code",
   "execution_count": 19,
   "id": "60582597",
   "metadata": {},
   "outputs": [],
   "source": [
    "telco['online_security'] = telco.online_security.str.replace('No internet service', 'No')\n",
    "telco['online_backup'] = telco.online_backup.str.replace('No internet service', 'No')\n",
    "telco['device_protection'] = telco.device_protection.str.replace('No internet service', 'No')\n",
    "telco['tech_support'] = telco.tech_support.str.replace('No internet service', 'No')"
   ]
  },
  {
   "cell_type": "code",
   "execution_count": 20,
   "id": "1d0c0122",
   "metadata": {},
   "outputs": [
    {
     "data": {
      "text/plain": [
       "(No     5024\n",
       " Yes    2019\n",
       " Name: online_security, dtype: int64,\n",
       " No     4614\n",
       " Yes    2429\n",
       " Name: online_backup, dtype: int64,\n",
       " No     4621\n",
       " Yes    2422\n",
       " Name: device_protection, dtype: int64,\n",
       " No     4999\n",
       " Yes    2044\n",
       " Name: tech_support, dtype: int64)"
      ]
     },
     "execution_count": 20,
     "metadata": {},
     "output_type": "execute_result"
    }
   ],
   "source": [
    "telco.online_security.value_counts(), telco.online_backup.value_counts(), telco.device_protection.value_counts(), telco.tech_support.value_counts()"
   ]
  },
  {
   "cell_type": "markdown",
   "id": "4bfa009e",
   "metadata": {},
   "source": [
    "- Now we have yes or no values for all columns that are associated with internet service and phone service."
   ]
  },
  {
   "cell_type": "code",
   "execution_count": 21,
   "id": "802c9318",
   "metadata": {},
   "outputs": [
    {
     "name": "stdout",
     "output_type": "stream",
     "text": [
      "<class 'pandas.core.frame.DataFrame'>\n",
      "RangeIndex: 7043 entries, 0 to 7042\n",
      "Data columns (total 24 columns):\n",
      " #   Column                    Non-Null Count  Dtype  \n",
      "---  ------                    --------------  -----  \n",
      " 0   payment_type_id           7043 non-null   int64  \n",
      " 1   internet_service_type_id  7043 non-null   int64  \n",
      " 2   contract_type_id          7043 non-null   int64  \n",
      " 3   customer_id               7043 non-null   object \n",
      " 4   gender                    7043 non-null   int64  \n",
      " 5   senior_citizen            7043 non-null   int64  \n",
      " 6   partner                   7043 non-null   int64  \n",
      " 7   dependents                7043 non-null   int64  \n",
      " 8   tenure                    7043 non-null   int64  \n",
      " 9   phone_service             7043 non-null   int64  \n",
      " 10  multiple_lines            7043 non-null   object \n",
      " 11  online_security           7043 non-null   object \n",
      " 12  online_backup             7043 non-null   object \n",
      " 13  device_protection         7043 non-null   object \n",
      " 14  tech_support              7043 non-null   object \n",
      " 15  streaming_tv              7043 non-null   object \n",
      " 16  streaming_movies          7043 non-null   object \n",
      " 17  paperless_billing         7043 non-null   int64  \n",
      " 18  monthly_charges           7043 non-null   float64\n",
      " 19  total_charges             7043 non-null   object \n",
      " 20  churn                     7043 non-null   int64  \n",
      " 21  contract_type             7043 non-null   object \n",
      " 22  internet_service_type     7043 non-null   object \n",
      " 23  payment_type              7043 non-null   object \n",
      "dtypes: float64(1), int64(11), object(12)\n",
      "memory usage: 1.3+ MB\n"
     ]
    }
   ],
   "source": [
    "telco.info()"
   ]
  },
  {
   "cell_type": "markdown",
   "id": "1e17c0cc",
   "metadata": {},
   "source": [
    "- total_charges is a numeric value that is in string format. I will turn the column into a float64 datatype."
   ]
  },
  {
   "cell_type": "code",
   "execution_count": 22,
   "id": "0d55a106",
   "metadata": {},
   "outputs": [
    {
     "name": "stderr",
     "output_type": "stream",
     "text": [
      "/var/folders/5g/xrhpsnj56_v3scw9s4trbgxc0000gn/T/ipykernel_18951/989436481.py:1: FutureWarning: The default value of regex will change from True to False in a future version. In addition, single character regular expressions will *not* be treated as literal strings when regex=True.\n",
      "  telco['total_charges'] = telco.total_charges.str.replace('$','').str.replace(',','').str.replace(' ','').fillna(0)\n"
     ]
    }
   ],
   "source": [
    "telco['total_charges'] = telco.total_charges.str.replace('$','').str.replace(',','').str.replace(' ','').fillna(0)\n",
    "telco['total_charges'] = pd.to_numeric(telco.total_charges)"
   ]
  },
  {
   "cell_type": "code",
   "execution_count": 23,
   "id": "5f2a713a",
   "metadata": {},
   "outputs": [
    {
     "data": {
      "text/plain": [
       "payment_type_id               int64\n",
       "internet_service_type_id      int64\n",
       "contract_type_id              int64\n",
       "customer_id                  object\n",
       "gender                        int64\n",
       "senior_citizen                int64\n",
       "partner                       int64\n",
       "dependents                    int64\n",
       "tenure                        int64\n",
       "phone_service                 int64\n",
       "multiple_lines               object\n",
       "online_security              object\n",
       "online_backup                object\n",
       "device_protection            object\n",
       "tech_support                 object\n",
       "streaming_tv                 object\n",
       "streaming_movies             object\n",
       "paperless_billing             int64\n",
       "monthly_charges             float64\n",
       "total_charges               float64\n",
       "churn                         int64\n",
       "contract_type                object\n",
       "internet_service_type        object\n",
       "payment_type                 object\n",
       "dtype: object"
      ]
     },
     "execution_count": 23,
     "metadata": {},
     "output_type": "execute_result"
    }
   ],
   "source": [
    "telco.dtypes"
   ]
  },
  {
   "cell_type": "markdown",
   "id": "761f491c",
   "metadata": {},
   "source": [
    "- The datatypes look good; I will now split the data."
   ]
  },
  {
   "cell_type": "code",
   "execution_count": 24,
   "id": "0b744099",
   "metadata": {},
   "outputs": [],
   "source": [
    "# create train, validate, test datasets using the split_data function from the prepare.py file\n",
    "\n",
    "train_telco, validate_telco, test_telco = prepare.split_data(telco, 'churn')"
   ]
  },
  {
   "cell_type": "code",
   "execution_count": 25,
   "id": "65203db3",
   "metadata": {},
   "outputs": [
    {
     "data": {
      "text/plain": [
       "((4225, 24), (1409, 24), (1409, 24))"
      ]
     },
     "execution_count": 25,
     "metadata": {},
     "output_type": "execute_result"
    }
   ],
   "source": [
    "train_telco.shape, validate_telco.shape, test_telco.shape"
   ]
  },
  {
   "cell_type": "markdown",
   "id": "f9b25428",
   "metadata": {},
   "source": [
    "- The datasets are split 60/20/20 and stratified on 'churn'"
   ]
  },
  {
   "cell_type": "code",
   "execution_count": 26,
   "id": "8be10feb",
   "metadata": {},
   "outputs": [
    {
     "data": {
      "text/html": [
       "<div>\n",
       "<style scoped>\n",
       "    .dataframe tbody tr th:only-of-type {\n",
       "        vertical-align: middle;\n",
       "    }\n",
       "\n",
       "    .dataframe tbody tr th {\n",
       "        vertical-align: top;\n",
       "    }\n",
       "\n",
       "    .dataframe thead th {\n",
       "        text-align: right;\n",
       "    }\n",
       "</style>\n",
       "<table border=\"1\" class=\"dataframe\">\n",
       "  <thead>\n",
       "    <tr style=\"text-align: right;\">\n",
       "      <th></th>\n",
       "      <th>payment_type_id</th>\n",
       "      <th>internet_service_type_id</th>\n",
       "      <th>contract_type_id</th>\n",
       "      <th>gender</th>\n",
       "      <th>senior_citizen</th>\n",
       "      <th>partner</th>\n",
       "      <th>dependents</th>\n",
       "      <th>tenure</th>\n",
       "      <th>phone_service</th>\n",
       "      <th>paperless_billing</th>\n",
       "      <th>monthly_charges</th>\n",
       "      <th>total_charges</th>\n",
       "      <th>churn</th>\n",
       "    </tr>\n",
       "  </thead>\n",
       "  <tbody>\n",
       "    <tr>\n",
       "      <th>count</th>\n",
       "      <td>4225.000000</td>\n",
       "      <td>4225.000000</td>\n",
       "      <td>4225.000000</td>\n",
       "      <td>4225.000000</td>\n",
       "      <td>4225.000000</td>\n",
       "      <td>4225.000000</td>\n",
       "      <td>4225.000000</td>\n",
       "      <td>4225.000000</td>\n",
       "      <td>4225.000000</td>\n",
       "      <td>4225.000000</td>\n",
       "      <td>4225.000000</td>\n",
       "      <td>4220.000000</td>\n",
       "      <td>4225.000000</td>\n",
       "    </tr>\n",
       "    <tr>\n",
       "      <th>mean</th>\n",
       "      <td>2.320000</td>\n",
       "      <td>1.878107</td>\n",
       "      <td>1.692544</td>\n",
       "      <td>0.507456</td>\n",
       "      <td>0.163314</td>\n",
       "      <td>0.493728</td>\n",
       "      <td>0.298225</td>\n",
       "      <td>32.736568</td>\n",
       "      <td>0.905325</td>\n",
       "      <td>0.595976</td>\n",
       "      <td>64.975325</td>\n",
       "      <td>2317.808898</td>\n",
       "      <td>0.265325</td>\n",
       "    </tr>\n",
       "    <tr>\n",
       "      <th>std</th>\n",
       "      <td>1.157093</td>\n",
       "      <td>0.735695</td>\n",
       "      <td>0.838753</td>\n",
       "      <td>0.500004</td>\n",
       "      <td>0.369695</td>\n",
       "      <td>0.500020</td>\n",
       "      <td>0.457533</td>\n",
       "      <td>24.518294</td>\n",
       "      <td>0.292800</td>\n",
       "      <td>0.490760</td>\n",
       "      <td>30.184347</td>\n",
       "      <td>2277.970403</td>\n",
       "      <td>0.441559</td>\n",
       "    </tr>\n",
       "    <tr>\n",
       "      <th>min</th>\n",
       "      <td>1.000000</td>\n",
       "      <td>1.000000</td>\n",
       "      <td>1.000000</td>\n",
       "      <td>0.000000</td>\n",
       "      <td>0.000000</td>\n",
       "      <td>0.000000</td>\n",
       "      <td>0.000000</td>\n",
       "      <td>0.000000</td>\n",
       "      <td>0.000000</td>\n",
       "      <td>0.000000</td>\n",
       "      <td>18.250000</td>\n",
       "      <td>18.850000</td>\n",
       "      <td>0.000000</td>\n",
       "    </tr>\n",
       "    <tr>\n",
       "      <th>25%</th>\n",
       "      <td>1.000000</td>\n",
       "      <td>1.000000</td>\n",
       "      <td>1.000000</td>\n",
       "      <td>0.000000</td>\n",
       "      <td>0.000000</td>\n",
       "      <td>0.000000</td>\n",
       "      <td>0.000000</td>\n",
       "      <td>9.000000</td>\n",
       "      <td>1.000000</td>\n",
       "      <td>0.000000</td>\n",
       "      <td>35.750000</td>\n",
       "      <td>416.200000</td>\n",
       "      <td>0.000000</td>\n",
       "    </tr>\n",
       "    <tr>\n",
       "      <th>50%</th>\n",
       "      <td>2.000000</td>\n",
       "      <td>2.000000</td>\n",
       "      <td>1.000000</td>\n",
       "      <td>1.000000</td>\n",
       "      <td>0.000000</td>\n",
       "      <td>0.000000</td>\n",
       "      <td>0.000000</td>\n",
       "      <td>30.000000</td>\n",
       "      <td>1.000000</td>\n",
       "      <td>1.000000</td>\n",
       "      <td>70.550000</td>\n",
       "      <td>1415.425000</td>\n",
       "      <td>0.000000</td>\n",
       "    </tr>\n",
       "    <tr>\n",
       "      <th>75%</th>\n",
       "      <td>3.000000</td>\n",
       "      <td>2.000000</td>\n",
       "      <td>2.000000</td>\n",
       "      <td>1.000000</td>\n",
       "      <td>0.000000</td>\n",
       "      <td>1.000000</td>\n",
       "      <td>1.000000</td>\n",
       "      <td>56.000000</td>\n",
       "      <td>1.000000</td>\n",
       "      <td>1.000000</td>\n",
       "      <td>90.050000</td>\n",
       "      <td>3858.900000</td>\n",
       "      <td>1.000000</td>\n",
       "    </tr>\n",
       "    <tr>\n",
       "      <th>max</th>\n",
       "      <td>4.000000</td>\n",
       "      <td>3.000000</td>\n",
       "      <td>3.000000</td>\n",
       "      <td>1.000000</td>\n",
       "      <td>1.000000</td>\n",
       "      <td>1.000000</td>\n",
       "      <td>1.000000</td>\n",
       "      <td>72.000000</td>\n",
       "      <td>1.000000</td>\n",
       "      <td>1.000000</td>\n",
       "      <td>118.750000</td>\n",
       "      <td>8684.800000</td>\n",
       "      <td>1.000000</td>\n",
       "    </tr>\n",
       "  </tbody>\n",
       "</table>\n",
       "</div>"
      ],
      "text/plain": [
       "       payment_type_id  internet_service_type_id  contract_type_id  \\\n",
       "count      4225.000000               4225.000000       4225.000000   \n",
       "mean          2.320000                  1.878107          1.692544   \n",
       "std           1.157093                  0.735695          0.838753   \n",
       "min           1.000000                  1.000000          1.000000   \n",
       "25%           1.000000                  1.000000          1.000000   \n",
       "50%           2.000000                  2.000000          1.000000   \n",
       "75%           3.000000                  2.000000          2.000000   \n",
       "max           4.000000                  3.000000          3.000000   \n",
       "\n",
       "            gender  senior_citizen      partner   dependents       tenure  \\\n",
       "count  4225.000000     4225.000000  4225.000000  4225.000000  4225.000000   \n",
       "mean      0.507456        0.163314     0.493728     0.298225    32.736568   \n",
       "std       0.500004        0.369695     0.500020     0.457533    24.518294   \n",
       "min       0.000000        0.000000     0.000000     0.000000     0.000000   \n",
       "25%       0.000000        0.000000     0.000000     0.000000     9.000000   \n",
       "50%       1.000000        0.000000     0.000000     0.000000    30.000000   \n",
       "75%       1.000000        0.000000     1.000000     1.000000    56.000000   \n",
       "max       1.000000        1.000000     1.000000     1.000000    72.000000   \n",
       "\n",
       "       phone_service  paperless_billing  monthly_charges  total_charges  \\\n",
       "count    4225.000000        4225.000000      4225.000000    4220.000000   \n",
       "mean        0.905325           0.595976        64.975325    2317.808898   \n",
       "std         0.292800           0.490760        30.184347    2277.970403   \n",
       "min         0.000000           0.000000        18.250000      18.850000   \n",
       "25%         1.000000           0.000000        35.750000     416.200000   \n",
       "50%         1.000000           1.000000        70.550000    1415.425000   \n",
       "75%         1.000000           1.000000        90.050000    3858.900000   \n",
       "max         1.000000           1.000000       118.750000    8684.800000   \n",
       "\n",
       "             churn  \n",
       "count  4225.000000  \n",
       "mean      0.265325  \n",
       "std       0.441559  \n",
       "min       0.000000  \n",
       "25%       0.000000  \n",
       "50%       0.000000  \n",
       "75%       1.000000  \n",
       "max       1.000000  "
      ]
     },
     "execution_count": 26,
     "metadata": {},
     "output_type": "execute_result"
    }
   ],
   "source": [
    "train_telco.describe()"
   ]
  },
  {
   "cell_type": "code",
   "execution_count": 27,
   "id": "cfab5f69",
   "metadata": {},
   "outputs": [
    {
     "name": "stdout",
     "output_type": "stream",
     "text": [
      "<class 'pandas.core.frame.DataFrame'>\n",
      "Int64Index: 4225 entries, 621 to 5771\n",
      "Data columns (total 24 columns):\n",
      " #   Column                    Non-Null Count  Dtype  \n",
      "---  ------                    --------------  -----  \n",
      " 0   payment_type_id           4225 non-null   int64  \n",
      " 1   internet_service_type_id  4225 non-null   int64  \n",
      " 2   contract_type_id          4225 non-null   int64  \n",
      " 3   customer_id               4225 non-null   object \n",
      " 4   gender                    4225 non-null   int64  \n",
      " 5   senior_citizen            4225 non-null   int64  \n",
      " 6   partner                   4225 non-null   int64  \n",
      " 7   dependents                4225 non-null   int64  \n",
      " 8   tenure                    4225 non-null   int64  \n",
      " 9   phone_service             4225 non-null   int64  \n",
      " 10  multiple_lines            4225 non-null   object \n",
      " 11  online_security           4225 non-null   object \n",
      " 12  online_backup             4225 non-null   object \n",
      " 13  device_protection         4225 non-null   object \n",
      " 14  tech_support              4225 non-null   object \n",
      " 15  streaming_tv              4225 non-null   object \n",
      " 16  streaming_movies          4225 non-null   object \n",
      " 17  paperless_billing         4225 non-null   int64  \n",
      " 18  monthly_charges           4225 non-null   float64\n",
      " 19  total_charges             4220 non-null   float64\n",
      " 20  churn                     4225 non-null   int64  \n",
      " 21  contract_type             4225 non-null   object \n",
      " 22  internet_service_type     4225 non-null   object \n",
      " 23  payment_type              4225 non-null   object \n",
      "dtypes: float64(2), int64(11), object(11)\n",
      "memory usage: 825.2+ KB\n"
     ]
    }
   ],
   "source": [
    "train_telco.info()"
   ]
  },
  {
   "cell_type": "markdown",
   "id": "bdc3f35a",
   "metadata": {},
   "source": [
    "### Univariate analysis"
   ]
  },
  {
   "cell_type": "code",
   "execution_count": 28,
   "id": "76a13018",
   "metadata": {},
   "outputs": [
    {
     "data": {
      "text/plain": [
       "<AxesSubplot:xlabel='churn', ylabel='count'>"
      ]
     },
     "execution_count": 28,
     "metadata": {},
     "output_type": "execute_result"
    },
    {
     "data": {
      "image/png": "[encoded data removed]",
      "text/plain": [
       "<Figure size 432x288 with 1 Axes>"
      ]
     },
     "metadata": {
      "needs_background": "light"
     },
     "output_type": "display_data"
    }
   ],
   "source": [
    "# graphical representation of churn\n",
    "\n",
    "sns.countplot(x='churn', data=train_telco)"
   ]
  },
  {
   "cell_type": "code",
   "execution_count": 29,
   "id": "a437aeb1",
   "metadata": {},
   "outputs": [
    {
     "data": {
      "text/plain": [
       "count    4225.000000\n",
       "mean        0.265325\n",
       "std         0.441559\n",
       "min         0.000000\n",
       "25%         0.000000\n",
       "50%         0.000000\n",
       "75%         1.000000\n",
       "max         1.000000\n",
       "Name: churn, dtype: float64"
      ]
     },
     "execution_count": 29,
     "metadata": {},
     "output_type": "execute_result"
    }
   ],
   "source": [
    "train_telco.churn.describe()"
   ]
  },
  {
   "cell_type": "markdown",
   "id": "e309195c",
   "metadata": {},
   "source": [
    "- Approximately 26.5 percent of customers have churned."
   ]
  },
  {
   "cell_type": "code",
   "execution_count": 30,
   "id": "fa1667d5",
   "metadata": {},
   "outputs": [
    {
     "data": {
      "text/plain": [
       "<AxesSubplot:xlabel='tenure', ylabel='Count'>"
      ]
     },
     "execution_count": 30,
     "metadata": {},
     "output_type": "execute_result"
    },
    {
     "data": {
      "image/png": "[encoded data removed]",
      "text/plain": [
       "<Figure size 432x288 with 1 Axes>"
      ]
     },
     "metadata": {
      "needs_background": "light"
     },
     "output_type": "display_data"
    }
   ],
   "source": [
    "# histogram of customer tenure\n",
    "\n",
    "sns.histplot(x='tenure', data=train_telco)"
   ]
  },
  {
   "cell_type": "code",
   "execution_count": 31,
   "id": "c9bd11df",
   "metadata": {},
   "outputs": [
    {
     "data": {
      "text/plain": [
       "count    4225.000000\n",
       "mean       32.736568\n",
       "std        24.518294\n",
       "min         0.000000\n",
       "25%         9.000000\n",
       "50%        30.000000\n",
       "75%        56.000000\n",
       "max        72.000000\n",
       "Name: tenure, dtype: float64"
      ]
     },
     "execution_count": 31,
     "metadata": {},
     "output_type": "execute_result"
    }
   ],
   "source": [
    "train_telco.tenure.describe()"
   ]
  },
  {
   "cell_type": "markdown",
   "id": "2d0a2d78",
   "metadata": {},
   "source": [
    "- Half of the customers have a tenure of 30 months or less; the average tenure is 32.7 months"
   ]
  },
  {
   "cell_type": "code",
   "execution_count": 32,
   "id": "1f53fc7d",
   "metadata": {},
   "outputs": [
    {
     "data": {
      "text/plain": [
       "<AxesSubplot:xlabel='monthly_charges', ylabel='Count'>"
      ]
     },
     "execution_count": 32,
     "metadata": {},
     "output_type": "execute_result"
    },
    {
     "data": {
      "image/png": "[encoded data removed]",
      "text/plain": [
       "<Figure size 432x288 with 1 Axes>"
      ]
     },
     "metadata": {
      "needs_background": "light"
     },
     "output_type": "display_data"
    }
   ],
   "source": [
    "# histogram of customer monthly charges; half of the customers pay 30 dollars or less\n",
    "\n",
    "sns.histplot(x=train_telco.monthly_charges)"
   ]
  },
  {
   "cell_type": "code",
   "execution_count": 33,
   "id": "6cad472f",
   "metadata": {},
   "outputs": [
    {
     "data": {
      "text/plain": [
       "count    4225.000000\n",
       "mean       64.975325\n",
       "std        30.184347\n",
       "min        18.250000\n",
       "25%        35.750000\n",
       "50%        70.550000\n",
       "75%        90.050000\n",
       "max       118.750000\n",
       "Name: monthly_charges, dtype: float64"
      ]
     },
     "execution_count": 33,
     "metadata": {},
     "output_type": "execute_result"
    }
   ],
   "source": [
    "train_telco.monthly_charges.describe()"
   ]
  },
  {
   "cell_type": "markdown",
   "id": "2b28d059",
   "metadata": {},
   "source": [
    "- The average monthly charge per customer is around 65 dollars; charges range from 18.25 to 118.75 per month."
   ]
  },
  {
   "cell_type": "code",
   "execution_count": 34,
   "id": "e552e524",
   "metadata": {},
   "outputs": [
    {
     "data": {
      "text/plain": [
       "<AxesSubplot:xlabel='senior_citizen', ylabel='count'>"
      ]
     },
     "execution_count": 34,
     "metadata": {},
     "output_type": "execute_result"
    },
    {
     "data": {
      "image/png": "[encoded data removed]",
      "text/plain": [
       "<Figure size 432x288 with 1 Axes>"
      ]
     },
     "metadata": {
      "needs_background": "light"
     },
     "output_type": "display_data"
    }
   ],
   "source": [
    "# bar graph of how many customers are senior citizens\n",
    "\n",
    "sns.countplot(x=train_telco.senior_citizen)"
   ]
  },
  {
   "cell_type": "code",
   "execution_count": 35,
   "id": "231d168d",
   "metadata": {},
   "outputs": [
    {
     "data": {
      "text/plain": [
       "count    4225.000000\n",
       "mean        0.163314\n",
       "std         0.369695\n",
       "min         0.000000\n",
       "25%         0.000000\n",
       "50%         0.000000\n",
       "75%         0.000000\n",
       "max         1.000000\n",
       "Name: senior_citizen, dtype: float64"
      ]
     },
     "execution_count": 35,
     "metadata": {},
     "output_type": "execute_result"
    }
   ],
   "source": [
    "train_telco.senior_citizen.describe()"
   ]
  },
  {
   "cell_type": "markdown",
   "id": "3fbbb51e",
   "metadata": {},
   "source": [
    "- 16 percent of customers are senior citizens"
   ]
  },
  {
   "cell_type": "code",
   "execution_count": 36,
   "id": "22b6124e",
   "metadata": {},
   "outputs": [
    {
     "data": {
      "text/plain": [
       "<AxesSubplot:xlabel='internet_service_type', ylabel='count'>"
      ]
     },
     "execution_count": 36,
     "metadata": {},
     "output_type": "execute_result"
    },
    {
     "data": {
      "image/png": "[encoded data removed]",
      "text/plain": [
       "<Figure size 432x288 with 1 Axes>"
      ]
     },
     "metadata": {
      "needs_background": "light"
     },
     "output_type": "display_data"
    }
   ],
   "source": [
    "# bar graph of internet service types; Fiber optic is the most popular type\n",
    "\n",
    "sns.countplot(x='internet_service_type', data=train_telco)"
   ]
  },
  {
   "cell_type": "code",
   "execution_count": 37,
   "id": "d626b1f3",
   "metadata": {},
   "outputs": [
    {
     "data": {
      "text/plain": [
       "Fiber optic    1876\n",
       "DSL            1432\n",
       "None            917\n",
       "Name: internet_service_type, dtype: int64"
      ]
     },
     "execution_count": 37,
     "metadata": {},
     "output_type": "execute_result"
    }
   ],
   "source": [
    "train_telco.internet_service_type.value_counts()"
   ]
  },
  {
   "cell_type": "markdown",
   "id": "6a99a3cd",
   "metadata": {},
   "source": [
    "- Fiber optic service is the most popular type, followed by DSL; approximately 22 percent of customers do not have internet"
   ]
  },
  {
   "cell_type": "code",
   "execution_count": 38,
   "id": "5da164cb",
   "metadata": {},
   "outputs": [
    {
     "data": {
      "text/plain": [
       "<AxesSubplot:xlabel='payment_type', ylabel='count'>"
      ]
     },
     "execution_count": 38,
     "metadata": {},
     "output_type": "execute_result"
    },
    {
     "data": {
      "image/png": "[encoded data removed]",
      "text/plain": [
       "<Figure size 432x288 with 1 Axes>"
      ]
     },
     "metadata": {
      "needs_background": "light"
     },
     "output_type": "display_data"
    }
   ],
   "source": [
    "# bar graph of payment types; more people pay by check than bank transfer/credit card\n",
    "\n",
    "sns.countplot(x='payment_type', data=train_telco)"
   ]
  },
  {
   "cell_type": "code",
   "execution_count": 264,
   "id": "48245efa",
   "metadata": {},
   "outputs": [
    {
     "data": {
      "text/plain": [
       "manual    2385\n",
       "auto      1840\n",
       "Name: payment_type, dtype: int64"
      ]
     },
     "execution_count": 264,
     "metadata": {},
     "output_type": "execute_result"
    }
   ],
   "source": [
    "train_telco.payment_type.value_counts()"
   ]
  },
  {
   "cell_type": "markdown",
   "id": "a9bceb67",
   "metadata": {},
   "source": [
    "- More customers use manual payments than automatic payments."
   ]
  },
  {
   "cell_type": "code",
   "execution_count": 39,
   "id": "8a48e5f0",
   "metadata": {},
   "outputs": [
    {
     "data": {
      "text/plain": [
       "<AxesSubplot:xlabel='contract_type', ylabel='count'>"
      ]
     },
     "execution_count": 39,
     "metadata": {},
     "output_type": "execute_result"
    },
    {
     "data": {
      "image/png": "[encoded data removed]",
      "text/plain": [
       "<Figure size 432x288 with 1 Axes>"
      ]
     },
     "metadata": {
      "needs_background": "light"
     },
     "output_type": "display_data"
    }
   ],
   "source": [
    "# bar graph of contract types; most customers are on a month-to-month contract type\n",
    "\n",
    "sns.countplot(x='contract_type', data=train_telco)"
   ]
  },
  {
   "cell_type": "code",
   "execution_count": 40,
   "id": "c8fcb0d0",
   "metadata": {},
   "outputs": [
    {
     "data": {
      "text/plain": [
       "Month-to-month    2335\n",
       "Two year          1036\n",
       "One year           854\n",
       "Name: contract_type, dtype: int64"
      ]
     },
     "execution_count": 40,
     "metadata": {},
     "output_type": "execute_result"
    }
   ],
   "source": [
    "train_telco.contract_type.value_counts()"
   ]
  },
  {
   "cell_type": "markdown",
   "id": "442996ef",
   "metadata": {},
   "source": [
    "- More customers are on a month-to-month basis than on one-year and two-year contracts combined."
   ]
  },
  {
   "cell_type": "code",
   "execution_count": 41,
   "id": "7ca07cf2",
   "metadata": {},
   "outputs": [
    {
     "data": {
      "text/plain": [
       "<AxesSubplot:xlabel='phone_service', ylabel='count'>"
      ]
     },
     "execution_count": 41,
     "metadata": {},
     "output_type": "execute_result"
    },
    {
     "data": {
      "image/png": "[encoded data removed]",
      "text/plain": [
       "<Figure size 432x288 with 1 Axes>"
      ]
     },
     "metadata": {
      "needs_background": "light"
     },
     "output_type": "display_data"
    }
   ],
   "source": [
    "# bar graph of phone service; most customers have phone service\n",
    "\n",
    "sns.countplot(x='phone_service', data=train_telco)"
   ]
  },
  {
   "cell_type": "code",
   "execution_count": 42,
   "id": "0f533805",
   "metadata": {},
   "outputs": [
    {
     "data": {
      "text/plain": [
       "1    3825\n",
       "0     400\n",
       "Name: phone_service, dtype: int64"
      ]
     },
     "execution_count": 42,
     "metadata": {},
     "output_type": "execute_result"
    }
   ],
   "source": [
    "train_telco.phone_service.value_counts()"
   ]
  },
  {
   "cell_type": "markdown",
   "id": "a2b52e09",
   "metadata": {},
   "source": [
    "- The vast majority of customers have phone service."
   ]
  },
  {
   "cell_type": "code",
   "execution_count": 43,
   "id": "4fed8940",
   "metadata": {},
   "outputs": [
    {
     "data": {
      "text/plain": [
       "<AxesSubplot:xlabel='multiple_lines', ylabel='count'>"
      ]
     },
     "execution_count": 43,
     "metadata": {},
     "output_type": "execute_result"
    },
    {
     "data": {
      "image/png": "[encoded data removed]",
      "text/plain": [
       "<Figure size 432x288 with 1 Axes>"
      ]
     },
     "metadata": {
      "needs_background": "light"
     },
     "output_type": "display_data"
    }
   ],
   "source": [
    "# bar graph of whether or not customers have more than one line; more customers have either one line or no phone service\n",
    "\n",
    "sns.countplot(x='multiple_lines', data=train_telco)"
   ]
  },
  {
   "cell_type": "code",
   "execution_count": 44,
   "id": "059d3308",
   "metadata": {},
   "outputs": [
    {
     "data": {
      "text/plain": [
       "No     2423\n",
       "Yes    1802\n",
       "Name: multiple_lines, dtype: int64"
      ]
     },
     "execution_count": 44,
     "metadata": {},
     "output_type": "execute_result"
    }
   ],
   "source": [
    "train_telco.multiple_lines.value_counts()"
   ]
  },
  {
   "cell_type": "markdown",
   "id": "6659b7fa",
   "metadata": {},
   "source": [
    "- Approximately 57 percent of customers do not have multiple lines."
   ]
  },
  {
   "cell_type": "code",
   "execution_count": 45,
   "id": "4a636656",
   "metadata": {},
   "outputs": [
    {
     "data": {
      "text/plain": [
       "<AxesSubplot:xlabel='paperless_billing', ylabel='count'>"
      ]
     },
     "execution_count": 45,
     "metadata": {},
     "output_type": "execute_result"
    },
    {
     "data": {
      "image/png": "[encoded data removed]",
      "text/plain": [
       "<Figure size 432x288 with 1 Axes>"
      ]
     },
     "metadata": {
      "needs_background": "light"
     },
     "output_type": "display_data"
    }
   ],
   "source": [
    "# bar graph of paperless billing; more customers are signed up for paperless billing than not\n",
    "\n",
    "sns.countplot(x='paperless_billing', data=train_telco)"
   ]
  },
  {
   "cell_type": "code",
   "execution_count": 46,
   "id": "0dfce6e6",
   "metadata": {},
   "outputs": [
    {
     "data": {
      "text/plain": [
       "count    4225.000000\n",
       "mean        0.595976\n",
       "std         0.490760\n",
       "min         0.000000\n",
       "25%         0.000000\n",
       "50%         1.000000\n",
       "75%         1.000000\n",
       "max         1.000000\n",
       "Name: paperless_billing, dtype: float64"
      ]
     },
     "execution_count": 46,
     "metadata": {},
     "output_type": "execute_result"
    }
   ],
   "source": [
    "train_telco.paperless_billing.describe()"
   ]
  },
  {
   "cell_type": "markdown",
   "id": "5b9f8b69",
   "metadata": {},
   "source": [
    "- Approximately 60 percent of customers use paperless billing."
   ]
  },
  {
   "cell_type": "code",
   "execution_count": 47,
   "id": "c9b44b8a",
   "metadata": {},
   "outputs": [
    {
     "data": {
      "text/plain": [
       "<AxesSubplot:xlabel='streaming_tv', ylabel='count'>"
      ]
     },
     "execution_count": 47,
     "metadata": {},
     "output_type": "execute_result"
    },
    {
     "data": {
      "image/png": "[encoded data removed]",
      "text/plain": [
       "<Figure size 432x288 with 1 Axes>"
      ]
     },
     "metadata": {
      "needs_background": "light"
     },
     "output_type": "display_data"
    }
   ],
   "source": [
    "# bar graph of the numbers of customers who do and do not have streaming tv\n",
    "\n",
    "sns.countplot(x=train_telco.streaming_tv)"
   ]
  },
  {
   "cell_type": "code",
   "execution_count": 48,
   "id": "49e05d2d",
   "metadata": {},
   "outputs": [
    {
     "data": {
      "text/plain": [
       "No     2590\n",
       "Yes    1635\n",
       "Name: streaming_tv, dtype: int64"
      ]
     },
     "execution_count": 48,
     "metadata": {},
     "output_type": "execute_result"
    }
   ],
   "source": [
    "train_telco.streaming_tv.value_counts()"
   ]
  },
  {
   "cell_type": "markdown",
   "id": "3a5f6c50",
   "metadata": {},
   "source": [
    "- 61 percent of customers do not have streaming tv."
   ]
  },
  {
   "cell_type": "code",
   "execution_count": 49,
   "id": "2659a5ed",
   "metadata": {},
   "outputs": [
    {
     "data": {
      "text/plain": [
       "<AxesSubplot:xlabel='streaming_movies', ylabel='count'>"
      ]
     },
     "execution_count": 49,
     "metadata": {},
     "output_type": "execute_result"
    },
    {
     "data": {
      "image/png": "[encoded data removed]",
      "text/plain": [
       "<Figure size 432x288 with 1 Axes>"
      ]
     },
     "metadata": {
      "needs_background": "light"
     },
     "output_type": "display_data"
    }
   ],
   "source": [
    "# bar graph of how many customers do and do not have streaming movies\n",
    "\n",
    "sns.countplot(x=train_telco.streaming_movies)"
   ]
  },
  {
   "cell_type": "code",
   "execution_count": 50,
   "id": "7f819f84",
   "metadata": {},
   "outputs": [
    {
     "data": {
      "text/plain": [
       "No     2571\n",
       "Yes    1654\n",
       "Name: streaming_movies, dtype: int64"
      ]
     },
     "execution_count": 50,
     "metadata": {},
     "output_type": "execute_result"
    }
   ],
   "source": [
    "train_telco.streaming_movies.value_counts()"
   ]
  },
  {
   "cell_type": "markdown",
   "id": "6ce3d92b",
   "metadata": {},
   "source": [
    "- Approximately 61 percent of customers do not have streaming movies."
   ]
  },
  {
   "cell_type": "code",
   "execution_count": 51,
   "id": "3a6326ee",
   "metadata": {},
   "outputs": [
    {
     "data": {
      "text/plain": [
       "<AxesSubplot:xlabel='online_security', ylabel='count'>"
      ]
     },
     "execution_count": 51,
     "metadata": {},
     "output_type": "execute_result"
    },
    {
     "data": {
      "image/png": "[encoded data removed]",
      "text/plain": [
       "<Figure size 432x288 with 1 Axes>"
      ]
     },
     "metadata": {
      "needs_background": "light"
     },
     "output_type": "display_data"
    }
   ],
   "source": [
    "# bar graph of customer counts for online security\n",
    "\n",
    "sns.countplot(x=train_telco.online_security)"
   ]
  },
  {
   "cell_type": "code",
   "execution_count": 52,
   "id": "923a7c76",
   "metadata": {},
   "outputs": [
    {
     "data": {
      "text/plain": [
       "No     3034\n",
       "Yes    1191\n",
       "Name: online_security, dtype: int64"
      ]
     },
     "execution_count": 52,
     "metadata": {},
     "output_type": "execute_result"
    }
   ],
   "source": [
    "train_telco.online_security.value_counts()"
   ]
  },
  {
   "cell_type": "markdown",
   "id": "3463dfaf",
   "metadata": {},
   "source": [
    "- Approximately 72 percent of customers do not have online security."
   ]
  },
  {
   "cell_type": "code",
   "execution_count": 53,
   "id": "3fa47ecc",
   "metadata": {},
   "outputs": [
    {
     "data": {
      "text/plain": [
       "<AxesSubplot:xlabel='device_protection', ylabel='count'>"
      ]
     },
     "execution_count": 53,
     "metadata": {},
     "output_type": "execute_result"
    },
    {
     "data": {
      "image/png": "[encoded data removed]",
      "text/plain": [
       "<Figure size 432x288 with 1 Axes>"
      ]
     },
     "metadata": {
      "needs_background": "light"
     },
     "output_type": "display_data"
    }
   ],
   "source": [
    "# bar graph of customer counts for device protection\n",
    "\n",
    "sns.countplot(x=train_telco.device_protection)"
   ]
  },
  {
   "cell_type": "code",
   "execution_count": 54,
   "id": "da966128",
   "metadata": {},
   "outputs": [
    {
     "data": {
      "text/plain": [
       "No     2755\n",
       "Yes    1470\n",
       "Name: device_protection, dtype: int64"
      ]
     },
     "execution_count": 54,
     "metadata": {},
     "output_type": "execute_result"
    }
   ],
   "source": [
    "train_telco.device_protection.value_counts()"
   ]
  },
  {
   "cell_type": "markdown",
   "id": "4c363916",
   "metadata": {},
   "source": [
    "- Approximately 65 percent of customers do not have device protection."
   ]
  },
  {
   "cell_type": "code",
   "execution_count": 55,
   "id": "27f43f3b",
   "metadata": {},
   "outputs": [
    {
     "data": {
      "text/plain": [
       "<AxesSubplot:xlabel='tech_support', ylabel='count'>"
      ]
     },
     "execution_count": 55,
     "metadata": {},
     "output_type": "execute_result"
    },
    {
     "data": {
      "image/png": "[encoded data removed]",
      "text/plain": [
       "<Figure size 432x288 with 1 Axes>"
      ]
     },
     "metadata": {
      "needs_background": "light"
     },
     "output_type": "display_data"
    }
   ],
   "source": [
    "# bar graph for customer counts for tech support\n",
    "\n",
    "sns.countplot(x=train_telco.tech_support)"
   ]
  },
  {
   "cell_type": "code",
   "execution_count": 56,
   "id": "4f47fd9b",
   "metadata": {},
   "outputs": [
    {
     "data": {
      "text/plain": [
       "No     3003\n",
       "Yes    1222\n",
       "Name: tech_support, dtype: int64"
      ]
     },
     "execution_count": 56,
     "metadata": {},
     "output_type": "execute_result"
    }
   ],
   "source": [
    "train_telco.tech_support.value_counts()"
   ]
  },
  {
   "cell_type": "markdown",
   "id": "41a9c404",
   "metadata": {},
   "source": [
    "- Approximately 71 percent of customers do not have tech support."
   ]
  },
  {
   "cell_type": "code",
   "execution_count": 57,
   "id": "875f58c6",
   "metadata": {},
   "outputs": [
    {
     "data": {
      "text/plain": [
       "<AxesSubplot:xlabel='online_backup', ylabel='count'>"
      ]
     },
     "execution_count": 57,
     "metadata": {},
     "output_type": "execute_result"
    },
    {
     "data": {
      "image/png": "[encoded data removed]",
      "text/plain": [
       "<Figure size 432x288 with 1 Axes>"
      ]
     },
     "metadata": {
      "needs_background": "light"
     },
     "output_type": "display_data"
    }
   ],
   "source": [
    "# bar graph of customer counts for online backup\n",
    "\n",
    "sns.countplot(x=train_telco.online_backup)"
   ]
  },
  {
   "cell_type": "code",
   "execution_count": 58,
   "id": "3dddd98b",
   "metadata": {},
   "outputs": [
    {
     "data": {
      "text/plain": [
       "No     2780\n",
       "Yes    1445\n",
       "Name: online_backup, dtype: int64"
      ]
     },
     "execution_count": 58,
     "metadata": {},
     "output_type": "execute_result"
    }
   ],
   "source": [
    "train_telco.online_backup.value_counts()"
   ]
  },
  {
   "cell_type": "markdown",
   "id": "70a0bd07",
   "metadata": {},
   "source": [
    "- Approximately 66 percent of customers do not have online backup."
   ]
  },
  {
   "cell_type": "code",
   "execution_count": 59,
   "id": "07d60231",
   "metadata": {},
   "outputs": [
    {
     "data": {
      "text/plain": [
       "<AxesSubplot:xlabel='partner', ylabel='count'>"
      ]
     },
     "execution_count": 59,
     "metadata": {},
     "output_type": "execute_result"
    },
    {
     "data": {
      "image/png": "[encoded data removed]",
      "text/plain": [
       "<Figure size 432x288 with 1 Axes>"
      ]
     },
     "metadata": {
      "needs_background": "light"
     },
     "output_type": "display_data"
    }
   ],
   "source": [
    "# bar graph of customer counts for partner\n",
    "\n",
    "sns.countplot(x=train_telco.partner)"
   ]
  },
  {
   "cell_type": "code",
   "execution_count": 275,
   "id": "a263c7ef",
   "metadata": {},
   "outputs": [
    {
     "data": {
      "text/plain": [
       "0    2139\n",
       "1    2086\n",
       "Name: partner, dtype: int64"
      ]
     },
     "execution_count": 275,
     "metadata": {},
     "output_type": "execute_result"
    }
   ],
   "source": [
    "train_telco.partner.value_counts()"
   ]
  },
  {
   "cell_type": "markdown",
   "id": "00836eb6",
   "metadata": {},
   "source": [
    "- Customers with a partner and customers without a partner are almost evenly split."
   ]
  },
  {
   "cell_type": "code",
   "execution_count": 60,
   "id": "93e99833",
   "metadata": {},
   "outputs": [
    {
     "data": {
      "text/plain": [
       "<AxesSubplot:xlabel='dependents', ylabel='count'>"
      ]
     },
     "execution_count": 60,
     "metadata": {},
     "output_type": "execute_result"
    },
    {
     "data": {
      "image/png": "[encoded data removed]",
      "text/plain": [
       "<Figure size 432x288 with 1 Axes>"
      ]
     },
     "metadata": {
      "needs_background": "light"
     },
     "output_type": "display_data"
    }
   ],
   "source": [
    "# bar graph of customer counts for dependents\n",
    "\n",
    "sns.countplot(x=train_telco.dependents)"
   ]
  },
  {
   "cell_type": "code",
   "execution_count": 276,
   "id": "6cd123d5",
   "metadata": {},
   "outputs": [
    {
     "data": {
      "text/plain": [
       "0    2965\n",
       "1    1260\n",
       "Name: dependents, dtype: int64"
      ]
     },
     "execution_count": 276,
     "metadata": {},
     "output_type": "execute_result"
    }
   ],
   "source": [
    "train_telco.dependents.value_counts()"
   ]
  },
  {
   "cell_type": "markdown",
   "id": "fcc809d8",
   "metadata": {},
   "source": [
    "- Approximately 70 percent of customers do not have dependents."
   ]
  },
  {
   "cell_type": "markdown",
   "id": "dc3d7845",
   "metadata": {},
   "source": [
    "#### Findings:\n",
    "\n",
    "- 26.5 percent of customers churned\n",
    "\n",
    "- Average tenure is 32.7 months, but most customers are between 0-5 and 65-70 months.\n",
    "\n",
    "- Average monthly charge is 65, but most customers pay between 18-25\n",
    "\n",
    "- 16 percent of customers are senior citizens\n",
    "\n",
    "- Fiber optic is the most popular internet service type\n",
    "\n",
    "- more customers make manual payments than automatic payments\n",
    "\n",
    "- More customers have a month-to-month contract type than two-year and one-year contracts combined\n",
    "\n",
    "- Most customers have phone service, and more customers have only one line rather than multiple lines\n",
    "\n",
    "- 59.6 percent of customers use paperless billing\n",
    "\n",
    "- There are more customers who do not have additional features than do (streaming, protection, support, etc.)\n",
    "\n",
    "- Customers are almost evenly split between having a partner and not, but more customers do not have dependents.\n",
    "\n"
   ]
  },
  {
   "cell_type": "markdown",
   "id": "a04f133b",
   "metadata": {},
   "source": [
    "### Bivariate analysis"
   ]
  },
  {
   "cell_type": "code",
   "execution_count": 61,
   "id": "b228adbb",
   "metadata": {},
   "outputs": [
    {
     "data": {
      "text/plain": [
       "<AxesSubplot:xlabel='monthly_charges', ylabel='Count'>"
      ]
     },
     "execution_count": 61,
     "metadata": {},
     "output_type": "execute_result"
    },
    {
     "data": {
      "image/png": "[encoded data removed]",
      "text/plain": [
       "<Figure size 432x288 with 1 Axes>"
      ]
     },
     "metadata": {
      "needs_background": "light"
     },
     "output_type": "display_data"
    }
   ],
   "source": [
    "# histplot of monthly charges and churn; average monthly charge for customers who churned is around 75 dollars\n",
    "\n",
    "sns.histplot(x=train_telco.monthly_charges, hue=train_telco.churn)"
   ]
  },
  {
   "cell_type": "code",
   "execution_count": 62,
   "id": "a1ed0d13",
   "metadata": {},
   "outputs": [
    {
     "data": {
      "text/plain": [
       "count    1121.000000\n",
       "mean       74.885772\n",
       "std        24.519717\n",
       "min        18.850000\n",
       "25%        57.550000\n",
       "50%        79.900000\n",
       "75%        94.250000\n",
       "max       118.350000\n",
       "Name: monthly_charges, dtype: float64"
      ]
     },
     "execution_count": 62,
     "metadata": {},
     "output_type": "execute_result"
    }
   ],
   "source": [
    "train_telco.monthly_charges[train_telco.churn==1].describe()"
   ]
  },
  {
   "cell_type": "code",
   "execution_count": 63,
   "id": "54d51b27",
   "metadata": {},
   "outputs": [
    {
     "data": {
      "text/plain": [
       "(0.19733529945537656, 2.3330208636155277e-38)"
      ]
     },
     "execution_count": 63,
     "metadata": {},
     "output_type": "execute_result"
    }
   ],
   "source": [
    "# correlation of monthly charges to churn using Pearson's r\n",
    "# there is a relationship between monthly charges and churn, but the strength of the correlation is small\n",
    "\n",
    "corr, p = stats.pearsonr(train_telco.monthly_charges, train_telco.churn)\n",
    "corr, p"
   ]
  },
  {
   "cell_type": "code",
   "execution_count": 64,
   "id": "44ee1dfe",
   "metadata": {},
   "outputs": [
    {
     "data": {
      "text/plain": [
       "<AxesSubplot:xlabel='tenure', ylabel='Count'>"
      ]
     },
     "execution_count": 64,
     "metadata": {},
     "output_type": "execute_result"
    },
    {
     "data": {
      "image/png": "[encoded data removed]",
      "text/plain": [
       "<Figure size 432x288 with 1 Axes>"
      ]
     },
     "metadata": {
      "needs_background": "light"
     },
     "output_type": "display_data"
    }
   ],
   "source": [
    "# histogram of tenure and churn; most churn occurs within the first 15 months\n",
    "\n",
    "sns.histplot(x=train_telco.tenure, hue=train_telco.churn)"
   ]
  },
  {
   "cell_type": "code",
   "execution_count": 65,
   "id": "64e29e27",
   "metadata": {},
   "outputs": [
    {
     "data": {
      "text/plain": [
       "count    1121.000000\n",
       "mean       18.871543\n",
       "std        19.842224\n",
       "min         1.000000\n",
       "25%         2.000000\n",
       "50%        11.000000\n",
       "75%        31.000000\n",
       "max        72.000000\n",
       "Name: tenure, dtype: float64"
      ]
     },
     "execution_count": 65,
     "metadata": {},
     "output_type": "execute_result"
    }
   ],
   "source": [
    "train_telco.tenure[train_telco.churn==1].describe()"
   ]
  },
  {
   "cell_type": "code",
   "execution_count": 66,
   "id": "778a6203",
   "metadata": {},
   "outputs": [
    {
     "data": {
      "text/plain": [
       "(-0.3398785497306553, 9.804162371170059e-115)"
      ]
     },
     "execution_count": 66,
     "metadata": {},
     "output_type": "execute_result"
    }
   ],
   "source": [
    "# correlation calculation for tenure and churn; the two variables are correlated with an r of .34\n",
    "\n",
    "corr, p = stats.pearsonr(train_telco.tenure, train_telco.churn)\n",
    "corr, p"
   ]
  },
  {
   "cell_type": "code",
   "execution_count": 67,
   "id": "4a6c4b6f",
   "metadata": {},
   "outputs": [
    {
     "data": {
      "text/plain": [
       "<AxesSubplot:xlabel='senior_citizen', ylabel='count'>"
      ]
     },
     "execution_count": 67,
     "metadata": {},
     "output_type": "execute_result"
    },
    {
     "data": {
      "image/png": "[encoded data removed]",
      "text/plain": [
       "<Figure size 432x288 with 1 Axes>"
      ]
     },
     "metadata": {
      "needs_background": "light"
     },
     "output_type": "display_data"
    }
   ],
   "source": [
    "# bar graph of the relationship between senior citizen status and churn\n",
    "\n",
    "sns.countplot(x=train_telco.senior_citizen, hue=train_telco.churn)"
   ]
  },
  {
   "cell_type": "code",
   "execution_count": 68,
   "id": "007697f1",
   "metadata": {},
   "outputs": [
    {
     "data": {
      "text/html": [
       "<div>\n",
       "<style scoped>\n",
       "    .dataframe tbody tr th:only-of-type {\n",
       "        vertical-align: middle;\n",
       "    }\n",
       "\n",
       "    .dataframe tbody tr th {\n",
       "        vertical-align: top;\n",
       "    }\n",
       "\n",
       "    .dataframe thead th {\n",
       "        text-align: right;\n",
       "    }\n",
       "</style>\n",
       "<table border=\"1\" class=\"dataframe\">\n",
       "  <thead>\n",
       "    <tr style=\"text-align: right;\">\n",
       "      <th>churn</th>\n",
       "      <th>0</th>\n",
       "      <th>1</th>\n",
       "    </tr>\n",
       "    <tr>\n",
       "      <th>senior_citizen</th>\n",
       "      <th></th>\n",
       "      <th></th>\n",
       "    </tr>\n",
       "  </thead>\n",
       "  <tbody>\n",
       "    <tr>\n",
       "      <th>0</th>\n",
       "      <td>2702</td>\n",
       "      <td>833</td>\n",
       "    </tr>\n",
       "    <tr>\n",
       "      <th>1</th>\n",
       "      <td>402</td>\n",
       "      <td>288</td>\n",
       "    </tr>\n",
       "  </tbody>\n",
       "</table>\n",
       "</div>"
      ],
      "text/plain": [
       "churn              0    1\n",
       "senior_citizen           \n",
       "0               2702  833\n",
       "1                402  288"
      ]
     },
     "execution_count": 68,
     "metadata": {},
     "output_type": "execute_result"
    }
   ],
   "source": [
    "pd.crosstab(train_telco.senior_citizen, train_telco.churn)"
   ]
  },
  {
   "cell_type": "code",
   "execution_count": 69,
   "id": "6250bef2",
   "metadata": {},
   "outputs": [],
   "source": [
    "# chi2 test for the relationship between senior citizen status and churn shows that there is a relationship\n",
    "\n",
    "observed = pd.crosstab(train_telco.senior_citizen, train_telco.churn)\n",
    "chi2, p, degf, expected = stats.chi2_contingency(observed)"
   ]
  },
  {
   "cell_type": "code",
   "execution_count": 70,
   "id": "674b93dc",
   "metadata": {},
   "outputs": [
    {
     "name": "stdout",
     "output_type": "stream",
     "text": [
      "Observed\n",
      "[[2702  833]\n",
      " [ 402  288]]\n",
      "\n",
      "Expected\n",
      "[[2597  937]\n",
      " [ 506  183]]\n",
      "\n",
      "----\n",
      "chi^2 = 96.9007\n",
      "p     = 0.0000\n"
     ]
    }
   ],
   "source": [
    "print('Observed')\n",
    "print(observed.values)\n",
    "print('\\nExpected')\n",
    "print(expected.astype(int))\n",
    "print('\\n----')\n",
    "print(f'chi^2 = {chi2:.4f}')\n",
    "print(f'p     = {p:.4f}')"
   ]
  },
  {
   "cell_type": "code",
   "execution_count": 71,
   "id": "b5623f55",
   "metadata": {},
   "outputs": [
    {
     "data": {
      "text/plain": [
       "<AxesSubplot:xlabel='internet_service_type', ylabel='count'>"
      ]
     },
     "execution_count": 71,
     "metadata": {},
     "output_type": "execute_result"
    },
    {
     "data": {
      "image/png": "[encoded data removed]",
      "text/plain": [
       "<Figure size 432x288 with 1 Axes>"
      ]
     },
     "metadata": {
      "needs_background": "light"
     },
     "output_type": "display_data"
    }
   ],
   "source": [
    "# bar graph of the number of people who churn based on internet service type; people with fiber optic internet churn\n",
    "# more than DSL and no internet customers\n",
    "\n",
    "sns.countplot(x='internet_service_type', hue='churn', data=train_telco)"
   ]
  },
  {
   "cell_type": "code",
   "execution_count": 72,
   "id": "1cd4c3cf",
   "metadata": {},
   "outputs": [
    {
     "data": {
      "text/html": [
       "<div>\n",
       "<style scoped>\n",
       "    .dataframe tbody tr th:only-of-type {\n",
       "        vertical-align: middle;\n",
       "    }\n",
       "\n",
       "    .dataframe tbody tr th {\n",
       "        vertical-align: top;\n",
       "    }\n",
       "\n",
       "    .dataframe thead th {\n",
       "        text-align: right;\n",
       "    }\n",
       "</style>\n",
       "<table border=\"1\" class=\"dataframe\">\n",
       "  <thead>\n",
       "    <tr style=\"text-align: right;\">\n",
       "      <th>churn</th>\n",
       "      <th>0</th>\n",
       "      <th>1</th>\n",
       "    </tr>\n",
       "    <tr>\n",
       "      <th>internet_service_type</th>\n",
       "      <th></th>\n",
       "      <th></th>\n",
       "    </tr>\n",
       "  </thead>\n",
       "  <tbody>\n",
       "    <tr>\n",
       "      <th>DSL</th>\n",
       "      <td>1149</td>\n",
       "      <td>283</td>\n",
       "    </tr>\n",
       "    <tr>\n",
       "      <th>Fiber optic</th>\n",
       "      <td>1100</td>\n",
       "      <td>776</td>\n",
       "    </tr>\n",
       "    <tr>\n",
       "      <th>None</th>\n",
       "      <td>855</td>\n",
       "      <td>62</td>\n",
       "    </tr>\n",
       "  </tbody>\n",
       "</table>\n",
       "</div>"
      ],
      "text/plain": [
       "churn                     0    1\n",
       "internet_service_type           \n",
       "DSL                    1149  283\n",
       "Fiber optic            1100  776\n",
       "None                    855   62"
      ]
     },
     "execution_count": 72,
     "metadata": {},
     "output_type": "execute_result"
    }
   ],
   "source": [
    "pd.crosstab(train_telco.internet_service_type, train_telco.churn)"
   ]
  },
  {
   "cell_type": "code",
   "execution_count": 73,
   "id": "89a101d1",
   "metadata": {},
   "outputs": [],
   "source": [
    "# chi2 test for the relationship between internet service type and churn shows that there is a relationship\n",
    "\n",
    "observed = pd.crosstab(train_telco.internet_service_type, train_telco.churn)\n",
    "chi2, p, degf, expected = stats.chi2_contingency(observed)"
   ]
  },
  {
   "cell_type": "code",
   "execution_count": 74,
   "id": "e8b49231",
   "metadata": {},
   "outputs": [
    {
     "name": "stdout",
     "output_type": "stream",
     "text": [
      "Observed\n",
      "[[1149  283]\n",
      " [1100  776]\n",
      " [ 855   62]]\n",
      "\n",
      "Expected\n",
      "[[1052  379]\n",
      " [1378  497]\n",
      " [ 673  243]]\n",
      "\n",
      "----\n",
      "chi^2 = 429.2846\n",
      "p     = 0.0000\n"
     ]
    }
   ],
   "source": [
    "print('Observed')\n",
    "print(observed.values)\n",
    "print('\\nExpected')\n",
    "print(expected.astype(int))\n",
    "print('\\n----')\n",
    "print(f'chi^2 = {chi2:.4f}')\n",
    "print(f'p     = {p:.4f}')"
   ]
  },
  {
   "cell_type": "code",
   "execution_count": 75,
   "id": "2e52aacd",
   "metadata": {},
   "outputs": [
    {
     "data": {
      "text/plain": [
       "<AxesSubplot:xlabel='payment_type', ylabel='count'>"
      ]
     },
     "execution_count": 75,
     "metadata": {},
     "output_type": "execute_result"
    },
    {
     "data": {
      "image/png": "[encoded data removed]",
      "text/plain": [
       "<Figure size 432x288 with 1 Axes>"
      ]
     },
     "metadata": {
      "needs_background": "light"
     },
     "output_type": "display_data"
    }
   ],
   "source": [
    "# bar graph of the relationship between payment type and churn\n",
    "\n",
    "sns.countplot(x='payment_type', hue='churn', data=train_telco)"
   ]
  },
  {
   "cell_type": "code",
   "execution_count": 76,
   "id": "4ba598ca",
   "metadata": {},
   "outputs": [
    {
     "data": {
      "text/html": [
       "<div>\n",
       "<style scoped>\n",
       "    .dataframe tbody tr th:only-of-type {\n",
       "        vertical-align: middle;\n",
       "    }\n",
       "\n",
       "    .dataframe tbody tr th {\n",
       "        vertical-align: top;\n",
       "    }\n",
       "\n",
       "    .dataframe thead th {\n",
       "        text-align: right;\n",
       "    }\n",
       "</style>\n",
       "<table border=\"1\" class=\"dataframe\">\n",
       "  <thead>\n",
       "    <tr style=\"text-align: right;\">\n",
       "      <th>churn</th>\n",
       "      <th>0</th>\n",
       "      <th>1</th>\n",
       "    </tr>\n",
       "    <tr>\n",
       "      <th>payment_type</th>\n",
       "      <th></th>\n",
       "      <th></th>\n",
       "    </tr>\n",
       "  </thead>\n",
       "  <tbody>\n",
       "    <tr>\n",
       "      <th>auto</th>\n",
       "      <td>1542</td>\n",
       "      <td>298</td>\n",
       "    </tr>\n",
       "    <tr>\n",
       "      <th>manual</th>\n",
       "      <td>1562</td>\n",
       "      <td>823</td>\n",
       "    </tr>\n",
       "  </tbody>\n",
       "</table>\n",
       "</div>"
      ],
      "text/plain": [
       "churn            0    1\n",
       "payment_type           \n",
       "auto          1542  298\n",
       "manual        1562  823"
      ]
     },
     "execution_count": 76,
     "metadata": {},
     "output_type": "execute_result"
    }
   ],
   "source": [
    "pd.crosstab(train_telco.payment_type, train_telco.churn)"
   ]
  },
  {
   "cell_type": "code",
   "execution_count": 77,
   "id": "9aa9a84b",
   "metadata": {},
   "outputs": [],
   "source": [
    "# chi2 test for the relationship between payment type and churn shows that there is a relationship\n",
    "\n",
    "observed = pd.crosstab(train_telco.payment_type, train_telco.churn)\n",
    "chi2, p, degf, expected = stats.chi2_contingency(observed)"
   ]
  },
  {
   "cell_type": "code",
   "execution_count": 78,
   "id": "8ca01706",
   "metadata": {},
   "outputs": [
    {
     "name": "stdout",
     "output_type": "stream",
     "text": [
      "Observed\n",
      "[[1542  298]\n",
      " [1562  823]]\n",
      "\n",
      "Expected\n",
      "[[1351  488]\n",
      " [1752  632]]\n",
      "\n",
      "----\n",
      "chi^2 = 177.7362\n",
      "p     = 0.0000\n"
     ]
    }
   ],
   "source": [
    "print('Observed')\n",
    "print(observed.values)\n",
    "print('\\nExpected')\n",
    "print(expected.astype(int))\n",
    "print('\\n----')\n",
    "print(f'chi^2 = {chi2:.4f}')\n",
    "print(f'p     = {p:.4f}')"
   ]
  },
  {
   "cell_type": "code",
   "execution_count": 79,
   "id": "9dbcad19",
   "metadata": {},
   "outputs": [
    {
     "data": {
      "text/plain": [
       "<AxesSubplot:xlabel='contract_type', ylabel='count'>"
      ]
     },
     "execution_count": 79,
     "metadata": {},
     "output_type": "execute_result"
    },
    {
     "data": {
      "image/png": "[encoded data removed]",
      "text/plain": [
       "<Figure size 432x288 with 1 Axes>"
      ]
     },
     "metadata": {
      "needs_background": "light"
     },
     "output_type": "display_data"
    }
   ],
   "source": [
    "# bar graph of the relationship between contract type and churn\n",
    "\n",
    "sns.countplot(x='contract_type', hue='churn', data=train_telco)"
   ]
  },
  {
   "cell_type": "code",
   "execution_count": 80,
   "id": "a4e40b4d",
   "metadata": {},
   "outputs": [
    {
     "data": {
      "text/html": [
       "<div>\n",
       "<style scoped>\n",
       "    .dataframe tbody tr th:only-of-type {\n",
       "        vertical-align: middle;\n",
       "    }\n",
       "\n",
       "    .dataframe tbody tr th {\n",
       "        vertical-align: top;\n",
       "    }\n",
       "\n",
       "    .dataframe thead th {\n",
       "        text-align: right;\n",
       "    }\n",
       "</style>\n",
       "<table border=\"1\" class=\"dataframe\">\n",
       "  <thead>\n",
       "    <tr style=\"text-align: right;\">\n",
       "      <th>churn</th>\n",
       "      <th>0</th>\n",
       "      <th>1</th>\n",
       "    </tr>\n",
       "    <tr>\n",
       "      <th>contract_type</th>\n",
       "      <th></th>\n",
       "      <th></th>\n",
       "    </tr>\n",
       "  </thead>\n",
       "  <tbody>\n",
       "    <tr>\n",
       "      <th>Month-to-month</th>\n",
       "      <td>1344</td>\n",
       "      <td>991</td>\n",
       "    </tr>\n",
       "    <tr>\n",
       "      <th>One year</th>\n",
       "      <td>750</td>\n",
       "      <td>104</td>\n",
       "    </tr>\n",
       "    <tr>\n",
       "      <th>Two year</th>\n",
       "      <td>1010</td>\n",
       "      <td>26</td>\n",
       "    </tr>\n",
       "  </tbody>\n",
       "</table>\n",
       "</div>"
      ],
      "text/plain": [
       "churn              0    1\n",
       "contract_type            \n",
       "Month-to-month  1344  991\n",
       "One year         750  104\n",
       "Two year        1010   26"
      ]
     },
     "execution_count": 80,
     "metadata": {},
     "output_type": "execute_result"
    }
   ],
   "source": [
    "pd.crosstab(train_telco.contract_type, train_telco.churn)"
   ]
  },
  {
   "cell_type": "code",
   "execution_count": 81,
   "id": "93942b08",
   "metadata": {},
   "outputs": [],
   "source": [
    "# chi2 test of contract type and churn shows that there is a strong relationship\n",
    "\n",
    "observed = pd.crosstab(train_telco.contract_type, train_telco.churn)\n",
    "chi2, p, degf, expected = stats.chi2_contingency(observed)"
   ]
  },
  {
   "cell_type": "code",
   "execution_count": 82,
   "id": "924b41b2",
   "metadata": {},
   "outputs": [
    {
     "name": "stdout",
     "output_type": "stream",
     "text": [
      "Observed\n",
      "[[1344  991]\n",
      " [ 750  104]\n",
      " [1010   26]]\n",
      "\n",
      "Expected\n",
      "[[1715  619]\n",
      " [ 627  226]\n",
      " [ 761  274]]\n",
      "\n",
      "----\n",
      "chi^2 = 700.1525\n",
      "p     = 0.0000\n"
     ]
    }
   ],
   "source": [
    "print('Observed')\n",
    "print(observed.values)\n",
    "print('\\nExpected')\n",
    "print(expected.astype(int))\n",
    "print('\\n----')\n",
    "print(f'chi^2 = {chi2:.4f}')\n",
    "print(f'p     = {p:.4f}')"
   ]
  },
  {
   "cell_type": "code",
   "execution_count": 83,
   "id": "157d0206",
   "metadata": {},
   "outputs": [
    {
     "data": {
      "text/plain": [
       "<AxesSubplot:xlabel='phone_service', ylabel='count'>"
      ]
     },
     "execution_count": 83,
     "metadata": {},
     "output_type": "execute_result"
    },
    {
     "data": {
      "image/png": "[encoded data removed]",
      "text/plain": [
       "<Figure size 432x288 with 1 Axes>"
      ]
     },
     "metadata": {
      "needs_background": "light"
     },
     "output_type": "display_data"
    }
   ],
   "source": [
    "# bar graph of relationship between phone service and churn\n",
    "\n",
    "sns.countplot(x='phone_service', hue='churn', data=train_telco)"
   ]
  },
  {
   "cell_type": "code",
   "execution_count": 84,
   "id": "a8bd9ac4",
   "metadata": {},
   "outputs": [
    {
     "data": {
      "text/html": [
       "<div>\n",
       "<style scoped>\n",
       "    .dataframe tbody tr th:only-of-type {\n",
       "        vertical-align: middle;\n",
       "    }\n",
       "\n",
       "    .dataframe tbody tr th {\n",
       "        vertical-align: top;\n",
       "    }\n",
       "\n",
       "    .dataframe thead th {\n",
       "        text-align: right;\n",
       "    }\n",
       "</style>\n",
       "<table border=\"1\" class=\"dataframe\">\n",
       "  <thead>\n",
       "    <tr style=\"text-align: right;\">\n",
       "      <th>churn</th>\n",
       "      <th>0</th>\n",
       "      <th>1</th>\n",
       "    </tr>\n",
       "    <tr>\n",
       "      <th>phone_service</th>\n",
       "      <th></th>\n",
       "      <th></th>\n",
       "    </tr>\n",
       "  </thead>\n",
       "  <tbody>\n",
       "    <tr>\n",
       "      <th>0</th>\n",
       "      <td>294</td>\n",
       "      <td>106</td>\n",
       "    </tr>\n",
       "    <tr>\n",
       "      <th>1</th>\n",
       "      <td>2810</td>\n",
       "      <td>1015</td>\n",
       "    </tr>\n",
       "  </tbody>\n",
       "</table>\n",
       "</div>"
      ],
      "text/plain": [
       "churn             0     1\n",
       "phone_service            \n",
       "0               294   106\n",
       "1              2810  1015"
      ]
     },
     "execution_count": 84,
     "metadata": {},
     "output_type": "execute_result"
    }
   ],
   "source": [
    "pd.crosstab(train_telco.phone_service, train_telco.churn)"
   ]
  },
  {
   "cell_type": "code",
   "execution_count": 85,
   "id": "2b3fbc69",
   "metadata": {},
   "outputs": [],
   "source": [
    "# chi2 test of phone service and churn shows that there is no relationship\n",
    "\n",
    "observed = pd.crosstab(train_telco.phone_service, train_telco.churn)\n",
    "chi2, p, degf, expected = stats.chi2_contingency(observed)"
   ]
  },
  {
   "cell_type": "code",
   "execution_count": 86,
   "id": "ba4ae9d2",
   "metadata": {},
   "outputs": [
    {
     "name": "stdout",
     "output_type": "stream",
     "text": [
      "Observed\n",
      "[[ 294  106]\n",
      " [2810 1015]]\n",
      "\n",
      "Expected\n",
      "[[ 293  106]\n",
      " [2810 1014]]\n",
      "\n",
      "----\n",
      "chi^2 = 0.0000\n",
      "p     = 1.0000\n"
     ]
    }
   ],
   "source": [
    "print('Observed')\n",
    "print(observed.values)\n",
    "print('\\nExpected')\n",
    "print(expected.astype(int))\n",
    "print('\\n----')\n",
    "print(f'chi^2 = {chi2:.4f}')\n",
    "print(f'p     = {p:.4f}')"
   ]
  },
  {
   "cell_type": "code",
   "execution_count": 87,
   "id": "4592440a",
   "metadata": {},
   "outputs": [
    {
     "data": {
      "text/plain": [
       "<AxesSubplot:xlabel='multiple_lines', ylabel='count'>"
      ]
     },
     "execution_count": 87,
     "metadata": {},
     "output_type": "execute_result"
    },
    {
     "data": {
      "image/png": "[encoded data removed]",
      "text/plain": [
       "<Figure size 432x288 with 1 Axes>"
      ]
     },
     "metadata": {
      "needs_background": "light"
     },
     "output_type": "display_data"
    }
   ],
   "source": [
    "# bar graph of the relationship between multiple lines and churn\n",
    "\n",
    "sns.countplot(x='multiple_lines', hue='churn', data=train_telco)"
   ]
  },
  {
   "cell_type": "code",
   "execution_count": 88,
   "id": "fb0c58cc",
   "metadata": {},
   "outputs": [
    {
     "data": {
      "text/html": [
       "<div>\n",
       "<style scoped>\n",
       "    .dataframe tbody tr th:only-of-type {\n",
       "        vertical-align: middle;\n",
       "    }\n",
       "\n",
       "    .dataframe tbody tr th {\n",
       "        vertical-align: top;\n",
       "    }\n",
       "\n",
       "    .dataframe thead th {\n",
       "        text-align: right;\n",
       "    }\n",
       "</style>\n",
       "<table border=\"1\" class=\"dataframe\">\n",
       "  <thead>\n",
       "    <tr style=\"text-align: right;\">\n",
       "      <th>churn</th>\n",
       "      <th>0</th>\n",
       "      <th>1</th>\n",
       "    </tr>\n",
       "    <tr>\n",
       "      <th>multiple_lines</th>\n",
       "      <th></th>\n",
       "      <th></th>\n",
       "    </tr>\n",
       "  </thead>\n",
       "  <tbody>\n",
       "    <tr>\n",
       "      <th>No</th>\n",
       "      <td>1817</td>\n",
       "      <td>606</td>\n",
       "    </tr>\n",
       "    <tr>\n",
       "      <th>Yes</th>\n",
       "      <td>1287</td>\n",
       "      <td>515</td>\n",
       "    </tr>\n",
       "  </tbody>\n",
       "</table>\n",
       "</div>"
      ],
      "text/plain": [
       "churn              0    1\n",
       "multiple_lines           \n",
       "No              1817  606\n",
       "Yes             1287  515"
      ]
     },
     "execution_count": 88,
     "metadata": {},
     "output_type": "execute_result"
    }
   ],
   "source": [
    "pd.crosstab(train_telco.multiple_lines, train_telco.churn)"
   ]
  },
  {
   "cell_type": "code",
   "execution_count": 89,
   "id": "8e1ea383",
   "metadata": {},
   "outputs": [],
   "source": [
    "# chi2 test of multiple lines and churn show a small relationship\n",
    "\n",
    "observed = pd.crosstab(train_telco.multiple_lines, train_telco.churn)\n",
    "chi2, p, degf, expected = stats.chi2_contingency(observed)"
   ]
  },
  {
   "cell_type": "code",
   "execution_count": 90,
   "id": "a5a34fa1",
   "metadata": {},
   "outputs": [
    {
     "name": "stdout",
     "output_type": "stream",
     "text": [
      "Observed\n",
      "[[1817  606]\n",
      " [1287  515]]\n",
      "\n",
      "Expected\n",
      "[[1780  642]\n",
      " [1323  478]]\n",
      "\n",
      "----\n",
      "chi^2 = 6.5714\n",
      "p     = 0.0104\n"
     ]
    }
   ],
   "source": [
    "print('Observed')\n",
    "print(observed.values)\n",
    "print('\\nExpected')\n",
    "print(expected.astype(int))\n",
    "print('\\n----')\n",
    "print(f'chi^2 = {chi2:.4f}')\n",
    "print(f'p     = {p:.4f}')"
   ]
  },
  {
   "cell_type": "code",
   "execution_count": 91,
   "id": "4775b07a",
   "metadata": {},
   "outputs": [
    {
     "data": {
      "text/plain": [
       "<AxesSubplot:xlabel='paperless_billing', ylabel='count'>"
      ]
     },
     "execution_count": 91,
     "metadata": {},
     "output_type": "execute_result"
    },
    {
     "data": {
      "image/png": "[encoded data removed]",
      "text/plain": [
       "<Figure size 432x288 with 1 Axes>"
      ]
     },
     "metadata": {
      "needs_background": "light"
     },
     "output_type": "display_data"
    }
   ],
   "source": [
    "# bar graph of the relationship between paperless billing and churn\n",
    "\n",
    "sns.countplot(x='paperless_billing', hue='churn', data=train_telco)"
   ]
  },
  {
   "cell_type": "code",
   "execution_count": 92,
   "id": "b1a0ee1a",
   "metadata": {},
   "outputs": [
    {
     "data": {
      "text/html": [
       "<div>\n",
       "<style scoped>\n",
       "    .dataframe tbody tr th:only-of-type {\n",
       "        vertical-align: middle;\n",
       "    }\n",
       "\n",
       "    .dataframe tbody tr th {\n",
       "        vertical-align: top;\n",
       "    }\n",
       "\n",
       "    .dataframe thead th {\n",
       "        text-align: right;\n",
       "    }\n",
       "</style>\n",
       "<table border=\"1\" class=\"dataframe\">\n",
       "  <thead>\n",
       "    <tr style=\"text-align: right;\">\n",
       "      <th>churn</th>\n",
       "      <th>0</th>\n",
       "      <th>1</th>\n",
       "    </tr>\n",
       "    <tr>\n",
       "      <th>paperless_billing</th>\n",
       "      <th></th>\n",
       "      <th></th>\n",
       "    </tr>\n",
       "  </thead>\n",
       "  <tbody>\n",
       "    <tr>\n",
       "      <th>0</th>\n",
       "      <td>1427</td>\n",
       "      <td>280</td>\n",
       "    </tr>\n",
       "    <tr>\n",
       "      <th>1</th>\n",
       "      <td>1677</td>\n",
       "      <td>841</td>\n",
       "    </tr>\n",
       "  </tbody>\n",
       "</table>\n",
       "</div>"
      ],
      "text/plain": [
       "churn                 0    1\n",
       "paperless_billing           \n",
       "0                  1427  280\n",
       "1                  1677  841"
      ]
     },
     "execution_count": 92,
     "metadata": {},
     "output_type": "execute_result"
    }
   ],
   "source": [
    "pd.crosstab(train_telco.paperless_billing, train_telco.churn)"
   ]
  },
  {
   "cell_type": "code",
   "execution_count": 93,
   "id": "630d0862",
   "metadata": {},
   "outputs": [],
   "source": [
    "# chi2 test of paperless billing and churn show that there is a relationship\n",
    "\n",
    "observed = pd.crosstab(train_telco.paperless_billing, train_telco.churn)\n",
    "chi2, p, degf, expected = stats.chi2_contingency(observed)"
   ]
  },
  {
   "cell_type": "code",
   "execution_count": 94,
   "id": "76d5c989",
   "metadata": {},
   "outputs": [
    {
     "name": "stdout",
     "output_type": "stream",
     "text": [
      "Observed\n",
      "[[1427  280]\n",
      " [1677  841]]\n",
      "\n",
      "Expected\n",
      "[[1254  452]\n",
      " [1849  668]]\n",
      "\n",
      "----\n",
      "chi^2 = 149.8964\n",
      "p     = 0.0000\n"
     ]
    }
   ],
   "source": [
    "print('Observed')\n",
    "print(observed.values)\n",
    "print('\\nExpected')\n",
    "print(expected.astype(int))\n",
    "print('\\n----')\n",
    "print(f'chi^2 = {chi2:.4f}')\n",
    "print(f'p     = {p:.4f}')"
   ]
  },
  {
   "cell_type": "code",
   "execution_count": 95,
   "id": "6518aaec",
   "metadata": {},
   "outputs": [
    {
     "data": {
      "text/plain": [
       "<AxesSubplot:xlabel='streaming_tv', ylabel='count'>"
      ]
     },
     "execution_count": 95,
     "metadata": {},
     "output_type": "execute_result"
    },
    {
     "data": {
      "image/png": "[encoded data removed]",
      "text/plain": [
       "<Figure size 432x288 with 1 Axes>"
      ]
     },
     "metadata": {
      "needs_background": "light"
     },
     "output_type": "display_data"
    }
   ],
   "source": [
    "# bar graph of the relationship between streaming tv and churn\n",
    "\n",
    "sns.countplot(x='streaming_tv', hue='churn', data=train_telco)"
   ]
  },
  {
   "cell_type": "code",
   "execution_count": 96,
   "id": "d6d62252",
   "metadata": {},
   "outputs": [
    {
     "data": {
      "text/html": [
       "<div>\n",
       "<style scoped>\n",
       "    .dataframe tbody tr th:only-of-type {\n",
       "        vertical-align: middle;\n",
       "    }\n",
       "\n",
       "    .dataframe tbody tr th {\n",
       "        vertical-align: top;\n",
       "    }\n",
       "\n",
       "    .dataframe thead th {\n",
       "        text-align: right;\n",
       "    }\n",
       "</style>\n",
       "<table border=\"1\" class=\"dataframe\">\n",
       "  <thead>\n",
       "    <tr style=\"text-align: right;\">\n",
       "      <th>churn</th>\n",
       "      <th>0</th>\n",
       "      <th>1</th>\n",
       "    </tr>\n",
       "    <tr>\n",
       "      <th>streaming_tv</th>\n",
       "      <th></th>\n",
       "      <th></th>\n",
       "    </tr>\n",
       "  </thead>\n",
       "  <tbody>\n",
       "    <tr>\n",
       "      <th>No</th>\n",
       "      <td>1973</td>\n",
       "      <td>617</td>\n",
       "    </tr>\n",
       "    <tr>\n",
       "      <th>Yes</th>\n",
       "      <td>1131</td>\n",
       "      <td>504</td>\n",
       "    </tr>\n",
       "  </tbody>\n",
       "</table>\n",
       "</div>"
      ],
      "text/plain": [
       "churn            0    1\n",
       "streaming_tv           \n",
       "No            1973  617\n",
       "Yes           1131  504"
      ]
     },
     "execution_count": 96,
     "metadata": {},
     "output_type": "execute_result"
    }
   ],
   "source": [
    "pd.crosstab(train_telco.streaming_tv, train_telco.churn)"
   ]
  },
  {
   "cell_type": "code",
   "execution_count": 97,
   "id": "613bb128",
   "metadata": {},
   "outputs": [],
   "source": [
    "# chi2 test of streaming tv and churn show that there is a relationship\n",
    "\n",
    "observed = pd.crosstab(train_telco.streaming_tv, train_telco.churn)\n",
    "chi2, p, degf, expected = stats.chi2_contingency(observed)"
   ]
  },
  {
   "cell_type": "code",
   "execution_count": 98,
   "id": "46d7a0a2",
   "metadata": {},
   "outputs": [
    {
     "name": "stdout",
     "output_type": "stream",
     "text": [
      "Observed\n",
      "[[1973  617]\n",
      " [1131  504]]\n",
      "\n",
      "Expected\n",
      "[[1902  687]\n",
      " [1201  433]]\n",
      "\n",
      "----\n",
      "chi^2 = 24.8606\n",
      "p     = 0.0000\n"
     ]
    }
   ],
   "source": [
    "print('Observed')\n",
    "print(observed.values)\n",
    "print('\\nExpected')\n",
    "print(expected.astype(int))\n",
    "print('\\n----')\n",
    "print(f'chi^2 = {chi2:.4f}')\n",
    "print(f'p     = {p:.4f}')"
   ]
  },
  {
   "cell_type": "code",
   "execution_count": 99,
   "id": "31150ae2",
   "metadata": {},
   "outputs": [
    {
     "data": {
      "text/plain": [
       "<AxesSubplot:xlabel='streaming_movies', ylabel='count'>"
      ]
     },
     "execution_count": 99,
     "metadata": {},
     "output_type": "execute_result"
    },
    {
     "data": {
      "image/png": "[encoded data removed]",
      "text/plain": [
       "<Figure size 432x288 with 1 Axes>"
      ]
     },
     "metadata": {
      "needs_background": "light"
     },
     "output_type": "display_data"
    }
   ],
   "source": [
    "# chi2 test of the relationship between streaming movies and churn\n",
    "\n",
    "sns.countplot(x='streaming_movies', hue='churn', data=train_telco)"
   ]
  },
  {
   "cell_type": "code",
   "execution_count": 100,
   "id": "2ef481d4",
   "metadata": {},
   "outputs": [
    {
     "data": {
      "text/html": [
       "<div>\n",
       "<style scoped>\n",
       "    .dataframe tbody tr th:only-of-type {\n",
       "        vertical-align: middle;\n",
       "    }\n",
       "\n",
       "    .dataframe tbody tr th {\n",
       "        vertical-align: top;\n",
       "    }\n",
       "\n",
       "    .dataframe thead th {\n",
       "        text-align: right;\n",
       "    }\n",
       "</style>\n",
       "<table border=\"1\" class=\"dataframe\">\n",
       "  <thead>\n",
       "    <tr style=\"text-align: right;\">\n",
       "      <th>churn</th>\n",
       "      <th>0</th>\n",
       "      <th>1</th>\n",
       "    </tr>\n",
       "    <tr>\n",
       "      <th>streaming_movies</th>\n",
       "      <th></th>\n",
       "      <th></th>\n",
       "    </tr>\n",
       "  </thead>\n",
       "  <tbody>\n",
       "    <tr>\n",
       "      <th>No</th>\n",
       "      <td>1953</td>\n",
       "      <td>618</td>\n",
       "    </tr>\n",
       "    <tr>\n",
       "      <th>Yes</th>\n",
       "      <td>1151</td>\n",
       "      <td>503</td>\n",
       "    </tr>\n",
       "  </tbody>\n",
       "</table>\n",
       "</div>"
      ],
      "text/plain": [
       "churn                0    1\n",
       "streaming_movies           \n",
       "No                1953  618\n",
       "Yes               1151  503"
      ]
     },
     "execution_count": 100,
     "metadata": {},
     "output_type": "execute_result"
    }
   ],
   "source": [
    "pd.crosstab(train_telco.streaming_movies, train_telco.churn)"
   ]
  },
  {
   "cell_type": "code",
   "execution_count": 101,
   "id": "33575a3c",
   "metadata": {},
   "outputs": [],
   "source": [
    "# chi2 test of streaming movies and churn show that there is a relationship\n",
    "\n",
    "observed = pd.crosstab(train_telco.streaming_movies, train_telco.churn)\n",
    "chi2, p, degf, expected = stats.chi2_contingency(observed)"
   ]
  },
  {
   "cell_type": "code",
   "execution_count": 102,
   "id": "4a380fe0",
   "metadata": {},
   "outputs": [
    {
     "name": "stdout",
     "output_type": "stream",
     "text": [
      "Observed\n",
      "[[1953  618]\n",
      " [1151  503]]\n",
      "\n",
      "Expected\n",
      "[[1888  682]\n",
      " [1215  438]]\n",
      "\n",
      "----\n",
      "chi^2 = 20.6507\n",
      "p     = 0.0000\n"
     ]
    }
   ],
   "source": [
    "print('Observed')\n",
    "print(observed.values)\n",
    "print('\\nExpected')\n",
    "print(expected.astype(int))\n",
    "print('\\n----')\n",
    "print(f'chi^2 = {chi2:.4f}')\n",
    "print(f'p     = {p:.4f}')"
   ]
  },
  {
   "cell_type": "code",
   "execution_count": 103,
   "id": "5c47bf8c",
   "metadata": {},
   "outputs": [
    {
     "data": {
      "text/plain": [
       "<AxesSubplot:xlabel='online_security', ylabel='count'>"
      ]
     },
     "execution_count": 103,
     "metadata": {},
     "output_type": "execute_result"
    },
    {
     "data": {
      "image/png": "[encoded data removed]",
      "text/plain": [
       "<Figure size 432x288 with 1 Axes>"
      ]
     },
     "metadata": {
      "needs_background": "light"
     },
     "output_type": "display_data"
    }
   ],
   "source": [
    "# bar graph of relationship between online security and churn\n",
    "\n",
    "sns.countplot(x='online_security', hue='churn', data=train_telco)"
   ]
  },
  {
   "cell_type": "code",
   "execution_count": 104,
   "id": "ea3ecb0d",
   "metadata": {},
   "outputs": [
    {
     "data": {
      "text/html": [
       "<div>\n",
       "<style scoped>\n",
       "    .dataframe tbody tr th:only-of-type {\n",
       "        vertical-align: middle;\n",
       "    }\n",
       "\n",
       "    .dataframe tbody tr th {\n",
       "        vertical-align: top;\n",
       "    }\n",
       "\n",
       "    .dataframe thead th {\n",
       "        text-align: right;\n",
       "    }\n",
       "</style>\n",
       "<table border=\"1\" class=\"dataframe\">\n",
       "  <thead>\n",
       "    <tr style=\"text-align: right;\">\n",
       "      <th>churn</th>\n",
       "      <th>0</th>\n",
       "      <th>1</th>\n",
       "    </tr>\n",
       "    <tr>\n",
       "      <th>online_security</th>\n",
       "      <th></th>\n",
       "      <th></th>\n",
       "    </tr>\n",
       "  </thead>\n",
       "  <tbody>\n",
       "    <tr>\n",
       "      <th>No</th>\n",
       "      <td>2103</td>\n",
       "      <td>931</td>\n",
       "    </tr>\n",
       "    <tr>\n",
       "      <th>Yes</th>\n",
       "      <td>1001</td>\n",
       "      <td>190</td>\n",
       "    </tr>\n",
       "  </tbody>\n",
       "</table>\n",
       "</div>"
      ],
      "text/plain": [
       "churn               0    1\n",
       "online_security           \n",
       "No               2103  931\n",
       "Yes              1001  190"
      ]
     },
     "execution_count": 104,
     "metadata": {},
     "output_type": "execute_result"
    }
   ],
   "source": [
    "pd.crosstab(train_telco.online_security, train_telco.churn)"
   ]
  },
  {
   "cell_type": "code",
   "execution_count": 105,
   "id": "ba32d689",
   "metadata": {},
   "outputs": [],
   "source": [
    "# chi2 test of online security and churn show that there is a relationship\n",
    "\n",
    "observed = pd.crosstab(train_telco.online_security, train_telco.churn)\n",
    "chi2, p, degf, expected = stats.chi2_contingency(observed)"
   ]
  },
  {
   "cell_type": "code",
   "execution_count": 106,
   "id": "77bd36e5",
   "metadata": {},
   "outputs": [
    {
     "name": "stdout",
     "output_type": "stream",
     "text": [
      "Observed\n",
      "[[2103  931]\n",
      " [1001  190]]\n",
      "\n",
      "Expected\n",
      "[[2229  804]\n",
      " [ 874  316]]\n",
      "\n",
      "----\n",
      "chi^2 = 94.4781\n",
      "p     = 0.0000\n"
     ]
    }
   ],
   "source": [
    "print('Observed')\n",
    "print(observed.values)\n",
    "print('\\nExpected')\n",
    "print(expected.astype(int))\n",
    "print('\\n----')\n",
    "print(f'chi^2 = {chi2:.4f}')\n",
    "print(f'p     = {p:.4f}')"
   ]
  },
  {
   "cell_type": "code",
   "execution_count": 107,
   "id": "f28d2490",
   "metadata": {},
   "outputs": [
    {
     "data": {
      "text/plain": [
       "<AxesSubplot:xlabel='device_protection', ylabel='count'>"
      ]
     },
     "execution_count": 107,
     "metadata": {},
     "output_type": "execute_result"
    },
    {
     "data": {
      "image/png": "[encoded data removed]",
      "text/plain": [
       "<Figure size 432x288 with 1 Axes>"
      ]
     },
     "metadata": {
      "needs_background": "light"
     },
     "output_type": "display_data"
    }
   ],
   "source": [
    "# bar graph of relationship between device protection and churn\n",
    "\n",
    "sns.countplot(x='device_protection', hue='churn', data=train_telco)"
   ]
  },
  {
   "cell_type": "code",
   "execution_count": 108,
   "id": "9e3d3572",
   "metadata": {},
   "outputs": [
    {
     "data": {
      "text/html": [
       "<div>\n",
       "<style scoped>\n",
       "    .dataframe tbody tr th:only-of-type {\n",
       "        vertical-align: middle;\n",
       "    }\n",
       "\n",
       "    .dataframe tbody tr th {\n",
       "        vertical-align: top;\n",
       "    }\n",
       "\n",
       "    .dataframe thead th {\n",
       "        text-align: right;\n",
       "    }\n",
       "</style>\n",
       "<table border=\"1\" class=\"dataframe\">\n",
       "  <thead>\n",
       "    <tr style=\"text-align: right;\">\n",
       "      <th>churn</th>\n",
       "      <th>0</th>\n",
       "      <th>1</th>\n",
       "    </tr>\n",
       "    <tr>\n",
       "      <th>device_protection</th>\n",
       "      <th></th>\n",
       "      <th></th>\n",
       "    </tr>\n",
       "  </thead>\n",
       "  <tbody>\n",
       "    <tr>\n",
       "      <th>No</th>\n",
       "      <td>1972</td>\n",
       "      <td>783</td>\n",
       "    </tr>\n",
       "    <tr>\n",
       "      <th>Yes</th>\n",
       "      <td>1132</td>\n",
       "      <td>338</td>\n",
       "    </tr>\n",
       "  </tbody>\n",
       "</table>\n",
       "</div>"
      ],
      "text/plain": [
       "churn                 0    1\n",
       "device_protection           \n",
       "No                 1972  783\n",
       "Yes                1132  338"
      ]
     },
     "execution_count": 108,
     "metadata": {},
     "output_type": "execute_result"
    }
   ],
   "source": [
    "pd.crosstab(train_telco.device_protection, train_telco.churn)"
   ]
  },
  {
   "cell_type": "code",
   "execution_count": 109,
   "id": "336189af",
   "metadata": {},
   "outputs": [],
   "source": [
    "# chi2 test of device protection and churn show that there is a relationship\n",
    "\n",
    "observed = pd.crosstab(train_telco.device_protection, train_telco.churn)\n",
    "chi2, p, degf, expected = stats.chi2_contingency(observed)"
   ]
  },
  {
   "cell_type": "code",
   "execution_count": 110,
   "id": "bf8b1349",
   "metadata": {},
   "outputs": [
    {
     "name": "stdout",
     "output_type": "stream",
     "text": [
      "Observed\n",
      "[[1972  783]\n",
      " [1132  338]]\n",
      "\n",
      "Expected\n",
      "[[2024  730]\n",
      " [1079  390]]\n",
      "\n",
      "----\n",
      "chi^2 = 14.2104\n",
      "p     = 0.0002\n"
     ]
    }
   ],
   "source": [
    "print('Observed')\n",
    "print(observed.values)\n",
    "print('\\nExpected')\n",
    "print(expected.astype(int))\n",
    "print('\\n----')\n",
    "print(f'chi^2 = {chi2:.4f}')\n",
    "print(f'p     = {p:.4f}')"
   ]
  },
  {
   "cell_type": "code",
   "execution_count": 111,
   "id": "6124cc93",
   "metadata": {},
   "outputs": [
    {
     "data": {
      "text/plain": [
       "<AxesSubplot:xlabel='tech_support', ylabel='count'>"
      ]
     },
     "execution_count": 111,
     "metadata": {},
     "output_type": "execute_result"
    },
    {
     "data": {
      "image/png": "[encoded data removed]",
      "text/plain": [
       "<Figure size 432x288 with 1 Axes>"
      ]
     },
     "metadata": {
      "needs_background": "light"
     },
     "output_type": "display_data"
    }
   ],
   "source": [
    "# bar graph of the relationship between tech support and churn\n",
    "\n",
    "sns.countplot(x='tech_support', hue='churn', data=train_telco)"
   ]
  },
  {
   "cell_type": "code",
   "execution_count": 112,
   "id": "4bd0f03f",
   "metadata": {},
   "outputs": [
    {
     "data": {
      "text/html": [
       "<div>\n",
       "<style scoped>\n",
       "    .dataframe tbody tr th:only-of-type {\n",
       "        vertical-align: middle;\n",
       "    }\n",
       "\n",
       "    .dataframe tbody tr th {\n",
       "        vertical-align: top;\n",
       "    }\n",
       "\n",
       "    .dataframe thead th {\n",
       "        text-align: right;\n",
       "    }\n",
       "</style>\n",
       "<table border=\"1\" class=\"dataframe\">\n",
       "  <thead>\n",
       "    <tr style=\"text-align: right;\">\n",
       "      <th>churn</th>\n",
       "      <th>0</th>\n",
       "      <th>1</th>\n",
       "    </tr>\n",
       "    <tr>\n",
       "      <th>tech_support</th>\n",
       "      <th></th>\n",
       "      <th></th>\n",
       "    </tr>\n",
       "  </thead>\n",
       "  <tbody>\n",
       "    <tr>\n",
       "      <th>No</th>\n",
       "      <td>2076</td>\n",
       "      <td>927</td>\n",
       "    </tr>\n",
       "    <tr>\n",
       "      <th>Yes</th>\n",
       "      <td>1028</td>\n",
       "      <td>194</td>\n",
       "    </tr>\n",
       "  </tbody>\n",
       "</table>\n",
       "</div>"
      ],
      "text/plain": [
       "churn            0    1\n",
       "tech_support           \n",
       "No            2076  927\n",
       "Yes           1028  194"
      ]
     },
     "execution_count": 112,
     "metadata": {},
     "output_type": "execute_result"
    }
   ],
   "source": [
    "pd.crosstab(train_telco.tech_support, train_telco.churn)"
   ]
  },
  {
   "cell_type": "code",
   "execution_count": 113,
   "id": "43074689",
   "metadata": {},
   "outputs": [],
   "source": [
    "# chi2 test of tech support and churn show that there is a relationship\n",
    "\n",
    "observed = pd.crosstab(train_telco.tech_support, train_telco.churn)\n",
    "chi2, p, degf, expected = stats.chi2_contingency(observed)"
   ]
  },
  {
   "cell_type": "code",
   "execution_count": 114,
   "id": "311b76d0",
   "metadata": {},
   "outputs": [
    {
     "name": "stdout",
     "output_type": "stream",
     "text": [
      "Observed\n",
      "[[2076  927]\n",
      " [1028  194]]\n",
      "\n",
      "Expected\n",
      "[[2206  796]\n",
      " [ 897  324]]\n",
      "\n",
      "----\n",
      "chi^2 = 99.4012\n",
      "p     = 0.0000\n"
     ]
    }
   ],
   "source": [
    "print('Observed')\n",
    "print(observed.values)\n",
    "print('\\nExpected')\n",
    "print(expected.astype(int))\n",
    "print('\\n----')\n",
    "print(f'chi^2 = {chi2:.4f}')\n",
    "print(f'p     = {p:.4f}')"
   ]
  },
  {
   "cell_type": "code",
   "execution_count": 115,
   "id": "da14b85c",
   "metadata": {},
   "outputs": [
    {
     "data": {
      "text/plain": [
       "<AxesSubplot:xlabel='online_backup', ylabel='count'>"
      ]
     },
     "execution_count": 115,
     "metadata": {},
     "output_type": "execute_result"
    },
    {
     "data": {
      "image/png": "[encoded data removed]",
      "text/plain": [
       "<Figure size 432x288 with 1 Axes>"
      ]
     },
     "metadata": {
      "needs_background": "light"
     },
     "output_type": "display_data"
    }
   ],
   "source": [
    "# bar graph of the relationship between online backup and churn\n",
    "\n",
    "sns.countplot(x='online_backup', hue='churn', data=train_telco)"
   ]
  },
  {
   "cell_type": "code",
   "execution_count": 116,
   "id": "11d10798",
   "metadata": {},
   "outputs": [
    {
     "data": {
      "text/html": [
       "<div>\n",
       "<style scoped>\n",
       "    .dataframe tbody tr th:only-of-type {\n",
       "        vertical-align: middle;\n",
       "    }\n",
       "\n",
       "    .dataframe tbody tr th {\n",
       "        vertical-align: top;\n",
       "    }\n",
       "\n",
       "    .dataframe thead th {\n",
       "        text-align: right;\n",
       "    }\n",
       "</style>\n",
       "<table border=\"1\" class=\"dataframe\">\n",
       "  <thead>\n",
       "    <tr style=\"text-align: right;\">\n",
       "      <th>churn</th>\n",
       "      <th>0</th>\n",
       "      <th>1</th>\n",
       "    </tr>\n",
       "    <tr>\n",
       "      <th>online_backup</th>\n",
       "      <th></th>\n",
       "      <th></th>\n",
       "    </tr>\n",
       "  </thead>\n",
       "  <tbody>\n",
       "    <tr>\n",
       "      <th>No</th>\n",
       "      <td>1973</td>\n",
       "      <td>807</td>\n",
       "    </tr>\n",
       "    <tr>\n",
       "      <th>Yes</th>\n",
       "      <td>1131</td>\n",
       "      <td>314</td>\n",
       "    </tr>\n",
       "  </tbody>\n",
       "</table>\n",
       "</div>"
      ],
      "text/plain": [
       "churn             0    1\n",
       "online_backup           \n",
       "No             1973  807\n",
       "Yes            1131  314"
      ]
     },
     "execution_count": 116,
     "metadata": {},
     "output_type": "execute_result"
    }
   ],
   "source": [
    "pd.crosstab(train_telco.online_backup, train_telco.churn)"
   ]
  },
  {
   "cell_type": "code",
   "execution_count": 117,
   "id": "c9a91a42",
   "metadata": {},
   "outputs": [],
   "source": [
    "# chi2 test of online backup and contingency show that there is a relationship\n",
    "\n",
    "observed = pd.crosstab(train_telco.online_backup, train_telco.churn)\n",
    "chi2, p, degf, expected = stats.chi2_contingency(observed)"
   ]
  },
  {
   "cell_type": "code",
   "execution_count": 118,
   "id": "9f737060",
   "metadata": {},
   "outputs": [
    {
     "name": "stdout",
     "output_type": "stream",
     "text": [
      "Observed\n",
      "[[1973  807]\n",
      " [1131  314]]\n",
      "\n",
      "Expected\n",
      "[[2042  737]\n",
      " [1061  383]]\n",
      "\n",
      "----\n",
      "chi^2 = 25.6106\n",
      "p     = 0.0000\n"
     ]
    }
   ],
   "source": [
    "print('Observed')\n",
    "print(observed.values)\n",
    "print('\\nExpected')\n",
    "print(expected.astype(int))\n",
    "print('\\n----')\n",
    "print(f'chi^2 = {chi2:.4f}')\n",
    "print(f'p     = {p:.4f}')"
   ]
  },
  {
   "cell_type": "code",
   "execution_count": 119,
   "id": "5ac50495",
   "metadata": {},
   "outputs": [
    {
     "data": {
      "text/plain": [
       "<AxesSubplot:xlabel='partner', ylabel='count'>"
      ]
     },
     "execution_count": 119,
     "metadata": {},
     "output_type": "execute_result"
    },
    {
     "data": {
      "image/png": "[encoded data removed]",
      "text/plain": [
       "<Figure size 432x288 with 1 Axes>"
      ]
     },
     "metadata": {
      "needs_background": "light"
     },
     "output_type": "display_data"
    }
   ],
   "source": [
    "# bar graph of the relationship between partner and churn\n",
    "\n",
    "sns.countplot(x='partner', hue='churn', data=train_telco)"
   ]
  },
  {
   "cell_type": "code",
   "execution_count": 120,
   "id": "a7f1cf4a",
   "metadata": {},
   "outputs": [
    {
     "data": {
      "text/html": [
       "<div>\n",
       "<style scoped>\n",
       "    .dataframe tbody tr th:only-of-type {\n",
       "        vertical-align: middle;\n",
       "    }\n",
       "\n",
       "    .dataframe tbody tr th {\n",
       "        vertical-align: top;\n",
       "    }\n",
       "\n",
       "    .dataframe thead th {\n",
       "        text-align: right;\n",
       "    }\n",
       "</style>\n",
       "<table border=\"1\" class=\"dataframe\">\n",
       "  <thead>\n",
       "    <tr style=\"text-align: right;\">\n",
       "      <th>churn</th>\n",
       "      <th>0</th>\n",
       "      <th>1</th>\n",
       "    </tr>\n",
       "    <tr>\n",
       "      <th>partner</th>\n",
       "      <th></th>\n",
       "      <th></th>\n",
       "    </tr>\n",
       "  </thead>\n",
       "  <tbody>\n",
       "    <tr>\n",
       "      <th>0</th>\n",
       "      <td>1437</td>\n",
       "      <td>702</td>\n",
       "    </tr>\n",
       "    <tr>\n",
       "      <th>1</th>\n",
       "      <td>1667</td>\n",
       "      <td>419</td>\n",
       "    </tr>\n",
       "  </tbody>\n",
       "</table>\n",
       "</div>"
      ],
      "text/plain": [
       "churn       0    1\n",
       "partner           \n",
       "0        1437  702\n",
       "1        1667  419"
      ]
     },
     "execution_count": 120,
     "metadata": {},
     "output_type": "execute_result"
    }
   ],
   "source": [
    "pd.crosstab(train_telco.partner, train_telco.churn)"
   ]
  },
  {
   "cell_type": "code",
   "execution_count": 121,
   "id": "10c99ddf",
   "metadata": {},
   "outputs": [],
   "source": [
    "# chi2 test of partner and churn show that there is a relationship\n",
    "\n",
    "observed = pd.crosstab(train_telco.partner, train_telco.churn)\n",
    "chi2, p, degf, expected = stats.chi2_contingency(observed)"
   ]
  },
  {
   "cell_type": "code",
   "execution_count": 122,
   "id": "3cbd429b",
   "metadata": {},
   "outputs": [
    {
     "name": "stdout",
     "output_type": "stream",
     "text": [
      "Observed\n",
      "[[1437  702]\n",
      " [1667  419]]\n",
      "\n",
      "Expected\n",
      "[[1571  567]\n",
      " [1532  553]]\n",
      "\n",
      "----\n",
      "chi^2 = 87.1838\n",
      "p     = 0.0000\n"
     ]
    }
   ],
   "source": [
    "print('Observed')\n",
    "print(observed.values)\n",
    "print('\\nExpected')\n",
    "print(expected.astype(int))\n",
    "print('\\n----')\n",
    "print(f'chi^2 = {chi2:.4f}')\n",
    "print(f'p     = {p:.4f}')"
   ]
  },
  {
   "cell_type": "code",
   "execution_count": 123,
   "id": "4dbc26a4",
   "metadata": {},
   "outputs": [
    {
     "data": {
      "text/plain": [
       "<AxesSubplot:xlabel='dependents', ylabel='count'>"
      ]
     },
     "execution_count": 123,
     "metadata": {},
     "output_type": "execute_result"
    },
    {
     "data": {
      "image/png": "[encoded data removed]",
      "text/plain": [
       "<Figure size 432x288 with 1 Axes>"
      ]
     },
     "metadata": {
      "needs_background": "light"
     },
     "output_type": "display_data"
    }
   ],
   "source": [
    "# bar graph of relationship between dependents and churn\n",
    "\n",
    "sns.countplot(x='dependents', hue='churn', data=train_telco)"
   ]
  },
  {
   "cell_type": "code",
   "execution_count": 124,
   "id": "a5a849ce",
   "metadata": {},
   "outputs": [
    {
     "data": {
      "text/html": [
       "<div>\n",
       "<style scoped>\n",
       "    .dataframe tbody tr th:only-of-type {\n",
       "        vertical-align: middle;\n",
       "    }\n",
       "\n",
       "    .dataframe tbody tr th {\n",
       "        vertical-align: top;\n",
       "    }\n",
       "\n",
       "    .dataframe thead th {\n",
       "        text-align: right;\n",
       "    }\n",
       "</style>\n",
       "<table border=\"1\" class=\"dataframe\">\n",
       "  <thead>\n",
       "    <tr style=\"text-align: right;\">\n",
       "      <th>churn</th>\n",
       "      <th>0</th>\n",
       "      <th>1</th>\n",
       "    </tr>\n",
       "    <tr>\n",
       "      <th>dependents</th>\n",
       "      <th></th>\n",
       "      <th></th>\n",
       "    </tr>\n",
       "  </thead>\n",
       "  <tbody>\n",
       "    <tr>\n",
       "      <th>0</th>\n",
       "      <td>2038</td>\n",
       "      <td>927</td>\n",
       "    </tr>\n",
       "    <tr>\n",
       "      <th>1</th>\n",
       "      <td>1066</td>\n",
       "      <td>194</td>\n",
       "    </tr>\n",
       "  </tbody>\n",
       "</table>\n",
       "</div>"
      ],
      "text/plain": [
       "churn          0    1\n",
       "dependents           \n",
       "0           2038  927\n",
       "1           1066  194"
      ]
     },
     "execution_count": 124,
     "metadata": {},
     "output_type": "execute_result"
    }
   ],
   "source": [
    "pd.crosstab(train_telco.dependents, train_telco.churn)"
   ]
  },
  {
   "cell_type": "code",
   "execution_count": 125,
   "id": "ad08b79f",
   "metadata": {},
   "outputs": [],
   "source": [
    "# chi2 test of dependents and churn show that there is a relationship\n",
    "\n",
    "observed = pd.crosstab(train_telco.dependents, train_telco.churn)\n",
    "chi2, p, degf, expected = stats.chi2_contingency(observed)"
   ]
  },
  {
   "cell_type": "code",
   "execution_count": 126,
   "id": "43c82c11",
   "metadata": {},
   "outputs": [
    {
     "name": "stdout",
     "output_type": "stream",
     "text": [
      "Observed\n",
      "[[2038  927]\n",
      " [1066  194]]\n",
      "\n",
      "Expected\n",
      "[[2178  786]\n",
      " [ 925  334]]\n",
      "\n",
      "----\n",
      "chi^2 = 113.4056\n",
      "p     = 0.0000\n"
     ]
    }
   ],
   "source": [
    "print('Observed')\n",
    "print(observed.values)\n",
    "print('\\nExpected')\n",
    "print(expected.astype(int))\n",
    "print('\\n----')\n",
    "print(f'chi^2 = {chi2:.4f}')\n",
    "print(f'p     = {p:.4f}')"
   ]
  },
  {
   "cell_type": "markdown",
   "id": "1d43a4c2",
   "metadata": {},
   "source": [
    "#### Findings:\n",
    "\n",
    "- The average monthly charge for customers who churned was 74.9 percent.\n",
    "\n",
    "- Churn decreases as tenure increases.\n",
    "\n",
    "- Senior citizens are more likely to churn than non-senior citizens.\n",
    "\n",
    "- Customers with fiber optic internet service type are more likely to churn than no internet service and DSL.\n",
    "\n",
    "- Customers with automatic payment are less likely to churn.\n",
    "\n",
    "- Customers with contracts are less likely to churn than month-to-month customers.\n",
    "\n",
    "- Customers without paperless billing appear less likely to churn.\n",
    "\n",
    "- Customers with dependents are less likely to churn.\n",
    "\n"
   ]
  },
  {
   "cell_type": "markdown",
   "id": "bc2f2d8c",
   "metadata": {},
   "source": [
    "### Multivariate analysis"
   ]
  },
  {
   "cell_type": "code",
   "execution_count": 127,
   "id": "f43dfad3",
   "metadata": {},
   "outputs": [
    {
     "data": {
      "text/plain": [
       "<AxesSubplot:xlabel='contract_type', ylabel='monthly_charges'>"
      ]
     },
     "execution_count": 127,
     "metadata": {},
     "output_type": "execute_result"
    },
    {
     "data": {
      "image/png": "[encoded data removed]",
      "text/plain": [
       "<Figure size 432x288 with 1 Axes>"
      ]
     },
     "metadata": {
      "needs_background": "light"
     },
     "output_type": "display_data"
    }
   ],
   "source": [
    "# barplot of contract type and monthly charges affect churn\n",
    "\n",
    "sns.barplot(x=train_telco.contract_type, y=train_telco.monthly_charges, hue=train_telco.churn)"
   ]
  },
  {
   "cell_type": "code",
   "execution_count": 128,
   "id": "25fc910a",
   "metadata": {},
   "outputs": [
    {
     "data": {
      "text/plain": [
       "<AxesSubplot:xlabel='monthly_charges', ylabel='tenure'>"
      ]
     },
     "execution_count": 128,
     "metadata": {},
     "output_type": "execute_result"
    },
    {
     "data": {
      "image/png": "[encoded data removed]",
      "text/plain": [
       "<Figure size 432x288 with 1 Axes>"
      ]
     },
     "metadata": {
      "needs_background": "light"
     },
     "output_type": "display_data"
    }
   ],
   "source": [
    "# scatterplot of how monthly charges and tenure affect churn\n",
    "\n",
    "sns.scatterplot(x=train_telco.monthly_charges, y=train_telco.tenure, hue=train_telco.churn)"
   ]
  },
  {
   "cell_type": "code",
   "execution_count": 129,
   "id": "eddd91d7",
   "metadata": {},
   "outputs": [
    {
     "data": {
      "text/plain": [
       "<AxesSubplot:xlabel='internet_service_type', ylabel='monthly_charges'>"
      ]
     },
     "execution_count": 129,
     "metadata": {},
     "output_type": "execute_result"
    },
    {
     "data": {
      "image/png": "[encoded data removed]",
      "text/plain": [
       "<Figure size 432x288 with 1 Axes>"
      ]
     },
     "metadata": {
      "needs_background": "light"
     },
     "output_type": "display_data"
    }
   ],
   "source": [
    "# bar graph of how internet service type and monthly charges affect churn\n",
    "\n",
    "sns.barplot(x=train_telco.internet_service_type, y=train_telco.monthly_charges, hue=train_telco.churn)"
   ]
  },
  {
   "cell_type": "code",
   "execution_count": 130,
   "id": "bf29501e",
   "metadata": {},
   "outputs": [
    {
     "data": {
      "text/plain": [
       "<AxesSubplot:xlabel='phone_service', ylabel='tenure'>"
      ]
     },
     "execution_count": 130,
     "metadata": {},
     "output_type": "execute_result"
    },
    {
     "data": {
      "image/png": "[encoded data removed]",
      "text/plain": [
       "<Figure size 432x288 with 1 Axes>"
      ]
     },
     "metadata": {
      "needs_background": "light"
     },
     "output_type": "display_data"
    }
   ],
   "source": [
    "# bar graph of how tenure and phone service affect churn\n",
    "\n",
    "sns.barplot(x=train_telco.phone_service, y=train_telco.tenure, hue=train_telco.churn)"
   ]
  },
  {
   "cell_type": "code",
   "execution_count": 218,
   "id": "5ab9a4ae",
   "metadata": {},
   "outputs": [
    {
     "data": {
      "text/plain": [
       "<AxesSubplot:xlabel='contract_type', ylabel='tenure'>"
      ]
     },
     "execution_count": 218,
     "metadata": {},
     "output_type": "execute_result"
    },
    {
     "data": {
      "image/png": "[encoded data removed]",
      "text/plain": [
       "<Figure size 432x288 with 1 Axes>"
      ]
     },
     "metadata": {
      "needs_background": "light"
     },
     "output_type": "display_data"
    }
   ],
   "source": [
    "# bar graph of how contract type and tenure affect churn\n",
    "\n",
    "sns.barplot(x=train_telco.contract_type, y=train_telco.tenure, hue=train_telco.churn)"
   ]
  },
  {
   "cell_type": "code",
   "execution_count": 132,
   "id": "d840d1d8",
   "metadata": {},
   "outputs": [
    {
     "data": {
      "text/plain": [
       "<AxesSubplot:xlabel='internet_service_type', ylabel='tenure'>"
      ]
     },
     "execution_count": 132,
     "metadata": {},
     "output_type": "execute_result"
    },
    {
     "data": {
      "image/png": "[encoded data removed]",
      "text/plain": [
       "<Figure size 432x288 with 1 Axes>"
      ]
     },
     "metadata": {
      "needs_background": "light"
     },
     "output_type": "display_data"
    }
   ],
   "source": [
    "# bar graph of how internet service type and tenure affect churn\n",
    "\n",
    "sns.barplot(x=train_telco.internet_service_type, y=train_telco.tenure, hue=train_telco.churn)"
   ]
  },
  {
   "cell_type": "markdown",
   "id": "ab88b0b6",
   "metadata": {},
   "source": [
    "#### Findings:\n",
    "\n",
    "- higher monthly charges appears to increase the likelihood of churn across all contract types.\n",
    "\n",
    "- higher monthly charges and lower tenure appears to have a greater likelihood of churn.\n",
    "\n",
    "- internet service type and monthly charges do not significantly affect churn\n",
    "\n"
   ]
  },
  {
   "cell_type": "markdown",
   "id": "4c163278",
   "metadata": {},
   "source": [
    "### Modeling"
   ]
  },
  {
   "cell_type": "code",
   "execution_count": 133,
   "id": "8daf9f60",
   "metadata": {},
   "outputs": [
    {
     "data": {
      "text/plain": [
       "0.7346745562130178"
      ]
     },
     "execution_count": 133,
     "metadata": {},
     "output_type": "execute_result"
    }
   ],
   "source": [
    "# Baseline prediction is customers do not churn\n",
    "\n",
    "baseline = len(train_telco[train_telco.churn == 0]) / len(train_telco)\n",
    "baseline"
   ]
  },
  {
   "cell_type": "code",
   "execution_count": 134,
   "id": "379d49ef",
   "metadata": {},
   "outputs": [],
   "source": [
    "# model 1 is a decision tree with a maximum depth of 4\n",
    "\n",
    "model1 = DecisionTreeClassifier(max_depth=4)"
   ]
  },
  {
   "cell_type": "code",
   "execution_count": 135,
   "id": "1d52f006",
   "metadata": {},
   "outputs": [],
   "source": [
    "# features used in the decision tree\n",
    "\n",
    "X_col = ['tenure', 'monthly_charges', 'contract_type_id', 'internet_service_type_id', 'senior_citizen', 'partner', 'dependents']\n",
    "y_col = 'churn'"
   ]
  },
  {
   "cell_type": "code",
   "execution_count": 136,
   "id": "564b87ae",
   "metadata": {},
   "outputs": [],
   "source": [
    "# assign features to train variables\n",
    "\n",
    "X_train, y_train = train_telco[X_col], train_telco[y_col]\n",
    "X_validate, y_validate = validate_telco[X_col], validate_telco[y_col]"
   ]
  },
  {
   "cell_type": "code",
   "execution_count": 137,
   "id": "7580dc09",
   "metadata": {},
   "outputs": [
    {
     "data": {
      "text/html": [
       "<div>\n",
       "<style scoped>\n",
       "    .dataframe tbody tr th:only-of-type {\n",
       "        vertical-align: middle;\n",
       "    }\n",
       "\n",
       "    .dataframe tbody tr th {\n",
       "        vertical-align: top;\n",
       "    }\n",
       "\n",
       "    .dataframe thead th {\n",
       "        text-align: right;\n",
       "    }\n",
       "</style>\n",
       "<table border=\"1\" class=\"dataframe\">\n",
       "  <thead>\n",
       "    <tr style=\"text-align: right;\">\n",
       "      <th></th>\n",
       "      <th>tenure</th>\n",
       "      <th>monthly_charges</th>\n",
       "      <th>contract_type_id</th>\n",
       "      <th>internet_service_type_id</th>\n",
       "      <th>senior_citizen</th>\n",
       "      <th>partner</th>\n",
       "      <th>dependents</th>\n",
       "    </tr>\n",
       "  </thead>\n",
       "  <tbody>\n",
       "    <tr>\n",
       "      <th>621</th>\n",
       "      <td>61</td>\n",
       "      <td>80.80</td>\n",
       "      <td>3</td>\n",
       "      <td>1</td>\n",
       "      <td>0</td>\n",
       "      <td>1</td>\n",
       "      <td>0</td>\n",
       "    </tr>\n",
       "    <tr>\n",
       "      <th>2607</th>\n",
       "      <td>1</td>\n",
       "      <td>19.75</td>\n",
       "      <td>1</td>\n",
       "      <td>3</td>\n",
       "      <td>0</td>\n",
       "      <td>0</td>\n",
       "      <td>0</td>\n",
       "    </tr>\n",
       "    <tr>\n",
       "      <th>6443</th>\n",
       "      <td>1</td>\n",
       "      <td>20.30</td>\n",
       "      <td>1</td>\n",
       "      <td>3</td>\n",
       "      <td>0</td>\n",
       "      <td>0</td>\n",
       "      <td>0</td>\n",
       "    </tr>\n",
       "    <tr>\n",
       "      <th>409</th>\n",
       "      <td>45</td>\n",
       "      <td>78.75</td>\n",
       "      <td>2</td>\n",
       "      <td>1</td>\n",
       "      <td>0</td>\n",
       "      <td>1</td>\n",
       "      <td>1</td>\n",
       "    </tr>\n",
       "    <tr>\n",
       "      <th>4058</th>\n",
       "      <td>65</td>\n",
       "      <td>99.05</td>\n",
       "      <td>3</td>\n",
       "      <td>2</td>\n",
       "      <td>0</td>\n",
       "      <td>1</td>\n",
       "      <td>1</td>\n",
       "    </tr>\n",
       "  </tbody>\n",
       "</table>\n",
       "</div>"
      ],
      "text/plain": [
       "      tenure  monthly_charges  contract_type_id  internet_service_type_id  \\\n",
       "621       61            80.80                 3                         1   \n",
       "2607       1            19.75                 1                         3   \n",
       "6443       1            20.30                 1                         3   \n",
       "409       45            78.75                 2                         1   \n",
       "4058      65            99.05                 3                         2   \n",
       "\n",
       "      senior_citizen  partner  dependents  \n",
       "621                0        1           0  \n",
       "2607               0        0           0  \n",
       "6443               0        0           0  \n",
       "409                0        1           1  \n",
       "4058               0        1           1  "
      ]
     },
     "execution_count": 137,
     "metadata": {},
     "output_type": "execute_result"
    }
   ],
   "source": [
    "X_train.head()"
   ]
  },
  {
   "cell_type": "code",
   "execution_count": 138,
   "id": "7aeddc7a",
   "metadata": {},
   "outputs": [
    {
     "name": "stdout",
     "output_type": "stream",
     "text": [
      "training score: 79.05%\n",
      "validate score: 79.84%\n"
     ]
    }
   ],
   "source": [
    "# fit model 1 to DecisionTreeClassifier\n",
    "\n",
    "model1.fit(X_train, y_train)\n",
    "print(f'training score: {model1.score(X_train, y_train):.2%}')\n",
    "print(f'validate score: {model1.score(X_validate, y_validate):.2%}')"
   ]
  },
  {
   "cell_type": "code",
   "execution_count": 139,
   "id": "b69f7c10",
   "metadata": {},
   "outputs": [
    {
     "data": {
      "image/png": "[encoded data removed]",
      "text/plain": [
       "<Figure size 1728x864 with 1 Axes>"
      ]
     },
     "metadata": {
      "needs_background": "light"
     },
     "output_type": "display_data"
    }
   ],
   "source": [
    "# visualization of model 1 decision tree\n",
    "\n",
    "plt.figure(figsize=(24,12))\n",
    "plot_tree(model1, feature_names=X_train.columns.to_list(), class_names=['no churn', 'churn']);"
   ]
  },
  {
   "cell_type": "code",
   "execution_count": 140,
   "id": "670280dd",
   "metadata": {},
   "outputs": [],
   "source": [
    "# model 1 is reassigned in order to run a random forest classifier\n",
    "\n",
    "model1 = RandomForestClassifier(bootstrap=True, class_weight=None, criterion='gini', min_samples_leaf=3, \n",
    "                                 n_estimators=100, max_depth=6, random_state=217)"
   ]
  },
  {
   "cell_type": "code",
   "execution_count": 141,
   "id": "c4d58938",
   "metadata": {},
   "outputs": [
    {
     "data": {
      "text/plain": [
       "RandomForestClassifier(max_depth=6, min_samples_leaf=3, random_state=217)"
      ]
     },
     "execution_count": 141,
     "metadata": {},
     "output_type": "execute_result"
    }
   ],
   "source": [
    "# fit the model to the random forest\n",
    "\n",
    "model1.fit(X_train, y_train)"
   ]
  },
  {
   "cell_type": "code",
   "execution_count": 142,
   "id": "a7217d27",
   "metadata": {},
   "outputs": [
    {
     "data": {
      "image/png": "[encoded data removed]",
      "text/plain": [
       "<Figure size 432x288 with 1 Axes>"
      ]
     },
     "metadata": {
      "needs_background": "light"
     },
     "output_type": "display_data"
    }
   ],
   "source": [
    "# feature importances bar graph; contract type has the largest value, followed by tenure and monthly charges\n",
    "\n",
    "plt.bar(X_train.columns, model1.feature_importances_)\n",
    "plt.show()"
   ]
  },
  {
   "cell_type": "code",
   "execution_count": 143,
   "id": "0ee88d6e",
   "metadata": {},
   "outputs": [
    {
     "name": "stdout",
     "output_type": "stream",
     "text": [
      "Accuracy of random forest classifier on training set: 0.81\n",
      "              precision    recall  f1-score   support\n",
      "\n",
      "           0       0.83      0.92      0.87      3104\n",
      "           1       0.69      0.49      0.57      1121\n",
      "\n",
      "    accuracy                           0.81      4225\n",
      "   macro avg       0.76      0.70      0.72      4225\n",
      "weighted avg       0.79      0.81      0.79      4225\n",
      "\n"
     ]
    }
   ],
   "source": [
    "# assign variables for the prediction of model 1\n",
    "\n",
    "y_pred1 = model1.predict(X_train)\n",
    "y_pred_proba1 = model1.predict_proba(X_train)\n",
    "\n",
    "# score the model and output the accuracy\n",
    "print('Accuracy of random forest classifier on training set: {:.2f}'\n",
    "     .format(model1.score(X_train, y_train)))\n",
    "# print classification report\n",
    "print(classification_report(y_train, y_pred1))"
   ]
  },
  {
   "cell_type": "code",
   "execution_count": 144,
   "id": "55952d9b",
   "metadata": {},
   "outputs": [
    {
     "name": "stdout",
     "output_type": "stream",
     "text": [
      "Accuracy of random forest classifier on test set: 0.81\n",
      "              precision    recall  f1-score   support\n",
      "\n",
      "           0       0.84      0.91      0.88      1035\n",
      "           1       0.69      0.53      0.60       374\n",
      "\n",
      "    accuracy                           0.81      1409\n",
      "   macro avg       0.77      0.72      0.74      1409\n",
      "weighted avg       0.80      0.81      0.80      1409\n",
      "\n"
     ]
    }
   ],
   "source": [
    "# assign variables for predictions against the validate dataset\n",
    "\n",
    "y_pred1 = model1.predict(X_validate)\n",
    "y_pred_proba1 = model1.predict_proba(X_validate)\n",
    "\n",
    "# score the model and output the accuracy on the validate dataset\n",
    "print('Accuracy of random forest classifier on test set: {:.2f}'\n",
    "     .format(model1.score(X_validate, y_validate)))\n",
    "# print the classification report for the random forest model validate dataset\n",
    "print(classification_report(y_validate, y_pred1))"
   ]
  },
  {
   "cell_type": "code",
   "execution_count": 145,
   "id": "0859f12c",
   "metadata": {},
   "outputs": [
    {
     "data": {
      "text/html": [
       "<div>\n",
       "<style scoped>\n",
       "    .dataframe tbody tr th:only-of-type {\n",
       "        vertical-align: middle;\n",
       "    }\n",
       "\n",
       "    .dataframe tbody tr th {\n",
       "        vertical-align: top;\n",
       "    }\n",
       "\n",
       "    .dataframe thead th {\n",
       "        text-align: right;\n",
       "    }\n",
       "</style>\n",
       "<table border=\"1\" class=\"dataframe\">\n",
       "  <thead>\n",
       "    <tr style=\"text-align: right;\">\n",
       "      <th></th>\n",
       "      <th>max_depth</th>\n",
       "      <th>train_accuracy</th>\n",
       "      <th>validate_accuracy</th>\n",
       "      <th>difference</th>\n",
       "    </tr>\n",
       "  </thead>\n",
       "  <tbody>\n",
       "    <tr>\n",
       "      <th>0</th>\n",
       "      <td>2</td>\n",
       "      <td>0.734675</td>\n",
       "      <td>0.734564</td>\n",
       "      <td>0.000111</td>\n",
       "    </tr>\n",
       "    <tr>\n",
       "      <th>1</th>\n",
       "      <td>3</td>\n",
       "      <td>0.789822</td>\n",
       "      <td>0.799858</td>\n",
       "      <td>-0.010036</td>\n",
       "    </tr>\n",
       "    <tr>\n",
       "      <th>2</th>\n",
       "      <td>4</td>\n",
       "      <td>0.792189</td>\n",
       "      <td>0.804116</td>\n",
       "      <td>-0.011927</td>\n",
       "    </tr>\n",
       "    <tr>\n",
       "      <th>3</th>\n",
       "      <td>5</td>\n",
       "      <td>0.796923</td>\n",
       "      <td>0.804116</td>\n",
       "      <td>-0.007193</td>\n",
       "    </tr>\n",
       "    <tr>\n",
       "      <th>4</th>\n",
       "      <td>6</td>\n",
       "      <td>0.806864</td>\n",
       "      <td>0.814762</td>\n",
       "      <td>-0.007898</td>\n",
       "    </tr>\n",
       "    <tr>\n",
       "      <th>5</th>\n",
       "      <td>7</td>\n",
       "      <td>0.814675</td>\n",
       "      <td>0.814762</td>\n",
       "      <td>-0.000088</td>\n",
       "    </tr>\n",
       "    <tr>\n",
       "      <th>6</th>\n",
       "      <td>8</td>\n",
       "      <td>0.825562</td>\n",
       "      <td>0.814053</td>\n",
       "      <td>0.011510</td>\n",
       "    </tr>\n",
       "    <tr>\n",
       "      <th>7</th>\n",
       "      <td>9</td>\n",
       "      <td>0.845444</td>\n",
       "      <td>0.812633</td>\n",
       "      <td>0.032811</td>\n",
       "    </tr>\n",
       "    <tr>\n",
       "      <th>8</th>\n",
       "      <td>10</td>\n",
       "      <td>0.874793</td>\n",
       "      <td>0.805536</td>\n",
       "      <td>0.069257</td>\n",
       "    </tr>\n",
       "    <tr>\n",
       "      <th>9</th>\n",
       "      <td>11</td>\n",
       "      <td>0.896331</td>\n",
       "      <td>0.802697</td>\n",
       "      <td>0.093634</td>\n",
       "    </tr>\n",
       "    <tr>\n",
       "      <th>10</th>\n",
       "      <td>12</td>\n",
       "      <td>0.927574</td>\n",
       "      <td>0.795600</td>\n",
       "      <td>0.131974</td>\n",
       "    </tr>\n",
       "    <tr>\n",
       "      <th>11</th>\n",
       "      <td>13</td>\n",
       "      <td>0.951006</td>\n",
       "      <td>0.788502</td>\n",
       "      <td>0.162503</td>\n",
       "    </tr>\n",
       "    <tr>\n",
       "      <th>12</th>\n",
       "      <td>14</td>\n",
       "      <td>0.968047</td>\n",
       "      <td>0.782825</td>\n",
       "      <td>0.185223</td>\n",
       "    </tr>\n",
       "    <tr>\n",
       "      <th>13</th>\n",
       "      <td>15</td>\n",
       "      <td>0.979408</td>\n",
       "      <td>0.784954</td>\n",
       "      <td>0.194454</td>\n",
       "    </tr>\n",
       "    <tr>\n",
       "      <th>14</th>\n",
       "      <td>16</td>\n",
       "      <td>0.987219</td>\n",
       "      <td>0.782115</td>\n",
       "      <td>0.205104</td>\n",
       "    </tr>\n",
       "    <tr>\n",
       "      <th>15</th>\n",
       "      <td>17</td>\n",
       "      <td>0.990533</td>\n",
       "      <td>0.775018</td>\n",
       "      <td>0.215515</td>\n",
       "    </tr>\n",
       "    <tr>\n",
       "      <th>16</th>\n",
       "      <td>18</td>\n",
       "      <td>0.992426</td>\n",
       "      <td>0.782825</td>\n",
       "      <td>0.209601</td>\n",
       "    </tr>\n",
       "    <tr>\n",
       "      <th>17</th>\n",
       "      <td>19</td>\n",
       "      <td>0.992663</td>\n",
       "      <td>0.775018</td>\n",
       "      <td>0.217645</td>\n",
       "    </tr>\n",
       "    <tr>\n",
       "      <th>18</th>\n",
       "      <td>20</td>\n",
       "      <td>0.992663</td>\n",
       "      <td>0.777857</td>\n",
       "      <td>0.214806</td>\n",
       "    </tr>\n",
       "    <tr>\n",
       "      <th>19</th>\n",
       "      <td>21</td>\n",
       "      <td>0.992663</td>\n",
       "      <td>0.779276</td>\n",
       "      <td>0.213387</td>\n",
       "    </tr>\n",
       "    <tr>\n",
       "      <th>20</th>\n",
       "      <td>22</td>\n",
       "      <td>0.992663</td>\n",
       "      <td>0.780696</td>\n",
       "      <td>0.211967</td>\n",
       "    </tr>\n",
       "    <tr>\n",
       "      <th>21</th>\n",
       "      <td>23</td>\n",
       "      <td>0.992663</td>\n",
       "      <td>0.776437</td>\n",
       "      <td>0.216226</td>\n",
       "    </tr>\n",
       "    <tr>\n",
       "      <th>22</th>\n",
       "      <td>24</td>\n",
       "      <td>0.992663</td>\n",
       "      <td>0.780696</td>\n",
       "      <td>0.211967</td>\n",
       "    </tr>\n",
       "  </tbody>\n",
       "</table>\n",
       "</div>"
      ],
      "text/plain": [
       "    max_depth  train_accuracy  validate_accuracy  difference\n",
       "0           2        0.734675           0.734564    0.000111\n",
       "1           3        0.789822           0.799858   -0.010036\n",
       "2           4        0.792189           0.804116   -0.011927\n",
       "3           5        0.796923           0.804116   -0.007193\n",
       "4           6        0.806864           0.814762   -0.007898\n",
       "5           7        0.814675           0.814762   -0.000088\n",
       "6           8        0.825562           0.814053    0.011510\n",
       "7           9        0.845444           0.812633    0.032811\n",
       "8          10        0.874793           0.805536    0.069257\n",
       "9          11        0.896331           0.802697    0.093634\n",
       "10         12        0.927574           0.795600    0.131974\n",
       "11         13        0.951006           0.788502    0.162503\n",
       "12         14        0.968047           0.782825    0.185223\n",
       "13         15        0.979408           0.784954    0.194454\n",
       "14         16        0.987219           0.782115    0.205104\n",
       "15         17        0.990533           0.775018    0.215515\n",
       "16         18        0.992426           0.782825    0.209601\n",
       "17         19        0.992663           0.775018    0.217645\n",
       "18         20        0.992663           0.777857    0.214806\n",
       "19         21        0.992663           0.779276    0.213387\n",
       "20         22        0.992663           0.780696    0.211967\n",
       "21         23        0.992663           0.776437    0.216226\n",
       "22         24        0.992663           0.780696    0.211967"
      ]
     },
     "execution_count": 145,
     "metadata": {},
     "output_type": "execute_result"
    }
   ],
   "source": [
    "# create a for loop to adjust the max depth and run the model on train and validate\n",
    "\n",
    "# empty list for the output\n",
    "metrics = []\n",
    "\n",
    "for i in range(2, 25):\n",
    "    # Make the model\n",
    "    forest = RandomForestClassifier(max_depth=i, random_state=217)\n",
    "\n",
    "    # Fit the model (on train and only train)\n",
    "    forest = forest.fit(X_train, y_train)\n",
    "\n",
    "    # Use the model\n",
    "    # We'll evaluate the model's performance on train, first then check validate\n",
    "    in_sample_accuracy = forest.score(X_train, y_train)\n",
    "    \n",
    "    out_of_sample_accuracy = forest.score(X_validate, y_validate)\n",
    "\n",
    "    output = {\n",
    "        \"max_depth\": i,\n",
    "        \"train_accuracy\": in_sample_accuracy,\n",
    "        \"validate_accuracy\": out_of_sample_accuracy\n",
    "    }\n",
    "    \n",
    "    metrics.append(output)\n",
    "    \n",
    "# calculate the difference in accuracy between train and validate\n",
    "    df = pd.DataFrame(metrics)\n",
    "df[\"difference\"] = df.train_accuracy - df.validate_accuracy\n",
    "df"
   ]
  },
  {
   "cell_type": "code",
   "execution_count": 146,
   "id": "528ae7bd",
   "metadata": {},
   "outputs": [
    {
     "data": {
      "text/html": [
       "<div>\n",
       "<style scoped>\n",
       "    .dataframe tbody tr th:only-of-type {\n",
       "        vertical-align: middle;\n",
       "    }\n",
       "\n",
       "    .dataframe tbody tr th {\n",
       "        vertical-align: top;\n",
       "    }\n",
       "\n",
       "    .dataframe thead th {\n",
       "        text-align: right;\n",
       "    }\n",
       "</style>\n",
       "<table border=\"1\" class=\"dataframe\">\n",
       "  <thead>\n",
       "    <tr style=\"text-align: right;\">\n",
       "      <th></th>\n",
       "      <th>min_samples_per_leaf</th>\n",
       "      <th>max_depth</th>\n",
       "      <th>train_accuracy</th>\n",
       "      <th>validate_accuracy</th>\n",
       "      <th>difference</th>\n",
       "    </tr>\n",
       "  </thead>\n",
       "  <tbody>\n",
       "    <tr>\n",
       "      <th>0</th>\n",
       "      <td>2</td>\n",
       "      <td>7</td>\n",
       "      <td>0.810651</td>\n",
       "      <td>0.809794</td>\n",
       "      <td>0.000857</td>\n",
       "    </tr>\n",
       "    <tr>\n",
       "      <th>1</th>\n",
       "      <td>3</td>\n",
       "      <td>7</td>\n",
       "      <td>0.808047</td>\n",
       "      <td>0.806955</td>\n",
       "      <td>0.001092</td>\n",
       "    </tr>\n",
       "    <tr>\n",
       "      <th>2</th>\n",
       "      <td>4</td>\n",
       "      <td>7</td>\n",
       "      <td>0.809467</td>\n",
       "      <td>0.811923</td>\n",
       "      <td>-0.002456</td>\n",
       "    </tr>\n",
       "    <tr>\n",
       "      <th>3</th>\n",
       "      <td>5</td>\n",
       "      <td>7</td>\n",
       "      <td>0.808994</td>\n",
       "      <td>0.810504</td>\n",
       "      <td>-0.001510</td>\n",
       "    </tr>\n",
       "    <tr>\n",
       "      <th>4</th>\n",
       "      <td>6</td>\n",
       "      <td>7</td>\n",
       "      <td>0.806864</td>\n",
       "      <td>0.808375</td>\n",
       "      <td>-0.001511</td>\n",
       "    </tr>\n",
       "    <tr>\n",
       "      <th>5</th>\n",
       "      <td>7</td>\n",
       "      <td>7</td>\n",
       "      <td>0.807101</td>\n",
       "      <td>0.809794</td>\n",
       "      <td>-0.002694</td>\n",
       "    </tr>\n",
       "    <tr>\n",
       "      <th>6</th>\n",
       "      <td>8</td>\n",
       "      <td>7</td>\n",
       "      <td>0.808757</td>\n",
       "      <td>0.811923</td>\n",
       "      <td>-0.003166</td>\n",
       "    </tr>\n",
       "    <tr>\n",
       "      <th>7</th>\n",
       "      <td>9</td>\n",
       "      <td>7</td>\n",
       "      <td>0.808757</td>\n",
       "      <td>0.814053</td>\n",
       "      <td>-0.005295</td>\n",
       "    </tr>\n",
       "    <tr>\n",
       "      <th>8</th>\n",
       "      <td>10</td>\n",
       "      <td>7</td>\n",
       "      <td>0.809704</td>\n",
       "      <td>0.810504</td>\n",
       "      <td>-0.000800</td>\n",
       "    </tr>\n",
       "    <tr>\n",
       "      <th>9</th>\n",
       "      <td>11</td>\n",
       "      <td>7</td>\n",
       "      <td>0.808284</td>\n",
       "      <td>0.810504</td>\n",
       "      <td>-0.002220</td>\n",
       "    </tr>\n",
       "    <tr>\n",
       "      <th>10</th>\n",
       "      <td>12</td>\n",
       "      <td>7</td>\n",
       "      <td>0.807574</td>\n",
       "      <td>0.809794</td>\n",
       "      <td>-0.002220</td>\n",
       "    </tr>\n",
       "    <tr>\n",
       "      <th>11</th>\n",
       "      <td>13</td>\n",
       "      <td>7</td>\n",
       "      <td>0.807811</td>\n",
       "      <td>0.809794</td>\n",
       "      <td>-0.001984</td>\n",
       "    </tr>\n",
       "    <tr>\n",
       "      <th>12</th>\n",
       "      <td>14</td>\n",
       "      <td>7</td>\n",
       "      <td>0.807811</td>\n",
       "      <td>0.809794</td>\n",
       "      <td>-0.001984</td>\n",
       "    </tr>\n",
       "    <tr>\n",
       "      <th>13</th>\n",
       "      <td>15</td>\n",
       "      <td>7</td>\n",
       "      <td>0.804497</td>\n",
       "      <td>0.810504</td>\n",
       "      <td>-0.006007</td>\n",
       "    </tr>\n",
       "    <tr>\n",
       "      <th>14</th>\n",
       "      <td>16</td>\n",
       "      <td>7</td>\n",
       "      <td>0.805917</td>\n",
       "      <td>0.811214</td>\n",
       "      <td>-0.005296</td>\n",
       "    </tr>\n",
       "    <tr>\n",
       "      <th>15</th>\n",
       "      <td>17</td>\n",
       "      <td>7</td>\n",
       "      <td>0.803077</td>\n",
       "      <td>0.809084</td>\n",
       "      <td>-0.006008</td>\n",
       "    </tr>\n",
       "    <tr>\n",
       "      <th>16</th>\n",
       "      <td>18</td>\n",
       "      <td>7</td>\n",
       "      <td>0.804734</td>\n",
       "      <td>0.811923</td>\n",
       "      <td>-0.007190</td>\n",
       "    </tr>\n",
       "    <tr>\n",
       "      <th>17</th>\n",
       "      <td>19</td>\n",
       "      <td>7</td>\n",
       "      <td>0.803550</td>\n",
       "      <td>0.813343</td>\n",
       "      <td>-0.009793</td>\n",
       "    </tr>\n",
       "    <tr>\n",
       "      <th>18</th>\n",
       "      <td>20</td>\n",
       "      <td>7</td>\n",
       "      <td>0.804024</td>\n",
       "      <td>0.812633</td>\n",
       "      <td>-0.008609</td>\n",
       "    </tr>\n",
       "    <tr>\n",
       "      <th>19</th>\n",
       "      <td>21</td>\n",
       "      <td>7</td>\n",
       "      <td>0.804497</td>\n",
       "      <td>0.811923</td>\n",
       "      <td>-0.007426</td>\n",
       "    </tr>\n",
       "    <tr>\n",
       "      <th>20</th>\n",
       "      <td>22</td>\n",
       "      <td>7</td>\n",
       "      <td>0.806864</td>\n",
       "      <td>0.812633</td>\n",
       "      <td>-0.005769</td>\n",
       "    </tr>\n",
       "    <tr>\n",
       "      <th>21</th>\n",
       "      <td>23</td>\n",
       "      <td>7</td>\n",
       "      <td>0.806864</td>\n",
       "      <td>0.810504</td>\n",
       "      <td>-0.003640</td>\n",
       "    </tr>\n",
       "    <tr>\n",
       "      <th>22</th>\n",
       "      <td>24</td>\n",
       "      <td>7</td>\n",
       "      <td>0.804970</td>\n",
       "      <td>0.807665</td>\n",
       "      <td>-0.002695</td>\n",
       "    </tr>\n",
       "    <tr>\n",
       "      <th>23</th>\n",
       "      <td>25</td>\n",
       "      <td>7</td>\n",
       "      <td>0.804734</td>\n",
       "      <td>0.807665</td>\n",
       "      <td>-0.002931</td>\n",
       "    </tr>\n",
       "    <tr>\n",
       "      <th>24</th>\n",
       "      <td>26</td>\n",
       "      <td>7</td>\n",
       "      <td>0.802130</td>\n",
       "      <td>0.807665</td>\n",
       "      <td>-0.005535</td>\n",
       "    </tr>\n",
       "    <tr>\n",
       "      <th>25</th>\n",
       "      <td>27</td>\n",
       "      <td>7</td>\n",
       "      <td>0.801420</td>\n",
       "      <td>0.806955</td>\n",
       "      <td>-0.005535</td>\n",
       "    </tr>\n",
       "    <tr>\n",
       "      <th>26</th>\n",
       "      <td>28</td>\n",
       "      <td>7</td>\n",
       "      <td>0.803787</td>\n",
       "      <td>0.806246</td>\n",
       "      <td>-0.002459</td>\n",
       "    </tr>\n",
       "    <tr>\n",
       "      <th>27</th>\n",
       "      <td>29</td>\n",
       "      <td>7</td>\n",
       "      <td>0.800947</td>\n",
       "      <td>0.811923</td>\n",
       "      <td>-0.010977</td>\n",
       "    </tr>\n",
       "    <tr>\n",
       "      <th>28</th>\n",
       "      <td>30</td>\n",
       "      <td>7</td>\n",
       "      <td>0.801183</td>\n",
       "      <td>0.806246</td>\n",
       "      <td>-0.005062</td>\n",
       "    </tr>\n",
       "    <tr>\n",
       "      <th>29</th>\n",
       "      <td>31</td>\n",
       "      <td>7</td>\n",
       "      <td>0.800473</td>\n",
       "      <td>0.804116</td>\n",
       "      <td>-0.003643</td>\n",
       "    </tr>\n",
       "    <tr>\n",
       "      <th>30</th>\n",
       "      <td>32</td>\n",
       "      <td>7</td>\n",
       "      <td>0.801657</td>\n",
       "      <td>0.806246</td>\n",
       "      <td>-0.004589</td>\n",
       "    </tr>\n",
       "    <tr>\n",
       "      <th>31</th>\n",
       "      <td>33</td>\n",
       "      <td>7</td>\n",
       "      <td>0.799290</td>\n",
       "      <td>0.807665</td>\n",
       "      <td>-0.008375</td>\n",
       "    </tr>\n",
       "    <tr>\n",
       "      <th>32</th>\n",
       "      <td>34</td>\n",
       "      <td>7</td>\n",
       "      <td>0.799763</td>\n",
       "      <td>0.806955</td>\n",
       "      <td>-0.007192</td>\n",
       "    </tr>\n",
       "    <tr>\n",
       "      <th>33</th>\n",
       "      <td>35</td>\n",
       "      <td>7</td>\n",
       "      <td>0.799527</td>\n",
       "      <td>0.806246</td>\n",
       "      <td>-0.006719</td>\n",
       "    </tr>\n",
       "    <tr>\n",
       "      <th>34</th>\n",
       "      <td>36</td>\n",
       "      <td>7</td>\n",
       "      <td>0.799527</td>\n",
       "      <td>0.806246</td>\n",
       "      <td>-0.006719</td>\n",
       "    </tr>\n",
       "    <tr>\n",
       "      <th>35</th>\n",
       "      <td>37</td>\n",
       "      <td>7</td>\n",
       "      <td>0.800710</td>\n",
       "      <td>0.804116</td>\n",
       "      <td>-0.003406</td>\n",
       "    </tr>\n",
       "    <tr>\n",
       "      <th>36</th>\n",
       "      <td>38</td>\n",
       "      <td>7</td>\n",
       "      <td>0.800947</td>\n",
       "      <td>0.806246</td>\n",
       "      <td>-0.005299</td>\n",
       "    </tr>\n",
       "    <tr>\n",
       "      <th>37</th>\n",
       "      <td>39</td>\n",
       "      <td>7</td>\n",
       "      <td>0.799763</td>\n",
       "      <td>0.803407</td>\n",
       "      <td>-0.003643</td>\n",
       "    </tr>\n",
       "    <tr>\n",
       "      <th>38</th>\n",
       "      <td>40</td>\n",
       "      <td>7</td>\n",
       "      <td>0.798343</td>\n",
       "      <td>0.800568</td>\n",
       "      <td>-0.002225</td>\n",
       "    </tr>\n",
       "    <tr>\n",
       "      <th>39</th>\n",
       "      <td>41</td>\n",
       "      <td>7</td>\n",
       "      <td>0.799053</td>\n",
       "      <td>0.801987</td>\n",
       "      <td>-0.002934</td>\n",
       "    </tr>\n",
       "    <tr>\n",
       "      <th>40</th>\n",
       "      <td>42</td>\n",
       "      <td>7</td>\n",
       "      <td>0.801183</td>\n",
       "      <td>0.803407</td>\n",
       "      <td>-0.002223</td>\n",
       "    </tr>\n",
       "    <tr>\n",
       "      <th>41</th>\n",
       "      <td>43</td>\n",
       "      <td>7</td>\n",
       "      <td>0.802604</td>\n",
       "      <td>0.803407</td>\n",
       "      <td>-0.000803</td>\n",
       "    </tr>\n",
       "    <tr>\n",
       "      <th>42</th>\n",
       "      <td>44</td>\n",
       "      <td>7</td>\n",
       "      <td>0.800947</td>\n",
       "      <td>0.805536</td>\n",
       "      <td>-0.004589</td>\n",
       "    </tr>\n",
       "    <tr>\n",
       "      <th>43</th>\n",
       "      <td>45</td>\n",
       "      <td>7</td>\n",
       "      <td>0.799763</td>\n",
       "      <td>0.805536</td>\n",
       "      <td>-0.005773</td>\n",
       "    </tr>\n",
       "    <tr>\n",
       "      <th>44</th>\n",
       "      <td>46</td>\n",
       "      <td>7</td>\n",
       "      <td>0.801183</td>\n",
       "      <td>0.810504</td>\n",
       "      <td>-0.009320</td>\n",
       "    </tr>\n",
       "    <tr>\n",
       "      <th>45</th>\n",
       "      <td>47</td>\n",
       "      <td>7</td>\n",
       "      <td>0.801420</td>\n",
       "      <td>0.806955</td>\n",
       "      <td>-0.005535</td>\n",
       "    </tr>\n",
       "    <tr>\n",
       "      <th>46</th>\n",
       "      <td>48</td>\n",
       "      <td>7</td>\n",
       "      <td>0.800947</td>\n",
       "      <td>0.807665</td>\n",
       "      <td>-0.006718</td>\n",
       "    </tr>\n",
       "    <tr>\n",
       "      <th>47</th>\n",
       "      <td>49</td>\n",
       "      <td>7</td>\n",
       "      <td>0.801420</td>\n",
       "      <td>0.806955</td>\n",
       "      <td>-0.005535</td>\n",
       "    </tr>\n",
       "  </tbody>\n",
       "</table>\n",
       "</div>"
      ],
      "text/plain": [
       "    min_samples_per_leaf  max_depth  train_accuracy  validate_accuracy  \\\n",
       "0                      2          7        0.810651           0.809794   \n",
       "1                      3          7        0.808047           0.806955   \n",
       "2                      4          7        0.809467           0.811923   \n",
       "3                      5          7        0.808994           0.810504   \n",
       "4                      6          7        0.806864           0.808375   \n",
       "5                      7          7        0.807101           0.809794   \n",
       "6                      8          7        0.808757           0.811923   \n",
       "7                      9          7        0.808757           0.814053   \n",
       "8                     10          7        0.809704           0.810504   \n",
       "9                     11          7        0.808284           0.810504   \n",
       "10                    12          7        0.807574           0.809794   \n",
       "11                    13          7        0.807811           0.809794   \n",
       "12                    14          7        0.807811           0.809794   \n",
       "13                    15          7        0.804497           0.810504   \n",
       "14                    16          7        0.805917           0.811214   \n",
       "15                    17          7        0.803077           0.809084   \n",
       "16                    18          7        0.804734           0.811923   \n",
       "17                    19          7        0.803550           0.813343   \n",
       "18                    20          7        0.804024           0.812633   \n",
       "19                    21          7        0.804497           0.811923   \n",
       "20                    22          7        0.806864           0.812633   \n",
       "21                    23          7        0.806864           0.810504   \n",
       "22                    24          7        0.804970           0.807665   \n",
       "23                    25          7        0.804734           0.807665   \n",
       "24                    26          7        0.802130           0.807665   \n",
       "25                    27          7        0.801420           0.806955   \n",
       "26                    28          7        0.803787           0.806246   \n",
       "27                    29          7        0.800947           0.811923   \n",
       "28                    30          7        0.801183           0.806246   \n",
       "29                    31          7        0.800473           0.804116   \n",
       "30                    32          7        0.801657           0.806246   \n",
       "31                    33          7        0.799290           0.807665   \n",
       "32                    34          7        0.799763           0.806955   \n",
       "33                    35          7        0.799527           0.806246   \n",
       "34                    36          7        0.799527           0.806246   \n",
       "35                    37          7        0.800710           0.804116   \n",
       "36                    38          7        0.800947           0.806246   \n",
       "37                    39          7        0.799763           0.803407   \n",
       "38                    40          7        0.798343           0.800568   \n",
       "39                    41          7        0.799053           0.801987   \n",
       "40                    42          7        0.801183           0.803407   \n",
       "41                    43          7        0.802604           0.803407   \n",
       "42                    44          7        0.800947           0.805536   \n",
       "43                    45          7        0.799763           0.805536   \n",
       "44                    46          7        0.801183           0.810504   \n",
       "45                    47          7        0.801420           0.806955   \n",
       "46                    48          7        0.800947           0.807665   \n",
       "47                    49          7        0.801420           0.806955   \n",
       "\n",
       "    difference  \n",
       "0     0.000857  \n",
       "1     0.001092  \n",
       "2    -0.002456  \n",
       "3    -0.001510  \n",
       "4    -0.001511  \n",
       "5    -0.002694  \n",
       "6    -0.003166  \n",
       "7    -0.005295  \n",
       "8    -0.000800  \n",
       "9    -0.002220  \n",
       "10   -0.002220  \n",
       "11   -0.001984  \n",
       "12   -0.001984  \n",
       "13   -0.006007  \n",
       "14   -0.005296  \n",
       "15   -0.006008  \n",
       "16   -0.007190  \n",
       "17   -0.009793  \n",
       "18   -0.008609  \n",
       "19   -0.007426  \n",
       "20   -0.005769  \n",
       "21   -0.003640  \n",
       "22   -0.002695  \n",
       "23   -0.002931  \n",
       "24   -0.005535  \n",
       "25   -0.005535  \n",
       "26   -0.002459  \n",
       "27   -0.010977  \n",
       "28   -0.005062  \n",
       "29   -0.003643  \n",
       "30   -0.004589  \n",
       "31   -0.008375  \n",
       "32   -0.007192  \n",
       "33   -0.006719  \n",
       "34   -0.006719  \n",
       "35   -0.003406  \n",
       "36   -0.005299  \n",
       "37   -0.003643  \n",
       "38   -0.002225  \n",
       "39   -0.002934  \n",
       "40   -0.002223  \n",
       "41   -0.000803  \n",
       "42   -0.004589  \n",
       "43   -0.005773  \n",
       "44   -0.009320  \n",
       "45   -0.005535  \n",
       "46   -0.006718  \n",
       "47   -0.005535  "
      ]
     },
     "execution_count": 146,
     "metadata": {},
     "output_type": "execute_result"
    }
   ],
   "source": [
    "# create a for loop to adjust the minimum samples leaf at a max depth of 7\n",
    "\n",
    "metrics = []\n",
    "\n",
    "\n",
    "for i in range(2, 50):\n",
    "    # Make the model\n",
    "    depth = 7\n",
    "    n_samples = i\n",
    "    forest = RandomForestClassifier(max_depth=depth, min_samples_leaf=n_samples, random_state=217)\n",
    "\n",
    "    # Fit the model (on train and only train)\n",
    "    forest = forest.fit(X_train, y_train)\n",
    "\n",
    "    # Use the model\n",
    "    # We'll evaluate the model's performance on train, first\n",
    "    in_sample_accuracy = forest.score(X_train, y_train)\n",
    "    \n",
    "    out_of_sample_accuracy = forest.score(X_validate, y_validate)\n",
    "\n",
    "    output = {\n",
    "        \"min_samples_per_leaf\": n_samples,\n",
    "        \"max_depth\": depth,\n",
    "        \"train_accuracy\": in_sample_accuracy,\n",
    "        \"validate_accuracy\": out_of_sample_accuracy\n",
    "    }\n",
    "    \n",
    "    metrics.append(output)\n",
    "\n",
    "# calculate the difference in accuracy between train and validate    \n",
    "df = pd.DataFrame(metrics)\n",
    "df[\"difference\"] = df.train_accuracy - df.validate_accuracy\n",
    "df"
   ]
  },
  {
   "cell_type": "code",
   "execution_count": 147,
   "id": "7035669e",
   "metadata": {},
   "outputs": [
    {
     "data": {
      "text/html": [
       "<div>\n",
       "<style scoped>\n",
       "    .dataframe tbody tr th:only-of-type {\n",
       "        vertical-align: middle;\n",
       "    }\n",
       "\n",
       "    .dataframe tbody tr th {\n",
       "        vertical-align: top;\n",
       "    }\n",
       "\n",
       "    .dataframe thead th {\n",
       "        text-align: right;\n",
       "    }\n",
       "</style>\n",
       "<table border=\"1\" class=\"dataframe\">\n",
       "  <thead>\n",
       "    <tr style=\"text-align: right;\">\n",
       "      <th></th>\n",
       "      <th>min_samples_per_leaf</th>\n",
       "      <th>max_depth</th>\n",
       "      <th>train_accuracy</th>\n",
       "      <th>validate_accuracy</th>\n",
       "      <th>difference</th>\n",
       "    </tr>\n",
       "  </thead>\n",
       "  <tbody>\n",
       "    <tr>\n",
       "      <th>0</th>\n",
       "      <td>2</td>\n",
       "      <td>2</td>\n",
       "      <td>0.734675</td>\n",
       "      <td>0.734564</td>\n",
       "      <td>0.000111</td>\n",
       "    </tr>\n",
       "    <tr>\n",
       "      <th>1</th>\n",
       "      <td>3</td>\n",
       "      <td>3</td>\n",
       "      <td>0.790059</td>\n",
       "      <td>0.799858</td>\n",
       "      <td>-0.009799</td>\n",
       "    </tr>\n",
       "    <tr>\n",
       "      <th>2</th>\n",
       "      <td>4</td>\n",
       "      <td>4</td>\n",
       "      <td>0.791716</td>\n",
       "      <td>0.802697</td>\n",
       "      <td>-0.010981</td>\n",
       "    </tr>\n",
       "    <tr>\n",
       "      <th>3</th>\n",
       "      <td>5</td>\n",
       "      <td>5</td>\n",
       "      <td>0.795030</td>\n",
       "      <td>0.802697</td>\n",
       "      <td>-0.007667</td>\n",
       "    </tr>\n",
       "    <tr>\n",
       "      <th>4</th>\n",
       "      <td>6</td>\n",
       "      <td>6</td>\n",
       "      <td>0.803314</td>\n",
       "      <td>0.809084</td>\n",
       "      <td>-0.005771</td>\n",
       "    </tr>\n",
       "    <tr>\n",
       "      <th>5</th>\n",
       "      <td>7</td>\n",
       "      <td>7</td>\n",
       "      <td>0.807101</td>\n",
       "      <td>0.809794</td>\n",
       "      <td>-0.002694</td>\n",
       "    </tr>\n",
       "    <tr>\n",
       "      <th>6</th>\n",
       "      <td>8</td>\n",
       "      <td>8</td>\n",
       "      <td>0.811124</td>\n",
       "      <td>0.809794</td>\n",
       "      <td>0.001330</td>\n",
       "    </tr>\n",
       "    <tr>\n",
       "      <th>7</th>\n",
       "      <td>9</td>\n",
       "      <td>9</td>\n",
       "      <td>0.819172</td>\n",
       "      <td>0.809084</td>\n",
       "      <td>0.010087</td>\n",
       "    </tr>\n",
       "    <tr>\n",
       "      <th>8</th>\n",
       "      <td>10</td>\n",
       "      <td>10</td>\n",
       "      <td>0.819882</td>\n",
       "      <td>0.809794</td>\n",
       "      <td>0.010087</td>\n",
       "    </tr>\n",
       "    <tr>\n",
       "      <th>9</th>\n",
       "      <td>11</td>\n",
       "      <td>11</td>\n",
       "      <td>0.820828</td>\n",
       "      <td>0.809084</td>\n",
       "      <td>0.011744</td>\n",
       "    </tr>\n",
       "    <tr>\n",
       "      <th>10</th>\n",
       "      <td>12</td>\n",
       "      <td>12</td>\n",
       "      <td>0.819172</td>\n",
       "      <td>0.802697</td>\n",
       "      <td>0.016475</td>\n",
       "    </tr>\n",
       "    <tr>\n",
       "      <th>11</th>\n",
       "      <td>13</td>\n",
       "      <td>13</td>\n",
       "      <td>0.816805</td>\n",
       "      <td>0.812633</td>\n",
       "      <td>0.004172</td>\n",
       "    </tr>\n",
       "    <tr>\n",
       "      <th>12</th>\n",
       "      <td>14</td>\n",
       "      <td>14</td>\n",
       "      <td>0.814911</td>\n",
       "      <td>0.808375</td>\n",
       "      <td>0.006537</td>\n",
       "    </tr>\n",
       "    <tr>\n",
       "      <th>13</th>\n",
       "      <td>15</td>\n",
       "      <td>15</td>\n",
       "      <td>0.813491</td>\n",
       "      <td>0.805536</td>\n",
       "      <td>0.007955</td>\n",
       "    </tr>\n",
       "    <tr>\n",
       "      <th>14</th>\n",
       "      <td>16</td>\n",
       "      <td>16</td>\n",
       "      <td>0.814201</td>\n",
       "      <td>0.809794</td>\n",
       "      <td>0.004407</td>\n",
       "    </tr>\n",
       "    <tr>\n",
       "      <th>15</th>\n",
       "      <td>17</td>\n",
       "      <td>17</td>\n",
       "      <td>0.813728</td>\n",
       "      <td>0.802697</td>\n",
       "      <td>0.011031</td>\n",
       "    </tr>\n",
       "    <tr>\n",
       "      <th>16</th>\n",
       "      <td>18</td>\n",
       "      <td>18</td>\n",
       "      <td>0.811598</td>\n",
       "      <td>0.808375</td>\n",
       "      <td>0.003223</td>\n",
       "    </tr>\n",
       "    <tr>\n",
       "      <th>17</th>\n",
       "      <td>19</td>\n",
       "      <td>19</td>\n",
       "      <td>0.810888</td>\n",
       "      <td>0.808375</td>\n",
       "      <td>0.002513</td>\n",
       "    </tr>\n",
       "  </tbody>\n",
       "</table>\n",
       "</div>"
      ],
      "text/plain": [
       "    min_samples_per_leaf  max_depth  train_accuracy  validate_accuracy  \\\n",
       "0                      2          2        0.734675           0.734564   \n",
       "1                      3          3        0.790059           0.799858   \n",
       "2                      4          4        0.791716           0.802697   \n",
       "3                      5          5        0.795030           0.802697   \n",
       "4                      6          6        0.803314           0.809084   \n",
       "5                      7          7        0.807101           0.809794   \n",
       "6                      8          8        0.811124           0.809794   \n",
       "7                      9          9        0.819172           0.809084   \n",
       "8                     10         10        0.819882           0.809794   \n",
       "9                     11         11        0.820828           0.809084   \n",
       "10                    12         12        0.819172           0.802697   \n",
       "11                    13         13        0.816805           0.812633   \n",
       "12                    14         14        0.814911           0.808375   \n",
       "13                    15         15        0.813491           0.805536   \n",
       "14                    16         16        0.814201           0.809794   \n",
       "15                    17         17        0.813728           0.802697   \n",
       "16                    18         18        0.811598           0.808375   \n",
       "17                    19         19        0.810888           0.808375   \n",
       "\n",
       "    difference  \n",
       "0     0.000111  \n",
       "1    -0.009799  \n",
       "2    -0.010981  \n",
       "3    -0.007667  \n",
       "4    -0.005771  \n",
       "5    -0.002694  \n",
       "6     0.001330  \n",
       "7     0.010087  \n",
       "8     0.010087  \n",
       "9     0.011744  \n",
       "10    0.016475  \n",
       "11    0.004172  \n",
       "12    0.006537  \n",
       "13    0.007955  \n",
       "14    0.004407  \n",
       "15    0.011031  \n",
       "16    0.003223  \n",
       "17    0.002513  "
      ]
     },
     "execution_count": 147,
     "metadata": {},
     "output_type": "execute_result"
    }
   ],
   "source": [
    "# create a for loop to increase both depth and minimum leaf samples\n",
    "\n",
    "metrics = []\n",
    "max_depth = 20\n",
    "\n",
    "for i in range(2, max_depth):\n",
    "    # Make the model\n",
    "    depth = i\n",
    "    n_samples = i\n",
    "    forest = RandomForestClassifier(max_depth=depth, min_samples_leaf=n_samples, random_state=217)\n",
    "\n",
    "    # Fit the model (on train and only train)\n",
    "    forest = forest.fit(X_train, y_train)\n",
    "\n",
    "    # Use the model\n",
    "    # We'll evaluate the model's performance on train, first\n",
    "    in_sample_accuracy = forest.score(X_train, y_train)\n",
    "    \n",
    "    out_of_sample_accuracy = forest.score(X_validate, y_validate)\n",
    "\n",
    "    output = {\n",
    "        \"min_samples_per_leaf\": n_samples,\n",
    "        \"max_depth\": depth,\n",
    "        \"train_accuracy\": in_sample_accuracy,\n",
    "        \"validate_accuracy\": out_of_sample_accuracy\n",
    "    }\n",
    "    \n",
    "    metrics.append(output)\n",
    "\n",
    "# calculate the difference in accuracy between train and validate\n",
    "df = pd.DataFrame(metrics)\n",
    "df[\"difference\"] = df.train_accuracy - df.validate_accuracy\n",
    "df"
   ]
  },
  {
   "cell_type": "code",
   "execution_count": 148,
   "id": "029cf8a8",
   "metadata": {},
   "outputs": [],
   "source": [
    "# create a second model and make a decision tree using selected features\n",
    "\n",
    "model2 = DecisionTreeClassifier(max_depth=4)\n",
    "X_col2 = ['tenure', 'contract_type_id', 'dependents']\n",
    "y_col2 = 'churn'"
   ]
  },
  {
   "cell_type": "code",
   "execution_count": 149,
   "id": "6cd63614",
   "metadata": {},
   "outputs": [],
   "source": [
    "# assign variables to fit and train the model\n",
    "\n",
    "X_train2, y_train2 = train_telco[X_col2], train_telco[y_col2]\n",
    "X_validate2, y_validate2 = validate_telco[X_col2], validate_telco[y_col2]"
   ]
  },
  {
   "cell_type": "code",
   "execution_count": 150,
   "id": "7aa6069c",
   "metadata": {},
   "outputs": [
    {
     "name": "stdout",
     "output_type": "stream",
     "text": [
      "training score: 75.34%\n",
      "validate score: 76.51%\n"
     ]
    }
   ],
   "source": [
    "# fit the new model to the decision tree classifier\n",
    "\n",
    "model2.fit(X_train2, y_train2)\n",
    "\n",
    "# score and print the accuracy against the train and validate data\n",
    "print(f'training score: {model2.score(X_train2, y_train2):.2%}')\n",
    "print(f'validate score: {model2.score(X_validate2, y_validate2):.2%}')"
   ]
  },
  {
   "cell_type": "code",
   "execution_count": 151,
   "id": "0f39f411",
   "metadata": {},
   "outputs": [],
   "source": [
    "# reassign model 2 to the random forest classifier\n",
    "\n",
    "model2 = RandomForestClassifier(bootstrap=True, class_weight=None, criterion='gini', min_samples_leaf=3, \n",
    "                                 n_estimators=100, max_depth=6, random_state=217)"
   ]
  },
  {
   "cell_type": "code",
   "execution_count": 152,
   "id": "1ca1562f",
   "metadata": {},
   "outputs": [
    {
     "data": {
      "text/plain": [
       "RandomForestClassifier(max_depth=6, min_samples_leaf=3, random_state=217)"
      ]
     },
     "execution_count": 152,
     "metadata": {},
     "output_type": "execute_result"
    }
   ],
   "source": [
    "# fit the model using the model 2 variables\n",
    "\n",
    "model2.fit(X_train2, y_train2)"
   ]
  },
  {
   "cell_type": "code",
   "execution_count": 153,
   "id": "d306528b",
   "metadata": {},
   "outputs": [
    {
     "data": {
      "image/png": "[encoded data removed]",
      "text/plain": [
       "<Figure size 432x288 with 1 Axes>"
      ]
     },
     "metadata": {
      "needs_background": "light"
     },
     "output_type": "display_data"
    }
   ],
   "source": [
    "# graph the feature importances; tenure and contract_type_id have a much larger affect than dependents\n",
    "\n",
    "plt.bar(X_train2.columns, model2.feature_importances_)\n",
    "plt.show()"
   ]
  },
  {
   "cell_type": "code",
   "execution_count": 154,
   "id": "c4b33ade",
   "metadata": {},
   "outputs": [
    {
     "name": "stdout",
     "output_type": "stream",
     "text": [
      "Accuracy of random forest classifier on training set: 0.76\n",
      "              precision    recall  f1-score   support\n",
      "\n",
      "           0       0.80      0.90      0.85      3104\n",
      "           1       0.57      0.38      0.46      1121\n",
      "\n",
      "    accuracy                           0.76      4225\n",
      "   macro avg       0.69      0.64      0.65      4225\n",
      "weighted avg       0.74      0.76      0.74      4225\n",
      "\n"
     ]
    }
   ],
   "source": [
    "# assign variables for the predictions\n",
    "\n",
    "y_pred2 = model2.predict(X_train2)\n",
    "y_pred_proba2 = model2.predict_proba(X_train2)\n",
    "\n",
    "# score and print the accuracy of model 2 on the train data\n",
    "print('Accuracy of random forest classifier on training set: {:.2f}'\n",
    "     .format(model2.score(X_train2, y_train2)))\n",
    "# print the classification report for the model on train\n",
    "print(classification_report(y_train2, y_pred2))"
   ]
  },
  {
   "cell_type": "code",
   "execution_count": 155,
   "id": "1ec0798f",
   "metadata": {},
   "outputs": [
    {
     "name": "stdout",
     "output_type": "stream",
     "text": [
      "Accuracy of random forest classifier on test set: 0.76\n",
      "              precision    recall  f1-score   support\n",
      "\n",
      "           0       0.81      0.89      0.85      1035\n",
      "           1       0.58      0.40      0.47       374\n",
      "\n",
      "    accuracy                           0.76      1409\n",
      "   macro avg       0.69      0.65      0.66      1409\n",
      "weighted avg       0.75      0.76      0.75      1409\n",
      "\n"
     ]
    }
   ],
   "source": [
    "# assign variables for the predictions to be used on the validate dataset\n",
    "\n",
    "y_pred2 = model2.predict(X_validate2)\n",
    "y_pred_proba2 = model2.predict_proba(X_validate2)\n",
    "\n",
    "# score and print the accuracy of model 2 on validate\n",
    "print('Accuracy of random forest classifier on test set: {:.2f}'\n",
    "     .format(model2.score(X_validate2, y_validate2)))\n",
    "# print the classification report for model 2's performance on validate\n",
    "print(classification_report(y_validate2, y_pred2))"
   ]
  },
  {
   "cell_type": "code",
   "execution_count": 156,
   "id": "98adb4de",
   "metadata": {},
   "outputs": [],
   "source": [
    "# assign model 3 to a decision tree classifier with a max depth of 6\n",
    "\n",
    "model3 = DecisionTreeClassifier(max_depth=6)"
   ]
  },
  {
   "cell_type": "code",
   "execution_count": 157,
   "id": "d2dd2448",
   "metadata": {},
   "outputs": [],
   "source": [
    "# features to be used in model 3\n",
    "\n",
    "X_col3 = ['tenure', 'monthly_charges', 'payment_type_id', 'contract_type_id', 'internet_service_type_id']\n",
    "y_col3 = 'churn'"
   ]
  },
  {
   "cell_type": "code",
   "execution_count": 158,
   "id": "f2eff19a",
   "metadata": {},
   "outputs": [],
   "source": [
    "# assign variables for train and validate\n",
    "\n",
    "X_train3, y_train3 = train_telco[X_col3], train_telco[y_col3]\n",
    "X_validate3, y_validate3 = validate_telco[X_col3], validate_telco[y_col3]"
   ]
  },
  {
   "cell_type": "code",
   "execution_count": 159,
   "id": "e28720d6",
   "metadata": {},
   "outputs": [
    {
     "name": "stdout",
     "output_type": "stream",
     "text": [
      "training score: 80.54%\n",
      "validate score: 79.21%\n"
     ]
    }
   ],
   "source": [
    "# fit the model using the model 3 variables\n",
    "\n",
    "model3.fit(X_train3, y_train3)\n",
    "\n",
    "# score and print the accuracy of model 3 on train and validate\n",
    "print(f'training score: {model3.score(X_train3, y_train3):.2%}')\n",
    "print(f'validate score: {model3.score(X_validate3, y_validate3):.2%}')"
   ]
  },
  {
   "cell_type": "code",
   "execution_count": 160,
   "id": "015f0d12",
   "metadata": {},
   "outputs": [],
   "source": [
    "# reassign model 3 to a random forest classifier\n",
    "\n",
    "model3 = RandomForestClassifier(bootstrap=True, class_weight=None, criterion='gini', min_samples_leaf=5, \n",
    "                                 n_estimators=100, max_depth=8, random_state=217)"
   ]
  },
  {
   "cell_type": "code",
   "execution_count": 161,
   "id": "5d57163d",
   "metadata": {},
   "outputs": [
    {
     "data": {
      "text/plain": [
       "RandomForestClassifier(max_depth=8, min_samples_leaf=5, random_state=217)"
      ]
     },
     "execution_count": 161,
     "metadata": {},
     "output_type": "execute_result"
    }
   ],
   "source": [
    "# fit the model using model 3 variables\n",
    "\n",
    "model3.fit(X_train3, y_train3)"
   ]
  },
  {
   "cell_type": "code",
   "execution_count": 162,
   "id": "67e8298a",
   "metadata": {},
   "outputs": [
    {
     "data": {
      "image/png": "[encoded data removed]",
      "text/plain": [
       "<Figure size 432x288 with 1 Axes>"
      ]
     },
     "metadata": {
      "needs_background": "light"
     },
     "output_type": "display_data"
    }
   ],
   "source": [
    "# bar graph of model 3's feature importances; contract_type_id, tenure, and monthly charges have the highest values\n",
    "\n",
    "plt.bar(X_train3.columns, model3.feature_importances_)\n",
    "plt.show()"
   ]
  },
  {
   "cell_type": "code",
   "execution_count": 163,
   "id": "7ad48f22",
   "metadata": {},
   "outputs": [
    {
     "name": "stdout",
     "output_type": "stream",
     "text": [
      "Accuracy of random forest classifier on training set: 0.83\n",
      "              precision    recall  f1-score   support\n",
      "\n",
      "           0       0.85      0.93      0.89      3104\n",
      "           1       0.73      0.55      0.63      1121\n",
      "\n",
      "    accuracy                           0.83      4225\n",
      "   macro avg       0.79      0.74      0.76      4225\n",
      "weighted avg       0.82      0.83      0.82      4225\n",
      "\n"
     ]
    }
   ],
   "source": [
    "# assign variables for the predictions\n",
    "\n",
    "y_pred3 = model3.predict(X_train3)\n",
    "y_pred_proba3 = model3.predict_proba(X_train3)\n",
    "\n",
    "# score and print the accuracy of model 3 on train\n",
    "print('Accuracy of random forest classifier on training set: {:.2f}'\n",
    "     .format(model3.score(X_train3, y_train3)))\n",
    "# print the classification report for model 3's performance on train\n",
    "print(classification_report(y_train3, y_pred3))"
   ]
  },
  {
   "cell_type": "code",
   "execution_count": 164,
   "id": "bf0a4aa9",
   "metadata": {},
   "outputs": [
    {
     "name": "stdout",
     "output_type": "stream",
     "text": [
      "Accuracy of random forest classifier on test set: 0.81\n",
      "              precision    recall  f1-score   support\n",
      "\n",
      "           0       0.85      0.91      0.88      1035\n",
      "           1       0.68      0.54      0.60       374\n",
      "\n",
      "    accuracy                           0.81      1409\n",
      "   macro avg       0.76      0.72      0.74      1409\n",
      "weighted avg       0.80      0.81      0.80      1409\n",
      "\n"
     ]
    }
   ],
   "source": [
    "# assign variables for predictions on validate\n",
    "\n",
    "y_pred3 = model3.predict(X_validate3)\n",
    "y_pred_proba3 = model3.predict_proba(X_validate3)\n",
    "\n",
    "# score and print the accuracy of model 3 on validate\n",
    "print('Accuracy of random forest classifier on test set: {:.2f}'\n",
    "     .format(model3.score(X_validate3, y_validate3)))\n",
    "print(classification_report(y_validate3, y_pred3))"
   ]
  },
  {
   "cell_type": "markdown",
   "id": "6afb7d59",
   "metadata": {},
   "source": [
    "#### Do extra services affect churn?\n",
    "\n",
    "- I'm combining the extra internet service features (not including streaming) and adding the total number of services each customer has. This sum will be captured in a new column called 'extras'."
   ]
  },
  {
   "cell_type": "code",
   "execution_count": 166,
   "id": "cf3868fc",
   "metadata": {},
   "outputs": [],
   "source": [
    "# create a new dataframe with the extra services features\n",
    "\n",
    "telco_melt_df = pd.DataFrame([telco.customer_id, telco.online_backup, telco.online_security, telco.device_protection, telco.tech_support]).T"
   ]
  },
  {
   "cell_type": "code",
   "execution_count": 167,
   "id": "3dade9f6",
   "metadata": {},
   "outputs": [
    {
     "data": {
      "text/html": [
       "<div>\n",
       "<style scoped>\n",
       "    .dataframe tbody tr th:only-of-type {\n",
       "        vertical-align: middle;\n",
       "    }\n",
       "\n",
       "    .dataframe tbody tr th {\n",
       "        vertical-align: top;\n",
       "    }\n",
       "\n",
       "    .dataframe thead th {\n",
       "        text-align: right;\n",
       "    }\n",
       "</style>\n",
       "<table border=\"1\" class=\"dataframe\">\n",
       "  <thead>\n",
       "    <tr style=\"text-align: right;\">\n",
       "      <th></th>\n",
       "      <th>customer_id</th>\n",
       "      <th>online_backup</th>\n",
       "      <th>online_security</th>\n",
       "      <th>device_protection</th>\n",
       "      <th>tech_support</th>\n",
       "    </tr>\n",
       "  </thead>\n",
       "  <tbody>\n",
       "    <tr>\n",
       "      <th>0</th>\n",
       "      <td>0002-ORFBO</td>\n",
       "      <td>Yes</td>\n",
       "      <td>No</td>\n",
       "      <td>No</td>\n",
       "      <td>Yes</td>\n",
       "    </tr>\n",
       "    <tr>\n",
       "      <th>1</th>\n",
       "      <td>0003-MKNFE</td>\n",
       "      <td>No</td>\n",
       "      <td>No</td>\n",
       "      <td>No</td>\n",
       "      <td>No</td>\n",
       "    </tr>\n",
       "    <tr>\n",
       "      <th>2</th>\n",
       "      <td>0004-TLHLJ</td>\n",
       "      <td>No</td>\n",
       "      <td>No</td>\n",
       "      <td>Yes</td>\n",
       "      <td>No</td>\n",
       "    </tr>\n",
       "    <tr>\n",
       "      <th>3</th>\n",
       "      <td>0011-IGKFF</td>\n",
       "      <td>Yes</td>\n",
       "      <td>No</td>\n",
       "      <td>Yes</td>\n",
       "      <td>No</td>\n",
       "    </tr>\n",
       "    <tr>\n",
       "      <th>4</th>\n",
       "      <td>0013-EXCHZ</td>\n",
       "      <td>No</td>\n",
       "      <td>No</td>\n",
       "      <td>No</td>\n",
       "      <td>Yes</td>\n",
       "    </tr>\n",
       "  </tbody>\n",
       "</table>\n",
       "</div>"
      ],
      "text/plain": [
       "  customer_id online_backup online_security device_protection tech_support\n",
       "0  0002-ORFBO           Yes              No                No          Yes\n",
       "1  0003-MKNFE            No              No                No           No\n",
       "2  0004-TLHLJ            No              No               Yes           No\n",
       "3  0011-IGKFF           Yes              No               Yes           No\n",
       "4  0013-EXCHZ            No              No                No          Yes"
      ]
     },
     "execution_count": 167,
     "metadata": {},
     "output_type": "execute_result"
    }
   ],
   "source": [
    "telco_melt_df.head()"
   ]
  },
  {
   "cell_type": "code",
   "execution_count": 168,
   "id": "01cc9794",
   "metadata": {},
   "outputs": [],
   "source": [
    "# encode the extra features columns for analysis\n",
    "\n",
    "telco_melt_df['online_security'] = telco_melt_df.online_security.map({'Yes': 1, 'No': 0})\n",
    "telco_melt_df['online_backup'] = telco_melt_df.online_backup.map({'Yes': 1, 'No': 0})\n",
    "telco_melt_df['device_protection'] = telco_melt_df.device_protection.map({'Yes': 1, 'No': 0})\n",
    "telco_melt_df['tech_support'] = telco_melt_df.tech_support.map({'Yes': 1, 'No': 0})"
   ]
  },
  {
   "cell_type": "code",
   "execution_count": 169,
   "id": "2943929a",
   "metadata": {},
   "outputs": [
    {
     "name": "stdout",
     "output_type": "stream",
     "text": [
      "<class 'pandas.core.frame.DataFrame'>\n",
      "RangeIndex: 7043 entries, 0 to 7042\n",
      "Data columns (total 5 columns):\n",
      " #   Column             Non-Null Count  Dtype \n",
      "---  ------             --------------  ----- \n",
      " 0   customer_id        7043 non-null   object\n",
      " 1   online_backup      7043 non-null   int64 \n",
      " 2   online_security    7043 non-null   int64 \n",
      " 3   device_protection  7043 non-null   int64 \n",
      " 4   tech_support       7043 non-null   int64 \n",
      "dtypes: int64(4), object(1)\n",
      "memory usage: 275.2+ KB\n"
     ]
    }
   ],
   "source": [
    "telco_melt_df.info()"
   ]
  },
  {
   "cell_type": "code",
   "execution_count": 170,
   "id": "7a9f7373",
   "metadata": {},
   "outputs": [],
   "source": [
    "# create a new column called 'extras' that contains the number of extra services each customer has\n",
    "\n",
    "telco_melt_df['extras'] = telco_melt_df.online_backup + telco_melt_df.online_security + telco_melt_df.device_protection + telco_melt_df.tech_support"
   ]
  },
  {
   "cell_type": "code",
   "execution_count": 171,
   "id": "10508553",
   "metadata": {},
   "outputs": [
    {
     "data": {
      "text/html": [
       "<div>\n",
       "<style scoped>\n",
       "    .dataframe tbody tr th:only-of-type {\n",
       "        vertical-align: middle;\n",
       "    }\n",
       "\n",
       "    .dataframe tbody tr th {\n",
       "        vertical-align: top;\n",
       "    }\n",
       "\n",
       "    .dataframe thead th {\n",
       "        text-align: right;\n",
       "    }\n",
       "</style>\n",
       "<table border=\"1\" class=\"dataframe\">\n",
       "  <thead>\n",
       "    <tr style=\"text-align: right;\">\n",
       "      <th></th>\n",
       "      <th>customer_id</th>\n",
       "      <th>online_backup</th>\n",
       "      <th>online_security</th>\n",
       "      <th>device_protection</th>\n",
       "      <th>tech_support</th>\n",
       "      <th>extras</th>\n",
       "    </tr>\n",
       "  </thead>\n",
       "  <tbody>\n",
       "    <tr>\n",
       "      <th>0</th>\n",
       "      <td>0002-ORFBO</td>\n",
       "      <td>1</td>\n",
       "      <td>0</td>\n",
       "      <td>0</td>\n",
       "      <td>1</td>\n",
       "      <td>2</td>\n",
       "    </tr>\n",
       "    <tr>\n",
       "      <th>1</th>\n",
       "      <td>0003-MKNFE</td>\n",
       "      <td>0</td>\n",
       "      <td>0</td>\n",
       "      <td>0</td>\n",
       "      <td>0</td>\n",
       "      <td>0</td>\n",
       "    </tr>\n",
       "    <tr>\n",
       "      <th>2</th>\n",
       "      <td>0004-TLHLJ</td>\n",
       "      <td>0</td>\n",
       "      <td>0</td>\n",
       "      <td>1</td>\n",
       "      <td>0</td>\n",
       "      <td>1</td>\n",
       "    </tr>\n",
       "    <tr>\n",
       "      <th>3</th>\n",
       "      <td>0011-IGKFF</td>\n",
       "      <td>1</td>\n",
       "      <td>0</td>\n",
       "      <td>1</td>\n",
       "      <td>0</td>\n",
       "      <td>2</td>\n",
       "    </tr>\n",
       "    <tr>\n",
       "      <th>4</th>\n",
       "      <td>0013-EXCHZ</td>\n",
       "      <td>0</td>\n",
       "      <td>0</td>\n",
       "      <td>0</td>\n",
       "      <td>1</td>\n",
       "      <td>1</td>\n",
       "    </tr>\n",
       "    <tr>\n",
       "      <th>...</th>\n",
       "      <td>...</td>\n",
       "      <td>...</td>\n",
       "      <td>...</td>\n",
       "      <td>...</td>\n",
       "      <td>...</td>\n",
       "      <td>...</td>\n",
       "    </tr>\n",
       "    <tr>\n",
       "      <th>7038</th>\n",
       "      <td>9987-LUTYD</td>\n",
       "      <td>0</td>\n",
       "      <td>1</td>\n",
       "      <td>0</td>\n",
       "      <td>1</td>\n",
       "      <td>2</td>\n",
       "    </tr>\n",
       "    <tr>\n",
       "      <th>7039</th>\n",
       "      <td>9992-RRAMN</td>\n",
       "      <td>0</td>\n",
       "      <td>0</td>\n",
       "      <td>0</td>\n",
       "      <td>0</td>\n",
       "      <td>0</td>\n",
       "    </tr>\n",
       "    <tr>\n",
       "      <th>7040</th>\n",
       "      <td>9992-UJOEL</td>\n",
       "      <td>1</td>\n",
       "      <td>0</td>\n",
       "      <td>0</td>\n",
       "      <td>0</td>\n",
       "      <td>1</td>\n",
       "    </tr>\n",
       "    <tr>\n",
       "      <th>7041</th>\n",
       "      <td>9993-LHIEB</td>\n",
       "      <td>0</td>\n",
       "      <td>1</td>\n",
       "      <td>1</td>\n",
       "      <td>1</td>\n",
       "      <td>3</td>\n",
       "    </tr>\n",
       "    <tr>\n",
       "      <th>7042</th>\n",
       "      <td>9995-HOTOH</td>\n",
       "      <td>1</td>\n",
       "      <td>1</td>\n",
       "      <td>1</td>\n",
       "      <td>0</td>\n",
       "      <td>3</td>\n",
       "    </tr>\n",
       "  </tbody>\n",
       "</table>\n",
       "<p>7043 rows × 6 columns</p>\n",
       "</div>"
      ],
      "text/plain": [
       "     customer_id  online_backup  online_security  device_protection  \\\n",
       "0     0002-ORFBO              1                0                  0   \n",
       "1     0003-MKNFE              0                0                  0   \n",
       "2     0004-TLHLJ              0                0                  1   \n",
       "3     0011-IGKFF              1                0                  1   \n",
       "4     0013-EXCHZ              0                0                  0   \n",
       "...          ...            ...              ...                ...   \n",
       "7038  9987-LUTYD              0                1                  0   \n",
       "7039  9992-RRAMN              0                0                  0   \n",
       "7040  9992-UJOEL              1                0                  0   \n",
       "7041  9993-LHIEB              0                1                  1   \n",
       "7042  9995-HOTOH              1                1                  1   \n",
       "\n",
       "      tech_support  extras  \n",
       "0                1       2  \n",
       "1                0       0  \n",
       "2                0       1  \n",
       "3                0       2  \n",
       "4                1       1  \n",
       "...            ...     ...  \n",
       "7038             1       2  \n",
       "7039             0       0  \n",
       "7040             0       1  \n",
       "7041             1       3  \n",
       "7042             0       3  \n",
       "\n",
       "[7043 rows x 6 columns]"
      ]
     },
     "execution_count": 171,
     "metadata": {},
     "output_type": "execute_result"
    }
   ],
   "source": [
    "telco_melt_df"
   ]
  },
  {
   "cell_type": "code",
   "execution_count": 172,
   "id": "f26a9966",
   "metadata": {},
   "outputs": [],
   "source": [
    "# concatenate the two dataframes to add the extra columns to the telco data\n",
    "\n",
    "telco_concat = pd.concat([telco, telco_melt_df], axis=1)"
   ]
  },
  {
   "cell_type": "code",
   "execution_count": 173,
   "id": "5906267a",
   "metadata": {},
   "outputs": [
    {
     "data": {
      "text/html": [
       "<div>\n",
       "<style scoped>\n",
       "    .dataframe tbody tr th:only-of-type {\n",
       "        vertical-align: middle;\n",
       "    }\n",
       "\n",
       "    .dataframe tbody tr th {\n",
       "        vertical-align: top;\n",
       "    }\n",
       "\n",
       "    .dataframe thead th {\n",
       "        text-align: right;\n",
       "    }\n",
       "</style>\n",
       "<table border=\"1\" class=\"dataframe\">\n",
       "  <thead>\n",
       "    <tr style=\"text-align: right;\">\n",
       "      <th></th>\n",
       "      <th>payment_type_id</th>\n",
       "      <th>internet_service_type_id</th>\n",
       "      <th>contract_type_id</th>\n",
       "      <th>customer_id</th>\n",
       "      <th>gender</th>\n",
       "      <th>senior_citizen</th>\n",
       "      <th>partner</th>\n",
       "      <th>dependents</th>\n",
       "      <th>tenure</th>\n",
       "      <th>phone_service</th>\n",
       "      <th>...</th>\n",
       "      <th>churn</th>\n",
       "      <th>contract_type</th>\n",
       "      <th>internet_service_type</th>\n",
       "      <th>payment_type</th>\n",
       "      <th>customer_id</th>\n",
       "      <th>online_backup</th>\n",
       "      <th>online_security</th>\n",
       "      <th>device_protection</th>\n",
       "      <th>tech_support</th>\n",
       "      <th>extras</th>\n",
       "    </tr>\n",
       "  </thead>\n",
       "  <tbody>\n",
       "    <tr>\n",
       "      <th>0</th>\n",
       "      <td>2</td>\n",
       "      <td>1</td>\n",
       "      <td>2</td>\n",
       "      <td>0002-ORFBO</td>\n",
       "      <td>0</td>\n",
       "      <td>0</td>\n",
       "      <td>1</td>\n",
       "      <td>1</td>\n",
       "      <td>9</td>\n",
       "      <td>1</td>\n",
       "      <td>...</td>\n",
       "      <td>0</td>\n",
       "      <td>One year</td>\n",
       "      <td>DSL</td>\n",
       "      <td>manual</td>\n",
       "      <td>0002-ORFBO</td>\n",
       "      <td>1</td>\n",
       "      <td>0</td>\n",
       "      <td>0</td>\n",
       "      <td>1</td>\n",
       "      <td>2</td>\n",
       "    </tr>\n",
       "    <tr>\n",
       "      <th>1</th>\n",
       "      <td>2</td>\n",
       "      <td>1</td>\n",
       "      <td>1</td>\n",
       "      <td>0003-MKNFE</td>\n",
       "      <td>1</td>\n",
       "      <td>0</td>\n",
       "      <td>0</td>\n",
       "      <td>0</td>\n",
       "      <td>9</td>\n",
       "      <td>1</td>\n",
       "      <td>...</td>\n",
       "      <td>0</td>\n",
       "      <td>Month-to-month</td>\n",
       "      <td>DSL</td>\n",
       "      <td>manual</td>\n",
       "      <td>0003-MKNFE</td>\n",
       "      <td>0</td>\n",
       "      <td>0</td>\n",
       "      <td>0</td>\n",
       "      <td>0</td>\n",
       "      <td>0</td>\n",
       "    </tr>\n",
       "    <tr>\n",
       "      <th>2</th>\n",
       "      <td>1</td>\n",
       "      <td>2</td>\n",
       "      <td>1</td>\n",
       "      <td>0004-TLHLJ</td>\n",
       "      <td>1</td>\n",
       "      <td>0</td>\n",
       "      <td>0</td>\n",
       "      <td>0</td>\n",
       "      <td>4</td>\n",
       "      <td>1</td>\n",
       "      <td>...</td>\n",
       "      <td>1</td>\n",
       "      <td>Month-to-month</td>\n",
       "      <td>Fiber optic</td>\n",
       "      <td>manual</td>\n",
       "      <td>0004-TLHLJ</td>\n",
       "      <td>0</td>\n",
       "      <td>0</td>\n",
       "      <td>1</td>\n",
       "      <td>0</td>\n",
       "      <td>1</td>\n",
       "    </tr>\n",
       "    <tr>\n",
       "      <th>3</th>\n",
       "      <td>1</td>\n",
       "      <td>2</td>\n",
       "      <td>1</td>\n",
       "      <td>0011-IGKFF</td>\n",
       "      <td>1</td>\n",
       "      <td>1</td>\n",
       "      <td>1</td>\n",
       "      <td>0</td>\n",
       "      <td>13</td>\n",
       "      <td>1</td>\n",
       "      <td>...</td>\n",
       "      <td>1</td>\n",
       "      <td>Month-to-month</td>\n",
       "      <td>Fiber optic</td>\n",
       "      <td>manual</td>\n",
       "      <td>0011-IGKFF</td>\n",
       "      <td>1</td>\n",
       "      <td>0</td>\n",
       "      <td>1</td>\n",
       "      <td>0</td>\n",
       "      <td>2</td>\n",
       "    </tr>\n",
       "    <tr>\n",
       "      <th>4</th>\n",
       "      <td>2</td>\n",
       "      <td>2</td>\n",
       "      <td>1</td>\n",
       "      <td>0013-EXCHZ</td>\n",
       "      <td>0</td>\n",
       "      <td>1</td>\n",
       "      <td>1</td>\n",
       "      <td>0</td>\n",
       "      <td>3</td>\n",
       "      <td>1</td>\n",
       "      <td>...</td>\n",
       "      <td>1</td>\n",
       "      <td>Month-to-month</td>\n",
       "      <td>Fiber optic</td>\n",
       "      <td>manual</td>\n",
       "      <td>0013-EXCHZ</td>\n",
       "      <td>0</td>\n",
       "      <td>0</td>\n",
       "      <td>0</td>\n",
       "      <td>1</td>\n",
       "      <td>1</td>\n",
       "    </tr>\n",
       "  </tbody>\n",
       "</table>\n",
       "<p>5 rows × 30 columns</p>\n",
       "</div>"
      ],
      "text/plain": [
       "   payment_type_id  internet_service_type_id  contract_type_id customer_id  \\\n",
       "0                2                         1                 2  0002-ORFBO   \n",
       "1                2                         1                 1  0003-MKNFE   \n",
       "2                1                         2                 1  0004-TLHLJ   \n",
       "3                1                         2                 1  0011-IGKFF   \n",
       "4                2                         2                 1  0013-EXCHZ   \n",
       "\n",
       "   gender  senior_citizen  partner  dependents  tenure  phone_service  ...  \\\n",
       "0       0               0        1           1       9              1  ...   \n",
       "1       1               0        0           0       9              1  ...   \n",
       "2       1               0        0           0       4              1  ...   \n",
       "3       1               1        1           0      13              1  ...   \n",
       "4       0               1        1           0       3              1  ...   \n",
       "\n",
       "  churn   contract_type internet_service_type payment_type customer_id  \\\n",
       "0     0        One year                   DSL       manual  0002-ORFBO   \n",
       "1     0  Month-to-month                   DSL       manual  0003-MKNFE   \n",
       "2     1  Month-to-month           Fiber optic       manual  0004-TLHLJ   \n",
       "3     1  Month-to-month           Fiber optic       manual  0011-IGKFF   \n",
       "4     1  Month-to-month           Fiber optic       manual  0013-EXCHZ   \n",
       "\n",
       "  online_backup online_security  device_protection  tech_support  extras  \n",
       "0             1               0                  0             1       2  \n",
       "1             0               0                  0             0       0  \n",
       "2             0               0                  1             0       1  \n",
       "3             1               0                  1             0       2  \n",
       "4             0               0                  0             1       1  \n",
       "\n",
       "[5 rows x 30 columns]"
      ]
     },
     "execution_count": 173,
     "metadata": {},
     "output_type": "execute_result"
    }
   ],
   "source": [
    "telco_concat.head()"
   ]
  },
  {
   "cell_type": "code",
   "execution_count": 174,
   "id": "4f44f598",
   "metadata": {},
   "outputs": [
    {
     "name": "stdout",
     "output_type": "stream",
     "text": [
      "<class 'pandas.core.frame.DataFrame'>\n",
      "RangeIndex: 7043 entries, 0 to 7042\n",
      "Data columns (total 30 columns):\n",
      " #   Column                    Non-Null Count  Dtype  \n",
      "---  ------                    --------------  -----  \n",
      " 0   payment_type_id           7043 non-null   int64  \n",
      " 1   internet_service_type_id  7043 non-null   int64  \n",
      " 2   contract_type_id          7043 non-null   int64  \n",
      " 3   customer_id               7043 non-null   object \n",
      " 4   gender                    7043 non-null   int64  \n",
      " 5   senior_citizen            7043 non-null   int64  \n",
      " 6   partner                   7043 non-null   int64  \n",
      " 7   dependents                7043 non-null   int64  \n",
      " 8   tenure                    7043 non-null   int64  \n",
      " 9   phone_service             7043 non-null   int64  \n",
      " 10  multiple_lines            7043 non-null   object \n",
      " 11  online_security           7043 non-null   object \n",
      " 12  online_backup             7043 non-null   object \n",
      " 13  device_protection         7043 non-null   object \n",
      " 14  tech_support              7043 non-null   object \n",
      " 15  streaming_tv              7043 non-null   object \n",
      " 16  streaming_movies          7043 non-null   object \n",
      " 17  paperless_billing         7043 non-null   int64  \n",
      " 18  monthly_charges           7043 non-null   float64\n",
      " 19  total_charges             7032 non-null   float64\n",
      " 20  churn                     7043 non-null   int64  \n",
      " 21  contract_type             7043 non-null   object \n",
      " 22  internet_service_type     7043 non-null   object \n",
      " 23  payment_type              7043 non-null   object \n",
      " 24  customer_id               7043 non-null   object \n",
      " 25  online_backup             7043 non-null   int64  \n",
      " 26  online_security           7043 non-null   int64  \n",
      " 27  device_protection         7043 non-null   int64  \n",
      " 28  tech_support              7043 non-null   int64  \n",
      " 29  extras                    7043 non-null   int64  \n",
      "dtypes: float64(2), int64(16), object(12)\n",
      "memory usage: 1.6+ MB\n"
     ]
    }
   ],
   "source": [
    "telco_concat.info()"
   ]
  },
  {
   "cell_type": "code",
   "execution_count": 175,
   "id": "7d6018f5",
   "metadata": {},
   "outputs": [],
   "source": [
    "# split the data using the data_split function in the prepare.py file\n",
    "# assign new variables with this concatenated data so that the other data from previous modeling is preserved\n",
    "\n",
    "train_telco_concat, validate_telco_concat, test_telco_concat = prepare.split_data(telco_concat, 'churn')"
   ]
  },
  {
   "cell_type": "code",
   "execution_count": 176,
   "id": "484ffe06",
   "metadata": {},
   "outputs": [
    {
     "data": {
      "text/plain": [
       "<AxesSubplot:xlabel='extras', ylabel='count'>"
      ]
     },
     "execution_count": 176,
     "metadata": {},
     "output_type": "execute_result"
    },
    {
     "data": {
      "image/png": "[encoded data removed]",
      "text/plain": [
       "<Figure size 432x288 with 1 Axes>"
      ]
     },
     "metadata": {
      "needs_background": "light"
     },
     "output_type": "display_data"
    }
   ],
   "source": [
    "# bar graph of the number of customers who have extra features\n",
    "\n",
    "sns.countplot(x='extras', data=telco_concat)"
   ]
  },
  {
   "cell_type": "code",
   "execution_count": 177,
   "id": "2ef86aea",
   "metadata": {},
   "outputs": [
    {
     "data": {
      "text/html": [
       "<div>\n",
       "<style scoped>\n",
       "    .dataframe tbody tr th:only-of-type {\n",
       "        vertical-align: middle;\n",
       "    }\n",
       "\n",
       "    .dataframe tbody tr th {\n",
       "        vertical-align: top;\n",
       "    }\n",
       "\n",
       "    .dataframe thead th {\n",
       "        text-align: right;\n",
       "    }\n",
       "</style>\n",
       "<table border=\"1\" class=\"dataframe\">\n",
       "  <thead>\n",
       "    <tr style=\"text-align: right;\">\n",
       "      <th>churn</th>\n",
       "      <th>0</th>\n",
       "      <th>1</th>\n",
       "    </tr>\n",
       "    <tr>\n",
       "      <th>extras</th>\n",
       "      <th></th>\n",
       "      <th></th>\n",
       "    </tr>\n",
       "  </thead>\n",
       "  <tbody>\n",
       "    <tr>\n",
       "      <th>0</th>\n",
       "      <td>1189</td>\n",
       "      <td>493</td>\n",
       "    </tr>\n",
       "    <tr>\n",
       "      <th>1</th>\n",
       "      <td>542</td>\n",
       "      <td>328</td>\n",
       "    </tr>\n",
       "    <tr>\n",
       "      <th>2</th>\n",
       "      <td>622</td>\n",
       "      <td>207</td>\n",
       "    </tr>\n",
       "    <tr>\n",
       "      <th>3</th>\n",
       "      <td>498</td>\n",
       "      <td>78</td>\n",
       "    </tr>\n",
       "    <tr>\n",
       "      <th>4</th>\n",
       "      <td>253</td>\n",
       "      <td>15</td>\n",
       "    </tr>\n",
       "  </tbody>\n",
       "</table>\n",
       "</div>"
      ],
      "text/plain": [
       "churn      0    1\n",
       "extras           \n",
       "0       1189  493\n",
       "1        542  328\n",
       "2        622  207\n",
       "3        498   78\n",
       "4        253   15"
      ]
     },
     "execution_count": 177,
     "metadata": {},
     "output_type": "execute_result"
    }
   ],
   "source": [
    "# a cross-tabulation of how extra services affect churn\n",
    "\n",
    "pd.crosstab(train_telco_concat.extras, train_telco_concat.churn)"
   ]
  },
  {
   "cell_type": "code",
   "execution_count": 178,
   "id": "823758fd",
   "metadata": {},
   "outputs": [
    {
     "data": {
      "text/plain": [
       "<AxesSubplot:xlabel='extras', ylabel='count'>"
      ]
     },
     "execution_count": 178,
     "metadata": {},
     "output_type": "execute_result"
    },
    {
     "data": {
      "image/png": "[encoded data removed]",
      "text/plain": [
       "<Figure size 432x288 with 1 Axes>"
      ]
     },
     "metadata": {
      "needs_background": "light"
     },
     "output_type": "display_data"
    }
   ],
   "source": [
    "# bar graph of the relationship between extra services and churn; customers with all four services appear to have\n",
    "# the lowest churn rate\n",
    "\n",
    "sns.countplot(x='extras', hue='churn', data=train_telco_concat)"
   ]
  },
  {
   "cell_type": "code",
   "execution_count": 179,
   "id": "c0e4bd81",
   "metadata": {},
   "outputs": [],
   "source": [
    "# chi2 test of the extra services and churn to calculate a potential relationship; the test determined that there is\n",
    "# indeed a relationship between the two features\n",
    "\n",
    "observed = pd.crosstab(train_telco_concat.extras, train_telco_concat.churn)\n",
    "chi2, p, degf, expected = stats.chi2_contingency(observed)"
   ]
  },
  {
   "cell_type": "code",
   "execution_count": 180,
   "id": "ec5e0979",
   "metadata": {},
   "outputs": [
    {
     "name": "stdout",
     "output_type": "stream",
     "text": [
      "Observed\n",
      "[[1189  493]\n",
      " [ 542  328]\n",
      " [ 622  207]\n",
      " [ 498   78]\n",
      " [ 253   15]]\n",
      "\n",
      "Expected\n",
      "[[1235  446]\n",
      " [ 639  230]\n",
      " [ 609  219]\n",
      " [ 423  152]\n",
      " [ 196   71]]\n",
      "\n",
      "----\n",
      "chi^2 = 173.4979\n",
      "p     = 0.0000\n"
     ]
    }
   ],
   "source": [
    "print('Observed')\n",
    "print(observed.values)\n",
    "print('\\nExpected')\n",
    "print(expected.astype(int))\n",
    "print('\\n----')\n",
    "print(f'chi^2 = {chi2:.4f}')\n",
    "print(f'p     = {p:.4f}')"
   ]
  },
  {
   "cell_type": "code",
   "execution_count": 219,
   "id": "c81fbca9",
   "metadata": {},
   "outputs": [],
   "source": [
    "# assign a new model to a decision tree classifier with a max depth of 6\n",
    "\n",
    "model4 = DecisionTreeClassifier(max_depth=6)"
   ]
  },
  {
   "cell_type": "code",
   "execution_count": 220,
   "id": "8a72bb17",
   "metadata": {},
   "outputs": [],
   "source": [
    "# assign variables for the features to be used in model 4\n",
    "\n",
    "X_col4 = ['tenure', 'monthly_charges', 'contract_type_id', 'internet_service_type_id', 'extras', 'senior_citizen', 'partner', 'dependents']\n",
    "y_col4 = 'churn'"
   ]
  },
  {
   "cell_type": "code",
   "execution_count": 221,
   "id": "fba706dd",
   "metadata": {},
   "outputs": [],
   "source": [
    "# assign variables to train and validate the model\n",
    "\n",
    "X_train4, y_train4 = train_telco_concat[X_col4], train_telco_concat[y_col4]\n",
    "X_validate4, y_validate4 = validate_telco_concat[X_col4], validate_telco_concat[y_col4]"
   ]
  },
  {
   "cell_type": "code",
   "execution_count": 222,
   "id": "794340fe",
   "metadata": {},
   "outputs": [
    {
     "name": "stdout",
     "output_type": "stream",
     "text": [
      "training score: 80.31%\n",
      "validate score: 78.50%\n"
     ]
    }
   ],
   "source": [
    "# fit model 4 using the assigned variables\n",
    "\n",
    "model4.fit(X_train4, y_train4)\n",
    "\n",
    "# score and print the accuracy of model 4 on train\n",
    "print(f'training score: {model4.score(X_train4, y_train4):.2%}')\n",
    "# score and print the accuray of model 4 on validate\n",
    "print(f'validate score: {model4.score(X_validate4, y_validate4):.2%}')"
   ]
  },
  {
   "cell_type": "code",
   "execution_count": 223,
   "id": "1a5b0d43",
   "metadata": {},
   "outputs": [],
   "source": [
    "# reassign model 4 to a random forest classifier\n",
    "\n",
    "model4 = RandomForestClassifier(bootstrap=True, class_weight=None, criterion='gini', min_samples_leaf=3, \n",
    "                                 n_estimators=100, max_depth=8, random_state=217)"
   ]
  },
  {
   "cell_type": "code",
   "execution_count": 224,
   "id": "312fe44a",
   "metadata": {},
   "outputs": [
    {
     "data": {
      "text/plain": [
       "RandomForestClassifier(max_depth=8, min_samples_leaf=3, random_state=217)"
      ]
     },
     "execution_count": 224,
     "metadata": {},
     "output_type": "execute_result"
    }
   ],
   "source": [
    "# fit the model with the assigned variables for model 4\n",
    "\n",
    "model4.fit(X_train4, y_train4)"
   ]
  },
  {
   "cell_type": "code",
   "execution_count": 225,
   "id": "ad7813c2",
   "metadata": {},
   "outputs": [
    {
     "data": {
      "image/png": "[encoded data removed]",
      "text/plain": [
       "<Figure size 432x288 with 1 Axes>"
      ]
     },
     "metadata": {
      "needs_background": "light"
     },
     "output_type": "display_data"
    }
   ],
   "source": [
    "# bar graph of feature importances; extras has a higher importance than senior citizen, partner, and dependents\n",
    "\n",
    "plt.bar(X_train4.columns, model4.feature_importances_)\n",
    "plt.show()"
   ]
  },
  {
   "cell_type": "code",
   "execution_count": 226,
   "id": "3182dca3",
   "metadata": {},
   "outputs": [
    {
     "name": "stdout",
     "output_type": "stream",
     "text": [
      "Accuracy of random forest classifier on training set: 0.82\n",
      "              precision    recall  f1-score   support\n",
      "\n",
      "           0       0.85      0.92      0.89      3104\n",
      "           1       0.72      0.54      0.62      1121\n",
      "\n",
      "    accuracy                           0.82      4225\n",
      "   macro avg       0.79      0.73      0.75      4225\n",
      "weighted avg       0.82      0.82      0.81      4225\n",
      "\n"
     ]
    }
   ],
   "source": [
    "# assign variables to predictions\n",
    "\n",
    "y_pred4 = model4.predict(X_train4)\n",
    "y_pred_proba4 = model4.predict_proba(X_train4)\n",
    "\n",
    "# score and print model 4's accuracy on train\n",
    "print('Accuracy of random forest classifier on training set: {:.2f}'\n",
    "     .format(model4.score(X_train4, y_train4)))\n",
    "# print the classification report of model 4's performance on train\n",
    "print(classification_report(y_train4, y_pred4))"
   ]
  },
  {
   "cell_type": "code",
   "execution_count": 227,
   "id": "9f148c47",
   "metadata": {},
   "outputs": [
    {
     "name": "stdout",
     "output_type": "stream",
     "text": [
      "Accuracy of random forest classifier on test set: 0.81\n",
      "              precision    recall  f1-score   support\n",
      "\n",
      "           0       0.84      0.90      0.87      1035\n",
      "           1       0.67      0.53      0.59       374\n",
      "\n",
      "    accuracy                           0.81      1409\n",
      "   macro avg       0.76      0.72      0.73      1409\n",
      "weighted avg       0.80      0.81      0.80      1409\n",
      "\n"
     ]
    }
   ],
   "source": [
    "# assign variables to predictions for validate\n",
    "\n",
    "y_pred4 = model4.predict(X_validate4)\n",
    "y_pred_proba4 = model4.predict_proba(X_validate4)\n",
    "\n",
    "# score and print model 4's accuracy on validate\n",
    "print('Accuracy of random forest classifier on test set: {:.2f}'\n",
    "     .format(model4.score(X_validate4, y_validate4)))\n",
    "# print the classification report of model 4's performance on validate\n",
    "print(classification_report(y_validate4, y_pred4))"
   ]
  },
  {
   "cell_type": "code",
   "execution_count": 229,
   "id": "892d81b8",
   "metadata": {},
   "outputs": [],
   "source": [
    "# assign variables to features and train/validate\n",
    "\n",
    "X_col = ['tenure', 'monthly_charges', 'dependents', 'contract_type_id', 'extras', 'internet_service_type_id', 'payment_type_id', 'partner', 'senior_citizen']\n",
    "y_col = 'churn'\n",
    "X_train4, y_train4 = train_telco_concat[X_col], train_telco_concat[y_col]\n",
    "X_validate4, y_validate4 = validate_telco_concat[X_col], validate_telco_concat[y_col]"
   ]
  },
  {
   "cell_type": "code",
   "execution_count": 230,
   "id": "62f4d745",
   "metadata": {},
   "outputs": [
    {
     "data": {
      "text/html": [
       "<div>\n",
       "<style scoped>\n",
       "    .dataframe tbody tr th:only-of-type {\n",
       "        vertical-align: middle;\n",
       "    }\n",
       "\n",
       "    .dataframe tbody tr th {\n",
       "        vertical-align: top;\n",
       "    }\n",
       "\n",
       "    .dataframe thead th {\n",
       "        text-align: right;\n",
       "    }\n",
       "</style>\n",
       "<table border=\"1\" class=\"dataframe\">\n",
       "  <thead>\n",
       "    <tr style=\"text-align: right;\">\n",
       "      <th></th>\n",
       "      <th>max_depth</th>\n",
       "      <th>train_accuracy</th>\n",
       "      <th>validate_accuracy</th>\n",
       "      <th>difference</th>\n",
       "    </tr>\n",
       "  </thead>\n",
       "  <tbody>\n",
       "    <tr>\n",
       "      <th>0</th>\n",
       "      <td>2</td>\n",
       "      <td>0.768757</td>\n",
       "      <td>0.777857</td>\n",
       "      <td>-0.009099</td>\n",
       "    </tr>\n",
       "    <tr>\n",
       "      <th>1</th>\n",
       "      <td>3</td>\n",
       "      <td>0.780592</td>\n",
       "      <td>0.785664</td>\n",
       "      <td>-0.005072</td>\n",
       "    </tr>\n",
       "    <tr>\n",
       "      <th>2</th>\n",
       "      <td>4</td>\n",
       "      <td>0.793136</td>\n",
       "      <td>0.804826</td>\n",
       "      <td>-0.011690</td>\n",
       "    </tr>\n",
       "    <tr>\n",
       "      <th>3</th>\n",
       "      <td>5</td>\n",
       "      <td>0.801420</td>\n",
       "      <td>0.810504</td>\n",
       "      <td>-0.009084</td>\n",
       "    </tr>\n",
       "    <tr>\n",
       "      <th>4</th>\n",
       "      <td>6</td>\n",
       "      <td>0.807574</td>\n",
       "      <td>0.815472</td>\n",
       "      <td>-0.007898</td>\n",
       "    </tr>\n",
       "    <tr>\n",
       "      <th>5</th>\n",
       "      <td>7</td>\n",
       "      <td>0.820355</td>\n",
       "      <td>0.818311</td>\n",
       "      <td>0.002044</td>\n",
       "    </tr>\n",
       "    <tr>\n",
       "      <th>6</th>\n",
       "      <td>8</td>\n",
       "      <td>0.837160</td>\n",
       "      <td>0.815472</td>\n",
       "      <td>0.021688</td>\n",
       "    </tr>\n",
       "    <tr>\n",
       "      <th>7</th>\n",
       "      <td>9</td>\n",
       "      <td>0.861065</td>\n",
       "      <td>0.811214</td>\n",
       "      <td>0.049851</td>\n",
       "    </tr>\n",
       "    <tr>\n",
       "      <th>8</th>\n",
       "      <td>10</td>\n",
       "      <td>0.888047</td>\n",
       "      <td>0.809084</td>\n",
       "      <td>0.078963</td>\n",
       "    </tr>\n",
       "    <tr>\n",
       "      <th>9</th>\n",
       "      <td>11</td>\n",
       "      <td>0.918817</td>\n",
       "      <td>0.811923</td>\n",
       "      <td>0.106893</td>\n",
       "    </tr>\n",
       "    <tr>\n",
       "      <th>10</th>\n",
       "      <td>12</td>\n",
       "      <td>0.944852</td>\n",
       "      <td>0.801987</td>\n",
       "      <td>0.142865</td>\n",
       "    </tr>\n",
       "    <tr>\n",
       "      <th>11</th>\n",
       "      <td>13</td>\n",
       "      <td>0.964970</td>\n",
       "      <td>0.803407</td>\n",
       "      <td>0.161564</td>\n",
       "    </tr>\n",
       "    <tr>\n",
       "      <th>12</th>\n",
       "      <td>14</td>\n",
       "      <td>0.978935</td>\n",
       "      <td>0.798439</td>\n",
       "      <td>0.180496</td>\n",
       "    </tr>\n",
       "    <tr>\n",
       "      <th>13</th>\n",
       "      <td>15</td>\n",
       "      <td>0.989586</td>\n",
       "      <td>0.798439</td>\n",
       "      <td>0.191147</td>\n",
       "    </tr>\n",
       "    <tr>\n",
       "      <th>14</th>\n",
       "      <td>16</td>\n",
       "      <td>0.993846</td>\n",
       "      <td>0.801278</td>\n",
       "      <td>0.192569</td>\n",
       "    </tr>\n",
       "    <tr>\n",
       "      <th>15</th>\n",
       "      <td>17</td>\n",
       "      <td>0.995266</td>\n",
       "      <td>0.796309</td>\n",
       "      <td>0.198957</td>\n",
       "    </tr>\n",
       "    <tr>\n",
       "      <th>16</th>\n",
       "      <td>18</td>\n",
       "      <td>0.995740</td>\n",
       "      <td>0.791341</td>\n",
       "      <td>0.204398</td>\n",
       "    </tr>\n",
       "    <tr>\n",
       "      <th>17</th>\n",
       "      <td>19</td>\n",
       "      <td>0.995740</td>\n",
       "      <td>0.794890</td>\n",
       "      <td>0.200850</td>\n",
       "    </tr>\n",
       "    <tr>\n",
       "      <th>18</th>\n",
       "      <td>20</td>\n",
       "      <td>0.995740</td>\n",
       "      <td>0.798439</td>\n",
       "      <td>0.197301</td>\n",
       "    </tr>\n",
       "    <tr>\n",
       "      <th>19</th>\n",
       "      <td>21</td>\n",
       "      <td>0.995740</td>\n",
       "      <td>0.798439</td>\n",
       "      <td>0.197301</td>\n",
       "    </tr>\n",
       "    <tr>\n",
       "      <th>20</th>\n",
       "      <td>22</td>\n",
       "      <td>0.995740</td>\n",
       "      <td>0.794180</td>\n",
       "      <td>0.201559</td>\n",
       "    </tr>\n",
       "    <tr>\n",
       "      <th>21</th>\n",
       "      <td>23</td>\n",
       "      <td>0.995740</td>\n",
       "      <td>0.796309</td>\n",
       "      <td>0.199430</td>\n",
       "    </tr>\n",
       "    <tr>\n",
       "      <th>22</th>\n",
       "      <td>24</td>\n",
       "      <td>0.995740</td>\n",
       "      <td>0.796309</td>\n",
       "      <td>0.199430</td>\n",
       "    </tr>\n",
       "  </tbody>\n",
       "</table>\n",
       "</div>"
      ],
      "text/plain": [
       "    max_depth  train_accuracy  validate_accuracy  difference\n",
       "0           2        0.768757           0.777857   -0.009099\n",
       "1           3        0.780592           0.785664   -0.005072\n",
       "2           4        0.793136           0.804826   -0.011690\n",
       "3           5        0.801420           0.810504   -0.009084\n",
       "4           6        0.807574           0.815472   -0.007898\n",
       "5           7        0.820355           0.818311    0.002044\n",
       "6           8        0.837160           0.815472    0.021688\n",
       "7           9        0.861065           0.811214    0.049851\n",
       "8          10        0.888047           0.809084    0.078963\n",
       "9          11        0.918817           0.811923    0.106893\n",
       "10         12        0.944852           0.801987    0.142865\n",
       "11         13        0.964970           0.803407    0.161564\n",
       "12         14        0.978935           0.798439    0.180496\n",
       "13         15        0.989586           0.798439    0.191147\n",
       "14         16        0.993846           0.801278    0.192569\n",
       "15         17        0.995266           0.796309    0.198957\n",
       "16         18        0.995740           0.791341    0.204398\n",
       "17         19        0.995740           0.794890    0.200850\n",
       "18         20        0.995740           0.798439    0.197301\n",
       "19         21        0.995740           0.798439    0.197301\n",
       "20         22        0.995740           0.794180    0.201559\n",
       "21         23        0.995740           0.796309    0.199430\n",
       "22         24        0.995740           0.796309    0.199430"
      ]
     },
     "execution_count": 230,
     "metadata": {},
     "output_type": "execute_result"
    }
   ],
   "source": [
    "# create a for loop to calculate accuracy of this model at different max depths\n",
    "\n",
    "metrics = []\n",
    "\n",
    "for i in range(2, 25):\n",
    "    # Make the model\n",
    "    forest = RandomForestClassifier(max_depth=i, random_state=217)\n",
    "\n",
    "    # Fit the model (on train and only train)\n",
    "    forest = forest.fit(X_train4, y_train4)\n",
    "\n",
    "    # Use the model\n",
    "    # We'll evaluate the model's performance on train, first then check validate\n",
    "    in_sample_accuracy = forest.score(X_train4, y_train4)\n",
    "    \n",
    "    out_of_sample_accuracy = forest.score(X_validate4, y_validate4)\n",
    "\n",
    "    output = {\n",
    "        \"max_depth\": i,\n",
    "        \"train_accuracy\": in_sample_accuracy,\n",
    "        \"validate_accuracy\": out_of_sample_accuracy\n",
    "    }\n",
    "    \n",
    "    metrics.append(output)\n",
    "\n",
    "# calculate the difference between train and validate accuracy\n",
    "df = pd.DataFrame(metrics)\n",
    "df[\"difference\"] = df.train_accuracy - df.validate_accuracy\n",
    "df"
   ]
  },
  {
   "cell_type": "code",
   "execution_count": 192,
   "id": "4110ab90",
   "metadata": {},
   "outputs": [
    {
     "name": "stdout",
     "output_type": "stream",
     "text": [
      "Tree with max depth of 2\n",
      "                     0            1  accuracy    macro avg  weighted avg\n",
      "precision     0.772343     0.725000  0.768757     0.748672      0.759782\n",
      "recall        0.971649     0.206958  0.768757     0.589304      0.768757\n",
      "f1-score      0.860608     0.321999  0.768757     0.591303      0.717701\n",
      "support    3104.000000  1121.000000  0.768757  4225.000000   4225.000000\n",
      "\n",
      "Tree with max depth of 3\n",
      "                     0            1  accuracy    macro avg  weighted avg\n",
      "precision     0.790499     0.702929  0.780592     0.746714      0.767264\n",
      "recall        0.954253     0.299732  0.780592     0.626992      0.780592\n",
      "f1-score      0.864691     0.420263  0.780592     0.642477      0.746773\n",
      "support    3104.000000  1121.000000  0.780592  4225.000000   4225.000000\n",
      "\n",
      "Tree with max depth of 4\n",
      "                     0            1  accuracy    macro avg  weighted avg\n",
      "precision     0.812500     0.687976  0.793136     0.750238      0.779461\n",
      "recall        0.933956     0.403211  0.793136     0.668584      0.793136\n",
      "f1-score      0.869005     0.508436  0.793136     0.688721      0.773337\n",
      "support    3104.000000  1121.000000  0.793136  4225.000000   4225.000000\n",
      "\n",
      "Tree with max depth of 5\n",
      "                     0            1  accuracy    macro avg  weighted avg\n",
      "precision     0.825525     0.689008   0.80142     0.757266      0.789303\n",
      "recall        0.925258     0.458519   0.80142     0.691888      0.801420\n",
      "f1-score      0.872551     0.550616   0.80142     0.711583      0.787133\n",
      "support    3104.000000  1121.000000   0.80142  4225.000000   4225.000000\n",
      "\n",
      "Tree with max depth of 6\n",
      "                     0            1  accuracy    macro avg  weighted avg\n",
      "precision     0.836220     0.688264  0.807574     0.762242      0.796963\n",
      "recall        0.917848     0.502230  0.807574     0.710039      0.807574\n",
      "f1-score      0.875134     0.580712  0.807574     0.727923      0.797017\n",
      "support    3104.000000  1121.000000  0.807574  4225.000000   4225.000000\n",
      "\n",
      "Tree with max depth of 7\n",
      "                     0            1  accuracy    macro avg  weighted avg\n",
      "precision     0.849062     0.709007  0.820355     0.779035      0.811902\n",
      "recall        0.918814     0.547725  0.820355     0.733270      0.820355\n",
      "f1-score      0.882562     0.618017  0.820355     0.750290      0.812372\n",
      "support    3104.000000  1121.000000  0.820355  4225.000000   4225.000000\n",
      "\n",
      "Tree with max depth of 8\n",
      "                     0            1  accuracy    macro avg  weighted avg\n",
      "precision     0.862545     0.742441   0.83716     0.802493      0.830678\n",
      "recall        0.925902     0.591436   0.83716     0.758669      0.837160\n",
      "f1-score      0.893101     0.658391   0.83716     0.775746      0.830827\n",
      "support    3104.000000  1121.000000   0.83716  4225.000000   4225.000000\n",
      "\n",
      "Tree with max depth of 9\n",
      "                     0            1  accuracy    macro avg  weighted avg\n",
      "precision     0.881942     0.787097  0.861065     0.834520      0.856777\n",
      "recall        0.936211     0.652988  0.861065     0.794600      0.861065\n",
      "f1-score      0.908267     0.713798  0.861065     0.811033      0.856669\n",
      "support    3104.000000  1121.000000  0.861065  4225.000000   4225.000000\n",
      "\n",
      "Tree with max depth of 10\n",
      "                     0            1  accuracy    macro avg  weighted avg\n",
      "precision     0.903157     0.836798  0.888047     0.869977      0.885550\n",
      "recall        0.949420     0.718109  0.888047     0.833764      0.888047\n",
      "f1-score      0.925711     0.772924  0.888047     0.849317      0.885172\n",
      "support    3104.000000  1121.000000  0.888047  4225.000000   4225.000000\n",
      "\n",
      "Tree with max depth of 11\n",
      "                     0            1  accuracy    macro avg  weighted avg\n",
      "precision     0.929928     0.883629  0.918817     0.906779      0.917644\n",
      "recall        0.961985     0.799286  0.918817     0.880635      0.918817\n",
      "f1-score      0.945685     0.839344  0.918817     0.892515      0.917470\n",
      "support    3104.000000  1121.000000  0.918817  4225.000000   4225.000000\n",
      "\n",
      "Tree with max depth of 12\n",
      "                     0            1  accuracy    macro avg  weighted avg\n",
      "precision     0.952411     0.922053  0.944852     0.937232      0.944356\n",
      "recall        0.973582     0.865299  0.944852     0.919441      0.944852\n",
      "f1-score      0.962880     0.892775  0.944852     0.927828      0.944280\n",
      "support    3104.000000  1121.000000  0.944852  4225.000000   4225.000000\n",
      "\n",
      "Tree with max depth of 13\n",
      "                     0            1  accuracy    macro avg  weighted avg\n",
      "precision     0.969803     0.950880   0.96497     0.960342      0.964782\n",
      "recall        0.982925     0.915254   0.96497     0.949090      0.964970\n",
      "f1-score      0.976320     0.932727   0.96497     0.954524      0.964754\n",
      "support    3104.000000  1121.000000   0.96497  4225.000000   4225.000000\n",
      "\n",
      "Tree with max depth of 14\n",
      "                     0            1  accuracy    macro avg  weighted avg\n",
      "precision     0.982091     0.969945  0.978935     0.976018      0.978869\n",
      "recall        0.989369     0.950045  0.978935     0.969707      0.978935\n",
      "f1-score      0.985717     0.959892  0.978935     0.972804      0.978865\n",
      "support    3104.000000  1121.000000  0.978935  4225.000000   4225.000000\n",
      "\n",
      "Tree with max depth of 15\n",
      "                     0            1  accuracy    macro avg  weighted avg\n",
      "precision     0.991961     0.982960  0.989586     0.987461      0.989573\n",
      "recall        0.993879     0.977698  0.989586     0.985789      0.989586\n",
      "f1-score      0.992919     0.980322  0.989586     0.986621      0.989577\n",
      "support    3104.000000  1121.000000  0.989586  4225.000000   4225.000000\n",
      "\n",
      "Tree with max depth of 16\n",
      "                     0            1  accuracy    macro avg  weighted avg\n",
      "precision     0.994537     0.991914  0.993846     0.993226      0.993841\n",
      "recall        0.997101     0.984835  0.993846     0.990968      0.993846\n",
      "f1-score      0.995817     0.988362  0.993846     0.992089      0.993839\n",
      "support    3104.000000  1121.000000  0.993846  4225.000000   4225.000000\n",
      "\n",
      "Tree with max depth of 17\n",
      "                     0            1  accuracy    macro avg  weighted avg\n",
      "precision     0.995183     0.995500  0.995266     0.995341      0.995267\n",
      "recall        0.998389     0.986619  0.995266     0.992504      0.995266\n",
      "f1-score      0.996784     0.991039  0.995266     0.993911      0.995259\n",
      "support    3104.000000  1121.000000  0.995266  4225.000000   4225.000000\n",
      "\n",
      "Tree with max depth of 18\n",
      "                     0            1  accuracy    macro avg  weighted avg\n",
      "precision     0.995504     0.996400   0.99574     0.995952      0.995742\n",
      "recall        0.998711     0.987511   0.99574     0.993111      0.995740\n",
      "f1-score      0.997105     0.991935   0.99574     0.994520      0.995734\n",
      "support    3104.000000  1121.000000   0.99574  4225.000000   4225.000000\n",
      "\n",
      "Tree with max depth of 19\n",
      "                     0            1  accuracy    macro avg  weighted avg\n",
      "precision     0.995186     0.997295   0.99574     0.996240      0.995746\n",
      "recall        0.999034     0.986619   0.99574     0.992826      0.995740\n",
      "f1-score      0.997106     0.991928   0.99574     0.994517      0.995732\n",
      "support    3104.000000  1121.000000   0.99574  4225.000000   4225.000000\n",
      "\n",
      "Tree with max depth of 20\n",
      "                     0            1  accuracy    macro avg  weighted avg\n",
      "precision     0.995186     0.997295   0.99574     0.996240      0.995746\n",
      "recall        0.999034     0.986619   0.99574     0.992826      0.995740\n",
      "f1-score      0.997106     0.991928   0.99574     0.994517      0.995732\n",
      "support    3104.000000  1121.000000   0.99574  4225.000000   4225.000000\n",
      "\n",
      "Tree with max depth of 21\n",
      "                     0            1  accuracy    macro avg  weighted avg\n",
      "precision     0.995186     0.997295   0.99574     0.996240      0.995746\n",
      "recall        0.999034     0.986619   0.99574     0.992826      0.995740\n",
      "f1-score      0.997106     0.991928   0.99574     0.994517      0.995732\n",
      "support    3104.000000  1121.000000   0.99574  4225.000000   4225.000000\n",
      "\n",
      "Tree with max depth of 22\n",
      "                     0            1  accuracy    macro avg  weighted avg\n",
      "precision     0.995186     0.997295   0.99574     0.996240      0.995746\n",
      "recall        0.999034     0.986619   0.99574     0.992826      0.995740\n",
      "f1-score      0.997106     0.991928   0.99574     0.994517      0.995732\n",
      "support    3104.000000  1121.000000   0.99574  4225.000000   4225.000000\n",
      "\n"
     ]
    },
    {
     "name": "stdout",
     "output_type": "stream",
     "text": [
      "Tree with max depth of 23\n",
      "                     0            1  accuracy    macro avg  weighted avg\n",
      "precision     0.995186     0.997295   0.99574     0.996240      0.995746\n",
      "recall        0.999034     0.986619   0.99574     0.992826      0.995740\n",
      "f1-score      0.997106     0.991928   0.99574     0.994517      0.995732\n",
      "support    3104.000000  1121.000000   0.99574  4225.000000   4225.000000\n",
      "\n",
      "Tree with max depth of 24\n",
      "                     0            1  accuracy    macro avg  weighted avg\n",
      "precision     0.995186     0.997295   0.99574     0.996240      0.995746\n",
      "recall        0.999034     0.986619   0.99574     0.992826      0.995740\n",
      "f1-score      0.997106     0.991928   0.99574     0.994517      0.995732\n",
      "support    3104.000000  1121.000000   0.99574  4225.000000   4225.000000\n",
      "\n"
     ]
    }
   ],
   "source": [
    "# create a for loop to print the classification reports of this model at different depths\n",
    "\n",
    "for i in range(2, 25):\n",
    "    # Make the model\n",
    "    forest = RandomForestClassifier(max_depth=i, random_state=217)\n",
    "\n",
    "    # Fit the model (on train and only train)\n",
    "    forest = forest.fit(X_train4, y_train4)\n",
    "\n",
    "    # Use the model\n",
    "    # We'll evaluate the model's performance on train, first\n",
    "    y_predictions = forest.predict(X_train4)\n",
    "\n",
    "    # Produce the classification report on the actual y values and this model's predicted y values\n",
    "    report = classification_report(y_train4, y_predictions, output_dict=True)\n",
    "    print(f\"Tree with max depth of {i}\")\n",
    "    print(pd.DataFrame(report))\n",
    "    print()"
   ]
  },
  {
   "cell_type": "code",
   "execution_count": 193,
   "id": "09d2290c",
   "metadata": {},
   "outputs": [
    {
     "data": {
      "text/html": [
       "<div>\n",
       "<style scoped>\n",
       "    .dataframe tbody tr th:only-of-type {\n",
       "        vertical-align: middle;\n",
       "    }\n",
       "\n",
       "    .dataframe tbody tr th {\n",
       "        vertical-align: top;\n",
       "    }\n",
       "\n",
       "    .dataframe thead th {\n",
       "        text-align: right;\n",
       "    }\n",
       "</style>\n",
       "<table border=\"1\" class=\"dataframe\">\n",
       "  <thead>\n",
       "    <tr style=\"text-align: right;\">\n",
       "      <th></th>\n",
       "      <th>min_samples_per_leaf</th>\n",
       "      <th>max_depth</th>\n",
       "      <th>train_accuracy</th>\n",
       "      <th>validate_accuracy</th>\n",
       "      <th>difference</th>\n",
       "    </tr>\n",
       "  </thead>\n",
       "  <tbody>\n",
       "    <tr>\n",
       "      <th>0</th>\n",
       "      <td>2</td>\n",
       "      <td>4</td>\n",
       "      <td>0.793136</td>\n",
       "      <td>0.804826</td>\n",
       "      <td>-0.011690</td>\n",
       "    </tr>\n",
       "    <tr>\n",
       "      <th>1</th>\n",
       "      <td>3</td>\n",
       "      <td>4</td>\n",
       "      <td>0.792189</td>\n",
       "      <td>0.804116</td>\n",
       "      <td>-0.011927</td>\n",
       "    </tr>\n",
       "    <tr>\n",
       "      <th>2</th>\n",
       "      <td>4</td>\n",
       "      <td>4</td>\n",
       "      <td>0.792899</td>\n",
       "      <td>0.804116</td>\n",
       "      <td>-0.011217</td>\n",
       "    </tr>\n",
       "    <tr>\n",
       "      <th>3</th>\n",
       "      <td>5</td>\n",
       "      <td>4</td>\n",
       "      <td>0.792663</td>\n",
       "      <td>0.801987</td>\n",
       "      <td>-0.009325</td>\n",
       "    </tr>\n",
       "    <tr>\n",
       "      <th>4</th>\n",
       "      <td>6</td>\n",
       "      <td>4</td>\n",
       "      <td>0.793136</td>\n",
       "      <td>0.802697</td>\n",
       "      <td>-0.009561</td>\n",
       "    </tr>\n",
       "    <tr>\n",
       "      <th>5</th>\n",
       "      <td>7</td>\n",
       "      <td>4</td>\n",
       "      <td>0.792899</td>\n",
       "      <td>0.802697</td>\n",
       "      <td>-0.009798</td>\n",
       "    </tr>\n",
       "    <tr>\n",
       "      <th>6</th>\n",
       "      <td>8</td>\n",
       "      <td>4</td>\n",
       "      <td>0.792663</td>\n",
       "      <td>0.801987</td>\n",
       "      <td>-0.009325</td>\n",
       "    </tr>\n",
       "    <tr>\n",
       "      <th>7</th>\n",
       "      <td>9</td>\n",
       "      <td>4</td>\n",
       "      <td>0.792899</td>\n",
       "      <td>0.801987</td>\n",
       "      <td>-0.009088</td>\n",
       "    </tr>\n",
       "    <tr>\n",
       "      <th>8</th>\n",
       "      <td>10</td>\n",
       "      <td>4</td>\n",
       "      <td>0.793136</td>\n",
       "      <td>0.801278</td>\n",
       "      <td>-0.008141</td>\n",
       "    </tr>\n",
       "    <tr>\n",
       "      <th>9</th>\n",
       "      <td>11</td>\n",
       "      <td>4</td>\n",
       "      <td>0.793136</td>\n",
       "      <td>0.802697</td>\n",
       "      <td>-0.009561</td>\n",
       "    </tr>\n",
       "    <tr>\n",
       "      <th>10</th>\n",
       "      <td>12</td>\n",
       "      <td>4</td>\n",
       "      <td>0.792663</td>\n",
       "      <td>0.801987</td>\n",
       "      <td>-0.009325</td>\n",
       "    </tr>\n",
       "    <tr>\n",
       "      <th>11</th>\n",
       "      <td>13</td>\n",
       "      <td>4</td>\n",
       "      <td>0.792426</td>\n",
       "      <td>0.801278</td>\n",
       "      <td>-0.008851</td>\n",
       "    </tr>\n",
       "    <tr>\n",
       "      <th>12</th>\n",
       "      <td>14</td>\n",
       "      <td>4</td>\n",
       "      <td>0.791716</td>\n",
       "      <td>0.801987</td>\n",
       "      <td>-0.010271</td>\n",
       "    </tr>\n",
       "    <tr>\n",
       "      <th>13</th>\n",
       "      <td>15</td>\n",
       "      <td>4</td>\n",
       "      <td>0.791716</td>\n",
       "      <td>0.802697</td>\n",
       "      <td>-0.010981</td>\n",
       "    </tr>\n",
       "    <tr>\n",
       "      <th>14</th>\n",
       "      <td>16</td>\n",
       "      <td>4</td>\n",
       "      <td>0.791953</td>\n",
       "      <td>0.802697</td>\n",
       "      <td>-0.010744</td>\n",
       "    </tr>\n",
       "    <tr>\n",
       "      <th>15</th>\n",
       "      <td>17</td>\n",
       "      <td>4</td>\n",
       "      <td>0.792426</td>\n",
       "      <td>0.803407</td>\n",
       "      <td>-0.010981</td>\n",
       "    </tr>\n",
       "    <tr>\n",
       "      <th>16</th>\n",
       "      <td>18</td>\n",
       "      <td>4</td>\n",
       "      <td>0.791479</td>\n",
       "      <td>0.803407</td>\n",
       "      <td>-0.011927</td>\n",
       "    </tr>\n",
       "    <tr>\n",
       "      <th>17</th>\n",
       "      <td>19</td>\n",
       "      <td>4</td>\n",
       "      <td>0.791953</td>\n",
       "      <td>0.804116</td>\n",
       "      <td>-0.012164</td>\n",
       "    </tr>\n",
       "    <tr>\n",
       "      <th>18</th>\n",
       "      <td>20</td>\n",
       "      <td>4</td>\n",
       "      <td>0.791716</td>\n",
       "      <td>0.803407</td>\n",
       "      <td>-0.011691</td>\n",
       "    </tr>\n",
       "    <tr>\n",
       "      <th>19</th>\n",
       "      <td>21</td>\n",
       "      <td>4</td>\n",
       "      <td>0.791953</td>\n",
       "      <td>0.803407</td>\n",
       "      <td>-0.011454</td>\n",
       "    </tr>\n",
       "    <tr>\n",
       "      <th>20</th>\n",
       "      <td>22</td>\n",
       "      <td>4</td>\n",
       "      <td>0.793373</td>\n",
       "      <td>0.802697</td>\n",
       "      <td>-0.009324</td>\n",
       "    </tr>\n",
       "    <tr>\n",
       "      <th>21</th>\n",
       "      <td>23</td>\n",
       "      <td>4</td>\n",
       "      <td>0.792426</td>\n",
       "      <td>0.801987</td>\n",
       "      <td>-0.009561</td>\n",
       "    </tr>\n",
       "    <tr>\n",
       "      <th>22</th>\n",
       "      <td>24</td>\n",
       "      <td>4</td>\n",
       "      <td>0.792899</td>\n",
       "      <td>0.801278</td>\n",
       "      <td>-0.008378</td>\n",
       "    </tr>\n",
       "    <tr>\n",
       "      <th>23</th>\n",
       "      <td>25</td>\n",
       "      <td>4</td>\n",
       "      <td>0.793136</td>\n",
       "      <td>0.802697</td>\n",
       "      <td>-0.009561</td>\n",
       "    </tr>\n",
       "    <tr>\n",
       "      <th>24</th>\n",
       "      <td>26</td>\n",
       "      <td>4</td>\n",
       "      <td>0.792663</td>\n",
       "      <td>0.801278</td>\n",
       "      <td>-0.008615</td>\n",
       "    </tr>\n",
       "    <tr>\n",
       "      <th>25</th>\n",
       "      <td>27</td>\n",
       "      <td>4</td>\n",
       "      <td>0.792189</td>\n",
       "      <td>0.801278</td>\n",
       "      <td>-0.009088</td>\n",
       "    </tr>\n",
       "    <tr>\n",
       "      <th>26</th>\n",
       "      <td>28</td>\n",
       "      <td>4</td>\n",
       "      <td>0.792426</td>\n",
       "      <td>0.800568</td>\n",
       "      <td>-0.008142</td>\n",
       "    </tr>\n",
       "    <tr>\n",
       "      <th>27</th>\n",
       "      <td>29</td>\n",
       "      <td>4</td>\n",
       "      <td>0.792189</td>\n",
       "      <td>0.801987</td>\n",
       "      <td>-0.009798</td>\n",
       "    </tr>\n",
       "    <tr>\n",
       "      <th>28</th>\n",
       "      <td>30</td>\n",
       "      <td>4</td>\n",
       "      <td>0.792189</td>\n",
       "      <td>0.801987</td>\n",
       "      <td>-0.009798</td>\n",
       "    </tr>\n",
       "    <tr>\n",
       "      <th>29</th>\n",
       "      <td>31</td>\n",
       "      <td>4</td>\n",
       "      <td>0.791953</td>\n",
       "      <td>0.801987</td>\n",
       "      <td>-0.010035</td>\n",
       "    </tr>\n",
       "    <tr>\n",
       "      <th>30</th>\n",
       "      <td>32</td>\n",
       "      <td>4</td>\n",
       "      <td>0.791716</td>\n",
       "      <td>0.801987</td>\n",
       "      <td>-0.010271</td>\n",
       "    </tr>\n",
       "    <tr>\n",
       "      <th>31</th>\n",
       "      <td>33</td>\n",
       "      <td>4</td>\n",
       "      <td>0.791716</td>\n",
       "      <td>0.801987</td>\n",
       "      <td>-0.010271</td>\n",
       "    </tr>\n",
       "    <tr>\n",
       "      <th>32</th>\n",
       "      <td>34</td>\n",
       "      <td>4</td>\n",
       "      <td>0.791716</td>\n",
       "      <td>0.801987</td>\n",
       "      <td>-0.010271</td>\n",
       "    </tr>\n",
       "    <tr>\n",
       "      <th>33</th>\n",
       "      <td>35</td>\n",
       "      <td>4</td>\n",
       "      <td>0.791243</td>\n",
       "      <td>0.801987</td>\n",
       "      <td>-0.010745</td>\n",
       "    </tr>\n",
       "    <tr>\n",
       "      <th>34</th>\n",
       "      <td>36</td>\n",
       "      <td>4</td>\n",
       "      <td>0.791716</td>\n",
       "      <td>0.800568</td>\n",
       "      <td>-0.008852</td>\n",
       "    </tr>\n",
       "    <tr>\n",
       "      <th>35</th>\n",
       "      <td>37</td>\n",
       "      <td>4</td>\n",
       "      <td>0.791479</td>\n",
       "      <td>0.800568</td>\n",
       "      <td>-0.009088</td>\n",
       "    </tr>\n",
       "    <tr>\n",
       "      <th>36</th>\n",
       "      <td>38</td>\n",
       "      <td>4</td>\n",
       "      <td>0.791479</td>\n",
       "      <td>0.799858</td>\n",
       "      <td>-0.008379</td>\n",
       "    </tr>\n",
       "    <tr>\n",
       "      <th>37</th>\n",
       "      <td>39</td>\n",
       "      <td>4</td>\n",
       "      <td>0.791479</td>\n",
       "      <td>0.800568</td>\n",
       "      <td>-0.009088</td>\n",
       "    </tr>\n",
       "    <tr>\n",
       "      <th>38</th>\n",
       "      <td>40</td>\n",
       "      <td>4</td>\n",
       "      <td>0.791243</td>\n",
       "      <td>0.800568</td>\n",
       "      <td>-0.009325</td>\n",
       "    </tr>\n",
       "    <tr>\n",
       "      <th>39</th>\n",
       "      <td>41</td>\n",
       "      <td>4</td>\n",
       "      <td>0.791716</td>\n",
       "      <td>0.800568</td>\n",
       "      <td>-0.008852</td>\n",
       "    </tr>\n",
       "    <tr>\n",
       "      <th>40</th>\n",
       "      <td>42</td>\n",
       "      <td>4</td>\n",
       "      <td>0.791006</td>\n",
       "      <td>0.800568</td>\n",
       "      <td>-0.009562</td>\n",
       "    </tr>\n",
       "    <tr>\n",
       "      <th>41</th>\n",
       "      <td>43</td>\n",
       "      <td>4</td>\n",
       "      <td>0.790296</td>\n",
       "      <td>0.800568</td>\n",
       "      <td>-0.010272</td>\n",
       "    </tr>\n",
       "    <tr>\n",
       "      <th>42</th>\n",
       "      <td>44</td>\n",
       "      <td>4</td>\n",
       "      <td>0.790533</td>\n",
       "      <td>0.799858</td>\n",
       "      <td>-0.009326</td>\n",
       "    </tr>\n",
       "    <tr>\n",
       "      <th>43</th>\n",
       "      <td>45</td>\n",
       "      <td>4</td>\n",
       "      <td>0.790769</td>\n",
       "      <td>0.801987</td>\n",
       "      <td>-0.011218</td>\n",
       "    </tr>\n",
       "    <tr>\n",
       "      <th>44</th>\n",
       "      <td>46</td>\n",
       "      <td>4</td>\n",
       "      <td>0.791006</td>\n",
       "      <td>0.801987</td>\n",
       "      <td>-0.010981</td>\n",
       "    </tr>\n",
       "    <tr>\n",
       "      <th>45</th>\n",
       "      <td>47</td>\n",
       "      <td>4</td>\n",
       "      <td>0.791953</td>\n",
       "      <td>0.801278</td>\n",
       "      <td>-0.009325</td>\n",
       "    </tr>\n",
       "    <tr>\n",
       "      <th>46</th>\n",
       "      <td>48</td>\n",
       "      <td>4</td>\n",
       "      <td>0.792189</td>\n",
       "      <td>0.800568</td>\n",
       "      <td>-0.008378</td>\n",
       "    </tr>\n",
       "    <tr>\n",
       "      <th>47</th>\n",
       "      <td>49</td>\n",
       "      <td>4</td>\n",
       "      <td>0.791716</td>\n",
       "      <td>0.799148</td>\n",
       "      <td>-0.007432</td>\n",
       "    </tr>\n",
       "  </tbody>\n",
       "</table>\n",
       "</div>"
      ],
      "text/plain": [
       "    min_samples_per_leaf  max_depth  train_accuracy  validate_accuracy  \\\n",
       "0                      2          4        0.793136           0.804826   \n",
       "1                      3          4        0.792189           0.804116   \n",
       "2                      4          4        0.792899           0.804116   \n",
       "3                      5          4        0.792663           0.801987   \n",
       "4                      6          4        0.793136           0.802697   \n",
       "5                      7          4        0.792899           0.802697   \n",
       "6                      8          4        0.792663           0.801987   \n",
       "7                      9          4        0.792899           0.801987   \n",
       "8                     10          4        0.793136           0.801278   \n",
       "9                     11          4        0.793136           0.802697   \n",
       "10                    12          4        0.792663           0.801987   \n",
       "11                    13          4        0.792426           0.801278   \n",
       "12                    14          4        0.791716           0.801987   \n",
       "13                    15          4        0.791716           0.802697   \n",
       "14                    16          4        0.791953           0.802697   \n",
       "15                    17          4        0.792426           0.803407   \n",
       "16                    18          4        0.791479           0.803407   \n",
       "17                    19          4        0.791953           0.804116   \n",
       "18                    20          4        0.791716           0.803407   \n",
       "19                    21          4        0.791953           0.803407   \n",
       "20                    22          4        0.793373           0.802697   \n",
       "21                    23          4        0.792426           0.801987   \n",
       "22                    24          4        0.792899           0.801278   \n",
       "23                    25          4        0.793136           0.802697   \n",
       "24                    26          4        0.792663           0.801278   \n",
       "25                    27          4        0.792189           0.801278   \n",
       "26                    28          4        0.792426           0.800568   \n",
       "27                    29          4        0.792189           0.801987   \n",
       "28                    30          4        0.792189           0.801987   \n",
       "29                    31          4        0.791953           0.801987   \n",
       "30                    32          4        0.791716           0.801987   \n",
       "31                    33          4        0.791716           0.801987   \n",
       "32                    34          4        0.791716           0.801987   \n",
       "33                    35          4        0.791243           0.801987   \n",
       "34                    36          4        0.791716           0.800568   \n",
       "35                    37          4        0.791479           0.800568   \n",
       "36                    38          4        0.791479           0.799858   \n",
       "37                    39          4        0.791479           0.800568   \n",
       "38                    40          4        0.791243           0.800568   \n",
       "39                    41          4        0.791716           0.800568   \n",
       "40                    42          4        0.791006           0.800568   \n",
       "41                    43          4        0.790296           0.800568   \n",
       "42                    44          4        0.790533           0.799858   \n",
       "43                    45          4        0.790769           0.801987   \n",
       "44                    46          4        0.791006           0.801987   \n",
       "45                    47          4        0.791953           0.801278   \n",
       "46                    48          4        0.792189           0.800568   \n",
       "47                    49          4        0.791716           0.799148   \n",
       "\n",
       "    difference  \n",
       "0    -0.011690  \n",
       "1    -0.011927  \n",
       "2    -0.011217  \n",
       "3    -0.009325  \n",
       "4    -0.009561  \n",
       "5    -0.009798  \n",
       "6    -0.009325  \n",
       "7    -0.009088  \n",
       "8    -0.008141  \n",
       "9    -0.009561  \n",
       "10   -0.009325  \n",
       "11   -0.008851  \n",
       "12   -0.010271  \n",
       "13   -0.010981  \n",
       "14   -0.010744  \n",
       "15   -0.010981  \n",
       "16   -0.011927  \n",
       "17   -0.012164  \n",
       "18   -0.011691  \n",
       "19   -0.011454  \n",
       "20   -0.009324  \n",
       "21   -0.009561  \n",
       "22   -0.008378  \n",
       "23   -0.009561  \n",
       "24   -0.008615  \n",
       "25   -0.009088  \n",
       "26   -0.008142  \n",
       "27   -0.009798  \n",
       "28   -0.009798  \n",
       "29   -0.010035  \n",
       "30   -0.010271  \n",
       "31   -0.010271  \n",
       "32   -0.010271  \n",
       "33   -0.010745  \n",
       "34   -0.008852  \n",
       "35   -0.009088  \n",
       "36   -0.008379  \n",
       "37   -0.009088  \n",
       "38   -0.009325  \n",
       "39   -0.008852  \n",
       "40   -0.009562  \n",
       "41   -0.010272  \n",
       "42   -0.009326  \n",
       "43   -0.011218  \n",
       "44   -0.010981  \n",
       "45   -0.009325  \n",
       "46   -0.008378  \n",
       "47   -0.007432  "
      ]
     },
     "execution_count": 193,
     "metadata": {},
     "output_type": "execute_result"
    }
   ],
   "source": [
    "# create a for loop to calculate the accuracy of the model at different minimum samples leaf\n",
    "\n",
    "metrics = []\n",
    "\n",
    "\n",
    "for i in range(2, 50):\n",
    "    # Make the model\n",
    "    depth = 4\n",
    "    n_samples = i\n",
    "    forest = RandomForestClassifier(max_depth=depth, min_samples_leaf=n_samples, random_state=217)\n",
    "\n",
    "    # Fit the model (on train and only train)\n",
    "    forest = forest.fit(X_train4, y_train4)\n",
    "\n",
    "    # Use the model\n",
    "    # We'll evaluate the model's performance on train, first\n",
    "    in_sample_accuracy = forest.score(X_train4, y_train4)\n",
    "    \n",
    "    out_of_sample_accuracy = forest.score(X_validate4, y_validate4)\n",
    "\n",
    "    output = {\n",
    "        \"min_samples_per_leaf\": n_samples,\n",
    "        \"max_depth\": depth,\n",
    "        \"train_accuracy\": in_sample_accuracy,\n",
    "        \"validate_accuracy\": out_of_sample_accuracy\n",
    "    }\n",
    "    \n",
    "    metrics.append(output)\n",
    "    \n",
    "# calculate the difference in accuracy between train and validate\n",
    "df = pd.DataFrame(metrics)\n",
    "df[\"difference\"] = df.train_accuracy - df.validate_accuracy\n",
    "df"
   ]
  },
  {
   "cell_type": "code",
   "execution_count": 194,
   "id": "685cc014",
   "metadata": {},
   "outputs": [
    {
     "data": {
      "text/html": [
       "<div>\n",
       "<style scoped>\n",
       "    .dataframe tbody tr th:only-of-type {\n",
       "        vertical-align: middle;\n",
       "    }\n",
       "\n",
       "    .dataframe tbody tr th {\n",
       "        vertical-align: top;\n",
       "    }\n",
       "\n",
       "    .dataframe thead th {\n",
       "        text-align: right;\n",
       "    }\n",
       "</style>\n",
       "<table border=\"1\" class=\"dataframe\">\n",
       "  <thead>\n",
       "    <tr style=\"text-align: right;\">\n",
       "      <th></th>\n",
       "      <th>min_samples_per_leaf</th>\n",
       "      <th>max_depth</th>\n",
       "      <th>train_accuracy</th>\n",
       "      <th>validate_accuracy</th>\n",
       "      <th>difference</th>\n",
       "    </tr>\n",
       "  </thead>\n",
       "  <tbody>\n",
       "    <tr>\n",
       "      <th>0</th>\n",
       "      <td>2</td>\n",
       "      <td>2</td>\n",
       "      <td>0.768757</td>\n",
       "      <td>0.777857</td>\n",
       "      <td>-0.009099</td>\n",
       "    </tr>\n",
       "    <tr>\n",
       "      <th>1</th>\n",
       "      <td>3</td>\n",
       "      <td>3</td>\n",
       "      <td>0.780592</td>\n",
       "      <td>0.785664</td>\n",
       "      <td>-0.005072</td>\n",
       "    </tr>\n",
       "    <tr>\n",
       "      <th>2</th>\n",
       "      <td>4</td>\n",
       "      <td>4</td>\n",
       "      <td>0.792899</td>\n",
       "      <td>0.804116</td>\n",
       "      <td>-0.011217</td>\n",
       "    </tr>\n",
       "    <tr>\n",
       "      <th>3</th>\n",
       "      <td>5</td>\n",
       "      <td>5</td>\n",
       "      <td>0.802367</td>\n",
       "      <td>0.812633</td>\n",
       "      <td>-0.010266</td>\n",
       "    </tr>\n",
       "    <tr>\n",
       "      <th>4</th>\n",
       "      <td>6</td>\n",
       "      <td>6</td>\n",
       "      <td>0.807101</td>\n",
       "      <td>0.814762</td>\n",
       "      <td>-0.007662</td>\n",
       "    </tr>\n",
       "    <tr>\n",
       "      <th>5</th>\n",
       "      <td>7</td>\n",
       "      <td>7</td>\n",
       "      <td>0.815858</td>\n",
       "      <td>0.814053</td>\n",
       "      <td>0.001805</td>\n",
       "    </tr>\n",
       "    <tr>\n",
       "      <th>6</th>\n",
       "      <td>8</td>\n",
       "      <td>8</td>\n",
       "      <td>0.819645</td>\n",
       "      <td>0.812633</td>\n",
       "      <td>0.007012</td>\n",
       "    </tr>\n",
       "    <tr>\n",
       "      <th>7</th>\n",
       "      <td>9</td>\n",
       "      <td>9</td>\n",
       "      <td>0.826036</td>\n",
       "      <td>0.816182</td>\n",
       "      <td>0.009854</td>\n",
       "    </tr>\n",
       "    <tr>\n",
       "      <th>8</th>\n",
       "      <td>10</td>\n",
       "      <td>10</td>\n",
       "      <td>0.826746</td>\n",
       "      <td>0.814762</td>\n",
       "      <td>0.011983</td>\n",
       "    </tr>\n",
       "    <tr>\n",
       "      <th>9</th>\n",
       "      <td>11</td>\n",
       "      <td>11</td>\n",
       "      <td>0.829112</td>\n",
       "      <td>0.813343</td>\n",
       "      <td>0.015770</td>\n",
       "    </tr>\n",
       "    <tr>\n",
       "      <th>10</th>\n",
       "      <td>12</td>\n",
       "      <td>12</td>\n",
       "      <td>0.827456</td>\n",
       "      <td>0.814762</td>\n",
       "      <td>0.012693</td>\n",
       "    </tr>\n",
       "    <tr>\n",
       "      <th>11</th>\n",
       "      <td>13</td>\n",
       "      <td>13</td>\n",
       "      <td>0.823432</td>\n",
       "      <td>0.811214</td>\n",
       "      <td>0.012218</td>\n",
       "    </tr>\n",
       "    <tr>\n",
       "      <th>12</th>\n",
       "      <td>14</td>\n",
       "      <td>14</td>\n",
       "      <td>0.822485</td>\n",
       "      <td>0.815472</td>\n",
       "      <td>0.007013</td>\n",
       "    </tr>\n",
       "    <tr>\n",
       "      <th>13</th>\n",
       "      <td>15</td>\n",
       "      <td>15</td>\n",
       "      <td>0.818698</td>\n",
       "      <td>0.818311</td>\n",
       "      <td>0.000387</td>\n",
       "    </tr>\n",
       "    <tr>\n",
       "      <th>14</th>\n",
       "      <td>16</td>\n",
       "      <td>16</td>\n",
       "      <td>0.818225</td>\n",
       "      <td>0.811923</td>\n",
       "      <td>0.006302</td>\n",
       "    </tr>\n",
       "    <tr>\n",
       "      <th>15</th>\n",
       "      <td>17</td>\n",
       "      <td>17</td>\n",
       "      <td>0.816095</td>\n",
       "      <td>0.815472</td>\n",
       "      <td>0.000623</td>\n",
       "    </tr>\n",
       "    <tr>\n",
       "      <th>16</th>\n",
       "      <td>18</td>\n",
       "      <td>18</td>\n",
       "      <td>0.815385</td>\n",
       "      <td>0.814053</td>\n",
       "      <td>0.001332</td>\n",
       "    </tr>\n",
       "    <tr>\n",
       "      <th>17</th>\n",
       "      <td>19</td>\n",
       "      <td>19</td>\n",
       "      <td>0.813964</td>\n",
       "      <td>0.813343</td>\n",
       "      <td>0.000622</td>\n",
       "    </tr>\n",
       "  </tbody>\n",
       "</table>\n",
       "</div>"
      ],
      "text/plain": [
       "    min_samples_per_leaf  max_depth  train_accuracy  validate_accuracy  \\\n",
       "0                      2          2        0.768757           0.777857   \n",
       "1                      3          3        0.780592           0.785664   \n",
       "2                      4          4        0.792899           0.804116   \n",
       "3                      5          5        0.802367           0.812633   \n",
       "4                      6          6        0.807101           0.814762   \n",
       "5                      7          7        0.815858           0.814053   \n",
       "6                      8          8        0.819645           0.812633   \n",
       "7                      9          9        0.826036           0.816182   \n",
       "8                     10         10        0.826746           0.814762   \n",
       "9                     11         11        0.829112           0.813343   \n",
       "10                    12         12        0.827456           0.814762   \n",
       "11                    13         13        0.823432           0.811214   \n",
       "12                    14         14        0.822485           0.815472   \n",
       "13                    15         15        0.818698           0.818311   \n",
       "14                    16         16        0.818225           0.811923   \n",
       "15                    17         17        0.816095           0.815472   \n",
       "16                    18         18        0.815385           0.814053   \n",
       "17                    19         19        0.813964           0.813343   \n",
       "\n",
       "    difference  \n",
       "0    -0.009099  \n",
       "1    -0.005072  \n",
       "2    -0.011217  \n",
       "3    -0.010266  \n",
       "4    -0.007662  \n",
       "5     0.001805  \n",
       "6     0.007012  \n",
       "7     0.009854  \n",
       "8     0.011983  \n",
       "9     0.015770  \n",
       "10    0.012693  \n",
       "11    0.012218  \n",
       "12    0.007013  \n",
       "13    0.000387  \n",
       "14    0.006302  \n",
       "15    0.000623  \n",
       "16    0.001332  \n",
       "17    0.000622  "
      ]
     },
     "execution_count": 194,
     "metadata": {},
     "output_type": "execute_result"
    }
   ],
   "source": [
    "# create a for loop to calculate the model's accuracy at increasing depths and sample leaves\n",
    "\n",
    "metrics = []\n",
    "max_depth = 20\n",
    "\n",
    "for i in range(2, max_depth):\n",
    "    # Make the model\n",
    "    depth = i\n",
    "    n_samples = i\n",
    "    forest = RandomForestClassifier(max_depth=depth, min_samples_leaf=n_samples, random_state=217)\n",
    "\n",
    "    # Fit the model (on train and only train)\n",
    "    forest = forest.fit(X_train4, y_train4)\n",
    "\n",
    "    # Use the model\n",
    "    # We'll evaluate the model's performance on train, first\n",
    "    in_sample_accuracy = forest.score(X_train4, y_train4)\n",
    "    \n",
    "    out_of_sample_accuracy = forest.score(X_validate4, y_validate4)\n",
    "\n",
    "    output = {\n",
    "        \"min_samples_per_leaf\": n_samples,\n",
    "        \"max_depth\": depth,\n",
    "        \"train_accuracy\": in_sample_accuracy,\n",
    "        \"validate_accuracy\": out_of_sample_accuracy\n",
    "    }\n",
    "    \n",
    "    metrics.append(output)\n",
    "\n",
    "# calculate the difference in accuracy between train and validate for each iteration\n",
    "df = pd.DataFrame(metrics)\n",
    "df[\"difference\"] = df.train_accuracy - df.validate_accuracy\n",
    "df"
   ]
  },
  {
   "cell_type": "code",
   "execution_count": 195,
   "id": "914e0c0c",
   "metadata": {},
   "outputs": [
    {
     "data": {
      "text/html": [
       "<div>\n",
       "<style scoped>\n",
       "    .dataframe tbody tr th:only-of-type {\n",
       "        vertical-align: middle;\n",
       "    }\n",
       "\n",
       "    .dataframe tbody tr th {\n",
       "        vertical-align: top;\n",
       "    }\n",
       "\n",
       "    .dataframe thead th {\n",
       "        text-align: right;\n",
       "    }\n",
       "</style>\n",
       "<table border=\"1\" class=\"dataframe\">\n",
       "  <thead>\n",
       "    <tr style=\"text-align: right;\">\n",
       "      <th></th>\n",
       "      <th>min_samples_per_leaf</th>\n",
       "      <th>max_depth</th>\n",
       "      <th>train_accuracy</th>\n",
       "      <th>validate_accuracy</th>\n",
       "      <th>difference</th>\n",
       "    </tr>\n",
       "  </thead>\n",
       "  <tbody>\n",
       "    <tr>\n",
       "      <th>0</th>\n",
       "      <td>18</td>\n",
       "      <td>2</td>\n",
       "      <td>0.768757</td>\n",
       "      <td>0.777857</td>\n",
       "      <td>-0.009099</td>\n",
       "    </tr>\n",
       "    <tr>\n",
       "      <th>1</th>\n",
       "      <td>17</td>\n",
       "      <td>3</td>\n",
       "      <td>0.778225</td>\n",
       "      <td>0.784244</td>\n",
       "      <td>-0.006019</td>\n",
       "    </tr>\n",
       "    <tr>\n",
       "      <th>2</th>\n",
       "      <td>16</td>\n",
       "      <td>4</td>\n",
       "      <td>0.791953</td>\n",
       "      <td>0.802697</td>\n",
       "      <td>-0.010744</td>\n",
       "    </tr>\n",
       "    <tr>\n",
       "      <th>3</th>\n",
       "      <td>15</td>\n",
       "      <td>5</td>\n",
       "      <td>0.799290</td>\n",
       "      <td>0.812633</td>\n",
       "      <td>-0.013343</td>\n",
       "    </tr>\n",
       "    <tr>\n",
       "      <th>4</th>\n",
       "      <td>14</td>\n",
       "      <td>6</td>\n",
       "      <td>0.805917</td>\n",
       "      <td>0.811923</td>\n",
       "      <td>-0.006006</td>\n",
       "    </tr>\n",
       "    <tr>\n",
       "      <th>5</th>\n",
       "      <td>13</td>\n",
       "      <td>7</td>\n",
       "      <td>0.811598</td>\n",
       "      <td>0.814053</td>\n",
       "      <td>-0.002455</td>\n",
       "    </tr>\n",
       "    <tr>\n",
       "      <th>6</th>\n",
       "      <td>12</td>\n",
       "      <td>8</td>\n",
       "      <td>0.816095</td>\n",
       "      <td>0.815472</td>\n",
       "      <td>0.000623</td>\n",
       "    </tr>\n",
       "    <tr>\n",
       "      <th>7</th>\n",
       "      <td>11</td>\n",
       "      <td>9</td>\n",
       "      <td>0.822249</td>\n",
       "      <td>0.816182</td>\n",
       "      <td>0.006067</td>\n",
       "    </tr>\n",
       "    <tr>\n",
       "      <th>8</th>\n",
       "      <td>10</td>\n",
       "      <td>10</td>\n",
       "      <td>0.826746</td>\n",
       "      <td>0.814762</td>\n",
       "      <td>0.011983</td>\n",
       "    </tr>\n",
       "    <tr>\n",
       "      <th>9</th>\n",
       "      <td>9</td>\n",
       "      <td>11</td>\n",
       "      <td>0.834556</td>\n",
       "      <td>0.810504</td>\n",
       "      <td>0.024052</td>\n",
       "    </tr>\n",
       "    <tr>\n",
       "      <th>10</th>\n",
       "      <td>8</td>\n",
       "      <td>12</td>\n",
       "      <td>0.839053</td>\n",
       "      <td>0.815472</td>\n",
       "      <td>0.023581</td>\n",
       "    </tr>\n",
       "    <tr>\n",
       "      <th>11</th>\n",
       "      <td>7</td>\n",
       "      <td>13</td>\n",
       "      <td>0.846391</td>\n",
       "      <td>0.816182</td>\n",
       "      <td>0.030209</td>\n",
       "    </tr>\n",
       "    <tr>\n",
       "      <th>12</th>\n",
       "      <td>6</td>\n",
       "      <td>14</td>\n",
       "      <td>0.852308</td>\n",
       "      <td>0.809794</td>\n",
       "      <td>0.042514</td>\n",
       "    </tr>\n",
       "    <tr>\n",
       "      <th>13</th>\n",
       "      <td>5</td>\n",
       "      <td>15</td>\n",
       "      <td>0.861775</td>\n",
       "      <td>0.806246</td>\n",
       "      <td>0.055530</td>\n",
       "    </tr>\n",
       "    <tr>\n",
       "      <th>14</th>\n",
       "      <td>4</td>\n",
       "      <td>16</td>\n",
       "      <td>0.873846</td>\n",
       "      <td>0.811214</td>\n",
       "      <td>0.062633</td>\n",
       "    </tr>\n",
       "    <tr>\n",
       "      <th>15</th>\n",
       "      <td>3</td>\n",
       "      <td>17</td>\n",
       "      <td>0.894911</td>\n",
       "      <td>0.806955</td>\n",
       "      <td>0.087956</td>\n",
       "    </tr>\n",
       "    <tr>\n",
       "      <th>16</th>\n",
       "      <td>2</td>\n",
       "      <td>18</td>\n",
       "      <td>0.932071</td>\n",
       "      <td>0.805536</td>\n",
       "      <td>0.126535</td>\n",
       "    </tr>\n",
       "    <tr>\n",
       "      <th>17</th>\n",
       "      <td>1</td>\n",
       "      <td>19</td>\n",
       "      <td>0.995740</td>\n",
       "      <td>0.794890</td>\n",
       "      <td>0.200850</td>\n",
       "    </tr>\n",
       "  </tbody>\n",
       "</table>\n",
       "</div>"
      ],
      "text/plain": [
       "    min_samples_per_leaf  max_depth  train_accuracy  validate_accuracy  \\\n",
       "0                     18          2        0.768757           0.777857   \n",
       "1                     17          3        0.778225           0.784244   \n",
       "2                     16          4        0.791953           0.802697   \n",
       "3                     15          5        0.799290           0.812633   \n",
       "4                     14          6        0.805917           0.811923   \n",
       "5                     13          7        0.811598           0.814053   \n",
       "6                     12          8        0.816095           0.815472   \n",
       "7                     11          9        0.822249           0.816182   \n",
       "8                     10         10        0.826746           0.814762   \n",
       "9                      9         11        0.834556           0.810504   \n",
       "10                     8         12        0.839053           0.815472   \n",
       "11                     7         13        0.846391           0.816182   \n",
       "12                     6         14        0.852308           0.809794   \n",
       "13                     5         15        0.861775           0.806246   \n",
       "14                     4         16        0.873846           0.811214   \n",
       "15                     3         17        0.894911           0.806955   \n",
       "16                     2         18        0.932071           0.805536   \n",
       "17                     1         19        0.995740           0.794890   \n",
       "\n",
       "    difference  \n",
       "0    -0.009099  \n",
       "1    -0.006019  \n",
       "2    -0.010744  \n",
       "3    -0.013343  \n",
       "4    -0.006006  \n",
       "5    -0.002455  \n",
       "6     0.000623  \n",
       "7     0.006067  \n",
       "8     0.011983  \n",
       "9     0.024052  \n",
       "10    0.023581  \n",
       "11    0.030209  \n",
       "12    0.042514  \n",
       "13    0.055530  \n",
       "14    0.062633  \n",
       "15    0.087956  \n",
       "16    0.126535  \n",
       "17    0.200850  "
      ]
     },
     "execution_count": 195,
     "metadata": {},
     "output_type": "execute_result"
    }
   ],
   "source": [
    "# create a for loop to calculate the accuracy of the model as depth increases and sample leaves increases\n",
    "\n",
    "metrics = []\n",
    "max_depth = 20\n",
    "\n",
    "for i in range(2, max_depth):\n",
    "    # Make the model\n",
    "    depth = i\n",
    "    n_samples = max_depth - i\n",
    "    forest = RandomForestClassifier(max_depth=depth, min_samples_leaf=n_samples, random_state=217)\n",
    "\n",
    "    # Fit the model (on train and only train)\n",
    "    forest = forest.fit(X_train4, y_train4)\n",
    "\n",
    "    # Use the model\n",
    "    # We'll evaluate the model's performance on train, first\n",
    "    in_sample_accuracy = forest.score(X_train4, y_train4)\n",
    "    \n",
    "    out_of_sample_accuracy = forest.score(X_validate4, y_validate4)\n",
    "\n",
    "    output = {\n",
    "        \"min_samples_per_leaf\": n_samples,\n",
    "        \"max_depth\": depth,\n",
    "        \"train_accuracy\": in_sample_accuracy,\n",
    "        \"validate_accuracy\": out_of_sample_accuracy\n",
    "    }\n",
    "    \n",
    "    metrics.append(output)\n",
    "    \n",
    "# calculate the difference between train and validate accuracy for each iteration\n",
    "df = pd.DataFrame(metrics)\n",
    "df[\"difference\"] = df.train_accuracy - df.validate_accuracy\n",
    "df"
   ]
  },
  {
   "cell_type": "code",
   "execution_count": 196,
   "id": "a3d7dce1",
   "metadata": {},
   "outputs": [],
   "source": [
    "# assign a variable to K neighbors classifier with default values\n",
    "\n",
    "knn = KNeighborsClassifier(n_neighbors=5, weights='uniform')"
   ]
  },
  {
   "cell_type": "code",
   "execution_count": 197,
   "id": "75f7921a",
   "metadata": {},
   "outputs": [
    {
     "data": {
      "text/plain": [
       "KNeighborsClassifier()"
      ]
     },
     "execution_count": 197,
     "metadata": {},
     "output_type": "execute_result"
    }
   ],
   "source": [
    "# fit the knn model using model 4's variables\n",
    "\n",
    "knn.fit(X_train4, y_train4)"
   ]
  },
  {
   "cell_type": "code",
   "execution_count": 198,
   "id": "fd160915",
   "metadata": {},
   "outputs": [],
   "source": [
    "# calculate a prediction of this model and assign it to y_pred\n",
    "\n",
    "y_pred = knn.predict(X_train4)"
   ]
  },
  {
   "cell_type": "code",
   "execution_count": 199,
   "id": "07bbf399",
   "metadata": {},
   "outputs": [
    {
     "name": "stdout",
     "output_type": "stream",
     "text": [
      "Accuracy of KNN classifier on training set: 0.83\n"
     ]
    }
   ],
   "source": [
    "# score and print the accuracy of this model on train\n",
    "\n",
    "print('Accuracy of KNN classifier on training set: {:.2f}'\n",
    "     .format(knn.score(X_train4, y_train4)))"
   ]
  },
  {
   "cell_type": "code",
   "execution_count": 200,
   "id": "6060f817",
   "metadata": {},
   "outputs": [
    {
     "name": "stdout",
     "output_type": "stream",
     "text": [
      "              precision    recall  f1-score   support\n",
      "\n",
      "           0       0.86      0.92      0.89      3104\n",
      "           1       0.72      0.59      0.65      1121\n",
      "\n",
      "    accuracy                           0.83      4225\n",
      "   macro avg       0.79      0.75      0.77      4225\n",
      "weighted avg       0.82      0.83      0.82      4225\n",
      "\n"
     ]
    }
   ],
   "source": [
    "# print the classification report of the knn model's performance on train\n",
    "\n",
    "print(classification_report(y_train4, y_pred))"
   ]
  },
  {
   "cell_type": "code",
   "execution_count": 201,
   "id": "7b73e97a",
   "metadata": {},
   "outputs": [
    {
     "name": "stdout",
     "output_type": "stream",
     "text": [
      "Accuracy of KNN classifier on test set: 0.78\n"
     ]
    }
   ],
   "source": [
    "# assign variable to the predictions of the knn model on validate\n",
    "\n",
    "y_pred = knn.predict(X_validate4)\n",
    "\n",
    "# score and print the knn model's accuracy on the validate set\n",
    "print('Accuracy of KNN classifier on test set: {:.2f}'\n",
    "     .format(knn.score(X_validate4, y_validate4)))"
   ]
  },
  {
   "cell_type": "code",
   "execution_count": 202,
   "id": "b389cdbe",
   "metadata": {},
   "outputs": [
    {
     "data": {
      "text/html": [
       "<div>\n",
       "<style scoped>\n",
       "    .dataframe tbody tr th:only-of-type {\n",
       "        vertical-align: middle;\n",
       "    }\n",
       "\n",
       "    .dataframe tbody tr th {\n",
       "        vertical-align: top;\n",
       "    }\n",
       "\n",
       "    .dataframe thead th {\n",
       "        text-align: right;\n",
       "    }\n",
       "</style>\n",
       "<table border=\"1\" class=\"dataframe\">\n",
       "  <thead>\n",
       "    <tr style=\"text-align: right;\">\n",
       "      <th></th>\n",
       "      <th>max_depth</th>\n",
       "      <th>train_accuracy</th>\n",
       "      <th>validate_accuracy</th>\n",
       "      <th>difference</th>\n",
       "    </tr>\n",
       "  </thead>\n",
       "  <tbody>\n",
       "    <tr>\n",
       "      <th>0</th>\n",
       "      <td>4</td>\n",
       "      <td>0.837160</td>\n",
       "      <td>0.776437</td>\n",
       "      <td>0.060723</td>\n",
       "    </tr>\n",
       "    <tr>\n",
       "      <th>1</th>\n",
       "      <td>6</td>\n",
       "      <td>0.821302</td>\n",
       "      <td>0.782825</td>\n",
       "      <td>0.038477</td>\n",
       "    </tr>\n",
       "    <tr>\n",
       "      <th>2</th>\n",
       "      <td>8</td>\n",
       "      <td>0.815385</td>\n",
       "      <td>0.788502</td>\n",
       "      <td>0.026882</td>\n",
       "    </tr>\n",
       "    <tr>\n",
       "      <th>3</th>\n",
       "      <td>10</td>\n",
       "      <td>0.813964</td>\n",
       "      <td>0.792051</td>\n",
       "      <td>0.021913</td>\n",
       "    </tr>\n",
       "    <tr>\n",
       "      <th>4</th>\n",
       "      <td>12</td>\n",
       "      <td>0.811124</td>\n",
       "      <td>0.792051</td>\n",
       "      <td>0.019073</td>\n",
       "    </tr>\n",
       "    <tr>\n",
       "      <th>5</th>\n",
       "      <td>14</td>\n",
       "      <td>0.804734</td>\n",
       "      <td>0.796309</td>\n",
       "      <td>0.008424</td>\n",
       "    </tr>\n",
       "    <tr>\n",
       "      <th>6</th>\n",
       "      <td>16</td>\n",
       "      <td>0.809231</td>\n",
       "      <td>0.797019</td>\n",
       "      <td>0.012212</td>\n",
       "    </tr>\n",
       "    <tr>\n",
       "      <th>7</th>\n",
       "      <td>18</td>\n",
       "      <td>0.805680</td>\n",
       "      <td>0.795600</td>\n",
       "      <td>0.010081</td>\n",
       "    </tr>\n",
       "    <tr>\n",
       "      <th>8</th>\n",
       "      <td>20</td>\n",
       "      <td>0.804970</td>\n",
       "      <td>0.794180</td>\n",
       "      <td>0.010790</td>\n",
       "    </tr>\n",
       "    <tr>\n",
       "      <th>9</th>\n",
       "      <td>22</td>\n",
       "      <td>0.802840</td>\n",
       "      <td>0.792051</td>\n",
       "      <td>0.010789</td>\n",
       "    </tr>\n",
       "    <tr>\n",
       "      <th>10</th>\n",
       "      <td>24</td>\n",
       "      <td>0.802130</td>\n",
       "      <td>0.790632</td>\n",
       "      <td>0.011499</td>\n",
       "    </tr>\n",
       "    <tr>\n",
       "      <th>11</th>\n",
       "      <td>26</td>\n",
       "      <td>0.800237</td>\n",
       "      <td>0.792051</td>\n",
       "      <td>0.008186</td>\n",
       "    </tr>\n",
       "    <tr>\n",
       "      <th>12</th>\n",
       "      <td>28</td>\n",
       "      <td>0.802840</td>\n",
       "      <td>0.793471</td>\n",
       "      <td>0.009370</td>\n",
       "    </tr>\n",
       "    <tr>\n",
       "      <th>13</th>\n",
       "      <td>30</td>\n",
       "      <td>0.802840</td>\n",
       "      <td>0.791341</td>\n",
       "      <td>0.011499</td>\n",
       "    </tr>\n",
       "    <tr>\n",
       "      <th>14</th>\n",
       "      <td>32</td>\n",
       "      <td>0.803314</td>\n",
       "      <td>0.794180</td>\n",
       "      <td>0.009133</td>\n",
       "    </tr>\n",
       "    <tr>\n",
       "      <th>15</th>\n",
       "      <td>34</td>\n",
       "      <td>0.801657</td>\n",
       "      <td>0.796309</td>\n",
       "      <td>0.005347</td>\n",
       "    </tr>\n",
       "    <tr>\n",
       "      <th>16</th>\n",
       "      <td>36</td>\n",
       "      <td>0.799290</td>\n",
       "      <td>0.801278</td>\n",
       "      <td>-0.001988</td>\n",
       "    </tr>\n",
       "    <tr>\n",
       "      <th>17</th>\n",
       "      <td>38</td>\n",
       "      <td>0.796686</td>\n",
       "      <td>0.796309</td>\n",
       "      <td>0.000377</td>\n",
       "    </tr>\n",
       "    <tr>\n",
       "      <th>18</th>\n",
       "      <td>40</td>\n",
       "      <td>0.800000</td>\n",
       "      <td>0.797729</td>\n",
       "      <td>0.002271</td>\n",
       "    </tr>\n",
       "    <tr>\n",
       "      <th>19</th>\n",
       "      <td>42</td>\n",
       "      <td>0.798817</td>\n",
       "      <td>0.799858</td>\n",
       "      <td>-0.001041</td>\n",
       "    </tr>\n",
       "    <tr>\n",
       "      <th>20</th>\n",
       "      <td>44</td>\n",
       "      <td>0.797160</td>\n",
       "      <td>0.797019</td>\n",
       "      <td>0.000141</td>\n",
       "    </tr>\n",
       "    <tr>\n",
       "      <th>21</th>\n",
       "      <td>46</td>\n",
       "      <td>0.798107</td>\n",
       "      <td>0.795600</td>\n",
       "      <td>0.002507</td>\n",
       "    </tr>\n",
       "    <tr>\n",
       "      <th>22</th>\n",
       "      <td>48</td>\n",
       "      <td>0.796923</td>\n",
       "      <td>0.798439</td>\n",
       "      <td>-0.001516</td>\n",
       "    </tr>\n",
       "    <tr>\n",
       "      <th>23</th>\n",
       "      <td>50</td>\n",
       "      <td>0.796450</td>\n",
       "      <td>0.798439</td>\n",
       "      <td>-0.001989</td>\n",
       "    </tr>\n",
       "    <tr>\n",
       "      <th>24</th>\n",
       "      <td>52</td>\n",
       "      <td>0.795030</td>\n",
       "      <td>0.794890</td>\n",
       "      <td>0.000140</td>\n",
       "    </tr>\n",
       "    <tr>\n",
       "      <th>25</th>\n",
       "      <td>54</td>\n",
       "      <td>0.794556</td>\n",
       "      <td>0.793471</td>\n",
       "      <td>0.001086</td>\n",
       "    </tr>\n",
       "    <tr>\n",
       "      <th>26</th>\n",
       "      <td>56</td>\n",
       "      <td>0.794793</td>\n",
       "      <td>0.797019</td>\n",
       "      <td>-0.002226</td>\n",
       "    </tr>\n",
       "    <tr>\n",
       "      <th>27</th>\n",
       "      <td>58</td>\n",
       "      <td>0.795030</td>\n",
       "      <td>0.797019</td>\n",
       "      <td>-0.001990</td>\n",
       "    </tr>\n",
       "    <tr>\n",
       "      <th>28</th>\n",
       "      <td>60</td>\n",
       "      <td>0.794320</td>\n",
       "      <td>0.801278</td>\n",
       "      <td>-0.006958</td>\n",
       "    </tr>\n",
       "    <tr>\n",
       "      <th>29</th>\n",
       "      <td>62</td>\n",
       "      <td>0.796213</td>\n",
       "      <td>0.799858</td>\n",
       "      <td>-0.003645</td>\n",
       "    </tr>\n",
       "    <tr>\n",
       "      <th>30</th>\n",
       "      <td>64</td>\n",
       "      <td>0.794320</td>\n",
       "      <td>0.799858</td>\n",
       "      <td>-0.005539</td>\n",
       "    </tr>\n",
       "    <tr>\n",
       "      <th>31</th>\n",
       "      <td>66</td>\n",
       "      <td>0.795266</td>\n",
       "      <td>0.801278</td>\n",
       "      <td>-0.006011</td>\n",
       "    </tr>\n",
       "    <tr>\n",
       "      <th>32</th>\n",
       "      <td>68</td>\n",
       "      <td>0.795740</td>\n",
       "      <td>0.801987</td>\n",
       "      <td>-0.006248</td>\n",
       "    </tr>\n",
       "    <tr>\n",
       "      <th>33</th>\n",
       "      <td>70</td>\n",
       "      <td>0.796450</td>\n",
       "      <td>0.802697</td>\n",
       "      <td>-0.006247</td>\n",
       "    </tr>\n",
       "    <tr>\n",
       "      <th>34</th>\n",
       "      <td>72</td>\n",
       "      <td>0.795976</td>\n",
       "      <td>0.802697</td>\n",
       "      <td>-0.006721</td>\n",
       "    </tr>\n",
       "    <tr>\n",
       "      <th>35</th>\n",
       "      <td>74</td>\n",
       "      <td>0.796450</td>\n",
       "      <td>0.805536</td>\n",
       "      <td>-0.009086</td>\n",
       "    </tr>\n",
       "    <tr>\n",
       "      <th>36</th>\n",
       "      <td>76</td>\n",
       "      <td>0.795503</td>\n",
       "      <td>0.804116</td>\n",
       "      <td>-0.008613</td>\n",
       "    </tr>\n",
       "    <tr>\n",
       "      <th>37</th>\n",
       "      <td>78</td>\n",
       "      <td>0.795266</td>\n",
       "      <td>0.802697</td>\n",
       "      <td>-0.007431</td>\n",
       "    </tr>\n",
       "    <tr>\n",
       "      <th>38</th>\n",
       "      <td>80</td>\n",
       "      <td>0.795976</td>\n",
       "      <td>0.801278</td>\n",
       "      <td>-0.005301</td>\n",
       "    </tr>\n",
       "    <tr>\n",
       "      <th>39</th>\n",
       "      <td>82</td>\n",
       "      <td>0.795976</td>\n",
       "      <td>0.801987</td>\n",
       "      <td>-0.006011</td>\n",
       "    </tr>\n",
       "    <tr>\n",
       "      <th>40</th>\n",
       "      <td>84</td>\n",
       "      <td>0.794793</td>\n",
       "      <td>0.799858</td>\n",
       "      <td>-0.005065</td>\n",
       "    </tr>\n",
       "    <tr>\n",
       "      <th>41</th>\n",
       "      <td>86</td>\n",
       "      <td>0.793846</td>\n",
       "      <td>0.799148</td>\n",
       "      <td>-0.005302</td>\n",
       "    </tr>\n",
       "    <tr>\n",
       "      <th>42</th>\n",
       "      <td>88</td>\n",
       "      <td>0.792663</td>\n",
       "      <td>0.799858</td>\n",
       "      <td>-0.007195</td>\n",
       "    </tr>\n",
       "    <tr>\n",
       "      <th>43</th>\n",
       "      <td>90</td>\n",
       "      <td>0.791953</td>\n",
       "      <td>0.797019</td>\n",
       "      <td>-0.005066</td>\n",
       "    </tr>\n",
       "    <tr>\n",
       "      <th>44</th>\n",
       "      <td>92</td>\n",
       "      <td>0.794083</td>\n",
       "      <td>0.799858</td>\n",
       "      <td>-0.005775</td>\n",
       "    </tr>\n",
       "    <tr>\n",
       "      <th>45</th>\n",
       "      <td>94</td>\n",
       "      <td>0.793846</td>\n",
       "      <td>0.799858</td>\n",
       "      <td>-0.006012</td>\n",
       "    </tr>\n",
       "    <tr>\n",
       "      <th>46</th>\n",
       "      <td>96</td>\n",
       "      <td>0.791479</td>\n",
       "      <td>0.797019</td>\n",
       "      <td>-0.005540</td>\n",
       "    </tr>\n",
       "    <tr>\n",
       "      <th>47</th>\n",
       "      <td>98</td>\n",
       "      <td>0.792663</td>\n",
       "      <td>0.798439</td>\n",
       "      <td>-0.005776</td>\n",
       "    </tr>\n",
       "    <tr>\n",
       "      <th>48</th>\n",
       "      <td>100</td>\n",
       "      <td>0.792189</td>\n",
       "      <td>0.801278</td>\n",
       "      <td>-0.009088</td>\n",
       "    </tr>\n",
       "  </tbody>\n",
       "</table>\n",
       "</div>"
      ],
      "text/plain": [
       "    max_depth  train_accuracy  validate_accuracy  difference\n",
       "0           4        0.837160           0.776437    0.060723\n",
       "1           6        0.821302           0.782825    0.038477\n",
       "2           8        0.815385           0.788502    0.026882\n",
       "3          10        0.813964           0.792051    0.021913\n",
       "4          12        0.811124           0.792051    0.019073\n",
       "5          14        0.804734           0.796309    0.008424\n",
       "6          16        0.809231           0.797019    0.012212\n",
       "7          18        0.805680           0.795600    0.010081\n",
       "8          20        0.804970           0.794180    0.010790\n",
       "9          22        0.802840           0.792051    0.010789\n",
       "10         24        0.802130           0.790632    0.011499\n",
       "11         26        0.800237           0.792051    0.008186\n",
       "12         28        0.802840           0.793471    0.009370\n",
       "13         30        0.802840           0.791341    0.011499\n",
       "14         32        0.803314           0.794180    0.009133\n",
       "15         34        0.801657           0.796309    0.005347\n",
       "16         36        0.799290           0.801278   -0.001988\n",
       "17         38        0.796686           0.796309    0.000377\n",
       "18         40        0.800000           0.797729    0.002271\n",
       "19         42        0.798817           0.799858   -0.001041\n",
       "20         44        0.797160           0.797019    0.000141\n",
       "21         46        0.798107           0.795600    0.002507\n",
       "22         48        0.796923           0.798439   -0.001516\n",
       "23         50        0.796450           0.798439   -0.001989\n",
       "24         52        0.795030           0.794890    0.000140\n",
       "25         54        0.794556           0.793471    0.001086\n",
       "26         56        0.794793           0.797019   -0.002226\n",
       "27         58        0.795030           0.797019   -0.001990\n",
       "28         60        0.794320           0.801278   -0.006958\n",
       "29         62        0.796213           0.799858   -0.003645\n",
       "30         64        0.794320           0.799858   -0.005539\n",
       "31         66        0.795266           0.801278   -0.006011\n",
       "32         68        0.795740           0.801987   -0.006248\n",
       "33         70        0.796450           0.802697   -0.006247\n",
       "34         72        0.795976           0.802697   -0.006721\n",
       "35         74        0.796450           0.805536   -0.009086\n",
       "36         76        0.795503           0.804116   -0.008613\n",
       "37         78        0.795266           0.802697   -0.007431\n",
       "38         80        0.795976           0.801278   -0.005301\n",
       "39         82        0.795976           0.801987   -0.006011\n",
       "40         84        0.794793           0.799858   -0.005065\n",
       "41         86        0.793846           0.799148   -0.005302\n",
       "42         88        0.792663           0.799858   -0.007195\n",
       "43         90        0.791953           0.797019   -0.005066\n",
       "44         92        0.794083           0.799858   -0.005775\n",
       "45         94        0.793846           0.799858   -0.006012\n",
       "46         96        0.791479           0.797019   -0.005540\n",
       "47         98        0.792663           0.798439   -0.005776\n",
       "48        100        0.792189           0.801278   -0.009088"
      ]
     },
     "execution_count": 202,
     "metadata": {},
     "output_type": "execute_result"
    }
   ],
   "source": [
    "# create a for loop to run the knn model at different neighbor values\n",
    "\n",
    "metrics = []\n",
    "\n",
    "for i in range(4, 101, 2):\n",
    "    # Make the model\n",
    "    k_telco = KNeighborsClassifier(n_neighbors=i)\n",
    "\n",
    "    # Fit the model (on train and only train)\n",
    "    k_telco = k_telco.fit(X_train4, y_train4)\n",
    "\n",
    "    # Use the model\n",
    "    # We'll evaluate the model's performance on train, first then check validate\n",
    "    in_sample_accuracy = k_telco.score(X_train4, y_train4)\n",
    "    \n",
    "    out_of_sample_accuracy = k_telco.score(X_validate4, y_validate4)\n",
    "\n",
    "    output = {\n",
    "        \"max_depth\": i,\n",
    "        \"train_accuracy\": in_sample_accuracy,\n",
    "        \"validate_accuracy\": out_of_sample_accuracy\n",
    "    }\n",
    "    \n",
    "    metrics.append(output)\n",
    "\n",
    "# calculate the difference in accuracy between train and validate for each iteration\n",
    "df = pd.DataFrame(metrics)\n",
    "df[\"difference\"] = df.train_accuracy - df.validate_accuracy\n",
    "df"
   ]
  },
  {
   "cell_type": "code",
   "execution_count": 232,
   "id": "6cec1848",
   "metadata": {},
   "outputs": [],
   "source": [
    "# assign a model to logistic regression\n",
    "\n",
    "logit = LogisticRegression(random_state=217, max_iter=500, solver='lbfgs')"
   ]
  },
  {
   "cell_type": "code",
   "execution_count": 254,
   "id": "d70f51f9",
   "metadata": {},
   "outputs": [],
   "source": [
    "# assign variables to the features to be used in logit\n",
    "\n",
    "X_col = ['tenure', 'monthly_charges', 'contract_type_id', 'internet_service_type_id', 'extras', 'payment_type_id', 'senior_citizen', 'dependents']\n",
    "y_col = 'churn'\n",
    "\n",
    "# assign variables to train and validate the model\n",
    "X_train5, y_train5 = train_telco_concat[X_col], train_telco_concat[y_col]\n",
    "X_validate5, y_validate5 = validate_telco_concat[X_col], validate_telco_concat[y_col]"
   ]
  },
  {
   "cell_type": "code",
   "execution_count": 255,
   "id": "191e0e9a",
   "metadata": {},
   "outputs": [
    {
     "data": {
      "text/plain": [
       "LogisticRegression(max_iter=500, random_state=217)"
      ]
     },
     "execution_count": 255,
     "metadata": {},
     "output_type": "execute_result"
    }
   ],
   "source": [
    "# fit the model using the previously assigned variables\n",
    "\n",
    "logit.fit(X_train5, y_train5)"
   ]
  },
  {
   "cell_type": "code",
   "execution_count": 256,
   "id": "f2c7320e",
   "metadata": {},
   "outputs": [
    {
     "name": "stdout",
     "output_type": "stream",
     "text": [
      "Coefficient: \n",
      " [[-0.02726495  0.03014686 -0.83810876 -0.22120758 -0.30542611 -0.1478984\n",
      "   0.31295363 -0.20662188]]\n",
      "Intercept: \n",
      " [-0.09693033]\n"
     ]
    }
   ],
   "source": [
    "# print the coefficients for each feature and the intercept\n",
    "\n",
    "print('Coefficient: \\n', logit.coef_)\n",
    "print('Intercept: \\n', logit.intercept_)"
   ]
  },
  {
   "cell_type": "code",
   "execution_count": 257,
   "id": "96ca299d",
   "metadata": {},
   "outputs": [],
   "source": [
    "# assign variables to predictions for model 5\n",
    "\n",
    "y_pred5 = logit.predict(X_train5)\n",
    "y_pred_proba5 = logit.predict_proba(X_train5)"
   ]
  },
  {
   "cell_type": "code",
   "execution_count": 258,
   "id": "be437b9e",
   "metadata": {},
   "outputs": [
    {
     "name": "stdout",
     "output_type": "stream",
     "text": [
      "Accuracy of Logistic Regression classifier on training set: 0.79\n"
     ]
    }
   ],
   "source": [
    "# score and print the accuracy of logit on train\n",
    "\n",
    "print('Accuracy of Logistic Regression classifier on training set: {:.2f}'\n",
    "     .format(logit.score(X_train5, y_train5)))"
   ]
  },
  {
   "cell_type": "code",
   "execution_count": 259,
   "id": "fd55031b",
   "metadata": {},
   "outputs": [
    {
     "name": "stdout",
     "output_type": "stream",
     "text": [
      "[[2775  329]\n",
      " [ 554  567]]\n"
     ]
    }
   ],
   "source": [
    "print(confusion_matrix(y_train5, y_pred5))"
   ]
  },
  {
   "cell_type": "code",
   "execution_count": 260,
   "id": "487a635c",
   "metadata": {},
   "outputs": [
    {
     "name": "stdout",
     "output_type": "stream",
     "text": [
      "Model 5: solver = lbfgs, c = 1\n",
      "Accuracy: 0.80\n",
      "[[930 105]\n",
      " [171 203]]\n",
      "              precision    recall  f1-score   support\n",
      "\n",
      "           0       0.84      0.90      0.87      1035\n",
      "           1       0.66      0.54      0.60       374\n",
      "\n",
      "    accuracy                           0.80      1409\n",
      "   macro avg       0.75      0.72      0.73      1409\n",
      "weighted avg       0.80      0.80      0.80      1409\n",
      "\n"
     ]
    }
   ],
   "source": [
    "# assign variables to predictions for validate\n",
    "\n",
    "y_pred5 = logit.predict(X_validate5)\n",
    "\n",
    "print(\"Model 5: solver = lbfgs, c = 1\")\n",
    "\n",
    "# accuracy of model 1\n",
    "print('Accuracy: {:.2f}'.format(logit.score(X_validate5, y_validate5)))\n",
    "\n",
    "# confusion matrix of model 1\n",
    "print(confusion_matrix(y_validate5, y_pred5))\n",
    "\n",
    "# classification report of model 1\n",
    "print(classification_report(y_validate5, y_pred5))"
   ]
  },
  {
   "cell_type": "code",
   "execution_count": null,
   "id": "aae0e2ee",
   "metadata": {},
   "outputs": [],
   "source": []
  },
  {
   "cell_type": "code",
   "execution_count": null,
   "id": "d4a5cf7b",
   "metadata": {},
   "outputs": [],
   "source": []
  }
 ],
 "metadata": {
  "kernelspec": {
   "display_name": "Python 3 (ipykernel)",
   "language": "python",
   "name": "python3"
  },
  "language_info": {
   "codemirror_mode": {
    "name": "ipython",
    "version": 3
   },
   "file_extension": ".py",
   "mimetype": "text/x-python",
   "name": "python",
   "nbconvert_exporter": "python",
   "pygments_lexer": "ipython3",
   "version": "3.9.12"
  }
 },
 "nbformat": 4,
 "nbformat_minor": 5
}
