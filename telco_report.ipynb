{
 "cells": [
  {
   "cell_type": "markdown",
   "id": "fb92b483",
   "metadata": {},
   "source": [
    "# Telco Churn Report"
   ]
  },
  {
   "cell_type": "markdown",
   "id": "574f2050",
   "metadata": {},
   "source": [
    "## Project Planning\n",
    "\n",
    "- Acquire the dataset from the Codeup database using SQL\n",
    "- Prepare the data with the intent to discover the main drivers of customer churn; clean the data and encode categorical features if necessary; ensure that the data is tidy\n",
    "- Split the data into train, validate, and test datasets using a 60/20/20 split\n",
    "- Explore the data:\n",
    "    - Univariate, bivariate, and multivariate analyses; statistical tests for significance, find the three primary features affecting customer churn\n",
    "    - Create graphical representations of the analyses\n",
    "    - Ask more questions about the data\n",
    "    - Document findings\n",
    "- Train and test at least three models:\n",
    "    - Establish a baseline\n",
    "    - Select key features and train multiple classification models\n",
    "    - Test the model on the validate set, adjust for overfitting if necessary\n",
    "- Select the best model for the project goals:\n",
    "    - Determine which model performs best on the validate set\n",
    "- Test and evaluate the model:\n",
    "    - Use the model on the test set and evaluate its performance (classification report, confusion matrix, etc.)\n",
    "    - Visualize the data using an array of probabilities on the test set\n",
    "- Document key findings and takeaways, answer the questions in the final report"
   ]
  },
  {
   "cell_type": "markdown",
   "id": "45e1f208",
   "metadata": {},
   "source": [
    "## Executive Summary\n",
    "\n"
   ]
  },
  {
   "cell_type": "code",
   "execution_count": null,
   "id": "42840799",
   "metadata": {},
   "outputs": [],
   "source": []
  },
  {
   "cell_type": "markdown",
   "id": "9b6970ba",
   "metadata": {},
   "source": [
    "## Acquire and prepare data"
   ]
  },
  {
   "cell_type": "code",
   "execution_count": 1,
   "id": "9090aa54",
   "metadata": {},
   "outputs": [],
   "source": [
    "import os\n",
    "import pandas as pd\n",
    "import numpy as np\n",
    "import acquire\n",
    "import prepare\n",
    "import matplotlib.pyplot as plt\n",
    "import seaborn as sns\n",
    "from scipy import stats\n",
    "from sklearn.tree import DecisionTreeClassifier, plot_tree\n",
    "from sklearn.metrics import classification_report\n",
    "from sklearn.metrics import confusion_matrix\n",
    "from sklearn.ensemble import RandomForestClassifier\n",
    "from sklearn.neighbors import KNeighborsClassifier\n",
    "from sklearn.linear_model import LogisticRegression"
   ]
  },
  {
   "cell_type": "code",
   "execution_count": 2,
   "id": "9c9821a0",
   "metadata": {},
   "outputs": [
    {
     "name": "stderr",
     "output_type": "stream",
     "text": [
      "/Users/dashiellbringhurst/codeup-data-science/classification_project/prepare.py:20: FutureWarning: The default value of regex will change from True to False in a future version. In addition, single character regular expressions will *not* be treated as literal strings when regex=True.\n",
      "  telco['payment_type'] = telco.payment_type.str.replace('(','').str.replace(')', '').str.replace('Bank transfer automatic', 'auto').str.replace('Credit card automatic', 'auto')\n",
      "/Users/dashiellbringhurst/codeup-data-science/classification_project/prepare.py:27: FutureWarning: The default value of regex will change from True to False in a future version. In addition, single character regular expressions will *not* be treated as literal strings when regex=True.\n",
      "  telco['total_charges'] = telco.total_charges.str.replace('$','').str.replace(',','').str.replace(' ','').fillna(0)\n"
     ]
    }
   ],
   "source": [
    "telco = prepare.prep_telco()"
   ]
  },
  {
   "cell_type": "code",
   "execution_count": 3,
   "id": "b38d4cff",
   "metadata": {},
   "outputs": [
    {
     "data": {
      "text/html": [
       "<div>\n",
       "<style scoped>\n",
       "    .dataframe tbody tr th:only-of-type {\n",
       "        vertical-align: middle;\n",
       "    }\n",
       "\n",
       "    .dataframe tbody tr th {\n",
       "        vertical-align: top;\n",
       "    }\n",
       "\n",
       "    .dataframe thead th {\n",
       "        text-align: right;\n",
       "    }\n",
       "</style>\n",
       "<table border=\"1\" class=\"dataframe\">\n",
       "  <thead>\n",
       "    <tr style=\"text-align: right;\">\n",
       "      <th></th>\n",
       "      <th>payment_type_id</th>\n",
       "      <th>internet_service_type_id</th>\n",
       "      <th>contract_type_id</th>\n",
       "      <th>customer_id</th>\n",
       "      <th>gender</th>\n",
       "      <th>senior_citizen</th>\n",
       "      <th>partner</th>\n",
       "      <th>dependents</th>\n",
       "      <th>tenure</th>\n",
       "      <th>phone_service</th>\n",
       "      <th>...</th>\n",
       "      <th>streaming_movies</th>\n",
       "      <th>paperless_billing</th>\n",
       "      <th>monthly_charges</th>\n",
       "      <th>total_charges</th>\n",
       "      <th>churn</th>\n",
       "      <th>contract_type</th>\n",
       "      <th>internet_service_type</th>\n",
       "      <th>payment_type</th>\n",
       "      <th>extras</th>\n",
       "      <th>streaming</th>\n",
       "    </tr>\n",
       "  </thead>\n",
       "  <tbody>\n",
       "    <tr>\n",
       "      <th>0</th>\n",
       "      <td>2</td>\n",
       "      <td>1</td>\n",
       "      <td>2</td>\n",
       "      <td>0002-ORFBO</td>\n",
       "      <td>0</td>\n",
       "      <td>0</td>\n",
       "      <td>1</td>\n",
       "      <td>1</td>\n",
       "      <td>9</td>\n",
       "      <td>1</td>\n",
       "      <td>...</td>\n",
       "      <td>0</td>\n",
       "      <td>1</td>\n",
       "      <td>65.6</td>\n",
       "      <td>593.30</td>\n",
       "      <td>0</td>\n",
       "      <td>One year</td>\n",
       "      <td>DSL</td>\n",
       "      <td>manual</td>\n",
       "      <td>2</td>\n",
       "      <td>1</td>\n",
       "    </tr>\n",
       "    <tr>\n",
       "      <th>1</th>\n",
       "      <td>2</td>\n",
       "      <td>1</td>\n",
       "      <td>1</td>\n",
       "      <td>0003-MKNFE</td>\n",
       "      <td>1</td>\n",
       "      <td>0</td>\n",
       "      <td>0</td>\n",
       "      <td>0</td>\n",
       "      <td>9</td>\n",
       "      <td>1</td>\n",
       "      <td>...</td>\n",
       "      <td>1</td>\n",
       "      <td>0</td>\n",
       "      <td>59.9</td>\n",
       "      <td>542.40</td>\n",
       "      <td>0</td>\n",
       "      <td>Month-to-month</td>\n",
       "      <td>DSL</td>\n",
       "      <td>manual</td>\n",
       "      <td>0</td>\n",
       "      <td>1</td>\n",
       "    </tr>\n",
       "    <tr>\n",
       "      <th>2</th>\n",
       "      <td>1</td>\n",
       "      <td>2</td>\n",
       "      <td>1</td>\n",
       "      <td>0004-TLHLJ</td>\n",
       "      <td>1</td>\n",
       "      <td>0</td>\n",
       "      <td>0</td>\n",
       "      <td>0</td>\n",
       "      <td>4</td>\n",
       "      <td>1</td>\n",
       "      <td>...</td>\n",
       "      <td>0</td>\n",
       "      <td>1</td>\n",
       "      <td>73.9</td>\n",
       "      <td>280.85</td>\n",
       "      <td>1</td>\n",
       "      <td>Month-to-month</td>\n",
       "      <td>Fiber optic</td>\n",
       "      <td>manual</td>\n",
       "      <td>1</td>\n",
       "      <td>0</td>\n",
       "    </tr>\n",
       "    <tr>\n",
       "      <th>3</th>\n",
       "      <td>1</td>\n",
       "      <td>2</td>\n",
       "      <td>1</td>\n",
       "      <td>0011-IGKFF</td>\n",
       "      <td>1</td>\n",
       "      <td>1</td>\n",
       "      <td>1</td>\n",
       "      <td>0</td>\n",
       "      <td>13</td>\n",
       "      <td>1</td>\n",
       "      <td>...</td>\n",
       "      <td>1</td>\n",
       "      <td>1</td>\n",
       "      <td>98.0</td>\n",
       "      <td>1237.85</td>\n",
       "      <td>1</td>\n",
       "      <td>Month-to-month</td>\n",
       "      <td>Fiber optic</td>\n",
       "      <td>manual</td>\n",
       "      <td>2</td>\n",
       "      <td>2</td>\n",
       "    </tr>\n",
       "    <tr>\n",
       "      <th>4</th>\n",
       "      <td>2</td>\n",
       "      <td>2</td>\n",
       "      <td>1</td>\n",
       "      <td>0013-EXCHZ</td>\n",
       "      <td>0</td>\n",
       "      <td>1</td>\n",
       "      <td>1</td>\n",
       "      <td>0</td>\n",
       "      <td>3</td>\n",
       "      <td>1</td>\n",
       "      <td>...</td>\n",
       "      <td>0</td>\n",
       "      <td>1</td>\n",
       "      <td>83.9</td>\n",
       "      <td>267.40</td>\n",
       "      <td>1</td>\n",
       "      <td>Month-to-month</td>\n",
       "      <td>Fiber optic</td>\n",
       "      <td>manual</td>\n",
       "      <td>1</td>\n",
       "      <td>1</td>\n",
       "    </tr>\n",
       "  </tbody>\n",
       "</table>\n",
       "<p>5 rows × 26 columns</p>\n",
       "</div>"
      ],
      "text/plain": [
       "   payment_type_id  internet_service_type_id  contract_type_id customer_id  \\\n",
       "0                2                         1                 2  0002-ORFBO   \n",
       "1                2                         1                 1  0003-MKNFE   \n",
       "2                1                         2                 1  0004-TLHLJ   \n",
       "3                1                         2                 1  0011-IGKFF   \n",
       "4                2                         2                 1  0013-EXCHZ   \n",
       "\n",
       "   gender  senior_citizen  partner  dependents  tenure  phone_service  ...  \\\n",
       "0       0               0        1           1       9              1  ...   \n",
       "1       1               0        0           0       9              1  ...   \n",
       "2       1               0        0           0       4              1  ...   \n",
       "3       1               1        1           0      13              1  ...   \n",
       "4       0               1        1           0       3              1  ...   \n",
       "\n",
       "  streaming_movies  paperless_billing  monthly_charges  total_charges  churn  \\\n",
       "0                0                  1             65.6         593.30      0   \n",
       "1                1                  0             59.9         542.40      0   \n",
       "2                0                  1             73.9         280.85      1   \n",
       "3                1                  1             98.0        1237.85      1   \n",
       "4                0                  1             83.9         267.40      1   \n",
       "\n",
       "    contract_type  internet_service_type  payment_type  extras  streaming  \n",
       "0        One year                    DSL        manual       2          1  \n",
       "1  Month-to-month                    DSL        manual       0          1  \n",
       "2  Month-to-month            Fiber optic        manual       1          0  \n",
       "3  Month-to-month            Fiber optic        manual       2          2  \n",
       "4  Month-to-month            Fiber optic        manual       1          1  \n",
       "\n",
       "[5 rows x 26 columns]"
      ]
     },
     "execution_count": 3,
     "metadata": {},
     "output_type": "execute_result"
    }
   ],
   "source": [
    "telco.head()"
   ]
  },
  {
   "cell_type": "code",
   "execution_count": 4,
   "id": "410fa6d6",
   "metadata": {},
   "outputs": [
    {
     "name": "stdout",
     "output_type": "stream",
     "text": [
      "<class 'pandas.core.frame.DataFrame'>\n",
      "RangeIndex: 7043 entries, 0 to 7042\n",
      "Data columns (total 26 columns):\n",
      " #   Column                    Non-Null Count  Dtype  \n",
      "---  ------                    --------------  -----  \n",
      " 0   payment_type_id           7043 non-null   int64  \n",
      " 1   internet_service_type_id  7043 non-null   int64  \n",
      " 2   contract_type_id          7043 non-null   int64  \n",
      " 3   customer_id               7043 non-null   object \n",
      " 4   gender                    7043 non-null   int64  \n",
      " 5   senior_citizen            7043 non-null   int64  \n",
      " 6   partner                   7043 non-null   int64  \n",
      " 7   dependents                7043 non-null   int64  \n",
      " 8   tenure                    7043 non-null   int64  \n",
      " 9   phone_service             7043 non-null   int64  \n",
      " 10  multiple_lines            7043 non-null   object \n",
      " 11  online_security           7043 non-null   int64  \n",
      " 12  online_backup             7043 non-null   int64  \n",
      " 13  device_protection         7043 non-null   int64  \n",
      " 14  tech_support              7043 non-null   int64  \n",
      " 15  streaming_tv              7043 non-null   int64  \n",
      " 16  streaming_movies          7043 non-null   int64  \n",
      " 17  paperless_billing         7043 non-null   int64  \n",
      " 18  monthly_charges           7043 non-null   float64\n",
      " 19  total_charges             7032 non-null   float64\n",
      " 20  churn                     7043 non-null   int64  \n",
      " 21  contract_type             7043 non-null   object \n",
      " 22  internet_service_type     7043 non-null   object \n",
      " 23  payment_type              7043 non-null   object \n",
      " 24  extras                    7043 non-null   int64  \n",
      " 25  streaming                 7043 non-null   int64  \n",
      "dtypes: float64(2), int64(19), object(5)\n",
      "memory usage: 1.4+ MB\n"
     ]
    }
   ],
   "source": [
    "telco.info()"
   ]
  },
  {
   "cell_type": "code",
   "execution_count": 5,
   "id": "0b744099",
   "metadata": {},
   "outputs": [],
   "source": [
    "train_telco, validate_telco, test_telco = prepare.split_data(telco, 'churn')"
   ]
  },
  {
   "cell_type": "code",
   "execution_count": 6,
   "id": "65203db3",
   "metadata": {},
   "outputs": [
    {
     "data": {
      "text/plain": [
       "((4225, 26), (1409, 26), (1409, 26))"
      ]
     },
     "execution_count": 6,
     "metadata": {},
     "output_type": "execute_result"
    }
   ],
   "source": [
    "train_telco.shape, validate_telco.shape, test_telco.shape"
   ]
  },
  {
   "cell_type": "markdown",
   "id": "f9b25428",
   "metadata": {},
   "source": [
    "- The datasets are split 60/20/20 and stratified on 'churn'"
   ]
  },
  {
   "cell_type": "code",
   "execution_count": 7,
   "id": "8be10feb",
   "metadata": {},
   "outputs": [
    {
     "data": {
      "text/html": [
       "<div>\n",
       "<style scoped>\n",
       "    .dataframe tbody tr th:only-of-type {\n",
       "        vertical-align: middle;\n",
       "    }\n",
       "\n",
       "    .dataframe tbody tr th {\n",
       "        vertical-align: top;\n",
       "    }\n",
       "\n",
       "    .dataframe thead th {\n",
       "        text-align: right;\n",
       "    }\n",
       "</style>\n",
       "<table border=\"1\" class=\"dataframe\">\n",
       "  <thead>\n",
       "    <tr style=\"text-align: right;\">\n",
       "      <th></th>\n",
       "      <th>payment_type_id</th>\n",
       "      <th>internet_service_type_id</th>\n",
       "      <th>contract_type_id</th>\n",
       "      <th>gender</th>\n",
       "      <th>senior_citizen</th>\n",
       "      <th>partner</th>\n",
       "      <th>dependents</th>\n",
       "      <th>tenure</th>\n",
       "      <th>phone_service</th>\n",
       "      <th>online_security</th>\n",
       "      <th>...</th>\n",
       "      <th>device_protection</th>\n",
       "      <th>tech_support</th>\n",
       "      <th>streaming_tv</th>\n",
       "      <th>streaming_movies</th>\n",
       "      <th>paperless_billing</th>\n",
       "      <th>monthly_charges</th>\n",
       "      <th>total_charges</th>\n",
       "      <th>churn</th>\n",
       "      <th>extras</th>\n",
       "      <th>streaming</th>\n",
       "    </tr>\n",
       "  </thead>\n",
       "  <tbody>\n",
       "    <tr>\n",
       "      <th>count</th>\n",
       "      <td>4225.000000</td>\n",
       "      <td>4225.000000</td>\n",
       "      <td>4225.000000</td>\n",
       "      <td>4225.000000</td>\n",
       "      <td>4225.000000</td>\n",
       "      <td>4225.000000</td>\n",
       "      <td>4225.000000</td>\n",
       "      <td>4225.000000</td>\n",
       "      <td>4225.000000</td>\n",
       "      <td>4225.000000</td>\n",
       "      <td>...</td>\n",
       "      <td>4225.000000</td>\n",
       "      <td>4225.000000</td>\n",
       "      <td>4225.000000</td>\n",
       "      <td>4225.000000</td>\n",
       "      <td>4225.000000</td>\n",
       "      <td>4225.000000</td>\n",
       "      <td>4220.000000</td>\n",
       "      <td>4225.000000</td>\n",
       "      <td>4225.000000</td>\n",
       "      <td>4225.000000</td>\n",
       "    </tr>\n",
       "    <tr>\n",
       "      <th>mean</th>\n",
       "      <td>2.320000</td>\n",
       "      <td>1.878107</td>\n",
       "      <td>1.692544</td>\n",
       "      <td>0.507456</td>\n",
       "      <td>0.163314</td>\n",
       "      <td>0.493728</td>\n",
       "      <td>0.298225</td>\n",
       "      <td>32.736568</td>\n",
       "      <td>0.905325</td>\n",
       "      <td>0.281893</td>\n",
       "      <td>...</td>\n",
       "      <td>0.347929</td>\n",
       "      <td>0.289231</td>\n",
       "      <td>0.386982</td>\n",
       "      <td>0.391479</td>\n",
       "      <td>0.595976</td>\n",
       "      <td>64.975325</td>\n",
       "      <td>2317.808898</td>\n",
       "      <td>0.265325</td>\n",
       "      <td>1.261065</td>\n",
       "      <td>0.778462</td>\n",
       "    </tr>\n",
       "    <tr>\n",
       "      <th>std</th>\n",
       "      <td>1.157093</td>\n",
       "      <td>0.735695</td>\n",
       "      <td>0.838753</td>\n",
       "      <td>0.500004</td>\n",
       "      <td>0.369695</td>\n",
       "      <td>0.500020</td>\n",
       "      <td>0.457533</td>\n",
       "      <td>24.518294</td>\n",
       "      <td>0.292800</td>\n",
       "      <td>0.449975</td>\n",
       "      <td>...</td>\n",
       "      <td>0.476370</td>\n",
       "      <td>0.453459</td>\n",
       "      <td>0.487117</td>\n",
       "      <td>0.488139</td>\n",
       "      <td>0.490760</td>\n",
       "      <td>30.184347</td>\n",
       "      <td>2277.970403</td>\n",
       "      <td>0.441559</td>\n",
       "      <td>1.281704</td>\n",
       "      <td>0.854001</td>\n",
       "    </tr>\n",
       "    <tr>\n",
       "      <th>min</th>\n",
       "      <td>1.000000</td>\n",
       "      <td>1.000000</td>\n",
       "      <td>1.000000</td>\n",
       "      <td>0.000000</td>\n",
       "      <td>0.000000</td>\n",
       "      <td>0.000000</td>\n",
       "      <td>0.000000</td>\n",
       "      <td>0.000000</td>\n",
       "      <td>0.000000</td>\n",
       "      <td>0.000000</td>\n",
       "      <td>...</td>\n",
       "      <td>0.000000</td>\n",
       "      <td>0.000000</td>\n",
       "      <td>0.000000</td>\n",
       "      <td>0.000000</td>\n",
       "      <td>0.000000</td>\n",
       "      <td>18.250000</td>\n",
       "      <td>18.850000</td>\n",
       "      <td>0.000000</td>\n",
       "      <td>0.000000</td>\n",
       "      <td>0.000000</td>\n",
       "    </tr>\n",
       "    <tr>\n",
       "      <th>25%</th>\n",
       "      <td>1.000000</td>\n",
       "      <td>1.000000</td>\n",
       "      <td>1.000000</td>\n",
       "      <td>0.000000</td>\n",
       "      <td>0.000000</td>\n",
       "      <td>0.000000</td>\n",
       "      <td>0.000000</td>\n",
       "      <td>9.000000</td>\n",
       "      <td>1.000000</td>\n",
       "      <td>0.000000</td>\n",
       "      <td>...</td>\n",
       "      <td>0.000000</td>\n",
       "      <td>0.000000</td>\n",
       "      <td>0.000000</td>\n",
       "      <td>0.000000</td>\n",
       "      <td>0.000000</td>\n",
       "      <td>35.750000</td>\n",
       "      <td>416.200000</td>\n",
       "      <td>0.000000</td>\n",
       "      <td>0.000000</td>\n",
       "      <td>0.000000</td>\n",
       "    </tr>\n",
       "    <tr>\n",
       "      <th>50%</th>\n",
       "      <td>2.000000</td>\n",
       "      <td>2.000000</td>\n",
       "      <td>1.000000</td>\n",
       "      <td>1.000000</td>\n",
       "      <td>0.000000</td>\n",
       "      <td>0.000000</td>\n",
       "      <td>0.000000</td>\n",
       "      <td>30.000000</td>\n",
       "      <td>1.000000</td>\n",
       "      <td>0.000000</td>\n",
       "      <td>...</td>\n",
       "      <td>0.000000</td>\n",
       "      <td>0.000000</td>\n",
       "      <td>0.000000</td>\n",
       "      <td>0.000000</td>\n",
       "      <td>1.000000</td>\n",
       "      <td>70.550000</td>\n",
       "      <td>1415.425000</td>\n",
       "      <td>0.000000</td>\n",
       "      <td>1.000000</td>\n",
       "      <td>1.000000</td>\n",
       "    </tr>\n",
       "    <tr>\n",
       "      <th>75%</th>\n",
       "      <td>3.000000</td>\n",
       "      <td>2.000000</td>\n",
       "      <td>2.000000</td>\n",
       "      <td>1.000000</td>\n",
       "      <td>0.000000</td>\n",
       "      <td>1.000000</td>\n",
       "      <td>1.000000</td>\n",
       "      <td>56.000000</td>\n",
       "      <td>1.000000</td>\n",
       "      <td>1.000000</td>\n",
       "      <td>...</td>\n",
       "      <td>1.000000</td>\n",
       "      <td>1.000000</td>\n",
       "      <td>1.000000</td>\n",
       "      <td>1.000000</td>\n",
       "      <td>1.000000</td>\n",
       "      <td>90.050000</td>\n",
       "      <td>3858.900000</td>\n",
       "      <td>1.000000</td>\n",
       "      <td>2.000000</td>\n",
       "      <td>2.000000</td>\n",
       "    </tr>\n",
       "    <tr>\n",
       "      <th>max</th>\n",
       "      <td>4.000000</td>\n",
       "      <td>3.000000</td>\n",
       "      <td>3.000000</td>\n",
       "      <td>1.000000</td>\n",
       "      <td>1.000000</td>\n",
       "      <td>1.000000</td>\n",
       "      <td>1.000000</td>\n",
       "      <td>72.000000</td>\n",
       "      <td>1.000000</td>\n",
       "      <td>1.000000</td>\n",
       "      <td>...</td>\n",
       "      <td>1.000000</td>\n",
       "      <td>1.000000</td>\n",
       "      <td>1.000000</td>\n",
       "      <td>1.000000</td>\n",
       "      <td>1.000000</td>\n",
       "      <td>118.750000</td>\n",
       "      <td>8684.800000</td>\n",
       "      <td>1.000000</td>\n",
       "      <td>4.000000</td>\n",
       "      <td>2.000000</td>\n",
       "    </tr>\n",
       "  </tbody>\n",
       "</table>\n",
       "<p>8 rows × 21 columns</p>\n",
       "</div>"
      ],
      "text/plain": [
       "       payment_type_id  internet_service_type_id  contract_type_id  \\\n",
       "count      4225.000000               4225.000000       4225.000000   \n",
       "mean          2.320000                  1.878107          1.692544   \n",
       "std           1.157093                  0.735695          0.838753   \n",
       "min           1.000000                  1.000000          1.000000   \n",
       "25%           1.000000                  1.000000          1.000000   \n",
       "50%           2.000000                  2.000000          1.000000   \n",
       "75%           3.000000                  2.000000          2.000000   \n",
       "max           4.000000                  3.000000          3.000000   \n",
       "\n",
       "            gender  senior_citizen      partner   dependents       tenure  \\\n",
       "count  4225.000000     4225.000000  4225.000000  4225.000000  4225.000000   \n",
       "mean      0.507456        0.163314     0.493728     0.298225    32.736568   \n",
       "std       0.500004        0.369695     0.500020     0.457533    24.518294   \n",
       "min       0.000000        0.000000     0.000000     0.000000     0.000000   \n",
       "25%       0.000000        0.000000     0.000000     0.000000     9.000000   \n",
       "50%       1.000000        0.000000     0.000000     0.000000    30.000000   \n",
       "75%       1.000000        0.000000     1.000000     1.000000    56.000000   \n",
       "max       1.000000        1.000000     1.000000     1.000000    72.000000   \n",
       "\n",
       "       phone_service  online_security  ...  device_protection  tech_support  \\\n",
       "count    4225.000000      4225.000000  ...        4225.000000   4225.000000   \n",
       "mean        0.905325         0.281893  ...           0.347929      0.289231   \n",
       "std         0.292800         0.449975  ...           0.476370      0.453459   \n",
       "min         0.000000         0.000000  ...           0.000000      0.000000   \n",
       "25%         1.000000         0.000000  ...           0.000000      0.000000   \n",
       "50%         1.000000         0.000000  ...           0.000000      0.000000   \n",
       "75%         1.000000         1.000000  ...           1.000000      1.000000   \n",
       "max         1.000000         1.000000  ...           1.000000      1.000000   \n",
       "\n",
       "       streaming_tv  streaming_movies  paperless_billing  monthly_charges  \\\n",
       "count   4225.000000       4225.000000        4225.000000      4225.000000   \n",
       "mean       0.386982          0.391479           0.595976        64.975325   \n",
       "std        0.487117          0.488139           0.490760        30.184347   \n",
       "min        0.000000          0.000000           0.000000        18.250000   \n",
       "25%        0.000000          0.000000           0.000000        35.750000   \n",
       "50%        0.000000          0.000000           1.000000        70.550000   \n",
       "75%        1.000000          1.000000           1.000000        90.050000   \n",
       "max        1.000000          1.000000           1.000000       118.750000   \n",
       "\n",
       "       total_charges        churn       extras    streaming  \n",
       "count    4220.000000  4225.000000  4225.000000  4225.000000  \n",
       "mean     2317.808898     0.265325     1.261065     0.778462  \n",
       "std      2277.970403     0.441559     1.281704     0.854001  \n",
       "min        18.850000     0.000000     0.000000     0.000000  \n",
       "25%       416.200000     0.000000     0.000000     0.000000  \n",
       "50%      1415.425000     0.000000     1.000000     1.000000  \n",
       "75%      3858.900000     1.000000     2.000000     2.000000  \n",
       "max      8684.800000     1.000000     4.000000     2.000000  \n",
       "\n",
       "[8 rows x 21 columns]"
      ]
     },
     "execution_count": 7,
     "metadata": {},
     "output_type": "execute_result"
    }
   ],
   "source": [
    "train_telco.describe()"
   ]
  },
  {
   "cell_type": "code",
   "execution_count": 8,
   "id": "cfab5f69",
   "metadata": {},
   "outputs": [
    {
     "name": "stdout",
     "output_type": "stream",
     "text": [
      "<class 'pandas.core.frame.DataFrame'>\n",
      "Int64Index: 4225 entries, 621 to 5771\n",
      "Data columns (total 26 columns):\n",
      " #   Column                    Non-Null Count  Dtype  \n",
      "---  ------                    --------------  -----  \n",
      " 0   payment_type_id           4225 non-null   int64  \n",
      " 1   internet_service_type_id  4225 non-null   int64  \n",
      " 2   contract_type_id          4225 non-null   int64  \n",
      " 3   customer_id               4225 non-null   object \n",
      " 4   gender                    4225 non-null   int64  \n",
      " 5   senior_citizen            4225 non-null   int64  \n",
      " 6   partner                   4225 non-null   int64  \n",
      " 7   dependents                4225 non-null   int64  \n",
      " 8   tenure                    4225 non-null   int64  \n",
      " 9   phone_service             4225 non-null   int64  \n",
      " 10  multiple_lines            4225 non-null   object \n",
      " 11  online_security           4225 non-null   int64  \n",
      " 12  online_backup             4225 non-null   int64  \n",
      " 13  device_protection         4225 non-null   int64  \n",
      " 14  tech_support              4225 non-null   int64  \n",
      " 15  streaming_tv              4225 non-null   int64  \n",
      " 16  streaming_movies          4225 non-null   int64  \n",
      " 17  paperless_billing         4225 non-null   int64  \n",
      " 18  monthly_charges           4225 non-null   float64\n",
      " 19  total_charges             4220 non-null   float64\n",
      " 20  churn                     4225 non-null   int64  \n",
      " 21  contract_type             4225 non-null   object \n",
      " 22  internet_service_type     4225 non-null   object \n",
      " 23  payment_type              4225 non-null   object \n",
      " 24  extras                    4225 non-null   int64  \n",
      " 25  streaming                 4225 non-null   int64  \n",
      "dtypes: float64(2), int64(19), object(5)\n",
      "memory usage: 891.2+ KB\n"
     ]
    }
   ],
   "source": [
    "train_telco.info()"
   ]
  },
  {
   "cell_type": "markdown",
   "id": "bdc3f35a",
   "metadata": {},
   "source": [
    "### Univariate analysis"
   ]
  },
  {
   "cell_type": "code",
   "execution_count": 39,
   "id": "76a13018",
   "metadata": {},
   "outputs": [
    {
     "data": {
      "text/plain": [
       "<AxesSubplot:xlabel='churn', ylabel='count'>"
      ]
     },
     "execution_count": 39,
     "metadata": {},
     "output_type": "execute_result"
    },
    {
     "data": {
      "image/png": "[encoded data removed]",
      "text/plain": [
       "<Figure size 432x288 with 1 Axes>"
      ]
     },
     "metadata": {
      "needs_background": "light"
     },
     "output_type": "display_data"
    }
   ],
   "source": [
    "g1 = sns.countplot(x='churn', data=train_telco)\n",
    "g1"
   ]
  },
  {
   "cell_type": "code",
   "execution_count": 10,
   "id": "a437aeb1",
   "metadata": {},
   "outputs": [
    {
     "data": {
      "text/plain": [
       "count    4225.000000\n",
       "mean        0.265325\n",
       "std         0.441559\n",
       "min         0.000000\n",
       "25%         0.000000\n",
       "50%         0.000000\n",
       "75%         1.000000\n",
       "max         1.000000\n",
       "Name: churn, dtype: float64"
      ]
     },
     "execution_count": 10,
     "metadata": {},
     "output_type": "execute_result"
    }
   ],
   "source": [
    "train_telco.churn.describe()"
   ]
  },
  {
   "cell_type": "code",
   "execution_count": 40,
   "id": "fa1667d5",
   "metadata": {},
   "outputs": [
    {
     "data": {
      "text/plain": [
       "<AxesSubplot:xlabel='tenure', ylabel='Count'>"
      ]
     },
     "execution_count": 40,
     "metadata": {},
     "output_type": "execute_result"
    },
    {
     "data": {
      "image/png": "[encoded data removed]",
      "text/plain": [
       "<Figure size 432x288 with 1 Axes>"
      ]
     },
     "metadata": {
      "needs_background": "light"
     },
     "output_type": "display_data"
    }
   ],
   "source": [
    "g2 = sns.histplot(x='tenure', data=train_telco)\n",
    "g2"
   ]
  },
  {
   "cell_type": "code",
   "execution_count": 12,
   "id": "c9bd11df",
   "metadata": {},
   "outputs": [
    {
     "data": {
      "text/plain": [
       "count    4225.000000\n",
       "mean       32.736568\n",
       "std        24.518294\n",
       "min         0.000000\n",
       "25%         9.000000\n",
       "50%        30.000000\n",
       "75%        56.000000\n",
       "max        72.000000\n",
       "Name: tenure, dtype: float64"
      ]
     },
     "execution_count": 12,
     "metadata": {},
     "output_type": "execute_result"
    }
   ],
   "source": [
    "train_telco.tenure.describe()"
   ]
  },
  {
   "cell_type": "code",
   "execution_count": 13,
   "id": "1f53fc7d",
   "metadata": {},
   "outputs": [
    {
     "data": {
      "text/plain": [
       "<AxesSubplot:xlabel='monthly_charges', ylabel='Count'>"
      ]
     },
     "execution_count": 13,
     "metadata": {},
     "output_type": "execute_result"
    },
    {
     "data": {
      "image/png": "[encoded data removed]",
      "text/plain": [
       "<Figure size 432x288 with 1 Axes>"
      ]
     },
     "metadata": {
      "needs_background": "light"
     },
     "output_type": "display_data"
    }
   ],
   "source": [
    "sns.histplot(x=train_telco.monthly_charges)"
   ]
  },
  {
   "cell_type": "code",
   "execution_count": 14,
   "id": "6cad472f",
   "metadata": {},
   "outputs": [
    {
     "data": {
      "text/plain": [
       "count    4225.000000\n",
       "mean       64.975325\n",
       "std        30.184347\n",
       "min        18.250000\n",
       "25%        35.750000\n",
       "50%        70.550000\n",
       "75%        90.050000\n",
       "max       118.750000\n",
       "Name: monthly_charges, dtype: float64"
      ]
     },
     "execution_count": 14,
     "metadata": {},
     "output_type": "execute_result"
    }
   ],
   "source": [
    "train_telco.monthly_charges.describe()"
   ]
  },
  {
   "cell_type": "code",
   "execution_count": 15,
   "id": "e552e524",
   "metadata": {},
   "outputs": [
    {
     "data": {
      "text/plain": [
       "<AxesSubplot:xlabel='senior_citizen', ylabel='count'>"
      ]
     },
     "execution_count": 15,
     "metadata": {},
     "output_type": "execute_result"
    },
    {
     "data": {
      "image/png": "[encoded data removed]",
      "text/plain": [
       "<Figure size 432x288 with 1 Axes>"
      ]
     },
     "metadata": {
      "needs_background": "light"
     },
     "output_type": "display_data"
    }
   ],
   "source": [
    "sns.countplot(x=train_telco.senior_citizen)"
   ]
  },
  {
   "cell_type": "code",
   "execution_count": 16,
   "id": "231d168d",
   "metadata": {},
   "outputs": [
    {
     "data": {
      "text/plain": [
       "count    4225.000000\n",
       "mean        0.163314\n",
       "std         0.369695\n",
       "min         0.000000\n",
       "25%         0.000000\n",
       "50%         0.000000\n",
       "75%         0.000000\n",
       "max         1.000000\n",
       "Name: senior_citizen, dtype: float64"
      ]
     },
     "execution_count": 16,
     "metadata": {},
     "output_type": "execute_result"
    }
   ],
   "source": [
    "train_telco.senior_citizen.describe()"
   ]
  },
  {
   "cell_type": "code",
   "execution_count": 17,
   "id": "22b6124e",
   "metadata": {},
   "outputs": [
    {
     "data": {
      "text/plain": [
       "<AxesSubplot:xlabel='internet_service_type', ylabel='count'>"
      ]
     },
     "execution_count": 17,
     "metadata": {},
     "output_type": "execute_result"
    },
    {
     "data": {
      "image/png": "[encoded data removed]",
      "text/plain": [
       "<Figure size 432x288 with 1 Axes>"
      ]
     },
     "metadata": {
      "needs_background": "light"
     },
     "output_type": "display_data"
    }
   ],
   "source": [
    "sns.countplot(x='internet_service_type', data=train_telco)"
   ]
  },
  {
   "cell_type": "code",
   "execution_count": 18,
   "id": "d626b1f3",
   "metadata": {},
   "outputs": [
    {
     "data": {
      "text/plain": [
       "Fiber optic    1876\n",
       "DSL            1432\n",
       "None            917\n",
       "Name: internet_service_type, dtype: int64"
      ]
     },
     "execution_count": 18,
     "metadata": {},
     "output_type": "execute_result"
    }
   ],
   "source": [
    "train_telco.internet_service_type.value_counts()"
   ]
  },
  {
   "cell_type": "code",
   "execution_count": 19,
   "id": "5da164cb",
   "metadata": {},
   "outputs": [
    {
     "data": {
      "text/plain": [
       "<AxesSubplot:xlabel='payment_type', ylabel='count'>"
      ]
     },
     "execution_count": 19,
     "metadata": {},
     "output_type": "execute_result"
    },
    {
     "data": {
      "image/png": "[encoded data removed]",
      "text/plain": [
       "<Figure size 432x288 with 1 Axes>"
      ]
     },
     "metadata": {
      "needs_background": "light"
     },
     "output_type": "display_data"
    }
   ],
   "source": [
    "sns.countplot(x='payment_type', data=train_telco)"
   ]
  },
  {
   "cell_type": "code",
   "execution_count": 20,
   "id": "8a48e5f0",
   "metadata": {},
   "outputs": [
    {
     "data": {
      "text/plain": [
       "<AxesSubplot:xlabel='contract_type', ylabel='count'>"
      ]
     },
     "execution_count": 20,
     "metadata": {},
     "output_type": "execute_result"
    },
    {
     "data": {
      "image/png": "[encoded data removed]",
      "text/plain": [
       "<Figure size 432x288 with 1 Axes>"
      ]
     },
     "metadata": {
      "needs_background": "light"
     },
     "output_type": "display_data"
    }
   ],
   "source": [
    "sns.countplot(x='contract_type', data=train_telco)"
   ]
  },
  {
   "cell_type": "code",
   "execution_count": 21,
   "id": "c8fcb0d0",
   "metadata": {},
   "outputs": [
    {
     "data": {
      "text/plain": [
       "Month-to-month    2335\n",
       "Two year          1036\n",
       "One year           854\n",
       "Name: contract_type, dtype: int64"
      ]
     },
     "execution_count": 21,
     "metadata": {},
     "output_type": "execute_result"
    }
   ],
   "source": [
    "train_telco.contract_type.value_counts()"
   ]
  },
  {
   "cell_type": "code",
   "execution_count": 22,
   "id": "7ca07cf2",
   "metadata": {},
   "outputs": [
    {
     "data": {
      "text/plain": [
       "<AxesSubplot:xlabel='phone_service', ylabel='count'>"
      ]
     },
     "execution_count": 22,
     "metadata": {},
     "output_type": "execute_result"
    },
    {
     "data": {
      "image/png": "[encoded data removed]",
      "text/plain": [
       "<Figure size 432x288 with 1 Axes>"
      ]
     },
     "metadata": {
      "needs_background": "light"
     },
     "output_type": "display_data"
    }
   ],
   "source": [
    "sns.countplot(x='phone_service', data=train_telco)"
   ]
  },
  {
   "cell_type": "code",
   "execution_count": 23,
   "id": "0f533805",
   "metadata": {},
   "outputs": [
    {
     "data": {
      "text/plain": [
       "1    3825\n",
       "0     400\n",
       "Name: phone_service, dtype: int64"
      ]
     },
     "execution_count": 23,
     "metadata": {},
     "output_type": "execute_result"
    }
   ],
   "source": [
    "train_telco.phone_service.value_counts()"
   ]
  },
  {
   "cell_type": "code",
   "execution_count": 24,
   "id": "4fed8940",
   "metadata": {},
   "outputs": [
    {
     "data": {
      "text/plain": [
       "<AxesSubplot:xlabel='multiple_lines', ylabel='count'>"
      ]
     },
     "execution_count": 24,
     "metadata": {},
     "output_type": "execute_result"
    },
    {
     "data": {
      "image/png": "[encoded data removed]",
      "text/plain": [
       "<Figure size 432x288 with 1 Axes>"
      ]
     },
     "metadata": {
      "needs_background": "light"
     },
     "output_type": "display_data"
    }
   ],
   "source": [
    "sns.countplot(x='multiple_lines', data=train_telco)"
   ]
  },
  {
   "cell_type": "code",
   "execution_count": 25,
   "id": "059d3308",
   "metadata": {},
   "outputs": [
    {
     "data": {
      "text/plain": [
       "No     2423\n",
       "Yes    1802\n",
       "Name: multiple_lines, dtype: int64"
      ]
     },
     "execution_count": 25,
     "metadata": {},
     "output_type": "execute_result"
    }
   ],
   "source": [
    "train_telco.multiple_lines.value_counts()"
   ]
  },
  {
   "cell_type": "code",
   "execution_count": 26,
   "id": "4a636656",
   "metadata": {},
   "outputs": [
    {
     "data": {
      "text/plain": [
       "<AxesSubplot:xlabel='paperless_billing', ylabel='count'>"
      ]
     },
     "execution_count": 26,
     "metadata": {},
     "output_type": "execute_result"
    },
    {
     "data": {
      "image/png": "[encoded data removed]",
      "text/plain": [
       "<Figure size 432x288 with 1 Axes>"
      ]
     },
     "metadata": {
      "needs_background": "light"
     },
     "output_type": "display_data"
    }
   ],
   "source": [
    "sns.countplot(x='paperless_billing', data=train_telco)"
   ]
  },
  {
   "cell_type": "code",
   "execution_count": 27,
   "id": "0dfce6e6",
   "metadata": {},
   "outputs": [
    {
     "data": {
      "text/plain": [
       "count    4225.000000\n",
       "mean        0.595976\n",
       "std         0.490760\n",
       "min         0.000000\n",
       "25%         0.000000\n",
       "50%         1.000000\n",
       "75%         1.000000\n",
       "max         1.000000\n",
       "Name: paperless_billing, dtype: float64"
      ]
     },
     "execution_count": 27,
     "metadata": {},
     "output_type": "execute_result"
    }
   ],
   "source": [
    "train_telco.paperless_billing.describe()"
   ]
  },
  {
   "cell_type": "code",
   "execution_count": 33,
   "id": "c9b44b8a",
   "metadata": {},
   "outputs": [
    {
     "data": {
      "text/plain": [
       "<AxesSubplot:xlabel='streaming_tv', ylabel='count'>"
      ]
     },
     "execution_count": 33,
     "metadata": {},
     "output_type": "execute_result"
    },
    {
     "data": {
      "image/png": "[encoded data removed]",
      "text/plain": [
       "<Figure size 432x288 with 1 Axes>"
      ]
     },
     "metadata": {
      "needs_background": "light"
     },
     "output_type": "display_data"
    }
   ],
   "source": [
    "sns.countplot(x=train_telco.streaming_tv)"
   ]
  },
  {
   "cell_type": "code",
   "execution_count": 34,
   "id": "49e05d2d",
   "metadata": {},
   "outputs": [
    {
     "data": {
      "text/plain": [
       "0    2590\n",
       "1    1635\n",
       "Name: streaming_tv, dtype: int64"
      ]
     },
     "execution_count": 34,
     "metadata": {},
     "output_type": "execute_result"
    }
   ],
   "source": [
    "train_telco.streaming_tv.value_counts()"
   ]
  },
  {
   "cell_type": "code",
   "execution_count": 49,
   "id": "2659a5ed",
   "metadata": {
    "scrolled": true
   },
   "outputs": [
    {
     "data": {
      "text/plain": [
       "<AxesSubplot:xlabel='streaming_movies', ylabel='count'>"
      ]
     },
     "execution_count": 49,
     "metadata": {},
     "output_type": "execute_result"
    },
    {
     "data": {
      "image/png": "[encoded data removed]",
      "text/plain": [
       "<Figure size 432x288 with 1 Axes>"
      ]
     },
     "metadata": {
      "needs_background": "light"
     },
     "output_type": "display_data"
    }
   ],
   "source": [
    "sns.countplot(x=train_telco.streaming_movies)"
   ]
  },
  {
   "cell_type": "code",
   "execution_count": 50,
   "id": "7f819f84",
   "metadata": {},
   "outputs": [
    {
     "data": {
      "text/plain": [
       "No     2571\n",
       "Yes    1654\n",
       "Name: streaming_movies, dtype: int64"
      ]
     },
     "execution_count": 50,
     "metadata": {},
     "output_type": "execute_result"
    }
   ],
   "source": [
    "train_telco.streaming_movies.value_counts()"
   ]
  },
  {
   "cell_type": "code",
   "execution_count": 36,
   "id": "6820b607",
   "metadata": {},
   "outputs": [
    {
     "data": {
      "text/plain": [
       "<AxesSubplot:xlabel='streaming', ylabel='count'>"
      ]
     },
     "execution_count": 36,
     "metadata": {},
     "output_type": "execute_result"
    },
    {
     "data": {
      "image/png": "[encoded data removed]",
      "text/plain": [
       "<Figure size 432x288 with 1 Axes>"
      ]
     },
     "metadata": {
      "needs_background": "light"
     },
     "output_type": "display_data"
    }
   ],
   "source": [
    "sns.countplot(x=train_telco.streaming)"
   ]
  },
  {
   "cell_type": "code",
   "execution_count": 35,
   "id": "821fab68",
   "metadata": {},
   "outputs": [
    {
     "data": {
      "text/plain": [
       "0    2112\n",
       "2    1176\n",
       "1     937\n",
       "Name: streaming, dtype: int64"
      ]
     },
     "execution_count": 35,
     "metadata": {},
     "output_type": "execute_result"
    }
   ],
   "source": [
    "train_telco.streaming.value_counts()"
   ]
  },
  {
   "cell_type": "code",
   "execution_count": 31,
   "id": "3a6326ee",
   "metadata": {},
   "outputs": [
    {
     "data": {
      "text/plain": [
       "<AxesSubplot:xlabel='extras', ylabel='count'>"
      ]
     },
     "execution_count": 31,
     "metadata": {},
     "output_type": "execute_result"
    },
    {
     "data": {
      "image/png": "[encoded data removed]",
      "text/plain": [
       "<Figure size 432x288 with 1 Axes>"
      ]
     },
     "metadata": {
      "needs_background": "light"
     },
     "output_type": "display_data"
    }
   ],
   "source": [
    "sns.countplot(x=train_telco.extras)"
   ]
  },
  {
   "cell_type": "code",
   "execution_count": 32,
   "id": "923a7c76",
   "metadata": {},
   "outputs": [
    {
     "data": {
      "text/plain": [
       "0    1682\n",
       "1     870\n",
       "2     829\n",
       "3     576\n",
       "4     268\n",
       "Name: extras, dtype: int64"
      ]
     },
     "execution_count": 32,
     "metadata": {},
     "output_type": "execute_result"
    }
   ],
   "source": [
    "train_telco.extras.value_counts()"
   ]
  },
  {
   "cell_type": "code",
   "execution_count": 37,
   "id": "7d4bcaff",
   "metadata": {},
   "outputs": [
    {
     "data": {
      "text/plain": [
       "<AxesSubplot:xlabel='online_security', ylabel='count'>"
      ]
     },
     "execution_count": 37,
     "metadata": {},
     "output_type": "execute_result"
    },
    {
     "data": {
      "image/png": "[encoded data removed]",
      "text/plain": [
       "<Figure size 432x288 with 1 Axes>"
      ]
     },
     "metadata": {
      "needs_background": "light"
     },
     "output_type": "display_data"
    }
   ],
   "source": [
    "sns.countplot(x=train_telco.online_security)"
   ]
  },
  {
   "cell_type": "code",
   "execution_count": 38,
   "id": "1f393c34",
   "metadata": {},
   "outputs": [
    {
     "data": {
      "text/plain": [
       "0    3034\n",
       "1    1191\n",
       "Name: online_security, dtype: int64"
      ]
     },
     "execution_count": 38,
     "metadata": {},
     "output_type": "execute_result"
    }
   ],
   "source": [
    "train_telco.online_security.value_counts()"
   ]
  },
  {
   "cell_type": "code",
   "execution_count": 53,
   "id": "3fa47ecc",
   "metadata": {},
   "outputs": [
    {
     "data": {
      "text/plain": [
       "<AxesSubplot:xlabel='device_protection', ylabel='count'>"
      ]
     },
     "execution_count": 53,
     "metadata": {},
     "output_type": "execute_result"
    },
    {
     "data": {
      "image/png": "[encoded data removed]",
      "text/plain": [
       "<Figure size 432x288 with 1 Axes>"
      ]
     },
     "metadata": {
      "needs_background": "light"
     },
     "output_type": "display_data"
    }
   ],
   "source": [
    "sns.countplot(x=train_telco.device_protection)"
   ]
  },
  {
   "cell_type": "code",
   "execution_count": 54,
   "id": "da966128",
   "metadata": {},
   "outputs": [
    {
     "data": {
      "text/plain": [
       "No     2755\n",
       "Yes    1470\n",
       "Name: device_protection, dtype: int64"
      ]
     },
     "execution_count": 54,
     "metadata": {},
     "output_type": "execute_result"
    }
   ],
   "source": [
    "train_telco.device_protection.value_counts()"
   ]
  },
  {
   "cell_type": "code",
   "execution_count": 55,
   "id": "27f43f3b",
   "metadata": {},
   "outputs": [
    {
     "data": {
      "text/plain": [
       "<AxesSubplot:xlabel='tech_support', ylabel='count'>"
      ]
     },
     "execution_count": 55,
     "metadata": {},
     "output_type": "execute_result"
    },
    {
     "data": {
      "image/png": "[encoded data removed]",
      "text/plain": [
       "<Figure size 432x288 with 1 Axes>"
      ]
     },
     "metadata": {
      "needs_background": "light"
     },
     "output_type": "display_data"
    }
   ],
   "source": [
    "sns.countplot(x=train_telco.tech_support)"
   ]
  },
  {
   "cell_type": "code",
   "execution_count": 56,
   "id": "4f47fd9b",
   "metadata": {},
   "outputs": [
    {
     "data": {
      "text/plain": [
       "No     3003\n",
       "Yes    1222\n",
       "Name: tech_support, dtype: int64"
      ]
     },
     "execution_count": 56,
     "metadata": {},
     "output_type": "execute_result"
    }
   ],
   "source": [
    "train_telco.tech_support.value_counts()"
   ]
  },
  {
   "cell_type": "code",
   "execution_count": 57,
   "id": "875f58c6",
   "metadata": {},
   "outputs": [
    {
     "data": {
      "text/plain": [
       "<AxesSubplot:xlabel='online_backup', ylabel='count'>"
      ]
     },
     "execution_count": 57,
     "metadata": {},
     "output_type": "execute_result"
    },
    {
     "data": {
      "image/png": "[encoded data removed]",
      "text/plain": [
       "<Figure size 432x288 with 1 Axes>"
      ]
     },
     "metadata": {
      "needs_background": "light"
     },
     "output_type": "display_data"
    }
   ],
   "source": [
    "sns.countplot(x=train_telco.online_backup)"
   ]
  },
  {
   "cell_type": "code",
   "execution_count": 58,
   "id": "3dddd98b",
   "metadata": {},
   "outputs": [
    {
     "data": {
      "text/plain": [
       "No     2780\n",
       "Yes    1445\n",
       "Name: online_backup, dtype: int64"
      ]
     },
     "execution_count": 58,
     "metadata": {},
     "output_type": "execute_result"
    }
   ],
   "source": [
    "train_telco.online_backup.value_counts()"
   ]
  },
  {
   "cell_type": "code",
   "execution_count": 59,
   "id": "07d60231",
   "metadata": {},
   "outputs": [
    {
     "data": {
      "text/plain": [
       "<AxesSubplot:xlabel='partner', ylabel='count'>"
      ]
     },
     "execution_count": 59,
     "metadata": {},
     "output_type": "execute_result"
    },
    {
     "data": {
      "image/png": "[encoded data removed]",
      "text/plain": [
       "<Figure size 432x288 with 1 Axes>"
      ]
     },
     "metadata": {
      "needs_background": "light"
     },
     "output_type": "display_data"
    }
   ],
   "source": [
    "sns.countplot(x=train_telco.partner)"
   ]
  },
  {
   "cell_type": "code",
   "execution_count": 60,
   "id": "93e99833",
   "metadata": {},
   "outputs": [
    {
     "data": {
      "text/plain": [
       "<AxesSubplot:xlabel='dependents', ylabel='count'>"
      ]
     },
     "execution_count": 60,
     "metadata": {},
     "output_type": "execute_result"
    },
    {
     "data": {
      "image/png": "[encoded data removed]",
      "text/plain": [
       "<Figure size 432x288 with 1 Axes>"
      ]
     },
     "metadata": {
      "needs_background": "light"
     },
     "output_type": "display_data"
    }
   ],
   "source": [
    "sns.countplot(x=train_telco.dependents)"
   ]
  },
  {
   "cell_type": "code",
   "execution_count": 77,
   "id": "a263c7ef",
   "metadata": {},
   "outputs": [
    {
     "name": "stderr",
     "output_type": "stream",
     "text": [
      "/opt/homebrew/anaconda3/lib/python3.9/site-packages/seaborn/_decorators.py:36: FutureWarning: Pass the following variable as a keyword arg: x. From version 0.12, the only valid positional argument will be `data`, and passing other arguments without an explicit keyword will result in an error or misinterpretation.\n",
      "  warnings.warn(\n",
      "/opt/homebrew/anaconda3/lib/python3.9/site-packages/seaborn/_decorators.py:36: FutureWarning: Pass the following variable as a keyword arg: x. From version 0.12, the only valid positional argument will be `data`, and passing other arguments without an explicit keyword will result in an error or misinterpretation.\n",
      "  warnings.warn(\n",
      "/opt/homebrew/anaconda3/lib/python3.9/site-packages/seaborn/_decorators.py:36: FutureWarning: Pass the following variable as a keyword arg: x. From version 0.12, the only valid positional argument will be `data`, and passing other arguments without an explicit keyword will result in an error or misinterpretation.\n",
      "  warnings.warn(\n",
      "/opt/homebrew/anaconda3/lib/python3.9/site-packages/seaborn/_decorators.py:36: FutureWarning: Pass the following variable as a keyword arg: x. From version 0.12, the only valid positional argument will be `data`, and passing other arguments without an explicit keyword will result in an error or misinterpretation.\n",
      "  warnings.warn(\n",
      "/opt/homebrew/anaconda3/lib/python3.9/site-packages/seaborn/_decorators.py:36: FutureWarning: Pass the following variable as a keyword arg: x. From version 0.12, the only valid positional argument will be `data`, and passing other arguments without an explicit keyword will result in an error or misinterpretation.\n",
      "  warnings.warn(\n",
      "/opt/homebrew/anaconda3/lib/python3.9/site-packages/seaborn/_decorators.py:36: FutureWarning: Pass the following variable as a keyword arg: x. From version 0.12, the only valid positional argument will be `data`, and passing other arguments without an explicit keyword will result in an error or misinterpretation.\n",
      "  warnings.warn(\n",
      "/opt/homebrew/anaconda3/lib/python3.9/site-packages/seaborn/_decorators.py:36: FutureWarning: Pass the following variable as a keyword arg: x. From version 0.12, the only valid positional argument will be `data`, and passing other arguments without an explicit keyword will result in an error or misinterpretation.\n",
      "  warnings.warn(\n",
      "/opt/homebrew/anaconda3/lib/python3.9/site-packages/seaborn/_decorators.py:36: FutureWarning: Pass the following variable as a keyword arg: x. From version 0.12, the only valid positional argument will be `data`, and passing other arguments without an explicit keyword will result in an error or misinterpretation.\n",
      "  warnings.warn(\n",
      "/opt/homebrew/anaconda3/lib/python3.9/site-packages/seaborn/_decorators.py:36: FutureWarning: Pass the following variable as a keyword arg: x. From version 0.12, the only valid positional argument will be `data`, and passing other arguments without an explicit keyword will result in an error or misinterpretation.\n",
      "  warnings.warn(\n",
      "/opt/homebrew/anaconda3/lib/python3.9/site-packages/seaborn/_decorators.py:36: FutureWarning: Pass the following variable as a keyword arg: x. From version 0.12, the only valid positional argument will be `data`, and passing other arguments without an explicit keyword will result in an error or misinterpretation.\n",
      "  warnings.warn(\n"
     ]
    },
    {
     "data": {
      "image/png": "[encoded data removed]",
      "text/plain": [
       "<Figure size 1440x1440 with 12 Axes>"
      ]
     },
     "metadata": {
      "needs_background": "light"
     },
     "output_type": "display_data"
    }
   ],
   "source": [
    "plt.figure(figsize=[20,20])\n",
    "\n",
    "plt.subplot(341)\n",
    "sns.countplot(train_telco.churn)\n",
    "\n",
    "plt.subplot(342)\n",
    "sns.histplot(train_telco.tenure)\n",
    "\n",
    "plt.subplot(343)\n",
    "sns.histplot(train_telco.monthly_charges)\n",
    "\n",
    "plt.subplot(344)\n",
    "sns.countplot(train_telco.internet_service_type)\n",
    "\n",
    "plt.subplot(345)\n",
    "sns.countplot(train_telco.contract_type)\n",
    "\n",
    "plt.subplot(346)\n",
    "sns.countplot(train_telco.senior_citizen)\n",
    "\n",
    "plt.subplot(347)\n",
    "sns.countplot(train_telco.paperless_billing)\n",
    "\n",
    "plt.subplot(348)\n",
    "sns.countplot(train_telco.extras)\n",
    "\n",
    "plt.subplot(349)\n",
    "sns.countplot(train_telco.streaming)\n",
    "\n",
    "plt.subplot(3,4,10)\n",
    "sns.countplot(train_telco.multiple_lines)\n",
    "\n",
    "plt.subplot(3,4,11)\n",
    "sns.countplot(train_telco.dependents)\n",
    "\n",
    "plt.subplot(3,4,12)\n",
    "sns.countplot(train_telco.partner)\n",
    "\n",
    "plt.show()"
   ]
  },
  {
   "cell_type": "code",
   "execution_count": null,
   "id": "6cd123d5",
   "metadata": {},
   "outputs": [],
   "source": []
  },
  {
   "cell_type": "markdown",
   "id": "dc3d7845",
   "metadata": {},
   "source": [
    "#### Findings:\n",
    "\n",
    "- 26.5 percent of customers churned\n",
    "\n",
    "- Average tenure is 32.7 months, but most customers are between 0-5 and 65-70 months.\n",
    "\n",
    "- Average monthly charge is 65, but most customers pay between 18-25\n",
    "\n",
    "- 16 percent of customers are senior citizens\n",
    "\n",
    "- Fiber optic is the most popular internet service type\n",
    "\n",
    "- more customers make manual payments than automatic payments\n",
    "\n",
    "- More customers have a month-to-month contract type than two-year and one-year contracts combined\n",
    "\n",
    "- Most customers have phone service, and more customers have only one line rather than multiple lines\n",
    "\n",
    "- 59.6 percent of customers use paperless billing\n",
    "\n",
    "- There are more customers who do not have additional features than do (streaming, protection, support, etc.)\n",
    "\n",
    "- Customers are almost evenly split between having a partner and not, but more customers do not have dependents.\n",
    "\n"
   ]
  },
  {
   "cell_type": "markdown",
   "id": "a04f133b",
   "metadata": {},
   "source": [
    "### Bivariate analysis"
   ]
  },
  {
   "cell_type": "code",
   "execution_count": 88,
   "id": "b228adbb",
   "metadata": {},
   "outputs": [
    {
     "data": {
      "image/png": "[encoded data removed]",
      "text/plain": [
       "<Figure size 1440x1440 with 12 Axes>"
      ]
     },
     "metadata": {
      "needs_background": "light"
     },
     "output_type": "display_data"
    }
   ],
   "source": [
    "plt.figure(figsize=[20,20])\n",
    "plt.subplot(341)\n",
    "sns.histplot(x=train_telco.monthly_charges, hue=train_telco.churn)\n",
    "\n",
    "plt.subplot(342)\n",
    "sns.histplot(x=train_telco.tenure, hue=train_telco.churn)\n",
    "\n",
    "plt.subplot(343)\n",
    "sns.countplot(x='internet_service_type', hue='churn', data=train_telco)\n",
    "\n",
    "plt.subplot(344)\n",
    "sns.countplot(x=train_telco.senior_citizen, hue=train_telco.churn)\n",
    "\n",
    "plt.subplot(345)\n",
    "sns.countplot(x='payment_type', hue='churn', data=train_telco)\n",
    "\n",
    "plt.subplot(346)\n",
    "sns.countplot(x='contract_type', hue='churn', data=train_telco)\n",
    "\n",
    "plt.subplot(347)\n",
    "sns.countplot(x='phone_service', hue='churn', data=train_telco)\n",
    "\n",
    "plt.subplot(348)\n",
    "sns.countplot(x='multiple_lines', hue='churn', data=train_telco)\n",
    "\n",
    "plt.subplot(349)\n",
    "sns.countplot(x='paperless_billing', hue='churn', data=train_telco)\n",
    "\n",
    "plt.subplot(3,4,10)\n",
    "sns.countplot(x='streaming', hue='churn', data=train_telco)\n",
    "\n",
    "plt.subplot(3,4,11)\n",
    "sns.countplot(x='extras', hue='churn', data=train_telco)\n",
    "\n",
    "plt.subplot(3,4,12)\n",
    "sns.countplot(x='dependents', hue='churn', data=train_telco)\n",
    "\n",
    "plt.show()"
   ]
  },
  {
   "cell_type": "code",
   "execution_count": 249,
   "id": "7797dfab",
   "metadata": {},
   "outputs": [],
   "source": [
    "plot_telco = train_telco.drop(columns=['customer_id', 'gender', 'contract_type', 'payment_type', 'multiple_lines', 'streaming_tv', 'streaming_movies', 'online_security', 'online_backup', 'device_protection', 'tech_support', 'total_charges'])"
   ]
  },
  {
   "cell_type": "code",
   "execution_count": 250,
   "id": "56c2f4ee",
   "metadata": {},
   "outputs": [
    {
     "data": {
      "text/plain": [
       "<AxesSubplot:>"
      ]
     },
     "execution_count": 250,
     "metadata": {},
     "output_type": "execute_result"
    },
    {
     "data": {
      "image/png": "[encoded data removed]",
      "text/plain": [
       "<Figure size 432x288 with 2 Axes>"
      ]
     },
     "metadata": {
      "needs_background": "light"
     },
     "output_type": "display_data"
    }
   ],
   "source": [
    "sns.heatmap(plot_telco.corr())"
   ]
  },
  {
   "cell_type": "code",
   "execution_count": 63,
   "id": "2868ea71",
   "metadata": {},
   "outputs": [
    {
     "data": {
      "text/plain": [
       "(0.19733529945537656, 2.3330208636155277e-38)"
      ]
     },
     "execution_count": 63,
     "metadata": {},
     "output_type": "execute_result"
    }
   ],
   "source": [
    "corr, p = stats.pearsonr(train_telco.monthly_charges, train_telco.churn)\n",
    "corr, p"
   ]
  },
  {
   "cell_type": "code",
   "execution_count": 66,
   "id": "fbc05a62",
   "metadata": {},
   "outputs": [
    {
     "data": {
      "text/plain": [
       "(-0.3398785497306553, 9.804162371170059e-115)"
      ]
     },
     "execution_count": 66,
     "metadata": {},
     "output_type": "execute_result"
    }
   ],
   "source": [
    "corr, p = stats.pearsonr(train_telco.tenure, train_telco.churn)\n",
    "corr, p"
   ]
  },
  {
   "cell_type": "code",
   "execution_count": 69,
   "id": "518d198c",
   "metadata": {},
   "outputs": [],
   "source": [
    "observed = pd.crosstab(train_telco.senior_citizen, train_telco.churn)\n",
    "chi2, p, degf, expected = stats.chi2_contingency(observed)"
   ]
  },
  {
   "cell_type": "code",
   "execution_count": 70,
   "id": "d299612c",
   "metadata": {},
   "outputs": [
    {
     "name": "stdout",
     "output_type": "stream",
     "text": [
      "Observed\n",
      "[[2702  833]\n",
      " [ 402  288]]\n",
      "\n",
      "Expected\n",
      "[[2597  937]\n",
      " [ 506  183]]\n",
      "\n",
      "----\n",
      "chi^2 = 96.9007\n",
      "p     = 0.0000\n"
     ]
    }
   ],
   "source": [
    "print('Observed')\n",
    "print(observed.values)\n",
    "print('\\nExpected')\n",
    "print(expected.astype(int))\n",
    "print('\\n----')\n",
    "print(f'chi^2 = {chi2:.4f}')\n",
    "print(f'p     = {p:.4f}')"
   ]
  },
  {
   "cell_type": "code",
   "execution_count": 73,
   "id": "4665d7f3",
   "metadata": {},
   "outputs": [],
   "source": [
    "observed = pd.crosstab(train_telco.internet_service_type, train_telco.churn)\n",
    "chi2, p, degf, expected = stats.chi2_contingency(observed)"
   ]
  },
  {
   "cell_type": "code",
   "execution_count": 74,
   "id": "1e07fa1f",
   "metadata": {},
   "outputs": [
    {
     "name": "stdout",
     "output_type": "stream",
     "text": [
      "Observed\n",
      "[[1149  283]\n",
      " [1100  776]\n",
      " [ 855   62]]\n",
      "\n",
      "Expected\n",
      "[[1052  379]\n",
      " [1378  497]\n",
      " [ 673  243]]\n",
      "\n",
      "----\n",
      "chi^2 = 429.2846\n",
      "p     = 0.0000\n"
     ]
    }
   ],
   "source": [
    "print('Observed')\n",
    "print(observed.values)\n",
    "print('\\nExpected')\n",
    "print(expected.astype(int))\n",
    "print('\\n----')\n",
    "print(f'chi^2 = {chi2:.4f}')\n",
    "print(f'p     = {p:.4f}')"
   ]
  },
  {
   "cell_type": "code",
   "execution_count": 77,
   "id": "2e61ab08",
   "metadata": {},
   "outputs": [],
   "source": [
    "observed = pd.crosstab(train_telco.payment_type, train_telco.churn)\n",
    "chi2, p, degf, expected = stats.chi2_contingency(observed)"
   ]
  },
  {
   "cell_type": "code",
   "execution_count": 78,
   "id": "6954a6c9",
   "metadata": {},
   "outputs": [
    {
     "name": "stdout",
     "output_type": "stream",
     "text": [
      "Observed\n",
      "[[1542  298]\n",
      " [1562  823]]\n",
      "\n",
      "Expected\n",
      "[[1351  488]\n",
      " [1752  632]]\n",
      "\n",
      "----\n",
      "chi^2 = 177.7362\n",
      "p     = 0.0000\n"
     ]
    }
   ],
   "source": [
    "print('Observed')\n",
    "print(observed.values)\n",
    "print('\\nExpected')\n",
    "print(expected.astype(int))\n",
    "print('\\n----')\n",
    "print(f'chi^2 = {chi2:.4f}')\n",
    "print(f'p     = {p:.4f}')"
   ]
  },
  {
   "cell_type": "code",
   "execution_count": 81,
   "id": "1010166b",
   "metadata": {},
   "outputs": [],
   "source": [
    "observed = pd.crosstab(train_telco.contract_type, train_telco.churn)\n",
    "chi2, p, degf, expected = stats.chi2_contingency(observed)"
   ]
  },
  {
   "cell_type": "code",
   "execution_count": 82,
   "id": "38dc81ca",
   "metadata": {},
   "outputs": [
    {
     "name": "stdout",
     "output_type": "stream",
     "text": [
      "Observed\n",
      "[[1344  991]\n",
      " [ 750  104]\n",
      " [1010   26]]\n",
      "\n",
      "Expected\n",
      "[[1715  619]\n",
      " [ 627  226]\n",
      " [ 761  274]]\n",
      "\n",
      "----\n",
      "chi^2 = 700.1525\n",
      "p     = 0.0000\n"
     ]
    }
   ],
   "source": [
    "print('Observed')\n",
    "print(observed.values)\n",
    "print('\\nExpected')\n",
    "print(expected.astype(int))\n",
    "print('\\n----')\n",
    "print(f'chi^2 = {chi2:.4f}')\n",
    "print(f'p     = {p:.4f}')"
   ]
  },
  {
   "cell_type": "code",
   "execution_count": 85,
   "id": "5055d422",
   "metadata": {},
   "outputs": [],
   "source": [
    "observed = pd.crosstab(train_telco.phone_service, train_telco.churn)\n",
    "chi2, p, degf, expected = stats.chi2_contingency(observed)"
   ]
  },
  {
   "cell_type": "code",
   "execution_count": 86,
   "id": "6c706f02",
   "metadata": {},
   "outputs": [
    {
     "name": "stdout",
     "output_type": "stream",
     "text": [
      "Observed\n",
      "[[ 294  106]\n",
      " [2810 1015]]\n",
      "\n",
      "Expected\n",
      "[[ 293  106]\n",
      " [2810 1014]]\n",
      "\n",
      "----\n",
      "chi^2 = 0.0000\n",
      "p     = 1.0000\n"
     ]
    }
   ],
   "source": [
    "print('Observed')\n",
    "print(observed.values)\n",
    "print('\\nExpected')\n",
    "print(expected.astype(int))\n",
    "print('\\n----')\n",
    "print(f'chi^2 = {chi2:.4f}')\n",
    "print(f'p     = {p:.4f}')"
   ]
  },
  {
   "cell_type": "code",
   "execution_count": 89,
   "id": "0008b2da",
   "metadata": {},
   "outputs": [],
   "source": [
    "observed = pd.crosstab(train_telco.multiple_lines, train_telco.churn)\n",
    "chi2, p, degf, expected = stats.chi2_contingency(observed)"
   ]
  },
  {
   "cell_type": "code",
   "execution_count": 90,
   "id": "3842e4fe",
   "metadata": {},
   "outputs": [
    {
     "name": "stdout",
     "output_type": "stream",
     "text": [
      "Observed\n",
      "[[1817  606]\n",
      " [1287  515]]\n",
      "\n",
      "Expected\n",
      "[[1780  642]\n",
      " [1323  478]]\n",
      "\n",
      "----\n",
      "chi^2 = 6.5714\n",
      "p     = 0.0104\n"
     ]
    }
   ],
   "source": [
    "print('Observed')\n",
    "print(observed.values)\n",
    "print('\\nExpected')\n",
    "print(expected.astype(int))\n",
    "print('\\n----')\n",
    "print(f'chi^2 = {chi2:.4f}')\n",
    "print(f'p     = {p:.4f}')"
   ]
  },
  {
   "cell_type": "code",
   "execution_count": 93,
   "id": "b274d5bc",
   "metadata": {},
   "outputs": [],
   "source": [
    "observed = pd.crosstab(train_telco.paperless_billing, train_telco.churn)\n",
    "chi2, p, degf, expected = stats.chi2_contingency(observed)"
   ]
  },
  {
   "cell_type": "code",
   "execution_count": 94,
   "id": "8647e90e",
   "metadata": {},
   "outputs": [
    {
     "name": "stdout",
     "output_type": "stream",
     "text": [
      "Observed\n",
      "[[1427  280]\n",
      " [1677  841]]\n",
      "\n",
      "Expected\n",
      "[[1254  452]\n",
      " [1849  668]]\n",
      "\n",
      "----\n",
      "chi^2 = 149.8964\n",
      "p     = 0.0000\n"
     ]
    }
   ],
   "source": [
    "print('Observed')\n",
    "print(observed.values)\n",
    "print('\\nExpected')\n",
    "print(expected.astype(int))\n",
    "print('\\n----')\n",
    "print(f'chi^2 = {chi2:.4f}')\n",
    "print(f'p     = {p:.4f}')"
   ]
  },
  {
   "cell_type": "code",
   "execution_count": 97,
   "id": "164eabd6",
   "metadata": {},
   "outputs": [],
   "source": [
    "observed = pd.crosstab(train_telco.streaming_tv, train_telco.churn)\n",
    "chi2, p, degf, expected = stats.chi2_contingency(observed)"
   ]
  },
  {
   "cell_type": "code",
   "execution_count": 98,
   "id": "8b655328",
   "metadata": {},
   "outputs": [
    {
     "name": "stdout",
     "output_type": "stream",
     "text": [
      "Observed\n",
      "[[1973  617]\n",
      " [1131  504]]\n",
      "\n",
      "Expected\n",
      "[[1902  687]\n",
      " [1201  433]]\n",
      "\n",
      "----\n",
      "chi^2 = 24.8606\n",
      "p     = 0.0000\n"
     ]
    }
   ],
   "source": [
    "print('Observed')\n",
    "print(observed.values)\n",
    "print('\\nExpected')\n",
    "print(expected.astype(int))\n",
    "print('\\n----')\n",
    "print(f'chi^2 = {chi2:.4f}')\n",
    "print(f'p     = {p:.4f}')"
   ]
  },
  {
   "cell_type": "code",
   "execution_count": 101,
   "id": "0db85584",
   "metadata": {},
   "outputs": [],
   "source": [
    "observed = pd.crosstab(train_telco.streaming_movies, train_telco.churn)\n",
    "chi2, p, degf, expected = stats.chi2_contingency(observed)"
   ]
  },
  {
   "cell_type": "code",
   "execution_count": 102,
   "id": "26832c78",
   "metadata": {},
   "outputs": [
    {
     "name": "stdout",
     "output_type": "stream",
     "text": [
      "Observed\n",
      "[[1953  618]\n",
      " [1151  503]]\n",
      "\n",
      "Expected\n",
      "[[1888  682]\n",
      " [1215  438]]\n",
      "\n",
      "----\n",
      "chi^2 = 20.6507\n",
      "p     = 0.0000\n"
     ]
    }
   ],
   "source": [
    "print('Observed')\n",
    "print(observed.values)\n",
    "print('\\nExpected')\n",
    "print(expected.astype(int))\n",
    "print('\\n----')\n",
    "print(f'chi^2 = {chi2:.4f}')\n",
    "print(f'p     = {p:.4f}')"
   ]
  },
  {
   "cell_type": "code",
   "execution_count": 139,
   "id": "ba99d0b5",
   "metadata": {},
   "outputs": [],
   "source": [
    "observed = pd.crosstab(train_telco.streaming, train_telco.churn)\n",
    "chi2, p, degf, expected = stats.chi2_contingency(observed)"
   ]
  },
  {
   "cell_type": "code",
   "execution_count": 140,
   "id": "1c3cc52c",
   "metadata": {},
   "outputs": [
    {
     "name": "stdout",
     "output_type": "stream",
     "text": [
      "Observed\n",
      "[[1644  468]\n",
      " [ 638  299]\n",
      " [ 822  354]]\n",
      "\n",
      "Expected\n",
      "[[1551  560]\n",
      " [ 688  248]\n",
      " [ 863  312]]\n",
      "\n",
      "----\n",
      "chi^2 = 42.3126\n",
      "p     = 0.0000\n"
     ]
    }
   ],
   "source": [
    "print('Observed')\n",
    "print(observed.values)\n",
    "print('\\nExpected')\n",
    "print(expected.astype(int))\n",
    "print('\\n----')\n",
    "print(f'chi^2 = {chi2:.4f}')\n",
    "print(f'p     = {p:.4f}')"
   ]
  },
  {
   "cell_type": "code",
   "execution_count": 105,
   "id": "08878a7c",
   "metadata": {},
   "outputs": [],
   "source": [
    "observed = pd.crosstab(train_telco.online_security, train_telco.churn)\n",
    "chi2, p, degf, expected = stats.chi2_contingency(observed)"
   ]
  },
  {
   "cell_type": "code",
   "execution_count": 106,
   "id": "dc7b0906",
   "metadata": {},
   "outputs": [
    {
     "name": "stdout",
     "output_type": "stream",
     "text": [
      "Observed\n",
      "[[2103  931]\n",
      " [1001  190]]\n",
      "\n",
      "Expected\n",
      "[[2229  804]\n",
      " [ 874  316]]\n",
      "\n",
      "----\n",
      "chi^2 = 94.4781\n",
      "p     = 0.0000\n"
     ]
    }
   ],
   "source": [
    "print('Observed')\n",
    "print(observed.values)\n",
    "print('\\nExpected')\n",
    "print(expected.astype(int))\n",
    "print('\\n----')\n",
    "print(f'chi^2 = {chi2:.4f}')\n",
    "print(f'p     = {p:.4f}')"
   ]
  },
  {
   "cell_type": "code",
   "execution_count": 109,
   "id": "2596ae9a",
   "metadata": {},
   "outputs": [],
   "source": [
    "observed = pd.crosstab(train_telco.device_protection, train_telco.churn)\n",
    "chi2, p, degf, expected = stats.chi2_contingency(observed)"
   ]
  },
  {
   "cell_type": "code",
   "execution_count": 110,
   "id": "61c8bdf7",
   "metadata": {},
   "outputs": [
    {
     "name": "stdout",
     "output_type": "stream",
     "text": [
      "Observed\n",
      "[[1972  783]\n",
      " [1132  338]]\n",
      "\n",
      "Expected\n",
      "[[2024  730]\n",
      " [1079  390]]\n",
      "\n",
      "----\n",
      "chi^2 = 14.2104\n",
      "p     = 0.0002\n"
     ]
    }
   ],
   "source": [
    "print('Observed')\n",
    "print(observed.values)\n",
    "print('\\nExpected')\n",
    "print(expected.astype(int))\n",
    "print('\\n----')\n",
    "print(f'chi^2 = {chi2:.4f}')\n",
    "print(f'p     = {p:.4f}')"
   ]
  },
  {
   "cell_type": "code",
   "execution_count": 113,
   "id": "b13bfcd6",
   "metadata": {},
   "outputs": [],
   "source": [
    "observed = pd.crosstab(train_telco.tech_support, train_telco.churn)\n",
    "chi2, p, degf, expected = stats.chi2_contingency(observed)"
   ]
  },
  {
   "cell_type": "code",
   "execution_count": 114,
   "id": "fbfe57c8",
   "metadata": {},
   "outputs": [
    {
     "name": "stdout",
     "output_type": "stream",
     "text": [
      "Observed\n",
      "[[2076  927]\n",
      " [1028  194]]\n",
      "\n",
      "Expected\n",
      "[[2206  796]\n",
      " [ 897  324]]\n",
      "\n",
      "----\n",
      "chi^2 = 99.4012\n",
      "p     = 0.0000\n"
     ]
    }
   ],
   "source": [
    "print('Observed')\n",
    "print(observed.values)\n",
    "print('\\nExpected')\n",
    "print(expected.astype(int))\n",
    "print('\\n----')\n",
    "print(f'chi^2 = {chi2:.4f}')\n",
    "print(f'p     = {p:.4f}')"
   ]
  },
  {
   "cell_type": "code",
   "execution_count": 117,
   "id": "988a3d3e",
   "metadata": {},
   "outputs": [],
   "source": [
    "observed = pd.crosstab(train_telco.online_backup, train_telco.churn)\n",
    "chi2, p, degf, expected = stats.chi2_contingency(observed)"
   ]
  },
  {
   "cell_type": "code",
   "execution_count": 118,
   "id": "f048c415",
   "metadata": {},
   "outputs": [
    {
     "name": "stdout",
     "output_type": "stream",
     "text": [
      "Observed\n",
      "[[1973  807]\n",
      " [1131  314]]\n",
      "\n",
      "Expected\n",
      "[[2042  737]\n",
      " [1061  383]]\n",
      "\n",
      "----\n",
      "chi^2 = 25.6106\n",
      "p     = 0.0000\n"
     ]
    }
   ],
   "source": [
    "print('Observed')\n",
    "print(observed.values)\n",
    "print('\\nExpected')\n",
    "print(expected.astype(int))\n",
    "print('\\n----')\n",
    "print(f'chi^2 = {chi2:.4f}')\n",
    "print(f'p     = {p:.4f}')"
   ]
  },
  {
   "cell_type": "code",
   "execution_count": 137,
   "id": "ab666cc4",
   "metadata": {},
   "outputs": [],
   "source": [
    "observed = pd.crosstab(train_telco.extras, train_telco.churn)\n",
    "chi2, p, degf, expected = stats.chi2_contingency(observed)"
   ]
  },
  {
   "cell_type": "code",
   "execution_count": 138,
   "id": "10373aa7",
   "metadata": {},
   "outputs": [
    {
     "name": "stdout",
     "output_type": "stream",
     "text": [
      "Observed\n",
      "[[1189  493]\n",
      " [ 542  328]\n",
      " [ 622  207]\n",
      " [ 498   78]\n",
      " [ 253   15]]\n",
      "\n",
      "Expected\n",
      "[[1235  446]\n",
      " [ 639  230]\n",
      " [ 609  219]\n",
      " [ 423  152]\n",
      " [ 196   71]]\n",
      "\n",
      "----\n",
      "chi^2 = 173.4979\n",
      "p     = 0.0000\n"
     ]
    }
   ],
   "source": [
    "print('Observed')\n",
    "print(observed.values)\n",
    "print('\\nExpected')\n",
    "print(expected.astype(int))\n",
    "print('\\n----')\n",
    "print(f'chi^2 = {chi2:.4f}')\n",
    "print(f'p     = {p:.4f}')"
   ]
  },
  {
   "cell_type": "code",
   "execution_count": 121,
   "id": "b681d6df",
   "metadata": {},
   "outputs": [],
   "source": [
    "observed = pd.crosstab(train_telco.partner, train_telco.churn)\n",
    "chi2, p, degf, expected = stats.chi2_contingency(observed)"
   ]
  },
  {
   "cell_type": "code",
   "execution_count": 122,
   "id": "4ceadb77",
   "metadata": {},
   "outputs": [
    {
     "name": "stdout",
     "output_type": "stream",
     "text": [
      "Observed\n",
      "[[1437  702]\n",
      " [1667  419]]\n",
      "\n",
      "Expected\n",
      "[[1571  567]\n",
      " [1532  553]]\n",
      "\n",
      "----\n",
      "chi^2 = 87.1838\n",
      "p     = 0.0000\n"
     ]
    }
   ],
   "source": [
    "print('Observed')\n",
    "print(observed.values)\n",
    "print('\\nExpected')\n",
    "print(expected.astype(int))\n",
    "print('\\n----')\n",
    "print(f'chi^2 = {chi2:.4f}')\n",
    "print(f'p     = {p:.4f}')"
   ]
  },
  {
   "cell_type": "code",
   "execution_count": 125,
   "id": "ad08b79f",
   "metadata": {},
   "outputs": [],
   "source": [
    "observed = pd.crosstab(train_telco.dependents, train_telco.churn)\n",
    "chi2, p, degf, expected = stats.chi2_contingency(observed)"
   ]
  },
  {
   "cell_type": "code",
   "execution_count": 126,
   "id": "43c82c11",
   "metadata": {},
   "outputs": [
    {
     "name": "stdout",
     "output_type": "stream",
     "text": [
      "Observed\n",
      "[[2038  927]\n",
      " [1066  194]]\n",
      "\n",
      "Expected\n",
      "[[2178  786]\n",
      " [ 925  334]]\n",
      "\n",
      "----\n",
      "chi^2 = 113.4056\n",
      "p     = 0.0000\n"
     ]
    }
   ],
   "source": [
    "print('Observed')\n",
    "print(observed.values)\n",
    "print('\\nExpected')\n",
    "print(expected.astype(int))\n",
    "print('\\n----')\n",
    "print(f'chi^2 = {chi2:.4f}')\n",
    "print(f'p     = {p:.4f}')"
   ]
  },
  {
   "cell_type": "markdown",
   "id": "1d43a4c2",
   "metadata": {},
   "source": [
    "#### Findings:\n",
    "\n",
    "- The average monthly charge for customers who churned was 74.9 percent.\n",
    "\n",
    "- Churn decreases as tenure increases.\n",
    "\n",
    "- Senior citizens are more likely to churn than non-senior citizens.\n",
    "\n",
    "- Customers with fiber optic internet service type are more likely to churn than no internet service and DSL.\n",
    "\n",
    "- Customers with automatic payment are less likely to churn.\n",
    "\n",
    "- Customers with contracts are less likely to churn than month-to-month customers.\n",
    "\n",
    "- Customers without paperless billing appear less likely to churn.\n",
    "\n",
    "- Customers with dependents are less likely to churn.\n",
    "\n"
   ]
  },
  {
   "cell_type": "markdown",
   "id": "bc2f2d8c",
   "metadata": {},
   "source": [
    "### Multivariate analysis"
   ]
  },
  {
   "cell_type": "code",
   "execution_count": 97,
   "id": "f43dfad3",
   "metadata": {},
   "outputs": [
    {
     "data": {
      "image/png": "[encoded data removed]",
      "text/plain": [
       "<Figure size 1440x1440 with 8 Axes>"
      ]
     },
     "metadata": {
      "needs_background": "light"
     },
     "output_type": "display_data"
    }
   ],
   "source": [
    "plt.figure(figsize=[20,20])\n",
    "\n",
    "plt.subplot(341)\n",
    "sns.barplot(x=train_telco.contract_type, y=train_telco.monthly_charges, hue=train_telco.churn)\n",
    "\n",
    "plt.subplot(342)\n",
    "sns.scatterplot(x=train_telco.monthly_charges, y=train_telco.tenure, hue=train_telco.churn)\n",
    "\n",
    "plt.subplot(343)\n",
    "sns.barplot(x=train_telco.internet_service_type, y=train_telco.monthly_charges, hue=train_telco.churn)\n",
    "\n",
    "plt.subplot(344)\n",
    "sns.barplot(x=train_telco.phone_service, y=train_telco.tenure, hue=train_telco.churn)\n",
    "\n",
    "plt.subplot(345)\n",
    "sns.barplot(x=train_telco.contract_type, y=train_telco.tenure, hue=train_telco.churn)\n",
    "\n",
    "plt.subplot(346)\n",
    "sns.barplot(x=train_telco.internet_service_type, y=train_telco.tenure, hue=train_telco.churn)\n",
    "\n",
    "plt.subplot(347)\n",
    "sns.barplot(x=train_telco.extras, y=train_telco.monthly_charges, hue=train_telco.churn)\n",
    "\n",
    "plt.subplot(348)\n",
    "sns.barplot(x=train_telco.extras, y=train_telco.tenure, hue=train_telco.churn)\n",
    "\n",
    "plt.show()"
   ]
  },
  {
   "cell_type": "markdown",
   "id": "6925c543",
   "metadata": {},
   "source": [
    "#### Findings:\n",
    "\n",
    "- higher monthly charges appears to increase the likelihood of churn across all contract types.\n",
    "\n",
    "- higher monthly charges and lower tenure appears to have a greater likelihood of churn.\n",
    "\n",
    "- \n",
    "\n"
   ]
  },
  {
   "cell_type": "markdown",
   "id": "ba0b06ac",
   "metadata": {},
   "source": [
    "### Modeling"
   ]
  },
  {
   "cell_type": "code",
   "execution_count": 254,
   "id": "b3f16154",
   "metadata": {},
   "outputs": [
    {
     "data": {
      "text/plain": [
       "0.7346745562130178"
      ]
     },
     "execution_count": 254,
     "metadata": {},
     "output_type": "execute_result"
    }
   ],
   "source": [
    "# Baseline prediction is customers do not churn\n",
    "\n",
    "baseline = len(train_telco[train_telco.churn == 0]) / len(train_telco)\n",
    "baseline"
   ]
  },
  {
   "cell_type": "code",
   "execution_count": 255,
   "id": "755e884f",
   "metadata": {},
   "outputs": [],
   "source": [
    "model1 = DecisionTreeClassifier(max_depth=4)"
   ]
  },
  {
   "cell_type": "code",
   "execution_count": 259,
   "id": "3acc5731",
   "metadata": {},
   "outputs": [],
   "source": [
    "X_col1 = ['tenure', 'monthly_charges', 'contract_type_id', 'internet_service_type_id', 'senior_citizen', 'partner', 'dependents', 'extras', 'streaming']\n",
    "y_col1 = 'churn'\n",
    "\n",
    "X_train1, y_train1 = train_telco[X_col1], train_telco[y_col1]\n",
    "X_validate1, y_validate1 = validate_telco[X_col1], validate_telco[y_col1]"
   ]
  },
  {
   "cell_type": "code",
   "execution_count": 260,
   "id": "4d33121f",
   "metadata": {},
   "outputs": [
    {
     "name": "stdout",
     "output_type": "stream",
     "text": [
      "training score: 79.05%\n",
      "validate score: 79.84%\n"
     ]
    }
   ],
   "source": [
    "model1.fit(X_train1, y_train1)\n",
    "print(f'training score: {model1.score(X_train1, y_train1):.2%}')\n",
    "print(f'validate score: {model1.score(X_validate1, y_validate1):.2%}')"
   ]
  },
  {
   "cell_type": "code",
   "execution_count": 261,
   "id": "6ef2920a",
   "metadata": {},
   "outputs": [
    {
     "ename": "IndexError",
     "evalue": "list index out of range",
     "output_type": "error",
     "traceback": [
      "\u001b[0;31m---------------------------------------------------------------------------\u001b[0m",
      "\u001b[0;31mIndexError\u001b[0m                                Traceback (most recent call last)",
      "Input \u001b[0;32mIn [261]\u001b[0m, in \u001b[0;36m<cell line: 2>\u001b[0;34m()\u001b[0m\n\u001b[1;32m      1\u001b[0m plt\u001b[38;5;241m.\u001b[39mfigure(figsize\u001b[38;5;241m=\u001b[39m(\u001b[38;5;241m24\u001b[39m,\u001b[38;5;241m12\u001b[39m))\n\u001b[0;32m----> 2\u001b[0m \u001b[43mplot_tree\u001b[49m\u001b[43m(\u001b[49m\u001b[43mmodel1\u001b[49m\u001b[43m,\u001b[49m\u001b[43m \u001b[49m\u001b[43mfeature_names\u001b[49m\u001b[38;5;241;43m=\u001b[39;49m\u001b[43mX_train\u001b[49m\u001b[38;5;241;43m.\u001b[39;49m\u001b[43mcolumns\u001b[49m\u001b[38;5;241;43m.\u001b[39;49m\u001b[43mto_list\u001b[49m\u001b[43m(\u001b[49m\u001b[43m)\u001b[49m\u001b[43m,\u001b[49m\u001b[43m \u001b[49m\u001b[43mclass_names\u001b[49m\u001b[38;5;241;43m=\u001b[39;49m\u001b[43m[\u001b[49m\u001b[38;5;124;43m'\u001b[39;49m\u001b[38;5;124;43mno churn\u001b[39;49m\u001b[38;5;124;43m'\u001b[39;49m\u001b[43m,\u001b[49m\u001b[43m \u001b[49m\u001b[38;5;124;43m'\u001b[39;49m\u001b[38;5;124;43mchurn\u001b[39;49m\u001b[38;5;124;43m'\u001b[39;49m\u001b[43m]\u001b[49m\u001b[43m)\u001b[49m\n",
      "File \u001b[0;32m/opt/homebrew/anaconda3/lib/python3.9/site-packages/sklearn/tree/_export.py:195\u001b[0m, in \u001b[0;36mplot_tree\u001b[0;34m(decision_tree, max_depth, feature_names, class_names, label, filled, impurity, node_ids, proportion, rounded, precision, ax, fontsize)\u001b[0m\n\u001b[1;32m    180\u001b[0m check_is_fitted(decision_tree)\n\u001b[1;32m    182\u001b[0m exporter \u001b[38;5;241m=\u001b[39m _MPLTreeExporter(\n\u001b[1;32m    183\u001b[0m     max_depth\u001b[38;5;241m=\u001b[39mmax_depth,\n\u001b[1;32m    184\u001b[0m     feature_names\u001b[38;5;241m=\u001b[39mfeature_names,\n\u001b[0;32m   (...)\u001b[0m\n\u001b[1;32m    193\u001b[0m     fontsize\u001b[38;5;241m=\u001b[39mfontsize,\n\u001b[1;32m    194\u001b[0m )\n\u001b[0;32m--> 195\u001b[0m \u001b[38;5;28;01mreturn\u001b[39;00m \u001b[43mexporter\u001b[49m\u001b[38;5;241;43m.\u001b[39;49m\u001b[43mexport\u001b[49m\u001b[43m(\u001b[49m\u001b[43mdecision_tree\u001b[49m\u001b[43m,\u001b[49m\u001b[43m \u001b[49m\u001b[43max\u001b[49m\u001b[38;5;241;43m=\u001b[39;49m\u001b[43max\u001b[49m\u001b[43m)\u001b[49m\n",
      "File \u001b[0;32m/opt/homebrew/anaconda3/lib/python3.9/site-packages/sklearn/tree/_export.py:656\u001b[0m, in \u001b[0;36m_MPLTreeExporter.export\u001b[0;34m(self, decision_tree, ax)\u001b[0m\n\u001b[1;32m    654\u001b[0m ax\u001b[38;5;241m.\u001b[39mclear()\n\u001b[1;32m    655\u001b[0m ax\u001b[38;5;241m.\u001b[39mset_axis_off()\n\u001b[0;32m--> 656\u001b[0m my_tree \u001b[38;5;241m=\u001b[39m \u001b[38;5;28;43mself\u001b[39;49m\u001b[38;5;241;43m.\u001b[39;49m\u001b[43m_make_tree\u001b[49m\u001b[43m(\u001b[49m\u001b[38;5;241;43m0\u001b[39;49m\u001b[43m,\u001b[49m\u001b[43m \u001b[49m\u001b[43mdecision_tree\u001b[49m\u001b[38;5;241;43m.\u001b[39;49m\u001b[43mtree_\u001b[49m\u001b[43m,\u001b[49m\u001b[43m \u001b[49m\u001b[43mdecision_tree\u001b[49m\u001b[38;5;241;43m.\u001b[39;49m\u001b[43mcriterion\u001b[49m\u001b[43m)\u001b[49m\n\u001b[1;32m    657\u001b[0m draw_tree \u001b[38;5;241m=\u001b[39m buchheim(my_tree)\n\u001b[1;32m    659\u001b[0m \u001b[38;5;66;03m# important to make sure we're still\u001b[39;00m\n\u001b[1;32m    660\u001b[0m \u001b[38;5;66;03m# inside the axis after drawing the box\u001b[39;00m\n\u001b[1;32m    661\u001b[0m \u001b[38;5;66;03m# this makes sense because the width of a box\u001b[39;00m\n\u001b[1;32m    662\u001b[0m \u001b[38;5;66;03m# is about the same as the distance between boxes\u001b[39;00m\n",
      "File \u001b[0;32m/opt/homebrew/anaconda3/lib/python3.9/site-packages/sklearn/tree/_export.py:640\u001b[0m, in \u001b[0;36m_MPLTreeExporter._make_tree\u001b[0;34m(self, node_id, et, criterion, depth)\u001b[0m\n\u001b[1;32m    632\u001b[0m name \u001b[38;5;241m=\u001b[39m \u001b[38;5;28mself\u001b[39m\u001b[38;5;241m.\u001b[39mnode_to_str(et, node_id, criterion\u001b[38;5;241m=\u001b[39mcriterion)\n\u001b[1;32m    633\u001b[0m \u001b[38;5;28;01mif\u001b[39;00m et\u001b[38;5;241m.\u001b[39mchildren_left[node_id] \u001b[38;5;241m!=\u001b[39m _tree\u001b[38;5;241m.\u001b[39mTREE_LEAF \u001b[38;5;129;01mand\u001b[39;00m (\n\u001b[1;32m    634\u001b[0m     \u001b[38;5;28mself\u001b[39m\u001b[38;5;241m.\u001b[39mmax_depth \u001b[38;5;129;01mis\u001b[39;00m \u001b[38;5;28;01mNone\u001b[39;00m \u001b[38;5;129;01mor\u001b[39;00m depth \u001b[38;5;241m<\u001b[39m\u001b[38;5;241m=\u001b[39m \u001b[38;5;28mself\u001b[39m\u001b[38;5;241m.\u001b[39mmax_depth\n\u001b[1;32m    635\u001b[0m ):\n\u001b[1;32m    636\u001b[0m     children \u001b[38;5;241m=\u001b[39m [\n\u001b[1;32m    637\u001b[0m         \u001b[38;5;28mself\u001b[39m\u001b[38;5;241m.\u001b[39m_make_tree(\n\u001b[1;32m    638\u001b[0m             et\u001b[38;5;241m.\u001b[39mchildren_left[node_id], et, criterion, depth\u001b[38;5;241m=\u001b[39mdepth \u001b[38;5;241m+\u001b[39m \u001b[38;5;241m1\u001b[39m\n\u001b[1;32m    639\u001b[0m         ),\n\u001b[0;32m--> 640\u001b[0m         \u001b[38;5;28;43mself\u001b[39;49m\u001b[38;5;241;43m.\u001b[39;49m\u001b[43m_make_tree\u001b[49m\u001b[43m(\u001b[49m\n\u001b[1;32m    641\u001b[0m \u001b[43m            \u001b[49m\u001b[43met\u001b[49m\u001b[38;5;241;43m.\u001b[39;49m\u001b[43mchildren_right\u001b[49m\u001b[43m[\u001b[49m\u001b[43mnode_id\u001b[49m\u001b[43m]\u001b[49m\u001b[43m,\u001b[49m\u001b[43m \u001b[49m\u001b[43met\u001b[49m\u001b[43m,\u001b[49m\u001b[43m \u001b[49m\u001b[43mcriterion\u001b[49m\u001b[43m,\u001b[49m\u001b[43m \u001b[49m\u001b[43mdepth\u001b[49m\u001b[38;5;241;43m=\u001b[39;49m\u001b[43mdepth\u001b[49m\u001b[43m \u001b[49m\u001b[38;5;241;43m+\u001b[39;49m\u001b[43m \u001b[49m\u001b[38;5;241;43m1\u001b[39;49m\n\u001b[1;32m    642\u001b[0m \u001b[43m        \u001b[49m\u001b[43m)\u001b[49m,\n\u001b[1;32m    643\u001b[0m     ]\n\u001b[1;32m    644\u001b[0m \u001b[38;5;28;01melse\u001b[39;00m:\n\u001b[1;32m    645\u001b[0m     \u001b[38;5;28;01mreturn\u001b[39;00m Tree(name, node_id)\n",
      "File \u001b[0;32m/opt/homebrew/anaconda3/lib/python3.9/site-packages/sklearn/tree/_export.py:637\u001b[0m, in \u001b[0;36m_MPLTreeExporter._make_tree\u001b[0;34m(self, node_id, et, criterion, depth)\u001b[0m\n\u001b[1;32m    632\u001b[0m name \u001b[38;5;241m=\u001b[39m \u001b[38;5;28mself\u001b[39m\u001b[38;5;241m.\u001b[39mnode_to_str(et, node_id, criterion\u001b[38;5;241m=\u001b[39mcriterion)\n\u001b[1;32m    633\u001b[0m \u001b[38;5;28;01mif\u001b[39;00m et\u001b[38;5;241m.\u001b[39mchildren_left[node_id] \u001b[38;5;241m!=\u001b[39m _tree\u001b[38;5;241m.\u001b[39mTREE_LEAF \u001b[38;5;129;01mand\u001b[39;00m (\n\u001b[1;32m    634\u001b[0m     \u001b[38;5;28mself\u001b[39m\u001b[38;5;241m.\u001b[39mmax_depth \u001b[38;5;129;01mis\u001b[39;00m \u001b[38;5;28;01mNone\u001b[39;00m \u001b[38;5;129;01mor\u001b[39;00m depth \u001b[38;5;241m<\u001b[39m\u001b[38;5;241m=\u001b[39m \u001b[38;5;28mself\u001b[39m\u001b[38;5;241m.\u001b[39mmax_depth\n\u001b[1;32m    635\u001b[0m ):\n\u001b[1;32m    636\u001b[0m     children \u001b[38;5;241m=\u001b[39m [\n\u001b[0;32m--> 637\u001b[0m         \u001b[38;5;28;43mself\u001b[39;49m\u001b[38;5;241;43m.\u001b[39;49m\u001b[43m_make_tree\u001b[49m\u001b[43m(\u001b[49m\n\u001b[1;32m    638\u001b[0m \u001b[43m            \u001b[49m\u001b[43met\u001b[49m\u001b[38;5;241;43m.\u001b[39;49m\u001b[43mchildren_left\u001b[49m\u001b[43m[\u001b[49m\u001b[43mnode_id\u001b[49m\u001b[43m]\u001b[49m\u001b[43m,\u001b[49m\u001b[43m \u001b[49m\u001b[43met\u001b[49m\u001b[43m,\u001b[49m\u001b[43m \u001b[49m\u001b[43mcriterion\u001b[49m\u001b[43m,\u001b[49m\u001b[43m \u001b[49m\u001b[43mdepth\u001b[49m\u001b[38;5;241;43m=\u001b[39;49m\u001b[43mdepth\u001b[49m\u001b[43m \u001b[49m\u001b[38;5;241;43m+\u001b[39;49m\u001b[43m \u001b[49m\u001b[38;5;241;43m1\u001b[39;49m\n\u001b[1;32m    639\u001b[0m \u001b[43m        \u001b[49m\u001b[43m)\u001b[49m,\n\u001b[1;32m    640\u001b[0m         \u001b[38;5;28mself\u001b[39m\u001b[38;5;241m.\u001b[39m_make_tree(\n\u001b[1;32m    641\u001b[0m             et\u001b[38;5;241m.\u001b[39mchildren_right[node_id], et, criterion, depth\u001b[38;5;241m=\u001b[39mdepth \u001b[38;5;241m+\u001b[39m \u001b[38;5;241m1\u001b[39m\n\u001b[1;32m    642\u001b[0m         ),\n\u001b[1;32m    643\u001b[0m     ]\n\u001b[1;32m    644\u001b[0m \u001b[38;5;28;01melse\u001b[39;00m:\n\u001b[1;32m    645\u001b[0m     \u001b[38;5;28;01mreturn\u001b[39;00m Tree(name, node_id)\n",
      "File \u001b[0;32m/opt/homebrew/anaconda3/lib/python3.9/site-packages/sklearn/tree/_export.py:632\u001b[0m, in \u001b[0;36m_MPLTreeExporter._make_tree\u001b[0;34m(self, node_id, et, criterion, depth)\u001b[0m\n\u001b[1;32m    629\u001b[0m \u001b[38;5;28;01mdef\u001b[39;00m \u001b[38;5;21m_make_tree\u001b[39m(\u001b[38;5;28mself\u001b[39m, node_id, et, criterion, depth\u001b[38;5;241m=\u001b[39m\u001b[38;5;241m0\u001b[39m):\n\u001b[1;32m    630\u001b[0m     \u001b[38;5;66;03m# traverses _tree.Tree recursively, builds intermediate\u001b[39;00m\n\u001b[1;32m    631\u001b[0m     \u001b[38;5;66;03m# \"_reingold_tilford.Tree\" object\u001b[39;00m\n\u001b[0;32m--> 632\u001b[0m     name \u001b[38;5;241m=\u001b[39m \u001b[38;5;28;43mself\u001b[39;49m\u001b[38;5;241;43m.\u001b[39;49m\u001b[43mnode_to_str\u001b[49m\u001b[43m(\u001b[49m\u001b[43met\u001b[49m\u001b[43m,\u001b[49m\u001b[43m \u001b[49m\u001b[43mnode_id\u001b[49m\u001b[43m,\u001b[49m\u001b[43m \u001b[49m\u001b[43mcriterion\u001b[49m\u001b[38;5;241;43m=\u001b[39;49m\u001b[43mcriterion\u001b[49m\u001b[43m)\u001b[49m\n\u001b[1;32m    633\u001b[0m     \u001b[38;5;28;01mif\u001b[39;00m et\u001b[38;5;241m.\u001b[39mchildren_left[node_id] \u001b[38;5;241m!=\u001b[39m _tree\u001b[38;5;241m.\u001b[39mTREE_LEAF \u001b[38;5;129;01mand\u001b[39;00m (\n\u001b[1;32m    634\u001b[0m         \u001b[38;5;28mself\u001b[39m\u001b[38;5;241m.\u001b[39mmax_depth \u001b[38;5;129;01mis\u001b[39;00m \u001b[38;5;28;01mNone\u001b[39;00m \u001b[38;5;129;01mor\u001b[39;00m depth \u001b[38;5;241m<\u001b[39m\u001b[38;5;241m=\u001b[39m \u001b[38;5;28mself\u001b[39m\u001b[38;5;241m.\u001b[39mmax_depth\n\u001b[1;32m    635\u001b[0m     ):\n\u001b[1;32m    636\u001b[0m         children \u001b[38;5;241m=\u001b[39m [\n\u001b[1;32m    637\u001b[0m             \u001b[38;5;28mself\u001b[39m\u001b[38;5;241m.\u001b[39m_make_tree(\n\u001b[1;32m    638\u001b[0m                 et\u001b[38;5;241m.\u001b[39mchildren_left[node_id], et, criterion, depth\u001b[38;5;241m=\u001b[39mdepth \u001b[38;5;241m+\u001b[39m \u001b[38;5;241m1\u001b[39m\n\u001b[0;32m   (...)\u001b[0m\n\u001b[1;32m    642\u001b[0m             ),\n\u001b[1;32m    643\u001b[0m         ]\n",
      "File \u001b[0;32m/opt/homebrew/anaconda3/lib/python3.9/site-packages/sklearn/tree/_export.py:292\u001b[0m, in \u001b[0;36m_BaseTreeExporter.node_to_str\u001b[0;34m(self, tree, node_id, criterion)\u001b[0m\n\u001b[1;32m    289\u001b[0m \u001b[38;5;28;01mif\u001b[39;00m tree\u001b[38;5;241m.\u001b[39mchildren_left[node_id] \u001b[38;5;241m!=\u001b[39m _tree\u001b[38;5;241m.\u001b[39mTREE_LEAF:\n\u001b[1;32m    290\u001b[0m     \u001b[38;5;66;03m# Always write node decision criteria, except for leaves\u001b[39;00m\n\u001b[1;32m    291\u001b[0m     \u001b[38;5;28;01mif\u001b[39;00m \u001b[38;5;28mself\u001b[39m\u001b[38;5;241m.\u001b[39mfeature_names \u001b[38;5;129;01mis\u001b[39;00m \u001b[38;5;129;01mnot\u001b[39;00m \u001b[38;5;28;01mNone\u001b[39;00m:\n\u001b[0;32m--> 292\u001b[0m         feature \u001b[38;5;241m=\u001b[39m \u001b[38;5;28;43mself\u001b[39;49m\u001b[38;5;241;43m.\u001b[39;49m\u001b[43mfeature_names\u001b[49m\u001b[43m[\u001b[49m\u001b[43mtree\u001b[49m\u001b[38;5;241;43m.\u001b[39;49m\u001b[43mfeature\u001b[49m\u001b[43m[\u001b[49m\u001b[43mnode_id\u001b[49m\u001b[43m]\u001b[49m\u001b[43m]\u001b[49m\n\u001b[1;32m    293\u001b[0m     \u001b[38;5;28;01melse\u001b[39;00m:\n\u001b[1;32m    294\u001b[0m         feature \u001b[38;5;241m=\u001b[39m \u001b[38;5;124m\"\u001b[39m\u001b[38;5;124mX\u001b[39m\u001b[38;5;132;01m%s\u001b[39;00m\u001b[38;5;132;01m%s\u001b[39;00m\u001b[38;5;132;01m%s\u001b[39;00m\u001b[38;5;124m\"\u001b[39m \u001b[38;5;241m%\u001b[39m (\n\u001b[1;32m    295\u001b[0m             characters[\u001b[38;5;241m1\u001b[39m],\n\u001b[1;32m    296\u001b[0m             tree\u001b[38;5;241m.\u001b[39mfeature[node_id],\n\u001b[1;32m    297\u001b[0m             characters[\u001b[38;5;241m2\u001b[39m],\n\u001b[1;32m    298\u001b[0m         )\n",
      "\u001b[0;31mIndexError\u001b[0m: list index out of range"
     ]
    },
    {
     "data": {
      "image/png": "[encoded data removed]",
      "text/plain": [
       "<Figure size 1728x864 with 1 Axes>"
      ]
     },
     "metadata": {
      "needs_background": "light"
     },
     "output_type": "display_data"
    }
   ],
   "source": [
    "plt.figure(figsize=(24,12))\n",
    "plot_tree(model1, feature_names=X_train.columns.to_list(), class_names=['no churn', 'churn']);"
   ]
  },
  {
   "cell_type": "code",
   "execution_count": 262,
   "id": "4781bd0d",
   "metadata": {},
   "outputs": [],
   "source": [
    "model2 = RandomForestClassifier(bootstrap=True, class_weight=None, criterion='gini', min_samples_leaf=3, \n",
    "                                 n_estimators=100, max_depth=6, random_state=217)"
   ]
  },
  {
   "cell_type": "code",
   "execution_count": 263,
   "id": "eaa50f3b",
   "metadata": {},
   "outputs": [
    {
     "data": {
      "text/plain": [
       "RandomForestClassifier(max_depth=6, min_samples_leaf=3, random_state=217)"
      ]
     },
     "execution_count": 263,
     "metadata": {},
     "output_type": "execute_result"
    }
   ],
   "source": [
    "model2.fit(X_train1, y_train1)"
   ]
  },
  {
   "cell_type": "code",
   "execution_count": 264,
   "id": "f5acc571",
   "metadata": {},
   "outputs": [
    {
     "data": {
      "image/png": "[encoded data removed]",
      "text/plain": [
       "<Figure size 432x288 with 1 Axes>"
      ]
     },
     "metadata": {
      "needs_background": "light"
     },
     "output_type": "display_data"
    }
   ],
   "source": [
    "plt.bar(X_train1.columns, model2.feature_importances_)\n",
    "plt.xticks(rotation=90)\n",
    "plt.show()"
   ]
  },
  {
   "cell_type": "code",
   "execution_count": 265,
   "id": "0a7edb72",
   "metadata": {},
   "outputs": [
    {
     "name": "stdout",
     "output_type": "stream",
     "text": [
      "Accuracy of random forest classifier on training set: 0.80\n",
      "              precision    recall  f1-score   support\n",
      "\n",
      "           0       0.83      0.93      0.87      3104\n",
      "           1       0.70      0.46      0.56      1121\n",
      "\n",
      "    accuracy                           0.80      4225\n",
      "   macro avg       0.76      0.70      0.72      4225\n",
      "weighted avg       0.79      0.80      0.79      4225\n",
      "\n"
     ]
    }
   ],
   "source": [
    "y_pred2 = model2.predict(X_train1)\n",
    "y_pred_proba2 = model2.predict_proba(X_train1)\n",
    "print('Accuracy of random forest classifier on training set: {:.2f}'\n",
    "     .format(model2.score(X_train1, y_train1)))\n",
    "print(classification_report(y_train1, y_pred2))"
   ]
  },
  {
   "cell_type": "code",
   "execution_count": 266,
   "id": "6b8574c2",
   "metadata": {},
   "outputs": [
    {
     "name": "stdout",
     "output_type": "stream",
     "text": [
      "Accuracy of random forest classifier on test set: 0.81\n",
      "              precision    recall  f1-score   support\n",
      "\n",
      "           0       0.83      0.92      0.87      1035\n",
      "           1       0.69      0.49      0.57       374\n",
      "\n",
      "    accuracy                           0.81      1409\n",
      "   macro avg       0.76      0.70      0.72      1409\n",
      "weighted avg       0.80      0.81      0.79      1409\n",
      "\n"
     ]
    }
   ],
   "source": [
    "y_pred2 = model2.predict(X_validate1)\n",
    "y_pred_proba2 = model2.predict_proba(X_validate1)\n",
    "print('Accuracy of random forest classifier on test set: {:.2f}'\n",
    "     .format(model2.score(X_validate1, y_validate1)))\n",
    "print(classification_report(y_validate1, y_pred2))"
   ]
  },
  {
   "cell_type": "code",
   "execution_count": 267,
   "id": "c50ddc0e",
   "metadata": {},
   "outputs": [
    {
     "data": {
      "text/html": [
       "<div>\n",
       "<style scoped>\n",
       "    .dataframe tbody tr th:only-of-type {\n",
       "        vertical-align: middle;\n",
       "    }\n",
       "\n",
       "    .dataframe tbody tr th {\n",
       "        vertical-align: top;\n",
       "    }\n",
       "\n",
       "    .dataframe thead th {\n",
       "        text-align: right;\n",
       "    }\n",
       "</style>\n",
       "<table border=\"1\" class=\"dataframe\">\n",
       "  <thead>\n",
       "    <tr style=\"text-align: right;\">\n",
       "      <th></th>\n",
       "      <th>max_depth</th>\n",
       "      <th>train_accuracy</th>\n",
       "      <th>validate_accuracy</th>\n",
       "      <th>difference</th>\n",
       "    </tr>\n",
       "  </thead>\n",
       "  <tbody>\n",
       "    <tr>\n",
       "      <th>0</th>\n",
       "      <td>2</td>\n",
       "      <td>0.745799</td>\n",
       "      <td>0.741661</td>\n",
       "      <td>0.004138</td>\n",
       "    </tr>\n",
       "    <tr>\n",
       "      <th>1</th>\n",
       "      <td>3</td>\n",
       "      <td>0.789586</td>\n",
       "      <td>0.796309</td>\n",
       "      <td>-0.006724</td>\n",
       "    </tr>\n",
       "    <tr>\n",
       "      <th>2</th>\n",
       "      <td>4</td>\n",
       "      <td>0.794083</td>\n",
       "      <td>0.801987</td>\n",
       "      <td>-0.007904</td>\n",
       "    </tr>\n",
       "    <tr>\n",
       "      <th>3</th>\n",
       "      <td>5</td>\n",
       "      <td>0.799763</td>\n",
       "      <td>0.806246</td>\n",
       "      <td>-0.006482</td>\n",
       "    </tr>\n",
       "    <tr>\n",
       "      <th>4</th>\n",
       "      <td>6</td>\n",
       "      <td>0.805444</td>\n",
       "      <td>0.808375</td>\n",
       "      <td>-0.002931</td>\n",
       "    </tr>\n",
       "    <tr>\n",
       "      <th>5</th>\n",
       "      <td>7</td>\n",
       "      <td>0.817515</td>\n",
       "      <td>0.805536</td>\n",
       "      <td>0.011979</td>\n",
       "    </tr>\n",
       "    <tr>\n",
       "      <th>6</th>\n",
       "      <td>8</td>\n",
       "      <td>0.836213</td>\n",
       "      <td>0.808375</td>\n",
       "      <td>0.027838</td>\n",
       "    </tr>\n",
       "    <tr>\n",
       "      <th>7</th>\n",
       "      <td>9</td>\n",
       "      <td>0.861065</td>\n",
       "      <td>0.806955</td>\n",
       "      <td>0.054110</td>\n",
       "    </tr>\n",
       "    <tr>\n",
       "      <th>8</th>\n",
       "      <td>10</td>\n",
       "      <td>0.881893</td>\n",
       "      <td>0.809084</td>\n",
       "      <td>0.072809</td>\n",
       "    </tr>\n",
       "    <tr>\n",
       "      <th>9</th>\n",
       "      <td>11</td>\n",
       "      <td>0.911479</td>\n",
       "      <td>0.809084</td>\n",
       "      <td>0.102395</td>\n",
       "    </tr>\n",
       "    <tr>\n",
       "      <th>10</th>\n",
       "      <td>12</td>\n",
       "      <td>0.936095</td>\n",
       "      <td>0.806955</td>\n",
       "      <td>0.129139</td>\n",
       "    </tr>\n",
       "    <tr>\n",
       "      <th>11</th>\n",
       "      <td>13</td>\n",
       "      <td>0.961420</td>\n",
       "      <td>0.806955</td>\n",
       "      <td>0.154465</td>\n",
       "    </tr>\n",
       "    <tr>\n",
       "      <th>12</th>\n",
       "      <td>14</td>\n",
       "      <td>0.977278</td>\n",
       "      <td>0.797729</td>\n",
       "      <td>0.179549</td>\n",
       "    </tr>\n",
       "    <tr>\n",
       "      <th>13</th>\n",
       "      <td>15</td>\n",
       "      <td>0.987219</td>\n",
       "      <td>0.794180</td>\n",
       "      <td>0.193039</td>\n",
       "    </tr>\n",
       "    <tr>\n",
       "      <th>14</th>\n",
       "      <td>16</td>\n",
       "      <td>0.991479</td>\n",
       "      <td>0.794180</td>\n",
       "      <td>0.197299</td>\n",
       "    </tr>\n",
       "    <tr>\n",
       "      <th>15</th>\n",
       "      <td>17</td>\n",
       "      <td>0.993136</td>\n",
       "      <td>0.790632</td>\n",
       "      <td>0.202504</td>\n",
       "    </tr>\n",
       "    <tr>\n",
       "      <th>16</th>\n",
       "      <td>18</td>\n",
       "      <td>0.994083</td>\n",
       "      <td>0.790632</td>\n",
       "      <td>0.203451</td>\n",
       "    </tr>\n",
       "    <tr>\n",
       "      <th>17</th>\n",
       "      <td>19</td>\n",
       "      <td>0.994083</td>\n",
       "      <td>0.791341</td>\n",
       "      <td>0.202741</td>\n",
       "    </tr>\n",
       "    <tr>\n",
       "      <th>18</th>\n",
       "      <td>20</td>\n",
       "      <td>0.994083</td>\n",
       "      <td>0.796309</td>\n",
       "      <td>0.197773</td>\n",
       "    </tr>\n",
       "    <tr>\n",
       "      <th>19</th>\n",
       "      <td>21</td>\n",
       "      <td>0.994083</td>\n",
       "      <td>0.794180</td>\n",
       "      <td>0.199903</td>\n",
       "    </tr>\n",
       "    <tr>\n",
       "      <th>20</th>\n",
       "      <td>22</td>\n",
       "      <td>0.994083</td>\n",
       "      <td>0.792761</td>\n",
       "      <td>0.201322</td>\n",
       "    </tr>\n",
       "    <tr>\n",
       "      <th>21</th>\n",
       "      <td>23</td>\n",
       "      <td>0.994083</td>\n",
       "      <td>0.795600</td>\n",
       "      <td>0.198483</td>\n",
       "    </tr>\n",
       "    <tr>\n",
       "      <th>22</th>\n",
       "      <td>24</td>\n",
       "      <td>0.994083</td>\n",
       "      <td>0.792051</td>\n",
       "      <td>0.202032</td>\n",
       "    </tr>\n",
       "  </tbody>\n",
       "</table>\n",
       "</div>"
      ],
      "text/plain": [
       "    max_depth  train_accuracy  validate_accuracy  difference\n",
       "0           2        0.745799           0.741661    0.004138\n",
       "1           3        0.789586           0.796309   -0.006724\n",
       "2           4        0.794083           0.801987   -0.007904\n",
       "3           5        0.799763           0.806246   -0.006482\n",
       "4           6        0.805444           0.808375   -0.002931\n",
       "5           7        0.817515           0.805536    0.011979\n",
       "6           8        0.836213           0.808375    0.027838\n",
       "7           9        0.861065           0.806955    0.054110\n",
       "8          10        0.881893           0.809084    0.072809\n",
       "9          11        0.911479           0.809084    0.102395\n",
       "10         12        0.936095           0.806955    0.129139\n",
       "11         13        0.961420           0.806955    0.154465\n",
       "12         14        0.977278           0.797729    0.179549\n",
       "13         15        0.987219           0.794180    0.193039\n",
       "14         16        0.991479           0.794180    0.197299\n",
       "15         17        0.993136           0.790632    0.202504\n",
       "16         18        0.994083           0.790632    0.203451\n",
       "17         19        0.994083           0.791341    0.202741\n",
       "18         20        0.994083           0.796309    0.197773\n",
       "19         21        0.994083           0.794180    0.199903\n",
       "20         22        0.994083           0.792761    0.201322\n",
       "21         23        0.994083           0.795600    0.198483\n",
       "22         24        0.994083           0.792051    0.202032"
      ]
     },
     "execution_count": 267,
     "metadata": {},
     "output_type": "execute_result"
    }
   ],
   "source": [
    "metrics = []\n",
    "\n",
    "for i in range(2, 25):\n",
    "    # Make the model\n",
    "    forest = RandomForestClassifier(max_depth=i, random_state=217)\n",
    "\n",
    "    # Fit the model (on train and only train)\n",
    "    forest = forest.fit(X_train1, y_train1)\n",
    "\n",
    "    # Use the model\n",
    "    # We'll evaluate the model's performance on train, first then check validate\n",
    "    in_sample_accuracy = forest.score(X_train1, y_train1)\n",
    "    \n",
    "    out_of_sample_accuracy = forest.score(X_validate1, y_validate1)\n",
    "\n",
    "    output = {\n",
    "        \"max_depth\": i,\n",
    "        \"train_accuracy\": in_sample_accuracy,\n",
    "        \"validate_accuracy\": out_of_sample_accuracy\n",
    "    }\n",
    "    \n",
    "    metrics.append(output)\n",
    "    \n",
    "df = pd.DataFrame(metrics)\n",
    "df[\"difference\"] = df.train_accuracy - df.validate_accuracy\n",
    "df"
   ]
  },
  {
   "cell_type": "code",
   "execution_count": 269,
   "id": "7a08a3a6",
   "metadata": {},
   "outputs": [
    {
     "data": {
      "text/html": [
       "<div>\n",
       "<style scoped>\n",
       "    .dataframe tbody tr th:only-of-type {\n",
       "        vertical-align: middle;\n",
       "    }\n",
       "\n",
       "    .dataframe tbody tr th {\n",
       "        vertical-align: top;\n",
       "    }\n",
       "\n",
       "    .dataframe thead th {\n",
       "        text-align: right;\n",
       "    }\n",
       "</style>\n",
       "<table border=\"1\" class=\"dataframe\">\n",
       "  <thead>\n",
       "    <tr style=\"text-align: right;\">\n",
       "      <th></th>\n",
       "      <th>min_samples_per_leaf</th>\n",
       "      <th>max_depth</th>\n",
       "      <th>train_accuracy</th>\n",
       "      <th>validate_accuracy</th>\n",
       "      <th>difference</th>\n",
       "    </tr>\n",
       "  </thead>\n",
       "  <tbody>\n",
       "    <tr>\n",
       "      <th>0</th>\n",
       "      <td>2</td>\n",
       "      <td>8</td>\n",
       "      <td>0.834083</td>\n",
       "      <td>0.805536</td>\n",
       "      <td>0.028547</td>\n",
       "    </tr>\n",
       "    <tr>\n",
       "      <th>1</th>\n",
       "      <td>3</td>\n",
       "      <td>8</td>\n",
       "      <td>0.834556</td>\n",
       "      <td>0.800568</td>\n",
       "      <td>0.033988</td>\n",
       "    </tr>\n",
       "    <tr>\n",
       "      <th>2</th>\n",
       "      <td>4</td>\n",
       "      <td>8</td>\n",
       "      <td>0.829822</td>\n",
       "      <td>0.803407</td>\n",
       "      <td>0.026416</td>\n",
       "    </tr>\n",
       "    <tr>\n",
       "      <th>3</th>\n",
       "      <td>5</td>\n",
       "      <td>8</td>\n",
       "      <td>0.828402</td>\n",
       "      <td>0.802697</td>\n",
       "      <td>0.025705</td>\n",
       "    </tr>\n",
       "    <tr>\n",
       "      <th>4</th>\n",
       "      <td>6</td>\n",
       "      <td>8</td>\n",
       "      <td>0.824852</td>\n",
       "      <td>0.809794</td>\n",
       "      <td>0.015058</td>\n",
       "    </tr>\n",
       "    <tr>\n",
       "      <th>5</th>\n",
       "      <td>7</td>\n",
       "      <td>8</td>\n",
       "      <td>0.821775</td>\n",
       "      <td>0.804826</td>\n",
       "      <td>0.016949</td>\n",
       "    </tr>\n",
       "    <tr>\n",
       "      <th>6</th>\n",
       "      <td>8</td>\n",
       "      <td>8</td>\n",
       "      <td>0.820828</td>\n",
       "      <td>0.804826</td>\n",
       "      <td>0.016002</td>\n",
       "    </tr>\n",
       "    <tr>\n",
       "      <th>7</th>\n",
       "      <td>9</td>\n",
       "      <td>8</td>\n",
       "      <td>0.822722</td>\n",
       "      <td>0.802697</td>\n",
       "      <td>0.020025</td>\n",
       "    </tr>\n",
       "    <tr>\n",
       "      <th>8</th>\n",
       "      <td>10</td>\n",
       "      <td>8</td>\n",
       "      <td>0.821065</td>\n",
       "      <td>0.801987</td>\n",
       "      <td>0.019078</td>\n",
       "    </tr>\n",
       "    <tr>\n",
       "      <th>9</th>\n",
       "      <td>11</td>\n",
       "      <td>8</td>\n",
       "      <td>0.820828</td>\n",
       "      <td>0.804826</td>\n",
       "      <td>0.016002</td>\n",
       "    </tr>\n",
       "    <tr>\n",
       "      <th>10</th>\n",
       "      <td>12</td>\n",
       "      <td>8</td>\n",
       "      <td>0.818225</td>\n",
       "      <td>0.806955</td>\n",
       "      <td>0.011270</td>\n",
       "    </tr>\n",
       "    <tr>\n",
       "      <th>11</th>\n",
       "      <td>13</td>\n",
       "      <td>8</td>\n",
       "      <td>0.817751</td>\n",
       "      <td>0.805536</td>\n",
       "      <td>0.012216</td>\n",
       "    </tr>\n",
       "    <tr>\n",
       "      <th>12</th>\n",
       "      <td>14</td>\n",
       "      <td>8</td>\n",
       "      <td>0.814675</td>\n",
       "      <td>0.808375</td>\n",
       "      <td>0.006300</td>\n",
       "    </tr>\n",
       "    <tr>\n",
       "      <th>13</th>\n",
       "      <td>15</td>\n",
       "      <td>8</td>\n",
       "      <td>0.812308</td>\n",
       "      <td>0.804116</td>\n",
       "      <td>0.008191</td>\n",
       "    </tr>\n",
       "    <tr>\n",
       "      <th>14</th>\n",
       "      <td>16</td>\n",
       "      <td>8</td>\n",
       "      <td>0.816095</td>\n",
       "      <td>0.803407</td>\n",
       "      <td>0.012688</td>\n",
       "    </tr>\n",
       "    <tr>\n",
       "      <th>15</th>\n",
       "      <td>17</td>\n",
       "      <td>8</td>\n",
       "      <td>0.811834</td>\n",
       "      <td>0.805536</td>\n",
       "      <td>0.006298</td>\n",
       "    </tr>\n",
       "    <tr>\n",
       "      <th>16</th>\n",
       "      <td>18</td>\n",
       "      <td>8</td>\n",
       "      <td>0.811361</td>\n",
       "      <td>0.804826</td>\n",
       "      <td>0.006535</td>\n",
       "    </tr>\n",
       "    <tr>\n",
       "      <th>17</th>\n",
       "      <td>19</td>\n",
       "      <td>8</td>\n",
       "      <td>0.809467</td>\n",
       "      <td>0.803407</td>\n",
       "      <td>0.006061</td>\n",
       "    </tr>\n",
       "    <tr>\n",
       "      <th>18</th>\n",
       "      <td>20</td>\n",
       "      <td>8</td>\n",
       "      <td>0.809704</td>\n",
       "      <td>0.804116</td>\n",
       "      <td>0.005588</td>\n",
       "    </tr>\n",
       "    <tr>\n",
       "      <th>19</th>\n",
       "      <td>21</td>\n",
       "      <td>8</td>\n",
       "      <td>0.809231</td>\n",
       "      <td>0.804116</td>\n",
       "      <td>0.005114</td>\n",
       "    </tr>\n",
       "    <tr>\n",
       "      <th>20</th>\n",
       "      <td>22</td>\n",
       "      <td>8</td>\n",
       "      <td>0.810414</td>\n",
       "      <td>0.806246</td>\n",
       "      <td>0.004169</td>\n",
       "    </tr>\n",
       "    <tr>\n",
       "      <th>21</th>\n",
       "      <td>23</td>\n",
       "      <td>8</td>\n",
       "      <td>0.809941</td>\n",
       "      <td>0.805536</td>\n",
       "      <td>0.004405</td>\n",
       "    </tr>\n",
       "    <tr>\n",
       "      <th>22</th>\n",
       "      <td>24</td>\n",
       "      <td>8</td>\n",
       "      <td>0.808757</td>\n",
       "      <td>0.806246</td>\n",
       "      <td>0.002512</td>\n",
       "    </tr>\n",
       "    <tr>\n",
       "      <th>23</th>\n",
       "      <td>25</td>\n",
       "      <td>8</td>\n",
       "      <td>0.808521</td>\n",
       "      <td>0.805536</td>\n",
       "      <td>0.002985</td>\n",
       "    </tr>\n",
       "    <tr>\n",
       "      <th>24</th>\n",
       "      <td>26</td>\n",
       "      <td>8</td>\n",
       "      <td>0.809231</td>\n",
       "      <td>0.804116</td>\n",
       "      <td>0.005114</td>\n",
       "    </tr>\n",
       "    <tr>\n",
       "      <th>25</th>\n",
       "      <td>27</td>\n",
       "      <td>8</td>\n",
       "      <td>0.808521</td>\n",
       "      <td>0.806955</td>\n",
       "      <td>0.001565</td>\n",
       "    </tr>\n",
       "    <tr>\n",
       "      <th>26</th>\n",
       "      <td>28</td>\n",
       "      <td>8</td>\n",
       "      <td>0.805680</td>\n",
       "      <td>0.808375</td>\n",
       "      <td>-0.002694</td>\n",
       "    </tr>\n",
       "    <tr>\n",
       "      <th>27</th>\n",
       "      <td>29</td>\n",
       "      <td>8</td>\n",
       "      <td>0.805444</td>\n",
       "      <td>0.806955</td>\n",
       "      <td>-0.001512</td>\n",
       "    </tr>\n",
       "    <tr>\n",
       "      <th>28</th>\n",
       "      <td>30</td>\n",
       "      <td>8</td>\n",
       "      <td>0.806627</td>\n",
       "      <td>0.803407</td>\n",
       "      <td>0.003221</td>\n",
       "    </tr>\n",
       "    <tr>\n",
       "      <th>29</th>\n",
       "      <td>31</td>\n",
       "      <td>8</td>\n",
       "      <td>0.804970</td>\n",
       "      <td>0.805536</td>\n",
       "      <td>-0.000565</td>\n",
       "    </tr>\n",
       "    <tr>\n",
       "      <th>30</th>\n",
       "      <td>32</td>\n",
       "      <td>8</td>\n",
       "      <td>0.808047</td>\n",
       "      <td>0.805536</td>\n",
       "      <td>0.002511</td>\n",
       "    </tr>\n",
       "    <tr>\n",
       "      <th>31</th>\n",
       "      <td>33</td>\n",
       "      <td>8</td>\n",
       "      <td>0.807101</td>\n",
       "      <td>0.803407</td>\n",
       "      <td>0.003694</td>\n",
       "    </tr>\n",
       "    <tr>\n",
       "      <th>32</th>\n",
       "      <td>34</td>\n",
       "      <td>8</td>\n",
       "      <td>0.804970</td>\n",
       "      <td>0.801987</td>\n",
       "      <td>0.002983</td>\n",
       "    </tr>\n",
       "    <tr>\n",
       "      <th>33</th>\n",
       "      <td>35</td>\n",
       "      <td>8</td>\n",
       "      <td>0.806154</td>\n",
       "      <td>0.800568</td>\n",
       "      <td>0.005586</td>\n",
       "    </tr>\n",
       "    <tr>\n",
       "      <th>34</th>\n",
       "      <td>36</td>\n",
       "      <td>8</td>\n",
       "      <td>0.804970</td>\n",
       "      <td>0.800568</td>\n",
       "      <td>0.004403</td>\n",
       "    </tr>\n",
       "    <tr>\n",
       "      <th>35</th>\n",
       "      <td>37</td>\n",
       "      <td>8</td>\n",
       "      <td>0.805207</td>\n",
       "      <td>0.801987</td>\n",
       "      <td>0.003220</td>\n",
       "    </tr>\n",
       "    <tr>\n",
       "      <th>36</th>\n",
       "      <td>38</td>\n",
       "      <td>8</td>\n",
       "      <td>0.804970</td>\n",
       "      <td>0.804116</td>\n",
       "      <td>0.000854</td>\n",
       "    </tr>\n",
       "    <tr>\n",
       "      <th>37</th>\n",
       "      <td>39</td>\n",
       "      <td>8</td>\n",
       "      <td>0.803787</td>\n",
       "      <td>0.802697</td>\n",
       "      <td>0.001090</td>\n",
       "    </tr>\n",
       "    <tr>\n",
       "      <th>38</th>\n",
       "      <td>40</td>\n",
       "      <td>8</td>\n",
       "      <td>0.804024</td>\n",
       "      <td>0.805536</td>\n",
       "      <td>-0.001512</td>\n",
       "    </tr>\n",
       "    <tr>\n",
       "      <th>39</th>\n",
       "      <td>41</td>\n",
       "      <td>8</td>\n",
       "      <td>0.804497</td>\n",
       "      <td>0.803407</td>\n",
       "      <td>0.001090</td>\n",
       "    </tr>\n",
       "    <tr>\n",
       "      <th>40</th>\n",
       "      <td>42</td>\n",
       "      <td>8</td>\n",
       "      <td>0.803787</td>\n",
       "      <td>0.804826</td>\n",
       "      <td>-0.001039</td>\n",
       "    </tr>\n",
       "    <tr>\n",
       "      <th>41</th>\n",
       "      <td>43</td>\n",
       "      <td>8</td>\n",
       "      <td>0.803077</td>\n",
       "      <td>0.804826</td>\n",
       "      <td>-0.001749</td>\n",
       "    </tr>\n",
       "    <tr>\n",
       "      <th>42</th>\n",
       "      <td>44</td>\n",
       "      <td>8</td>\n",
       "      <td>0.803314</td>\n",
       "      <td>0.803407</td>\n",
       "      <td>-0.000093</td>\n",
       "    </tr>\n",
       "    <tr>\n",
       "      <th>43</th>\n",
       "      <td>45</td>\n",
       "      <td>8</td>\n",
       "      <td>0.803787</td>\n",
       "      <td>0.799858</td>\n",
       "      <td>0.003929</td>\n",
       "    </tr>\n",
       "    <tr>\n",
       "      <th>44</th>\n",
       "      <td>46</td>\n",
       "      <td>8</td>\n",
       "      <td>0.803787</td>\n",
       "      <td>0.801987</td>\n",
       "      <td>0.001800</td>\n",
       "    </tr>\n",
       "    <tr>\n",
       "      <th>45</th>\n",
       "      <td>47</td>\n",
       "      <td>8</td>\n",
       "      <td>0.803077</td>\n",
       "      <td>0.803407</td>\n",
       "      <td>-0.000330</td>\n",
       "    </tr>\n",
       "    <tr>\n",
       "      <th>46</th>\n",
       "      <td>48</td>\n",
       "      <td>8</td>\n",
       "      <td>0.804734</td>\n",
       "      <td>0.802697</td>\n",
       "      <td>0.002037</td>\n",
       "    </tr>\n",
       "    <tr>\n",
       "      <th>47</th>\n",
       "      <td>49</td>\n",
       "      <td>8</td>\n",
       "      <td>0.807101</td>\n",
       "      <td>0.801987</td>\n",
       "      <td>0.005113</td>\n",
       "    </tr>\n",
       "  </tbody>\n",
       "</table>\n",
       "</div>"
      ],
      "text/plain": [
       "    min_samples_per_leaf  max_depth  train_accuracy  validate_accuracy  \\\n",
       "0                      2          8        0.834083           0.805536   \n",
       "1                      3          8        0.834556           0.800568   \n",
       "2                      4          8        0.829822           0.803407   \n",
       "3                      5          8        0.828402           0.802697   \n",
       "4                      6          8        0.824852           0.809794   \n",
       "5                      7          8        0.821775           0.804826   \n",
       "6                      8          8        0.820828           0.804826   \n",
       "7                      9          8        0.822722           0.802697   \n",
       "8                     10          8        0.821065           0.801987   \n",
       "9                     11          8        0.820828           0.804826   \n",
       "10                    12          8        0.818225           0.806955   \n",
       "11                    13          8        0.817751           0.805536   \n",
       "12                    14          8        0.814675           0.808375   \n",
       "13                    15          8        0.812308           0.804116   \n",
       "14                    16          8        0.816095           0.803407   \n",
       "15                    17          8        0.811834           0.805536   \n",
       "16                    18          8        0.811361           0.804826   \n",
       "17                    19          8        0.809467           0.803407   \n",
       "18                    20          8        0.809704           0.804116   \n",
       "19                    21          8        0.809231           0.804116   \n",
       "20                    22          8        0.810414           0.806246   \n",
       "21                    23          8        0.809941           0.805536   \n",
       "22                    24          8        0.808757           0.806246   \n",
       "23                    25          8        0.808521           0.805536   \n",
       "24                    26          8        0.809231           0.804116   \n",
       "25                    27          8        0.808521           0.806955   \n",
       "26                    28          8        0.805680           0.808375   \n",
       "27                    29          8        0.805444           0.806955   \n",
       "28                    30          8        0.806627           0.803407   \n",
       "29                    31          8        0.804970           0.805536   \n",
       "30                    32          8        0.808047           0.805536   \n",
       "31                    33          8        0.807101           0.803407   \n",
       "32                    34          8        0.804970           0.801987   \n",
       "33                    35          8        0.806154           0.800568   \n",
       "34                    36          8        0.804970           0.800568   \n",
       "35                    37          8        0.805207           0.801987   \n",
       "36                    38          8        0.804970           0.804116   \n",
       "37                    39          8        0.803787           0.802697   \n",
       "38                    40          8        0.804024           0.805536   \n",
       "39                    41          8        0.804497           0.803407   \n",
       "40                    42          8        0.803787           0.804826   \n",
       "41                    43          8        0.803077           0.804826   \n",
       "42                    44          8        0.803314           0.803407   \n",
       "43                    45          8        0.803787           0.799858   \n",
       "44                    46          8        0.803787           0.801987   \n",
       "45                    47          8        0.803077           0.803407   \n",
       "46                    48          8        0.804734           0.802697   \n",
       "47                    49          8        0.807101           0.801987   \n",
       "\n",
       "    difference  \n",
       "0     0.028547  \n",
       "1     0.033988  \n",
       "2     0.026416  \n",
       "3     0.025705  \n",
       "4     0.015058  \n",
       "5     0.016949  \n",
       "6     0.016002  \n",
       "7     0.020025  \n",
       "8     0.019078  \n",
       "9     0.016002  \n",
       "10    0.011270  \n",
       "11    0.012216  \n",
       "12    0.006300  \n",
       "13    0.008191  \n",
       "14    0.012688  \n",
       "15    0.006298  \n",
       "16    0.006535  \n",
       "17    0.006061  \n",
       "18    0.005588  \n",
       "19    0.005114  \n",
       "20    0.004169  \n",
       "21    0.004405  \n",
       "22    0.002512  \n",
       "23    0.002985  \n",
       "24    0.005114  \n",
       "25    0.001565  \n",
       "26   -0.002694  \n",
       "27   -0.001512  \n",
       "28    0.003221  \n",
       "29   -0.000565  \n",
       "30    0.002511  \n",
       "31    0.003694  \n",
       "32    0.002983  \n",
       "33    0.005586  \n",
       "34    0.004403  \n",
       "35    0.003220  \n",
       "36    0.000854  \n",
       "37    0.001090  \n",
       "38   -0.001512  \n",
       "39    0.001090  \n",
       "40   -0.001039  \n",
       "41   -0.001749  \n",
       "42   -0.000093  \n",
       "43    0.003929  \n",
       "44    0.001800  \n",
       "45   -0.000330  \n",
       "46    0.002037  \n",
       "47    0.005113  "
      ]
     },
     "execution_count": 269,
     "metadata": {},
     "output_type": "execute_result"
    }
   ],
   "source": [
    "metrics = []\n",
    "\n",
    "\n",
    "for i in range(2, 50):\n",
    "    # Make the model\n",
    "    depth = 8\n",
    "    n_samples = i\n",
    "    forest = RandomForestClassifier(max_depth=depth, min_samples_leaf=n_samples, random_state=217)\n",
    "\n",
    "    # Fit the model (on train and only train)\n",
    "    forest = forest.fit(X_train1, y_train1)\n",
    "\n",
    "    # Use the model\n",
    "    # We'll evaluate the model's performance on train, first\n",
    "    in_sample_accuracy = forest.score(X_train1, y_train1)\n",
    "    \n",
    "    out_of_sample_accuracy = forest.score(X_validate1, y_validate1)\n",
    "\n",
    "    output = {\n",
    "        \"min_samples_per_leaf\": n_samples,\n",
    "        \"max_depth\": depth,\n",
    "        \"train_accuracy\": in_sample_accuracy,\n",
    "        \"validate_accuracy\": out_of_sample_accuracy\n",
    "    }\n",
    "    \n",
    "    metrics.append(output)\n",
    "    \n",
    "df = pd.DataFrame(metrics)\n",
    "df[\"difference\"] = df.train_accuracy - df.validate_accuracy\n",
    "df"
   ]
  },
  {
   "cell_type": "code",
   "execution_count": 195,
   "id": "465b8639",
   "metadata": {},
   "outputs": [
    {
     "data": {
      "text/html": [
       "<div>\n",
       "<style scoped>\n",
       "    .dataframe tbody tr th:only-of-type {\n",
       "        vertical-align: middle;\n",
       "    }\n",
       "\n",
       "    .dataframe tbody tr th {\n",
       "        vertical-align: top;\n",
       "    }\n",
       "\n",
       "    .dataframe thead th {\n",
       "        text-align: right;\n",
       "    }\n",
       "</style>\n",
       "<table border=\"1\" class=\"dataframe\">\n",
       "  <thead>\n",
       "    <tr style=\"text-align: right;\">\n",
       "      <th></th>\n",
       "      <th>min_samples_per_leaf</th>\n",
       "      <th>max_depth</th>\n",
       "      <th>train_accuracy</th>\n",
       "      <th>validate_accuracy</th>\n",
       "      <th>difference</th>\n",
       "    </tr>\n",
       "  </thead>\n",
       "  <tbody>\n",
       "    <tr>\n",
       "      <th>0</th>\n",
       "      <td>2</td>\n",
       "      <td>2</td>\n",
       "      <td>0.734675</td>\n",
       "      <td>0.734564</td>\n",
       "      <td>0.000111</td>\n",
       "    </tr>\n",
       "    <tr>\n",
       "      <th>1</th>\n",
       "      <td>3</td>\n",
       "      <td>3</td>\n",
       "      <td>0.781302</td>\n",
       "      <td>0.789212</td>\n",
       "      <td>-0.007910</td>\n",
       "    </tr>\n",
       "    <tr>\n",
       "      <th>2</th>\n",
       "      <td>4</td>\n",
       "      <td>4</td>\n",
       "      <td>0.791243</td>\n",
       "      <td>0.801278</td>\n",
       "      <td>-0.010035</td>\n",
       "    </tr>\n",
       "    <tr>\n",
       "      <th>3</th>\n",
       "      <td>5</td>\n",
       "      <td>5</td>\n",
       "      <td>0.794793</td>\n",
       "      <td>0.802697</td>\n",
       "      <td>-0.007904</td>\n",
       "    </tr>\n",
       "    <tr>\n",
       "      <th>4</th>\n",
       "      <td>6</td>\n",
       "      <td>6</td>\n",
       "      <td>0.798580</td>\n",
       "      <td>0.809084</td>\n",
       "      <td>-0.010505</td>\n",
       "    </tr>\n",
       "    <tr>\n",
       "      <th>5</th>\n",
       "      <td>7</td>\n",
       "      <td>7</td>\n",
       "      <td>0.809467</td>\n",
       "      <td>0.812633</td>\n",
       "      <td>-0.003166</td>\n",
       "    </tr>\n",
       "    <tr>\n",
       "      <th>6</th>\n",
       "      <td>8</td>\n",
       "      <td>8</td>\n",
       "      <td>0.813254</td>\n",
       "      <td>0.810504</td>\n",
       "      <td>0.002751</td>\n",
       "    </tr>\n",
       "    <tr>\n",
       "      <th>7</th>\n",
       "      <td>9</td>\n",
       "      <td>9</td>\n",
       "      <td>0.818698</td>\n",
       "      <td>0.811214</td>\n",
       "      <td>0.007485</td>\n",
       "    </tr>\n",
       "    <tr>\n",
       "      <th>8</th>\n",
       "      <td>10</td>\n",
       "      <td>10</td>\n",
       "      <td>0.822249</td>\n",
       "      <td>0.812633</td>\n",
       "      <td>0.009615</td>\n",
       "    </tr>\n",
       "    <tr>\n",
       "      <th>9</th>\n",
       "      <td>11</td>\n",
       "      <td>11</td>\n",
       "      <td>0.825325</td>\n",
       "      <td>0.807665</td>\n",
       "      <td>0.017660</td>\n",
       "    </tr>\n",
       "    <tr>\n",
       "      <th>10</th>\n",
       "      <td>12</td>\n",
       "      <td>12</td>\n",
       "      <td>0.824852</td>\n",
       "      <td>0.812633</td>\n",
       "      <td>0.012219</td>\n",
       "    </tr>\n",
       "    <tr>\n",
       "      <th>11</th>\n",
       "      <td>13</td>\n",
       "      <td>13</td>\n",
       "      <td>0.821775</td>\n",
       "      <td>0.809794</td>\n",
       "      <td>0.011981</td>\n",
       "    </tr>\n",
       "    <tr>\n",
       "      <th>12</th>\n",
       "      <td>14</td>\n",
       "      <td>14</td>\n",
       "      <td>0.818698</td>\n",
       "      <td>0.811214</td>\n",
       "      <td>0.007485</td>\n",
       "    </tr>\n",
       "    <tr>\n",
       "      <th>13</th>\n",
       "      <td>15</td>\n",
       "      <td>15</td>\n",
       "      <td>0.817515</td>\n",
       "      <td>0.812633</td>\n",
       "      <td>0.004882</td>\n",
       "    </tr>\n",
       "    <tr>\n",
       "      <th>14</th>\n",
       "      <td>16</td>\n",
       "      <td>16</td>\n",
       "      <td>0.816095</td>\n",
       "      <td>0.811923</td>\n",
       "      <td>0.004171</td>\n",
       "    </tr>\n",
       "    <tr>\n",
       "      <th>15</th>\n",
       "      <td>17</td>\n",
       "      <td>17</td>\n",
       "      <td>0.813491</td>\n",
       "      <td>0.807665</td>\n",
       "      <td>0.005826</td>\n",
       "    </tr>\n",
       "    <tr>\n",
       "      <th>16</th>\n",
       "      <td>18</td>\n",
       "      <td>18</td>\n",
       "      <td>0.815148</td>\n",
       "      <td>0.809084</td>\n",
       "      <td>0.006063</td>\n",
       "    </tr>\n",
       "    <tr>\n",
       "      <th>17</th>\n",
       "      <td>19</td>\n",
       "      <td>19</td>\n",
       "      <td>0.813254</td>\n",
       "      <td>0.805536</td>\n",
       "      <td>0.007719</td>\n",
       "    </tr>\n",
       "  </tbody>\n",
       "</table>\n",
       "</div>"
      ],
      "text/plain": [
       "    min_samples_per_leaf  max_depth  train_accuracy  validate_accuracy  \\\n",
       "0                      2          2        0.734675           0.734564   \n",
       "1                      3          3        0.781302           0.789212   \n",
       "2                      4          4        0.791243           0.801278   \n",
       "3                      5          5        0.794793           0.802697   \n",
       "4                      6          6        0.798580           0.809084   \n",
       "5                      7          7        0.809467           0.812633   \n",
       "6                      8          8        0.813254           0.810504   \n",
       "7                      9          9        0.818698           0.811214   \n",
       "8                     10         10        0.822249           0.812633   \n",
       "9                     11         11        0.825325           0.807665   \n",
       "10                    12         12        0.824852           0.812633   \n",
       "11                    13         13        0.821775           0.809794   \n",
       "12                    14         14        0.818698           0.811214   \n",
       "13                    15         15        0.817515           0.812633   \n",
       "14                    16         16        0.816095           0.811923   \n",
       "15                    17         17        0.813491           0.807665   \n",
       "16                    18         18        0.815148           0.809084   \n",
       "17                    19         19        0.813254           0.805536   \n",
       "\n",
       "    difference  \n",
       "0     0.000111  \n",
       "1    -0.007910  \n",
       "2    -0.010035  \n",
       "3    -0.007904  \n",
       "4    -0.010505  \n",
       "5    -0.003166  \n",
       "6     0.002751  \n",
       "7     0.007485  \n",
       "8     0.009615  \n",
       "9     0.017660  \n",
       "10    0.012219  \n",
       "11    0.011981  \n",
       "12    0.007485  \n",
       "13    0.004882  \n",
       "14    0.004171  \n",
       "15    0.005826  \n",
       "16    0.006063  \n",
       "17    0.007719  "
      ]
     },
     "execution_count": 195,
     "metadata": {},
     "output_type": "execute_result"
    }
   ],
   "source": [
    "metrics = []\n",
    "max_depth = 20\n",
    "\n",
    "for i in range(2, max_depth):\n",
    "    # Make the model\n",
    "    depth = i\n",
    "    n_samples = i\n",
    "    forest = RandomForestClassifier(max_depth=depth, min_samples_leaf=n_samples, random_state=217)\n",
    "\n",
    "    # Fit the model (on train and only train)\n",
    "    forest = forest.fit(X_train1, y_train1)\n",
    "\n",
    "    # Use the model\n",
    "    # We'll evaluate the model's performance on train, first\n",
    "    in_sample_accuracy = forest.score(X_train1, y_train1)\n",
    "    \n",
    "    out_of_sample_accuracy = forest.score(X_validate1, y_validate1)\n",
    "\n",
    "    output = {\n",
    "        \"min_samples_per_leaf\": n_samples,\n",
    "        \"max_depth\": depth,\n",
    "        \"train_accuracy\": in_sample_accuracy,\n",
    "        \"validate_accuracy\": out_of_sample_accuracy\n",
    "    }\n",
    "    \n",
    "    metrics.append(output)\n",
    "    \n",
    "df = pd.DataFrame(metrics)\n",
    "df[\"difference\"] = df.train_accuracy - df.validate_accuracy\n",
    "df"
   ]
  },
  {
   "cell_type": "code",
   "execution_count": 197,
   "id": "0cc6f4fe",
   "metadata": {},
   "outputs": [],
   "source": [
    "model3 = DecisionTreeClassifier(max_depth=4)\n",
    "X_col3 = ['tenure', 'contract_type_id', 'monthly_charges', 'internet_service_type_id', 'extras']\n",
    "y_col3 = 'churn'"
   ]
  },
  {
   "cell_type": "code",
   "execution_count": 198,
   "id": "57dab94f",
   "metadata": {},
   "outputs": [],
   "source": [
    "X_train3, y_train3 = train_telco[X_col3], train_telco[y_col3]\n",
    "X_validate3, y_validate3 = validate_telco[X_col3], validate_telco[y_col3]"
   ]
  },
  {
   "cell_type": "code",
   "execution_count": 199,
   "id": "9be6d519",
   "metadata": {},
   "outputs": [
    {
     "name": "stdout",
     "output_type": "stream",
     "text": [
      "training score: 79.05%\n",
      "validate score: 79.84%\n"
     ]
    }
   ],
   "source": [
    "model3.fit(X_train3, y_train3)\n",
    "print(f'training score: {model3.score(X_train3, y_train3):.2%}')\n",
    "print(f'validate score: {model3.score(X_validate3, y_validate3):.2%}')"
   ]
  },
  {
   "cell_type": "code",
   "execution_count": 200,
   "id": "bbb72771",
   "metadata": {},
   "outputs": [],
   "source": [
    "model4 = RandomForestClassifier(bootstrap=True, class_weight=None, criterion='gini', min_samples_leaf=3, \n",
    "                                 n_estimators=100, max_depth=6, random_state=217)"
   ]
  },
  {
   "cell_type": "code",
   "execution_count": 201,
   "id": "742babad",
   "metadata": {},
   "outputs": [
    {
     "data": {
      "text/plain": [
       "RandomForestClassifier(max_depth=6, min_samples_leaf=3, random_state=217)"
      ]
     },
     "execution_count": 201,
     "metadata": {},
     "output_type": "execute_result"
    }
   ],
   "source": [
    "model4.fit(X_train3, y_train3)"
   ]
  },
  {
   "cell_type": "code",
   "execution_count": 202,
   "id": "7f307081",
   "metadata": {},
   "outputs": [
    {
     "data": {
      "image/png": "[encoded data removed]",
      "text/plain": [
       "<Figure size 432x288 with 1 Axes>"
      ]
     },
     "metadata": {
      "needs_background": "light"
     },
     "output_type": "display_data"
    }
   ],
   "source": [
    "plt.bar(X_train3.columns, model4.feature_importances_)\n",
    "plt.xticks(rotation=90)\n",
    "plt.show()"
   ]
  },
  {
   "cell_type": "code",
   "execution_count": 205,
   "id": "fe41124a",
   "metadata": {},
   "outputs": [
    {
     "name": "stdout",
     "output_type": "stream",
     "text": [
      "Accuracy of random forest classifier on training set: 0.81\n",
      "              precision    recall  f1-score   support\n",
      "\n",
      "           0       0.83      0.92      0.87      3104\n",
      "           1       0.69      0.48      0.57      1121\n",
      "\n",
      "    accuracy                           0.81      4225\n",
      "   macro avg       0.76      0.70      0.72      4225\n",
      "weighted avg       0.79      0.81      0.79      4225\n",
      "\n"
     ]
    }
   ],
   "source": [
    "y_pred3 = model4.predict(X_train3)\n",
    "y_pred_proba3 = model4.predict_proba(X_train3)\n",
    "print('Accuracy of random forest classifier on training set: {:.2f}'\n",
    "     .format(model4.score(X_train3, y_train3)))\n",
    "print(classification_report(y_train3, y_pred3))"
   ]
  },
  {
   "cell_type": "code",
   "execution_count": 206,
   "id": "17925e5e",
   "metadata": {},
   "outputs": [
    {
     "name": "stdout",
     "output_type": "stream",
     "text": [
      "Accuracy of random forest classifier on test set: 0.81\n",
      "              precision    recall  f1-score   support\n",
      "\n",
      "           0       0.83      0.92      0.87      1035\n",
      "           1       0.69      0.49      0.57       374\n",
      "\n",
      "    accuracy                           0.81      1409\n",
      "   macro avg       0.76      0.71      0.72      1409\n",
      "weighted avg       0.79      0.81      0.79      1409\n",
      "\n"
     ]
    }
   ],
   "source": [
    "y_pred3 = model4.predict(X_validate3)\n",
    "y_pred_proba3 = model4.predict_proba(X_validate3)\n",
    "print('Accuracy of random forest classifier on test set: {:.2f}'\n",
    "     .format(model4.score(X_validate3, y_validate3)))\n",
    "print(classification_report(y_validate3, y_pred3))"
   ]
  },
  {
   "cell_type": "code",
   "execution_count": 207,
   "id": "daecf127",
   "metadata": {},
   "outputs": [],
   "source": [
    "model5 = DecisionTreeClassifier(max_depth=6)"
   ]
  },
  {
   "cell_type": "code",
   "execution_count": 208,
   "id": "a5a08f2b",
   "metadata": {},
   "outputs": [],
   "source": [
    "X_col5 = ['tenure', 'monthly_charges', 'payment_type_id', 'contract_type_id', 'internet_service_type_id', 'extras', 'streaming']\n",
    "y_col5 = 'churn'"
   ]
  },
  {
   "cell_type": "code",
   "execution_count": 209,
   "id": "0ad8f7a7",
   "metadata": {},
   "outputs": [],
   "source": [
    "X_train5, y_train5 = train_telco[X_col5], train_telco[y_col5]\n",
    "X_validate5, y_validate5 = validate_telco[X_col5], validate_telco[y_col5]"
   ]
  },
  {
   "cell_type": "code",
   "execution_count": 210,
   "id": "03f8f108",
   "metadata": {},
   "outputs": [
    {
     "name": "stdout",
     "output_type": "stream",
     "text": [
      "training score: 80.57%\n",
      "validate score: 78.85%\n"
     ]
    }
   ],
   "source": [
    "model5.fit(X_train5, y_train5)\n",
    "print(f'training score: {model5.score(X_train5, y_train5):.2%}')\n",
    "print(f'validate score: {model5.score(X_validate5, y_validate5):.2%}')"
   ]
  },
  {
   "cell_type": "code",
   "execution_count": 211,
   "id": "93c3e1fc",
   "metadata": {},
   "outputs": [],
   "source": [
    "model6 = RandomForestClassifier(bootstrap=True, class_weight=None, criterion='gini', min_samples_leaf=5, \n",
    "                                 n_estimators=100, max_depth=8, random_state=217)"
   ]
  },
  {
   "cell_type": "code",
   "execution_count": 212,
   "id": "8ecb9ba1",
   "metadata": {},
   "outputs": [
    {
     "data": {
      "text/plain": [
       "RandomForestClassifier(max_depth=8, min_samples_leaf=5, random_state=217)"
      ]
     },
     "execution_count": 212,
     "metadata": {},
     "output_type": "execute_result"
    }
   ],
   "source": [
    "model6.fit(X_train5, y_train5)"
   ]
  },
  {
   "cell_type": "code",
   "execution_count": 213,
   "id": "ffb21499",
   "metadata": {},
   "outputs": [
    {
     "data": {
      "image/png": "[encoded data removed]",
      "text/plain": [
       "<Figure size 432x288 with 1 Axes>"
      ]
     },
     "metadata": {
      "needs_background": "light"
     },
     "output_type": "display_data"
    }
   ],
   "source": [
    "plt.bar(X_train5.columns, model6.feature_importances_)\n",
    "plt.xticks(rotation=90)\n",
    "plt.show()"
   ]
  },
  {
   "cell_type": "code",
   "execution_count": 214,
   "id": "e13c64b6",
   "metadata": {},
   "outputs": [
    {
     "name": "stdout",
     "output_type": "stream",
     "text": [
      "Accuracy of random forest classifier on training set: 0.82\n",
      "              precision    recall  f1-score   support\n",
      "\n",
      "           0       0.85      0.92      0.88      3104\n",
      "           1       0.71      0.56      0.62      1121\n",
      "\n",
      "    accuracy                           0.82      4225\n",
      "   macro avg       0.78      0.74      0.75      4225\n",
      "weighted avg       0.81      0.82      0.81      4225\n",
      "\n"
     ]
    }
   ],
   "source": [
    "y_pred4 = model6.predict(X_train5)\n",
    "y_pred_proba4 = model5.predict_proba(X_train5)\n",
    "print('Accuracy of random forest classifier on training set: {:.2f}'\n",
    "     .format(model6.score(X_train5, y_train5)))\n",
    "print(classification_report(y_train5, y_pred4))"
   ]
  },
  {
   "cell_type": "code",
   "execution_count": 215,
   "id": "62f4b30a",
   "metadata": {},
   "outputs": [
    {
     "name": "stdout",
     "output_type": "stream",
     "text": [
      "Accuracy of random forest classifier on test set: 0.80\n",
      "              precision    recall  f1-score   support\n",
      "\n",
      "           0       0.84      0.90      0.87      1035\n",
      "           1       0.66      0.53      0.59       374\n",
      "\n",
      "    accuracy                           0.80      1409\n",
      "   macro avg       0.75      0.72      0.73      1409\n",
      "weighted avg       0.79      0.80      0.80      1409\n",
      "\n"
     ]
    }
   ],
   "source": [
    "y_pred4 = model6.predict(X_validate5)\n",
    "y_pred_proba4 = model6.predict_proba(X_validate5)\n",
    "print('Accuracy of random forest classifier on test set: {:.2f}'\n",
    "     .format(model6.score(X_validate5, y_validate5)))\n",
    "print(classification_report(y_validate5, y_pred4))"
   ]
  },
  {
   "cell_type": "code",
   "execution_count": 216,
   "id": "873c6b0a",
   "metadata": {},
   "outputs": [],
   "source": [
    "model7 = DecisionTreeClassifier(max_depth=6)"
   ]
  },
  {
   "cell_type": "code",
   "execution_count": 217,
   "id": "cba433c6",
   "metadata": {},
   "outputs": [],
   "source": [
    "X_col7 = ['tenure', 'monthly_charges', 'contract_type_id', 'internet_service_type_id', 'senior_citizen', 'partner', 'dependents']\n",
    "y_col7 = 'churn'"
   ]
  },
  {
   "cell_type": "code",
   "execution_count": 218,
   "id": "89445c0b",
   "metadata": {},
   "outputs": [],
   "source": [
    "X_train7, y_train7 = train_telco[X_col7], train_telco[y_col7]\n",
    "X_validate7, y_validate7 = validate_telco[X_col7], validate_telco[y_col7]"
   ]
  },
  {
   "cell_type": "code",
   "execution_count": 219,
   "id": "509bfad0",
   "metadata": {},
   "outputs": [
    {
     "name": "stdout",
     "output_type": "stream",
     "text": [
      "training score: 80.31%\n",
      "validate score: 78.64%\n"
     ]
    }
   ],
   "source": [
    "model7.fit(X_train7, y_train7)\n",
    "print(f'training score: {model7.score(X_train7, y_train7):.2%}')\n",
    "print(f'validate score: {model7.score(X_validate7, y_validate7):.2%}')"
   ]
  },
  {
   "cell_type": "code",
   "execution_count": 220,
   "id": "d1e17fec",
   "metadata": {},
   "outputs": [],
   "source": [
    "model8 = RandomForestClassifier(bootstrap=True, class_weight=None, criterion='gini', min_samples_leaf=3, \n",
    "                                 n_estimators=100, max_depth=8, random_state=217)"
   ]
  },
  {
   "cell_type": "code",
   "execution_count": 221,
   "id": "15153bf9",
   "metadata": {},
   "outputs": [
    {
     "data": {
      "text/plain": [
       "RandomForestClassifier(max_depth=8, min_samples_leaf=3, random_state=217)"
      ]
     },
     "execution_count": 221,
     "metadata": {},
     "output_type": "execute_result"
    }
   ],
   "source": [
    "model8.fit(X_train7, y_train7)"
   ]
  },
  {
   "cell_type": "code",
   "execution_count": 223,
   "id": "801f47a1",
   "metadata": {},
   "outputs": [
    {
     "data": {
      "image/png": "[encoded data removed]",
      "text/plain": [
       "<Figure size 432x288 with 1 Axes>"
      ]
     },
     "metadata": {
      "needs_background": "light"
     },
     "output_type": "display_data"
    }
   ],
   "source": [
    "plt.bar(X_train7.columns, model8.feature_importances_)\n",
    "plt.xticks(rotation=90)\n",
    "plt.show()"
   ]
  },
  {
   "cell_type": "code",
   "execution_count": 224,
   "id": "83de9fe6",
   "metadata": {},
   "outputs": [
    {
     "name": "stdout",
     "output_type": "stream",
     "text": [
      "Accuracy of random forest classifier on training set: 0.82\n",
      "              precision    recall  f1-score   support\n",
      "\n",
      "           0       0.85      0.92      0.88      3104\n",
      "           1       0.72      0.54      0.61      1121\n",
      "\n",
      "    accuracy                           0.82      4225\n",
      "   macro avg       0.78      0.73      0.75      4225\n",
      "weighted avg       0.81      0.82      0.81      4225\n",
      "\n"
     ]
    }
   ],
   "source": [
    "y_pred5 = model8.predict(X_train7)\n",
    "y_pred_proba5 = model8.predict_proba(X_train7)\n",
    "print('Accuracy of random forest classifier on training set: {:.2f}'\n",
    "     .format(model8.score(X_train7, y_train7)))\n",
    "print(classification_report(y_train7, y_pred5))"
   ]
  },
  {
   "cell_type": "code",
   "execution_count": 225,
   "id": "f44b3075",
   "metadata": {},
   "outputs": [
    {
     "name": "stdout",
     "output_type": "stream",
     "text": [
      "Accuracy of random forest classifier on test set: 0.81\n",
      "              precision    recall  f1-score   support\n",
      "\n",
      "           0       0.85      0.91      0.88      1035\n",
      "           1       0.68      0.55      0.61       374\n",
      "\n",
      "    accuracy                           0.81      1409\n",
      "   macro avg       0.76      0.73      0.74      1409\n",
      "weighted avg       0.80      0.81      0.80      1409\n",
      "\n"
     ]
    }
   ],
   "source": [
    "y_pred5 = model8.predict(X_validate7)\n",
    "y_pred_proba5 = model8.predict_proba(X_validate7)\n",
    "print('Accuracy of random forest classifier on test set: {:.2f}'\n",
    "     .format(model8.score(X_validate7, y_validate7)))\n",
    "print(classification_report(y_validate7, y_pred5))"
   ]
  },
  {
   "cell_type": "code",
   "execution_count": 226,
   "id": "080b1887",
   "metadata": {},
   "outputs": [],
   "source": [
    "X_col9 = ['tenure', 'monthly_charges', 'dependents', 'contract_type_id', 'extras', 'internet_service_type_id', 'payment_type_id', 'partner', 'senior_citizen']\n",
    "y_col9 = 'churn'\n",
    "X_train9, y_train9 = train_telco[X_col9], train_telco[y_col9]\n",
    "X_validate9, y_validate9 = validate_telco[X_col9], validate_telco[y_col9]"
   ]
  },
  {
   "cell_type": "code",
   "execution_count": 227,
   "id": "8cdc933c",
   "metadata": {},
   "outputs": [
    {
     "data": {
      "text/html": [
       "<div>\n",
       "<style scoped>\n",
       "    .dataframe tbody tr th:only-of-type {\n",
       "        vertical-align: middle;\n",
       "    }\n",
       "\n",
       "    .dataframe tbody tr th {\n",
       "        vertical-align: top;\n",
       "    }\n",
       "\n",
       "    .dataframe thead th {\n",
       "        text-align: right;\n",
       "    }\n",
       "</style>\n",
       "<table border=\"1\" class=\"dataframe\">\n",
       "  <thead>\n",
       "    <tr style=\"text-align: right;\">\n",
       "      <th></th>\n",
       "      <th>max_depth</th>\n",
       "      <th>train_accuracy</th>\n",
       "      <th>validate_accuracy</th>\n",
       "      <th>difference</th>\n",
       "    </tr>\n",
       "  </thead>\n",
       "  <tbody>\n",
       "    <tr>\n",
       "      <th>0</th>\n",
       "      <td>2</td>\n",
       "      <td>0.768757</td>\n",
       "      <td>0.777857</td>\n",
       "      <td>-0.009099</td>\n",
       "    </tr>\n",
       "    <tr>\n",
       "      <th>1</th>\n",
       "      <td>3</td>\n",
       "      <td>0.780592</td>\n",
       "      <td>0.785664</td>\n",
       "      <td>-0.005072</td>\n",
       "    </tr>\n",
       "    <tr>\n",
       "      <th>2</th>\n",
       "      <td>4</td>\n",
       "      <td>0.793136</td>\n",
       "      <td>0.804826</td>\n",
       "      <td>-0.011690</td>\n",
       "    </tr>\n",
       "    <tr>\n",
       "      <th>3</th>\n",
       "      <td>5</td>\n",
       "      <td>0.801420</td>\n",
       "      <td>0.810504</td>\n",
       "      <td>-0.009084</td>\n",
       "    </tr>\n",
       "    <tr>\n",
       "      <th>4</th>\n",
       "      <td>6</td>\n",
       "      <td>0.807574</td>\n",
       "      <td>0.815472</td>\n",
       "      <td>-0.007898</td>\n",
       "    </tr>\n",
       "    <tr>\n",
       "      <th>5</th>\n",
       "      <td>7</td>\n",
       "      <td>0.820355</td>\n",
       "      <td>0.818311</td>\n",
       "      <td>0.002044</td>\n",
       "    </tr>\n",
       "    <tr>\n",
       "      <th>6</th>\n",
       "      <td>8</td>\n",
       "      <td>0.837160</td>\n",
       "      <td>0.815472</td>\n",
       "      <td>0.021688</td>\n",
       "    </tr>\n",
       "    <tr>\n",
       "      <th>7</th>\n",
       "      <td>9</td>\n",
       "      <td>0.861065</td>\n",
       "      <td>0.811214</td>\n",
       "      <td>0.049851</td>\n",
       "    </tr>\n",
       "    <tr>\n",
       "      <th>8</th>\n",
       "      <td>10</td>\n",
       "      <td>0.888047</td>\n",
       "      <td>0.809084</td>\n",
       "      <td>0.078963</td>\n",
       "    </tr>\n",
       "    <tr>\n",
       "      <th>9</th>\n",
       "      <td>11</td>\n",
       "      <td>0.918817</td>\n",
       "      <td>0.811923</td>\n",
       "      <td>0.106893</td>\n",
       "    </tr>\n",
       "    <tr>\n",
       "      <th>10</th>\n",
       "      <td>12</td>\n",
       "      <td>0.944852</td>\n",
       "      <td>0.801987</td>\n",
       "      <td>0.142865</td>\n",
       "    </tr>\n",
       "    <tr>\n",
       "      <th>11</th>\n",
       "      <td>13</td>\n",
       "      <td>0.964970</td>\n",
       "      <td>0.803407</td>\n",
       "      <td>0.161564</td>\n",
       "    </tr>\n",
       "    <tr>\n",
       "      <th>12</th>\n",
       "      <td>14</td>\n",
       "      <td>0.978935</td>\n",
       "      <td>0.798439</td>\n",
       "      <td>0.180496</td>\n",
       "    </tr>\n",
       "    <tr>\n",
       "      <th>13</th>\n",
       "      <td>15</td>\n",
       "      <td>0.989586</td>\n",
       "      <td>0.798439</td>\n",
       "      <td>0.191147</td>\n",
       "    </tr>\n",
       "    <tr>\n",
       "      <th>14</th>\n",
       "      <td>16</td>\n",
       "      <td>0.993846</td>\n",
       "      <td>0.801278</td>\n",
       "      <td>0.192569</td>\n",
       "    </tr>\n",
       "    <tr>\n",
       "      <th>15</th>\n",
       "      <td>17</td>\n",
       "      <td>0.995266</td>\n",
       "      <td>0.796309</td>\n",
       "      <td>0.198957</td>\n",
       "    </tr>\n",
       "    <tr>\n",
       "      <th>16</th>\n",
       "      <td>18</td>\n",
       "      <td>0.995740</td>\n",
       "      <td>0.791341</td>\n",
       "      <td>0.204398</td>\n",
       "    </tr>\n",
       "    <tr>\n",
       "      <th>17</th>\n",
       "      <td>19</td>\n",
       "      <td>0.995740</td>\n",
       "      <td>0.794890</td>\n",
       "      <td>0.200850</td>\n",
       "    </tr>\n",
       "    <tr>\n",
       "      <th>18</th>\n",
       "      <td>20</td>\n",
       "      <td>0.995740</td>\n",
       "      <td>0.798439</td>\n",
       "      <td>0.197301</td>\n",
       "    </tr>\n",
       "    <tr>\n",
       "      <th>19</th>\n",
       "      <td>21</td>\n",
       "      <td>0.995740</td>\n",
       "      <td>0.798439</td>\n",
       "      <td>0.197301</td>\n",
       "    </tr>\n",
       "    <tr>\n",
       "      <th>20</th>\n",
       "      <td>22</td>\n",
       "      <td>0.995740</td>\n",
       "      <td>0.794180</td>\n",
       "      <td>0.201559</td>\n",
       "    </tr>\n",
       "    <tr>\n",
       "      <th>21</th>\n",
       "      <td>23</td>\n",
       "      <td>0.995740</td>\n",
       "      <td>0.796309</td>\n",
       "      <td>0.199430</td>\n",
       "    </tr>\n",
       "    <tr>\n",
       "      <th>22</th>\n",
       "      <td>24</td>\n",
       "      <td>0.995740</td>\n",
       "      <td>0.796309</td>\n",
       "      <td>0.199430</td>\n",
       "    </tr>\n",
       "  </tbody>\n",
       "</table>\n",
       "</div>"
      ],
      "text/plain": [
       "    max_depth  train_accuracy  validate_accuracy  difference\n",
       "0           2        0.768757           0.777857   -0.009099\n",
       "1           3        0.780592           0.785664   -0.005072\n",
       "2           4        0.793136           0.804826   -0.011690\n",
       "3           5        0.801420           0.810504   -0.009084\n",
       "4           6        0.807574           0.815472   -0.007898\n",
       "5           7        0.820355           0.818311    0.002044\n",
       "6           8        0.837160           0.815472    0.021688\n",
       "7           9        0.861065           0.811214    0.049851\n",
       "8          10        0.888047           0.809084    0.078963\n",
       "9          11        0.918817           0.811923    0.106893\n",
       "10         12        0.944852           0.801987    0.142865\n",
       "11         13        0.964970           0.803407    0.161564\n",
       "12         14        0.978935           0.798439    0.180496\n",
       "13         15        0.989586           0.798439    0.191147\n",
       "14         16        0.993846           0.801278    0.192569\n",
       "15         17        0.995266           0.796309    0.198957\n",
       "16         18        0.995740           0.791341    0.204398\n",
       "17         19        0.995740           0.794890    0.200850\n",
       "18         20        0.995740           0.798439    0.197301\n",
       "19         21        0.995740           0.798439    0.197301\n",
       "20         22        0.995740           0.794180    0.201559\n",
       "21         23        0.995740           0.796309    0.199430\n",
       "22         24        0.995740           0.796309    0.199430"
      ]
     },
     "execution_count": 227,
     "metadata": {},
     "output_type": "execute_result"
    }
   ],
   "source": [
    "# Let's continue getting loopy, so we can compare in-sample to out-of-sample\n",
    "metrics = []\n",
    "\n",
    "for i in range(2, 25):\n",
    "    # Make the model\n",
    "    forest = RandomForestClassifier(max_depth=i, random_state=217)\n",
    "\n",
    "    # Fit the model (on train and only train)\n",
    "    forest = forest.fit(X_train9, y_train9)\n",
    "\n",
    "    # Use the model\n",
    "    # We'll evaluate the model's performance on train, first then check validate\n",
    "    in_sample_accuracy = forest.score(X_train9, y_train9)\n",
    "    \n",
    "    out_of_sample_accuracy = forest.score(X_validate9, y_validate9)\n",
    "\n",
    "    output = {\n",
    "        \"max_depth\": i,\n",
    "        \"train_accuracy\": in_sample_accuracy,\n",
    "        \"validate_accuracy\": out_of_sample_accuracy\n",
    "    }\n",
    "    \n",
    "    metrics.append(output)\n",
    "    \n",
    "df = pd.DataFrame(metrics)\n",
    "df[\"difference\"] = df.train_accuracy - df.validate_accuracy\n",
    "df"
   ]
  },
  {
   "cell_type": "code",
   "execution_count": 228,
   "id": "a6f7cbab",
   "metadata": {},
   "outputs": [
    {
     "name": "stdout",
     "output_type": "stream",
     "text": [
      "Tree with max depth of 2\n",
      "                     0            1  accuracy    macro avg  weighted avg\n",
      "precision     0.772343     0.725000  0.768757     0.748672      0.759782\n",
      "recall        0.971649     0.206958  0.768757     0.589304      0.768757\n",
      "f1-score      0.860608     0.321999  0.768757     0.591303      0.717701\n",
      "support    3104.000000  1121.000000  0.768757  4225.000000   4225.000000\n",
      "\n",
      "Tree with max depth of 3\n",
      "                     0            1  accuracy    macro avg  weighted avg\n",
      "precision     0.790499     0.702929  0.780592     0.746714      0.767264\n",
      "recall        0.954253     0.299732  0.780592     0.626992      0.780592\n",
      "f1-score      0.864691     0.420263  0.780592     0.642477      0.746773\n",
      "support    3104.000000  1121.000000  0.780592  4225.000000   4225.000000\n",
      "\n",
      "Tree with max depth of 4\n",
      "                     0            1  accuracy    macro avg  weighted avg\n",
      "precision     0.812500     0.687976  0.793136     0.750238      0.779461\n",
      "recall        0.933956     0.403211  0.793136     0.668584      0.793136\n",
      "f1-score      0.869005     0.508436  0.793136     0.688721      0.773337\n",
      "support    3104.000000  1121.000000  0.793136  4225.000000   4225.000000\n",
      "\n",
      "Tree with max depth of 5\n",
      "                     0            1  accuracy    macro avg  weighted avg\n",
      "precision     0.825525     0.689008   0.80142     0.757266      0.789303\n",
      "recall        0.925258     0.458519   0.80142     0.691888      0.801420\n",
      "f1-score      0.872551     0.550616   0.80142     0.711583      0.787133\n",
      "support    3104.000000  1121.000000   0.80142  4225.000000   4225.000000\n",
      "\n",
      "Tree with max depth of 6\n",
      "                     0            1  accuracy    macro avg  weighted avg\n",
      "precision     0.836220     0.688264  0.807574     0.762242      0.796963\n",
      "recall        0.917848     0.502230  0.807574     0.710039      0.807574\n",
      "f1-score      0.875134     0.580712  0.807574     0.727923      0.797017\n",
      "support    3104.000000  1121.000000  0.807574  4225.000000   4225.000000\n",
      "\n",
      "Tree with max depth of 7\n",
      "                     0            1  accuracy    macro avg  weighted avg\n",
      "precision     0.849062     0.709007  0.820355     0.779035      0.811902\n",
      "recall        0.918814     0.547725  0.820355     0.733270      0.820355\n",
      "f1-score      0.882562     0.618017  0.820355     0.750290      0.812372\n",
      "support    3104.000000  1121.000000  0.820355  4225.000000   4225.000000\n",
      "\n",
      "Tree with max depth of 8\n",
      "                     0            1  accuracy    macro avg  weighted avg\n",
      "precision     0.862545     0.742441   0.83716     0.802493      0.830678\n",
      "recall        0.925902     0.591436   0.83716     0.758669      0.837160\n",
      "f1-score      0.893101     0.658391   0.83716     0.775746      0.830827\n",
      "support    3104.000000  1121.000000   0.83716  4225.000000   4225.000000\n",
      "\n",
      "Tree with max depth of 9\n",
      "                     0            1  accuracy    macro avg  weighted avg\n",
      "precision     0.881942     0.787097  0.861065     0.834520      0.856777\n",
      "recall        0.936211     0.652988  0.861065     0.794600      0.861065\n",
      "f1-score      0.908267     0.713798  0.861065     0.811033      0.856669\n",
      "support    3104.000000  1121.000000  0.861065  4225.000000   4225.000000\n",
      "\n",
      "Tree with max depth of 10\n",
      "                     0            1  accuracy    macro avg  weighted avg\n",
      "precision     0.903157     0.836798  0.888047     0.869977      0.885550\n",
      "recall        0.949420     0.718109  0.888047     0.833764      0.888047\n",
      "f1-score      0.925711     0.772924  0.888047     0.849317      0.885172\n",
      "support    3104.000000  1121.000000  0.888047  4225.000000   4225.000000\n",
      "\n",
      "Tree with max depth of 11\n",
      "                     0            1  accuracy    macro avg  weighted avg\n",
      "precision     0.929928     0.883629  0.918817     0.906779      0.917644\n",
      "recall        0.961985     0.799286  0.918817     0.880635      0.918817\n",
      "f1-score      0.945685     0.839344  0.918817     0.892515      0.917470\n",
      "support    3104.000000  1121.000000  0.918817  4225.000000   4225.000000\n",
      "\n",
      "Tree with max depth of 12\n",
      "                     0            1  accuracy    macro avg  weighted avg\n",
      "precision     0.952411     0.922053  0.944852     0.937232      0.944356\n",
      "recall        0.973582     0.865299  0.944852     0.919441      0.944852\n",
      "f1-score      0.962880     0.892775  0.944852     0.927828      0.944280\n",
      "support    3104.000000  1121.000000  0.944852  4225.000000   4225.000000\n",
      "\n",
      "Tree with max depth of 13\n",
      "                     0            1  accuracy    macro avg  weighted avg\n",
      "precision     0.969803     0.950880   0.96497     0.960342      0.964782\n",
      "recall        0.982925     0.915254   0.96497     0.949090      0.964970\n",
      "f1-score      0.976320     0.932727   0.96497     0.954524      0.964754\n",
      "support    3104.000000  1121.000000   0.96497  4225.000000   4225.000000\n",
      "\n",
      "Tree with max depth of 14\n",
      "                     0            1  accuracy    macro avg  weighted avg\n",
      "precision     0.982091     0.969945  0.978935     0.976018      0.978869\n",
      "recall        0.989369     0.950045  0.978935     0.969707      0.978935\n",
      "f1-score      0.985717     0.959892  0.978935     0.972804      0.978865\n",
      "support    3104.000000  1121.000000  0.978935  4225.000000   4225.000000\n",
      "\n",
      "Tree with max depth of 15\n",
      "                     0            1  accuracy    macro avg  weighted avg\n",
      "precision     0.991961     0.982960  0.989586     0.987461      0.989573\n",
      "recall        0.993879     0.977698  0.989586     0.985789      0.989586\n",
      "f1-score      0.992919     0.980322  0.989586     0.986621      0.989577\n",
      "support    3104.000000  1121.000000  0.989586  4225.000000   4225.000000\n",
      "\n",
      "Tree with max depth of 16\n",
      "                     0            1  accuracy    macro avg  weighted avg\n",
      "precision     0.994537     0.991914  0.993846     0.993226      0.993841\n",
      "recall        0.997101     0.984835  0.993846     0.990968      0.993846\n",
      "f1-score      0.995817     0.988362  0.993846     0.992089      0.993839\n",
      "support    3104.000000  1121.000000  0.993846  4225.000000   4225.000000\n",
      "\n",
      "Tree with max depth of 17\n",
      "                     0            1  accuracy    macro avg  weighted avg\n",
      "precision     0.995183     0.995500  0.995266     0.995341      0.995267\n",
      "recall        0.998389     0.986619  0.995266     0.992504      0.995266\n",
      "f1-score      0.996784     0.991039  0.995266     0.993911      0.995259\n",
      "support    3104.000000  1121.000000  0.995266  4225.000000   4225.000000\n",
      "\n",
      "Tree with max depth of 18\n",
      "                     0            1  accuracy    macro avg  weighted avg\n",
      "precision     0.995504     0.996400   0.99574     0.995952      0.995742\n",
      "recall        0.998711     0.987511   0.99574     0.993111      0.995740\n",
      "f1-score      0.997105     0.991935   0.99574     0.994520      0.995734\n",
      "support    3104.000000  1121.000000   0.99574  4225.000000   4225.000000\n",
      "\n",
      "Tree with max depth of 19\n",
      "                     0            1  accuracy    macro avg  weighted avg\n",
      "precision     0.995186     0.997295   0.99574     0.996240      0.995746\n",
      "recall        0.999034     0.986619   0.99574     0.992826      0.995740\n",
      "f1-score      0.997106     0.991928   0.99574     0.994517      0.995732\n",
      "support    3104.000000  1121.000000   0.99574  4225.000000   4225.000000\n",
      "\n",
      "Tree with max depth of 20\n",
      "                     0            1  accuracy    macro avg  weighted avg\n",
      "precision     0.995186     0.997295   0.99574     0.996240      0.995746\n",
      "recall        0.999034     0.986619   0.99574     0.992826      0.995740\n",
      "f1-score      0.997106     0.991928   0.99574     0.994517      0.995732\n",
      "support    3104.000000  1121.000000   0.99574  4225.000000   4225.000000\n",
      "\n",
      "Tree with max depth of 21\n",
      "                     0            1  accuracy    macro avg  weighted avg\n",
      "precision     0.995186     0.997295   0.99574     0.996240      0.995746\n",
      "recall        0.999034     0.986619   0.99574     0.992826      0.995740\n",
      "f1-score      0.997106     0.991928   0.99574     0.994517      0.995732\n",
      "support    3104.000000  1121.000000   0.99574  4225.000000   4225.000000\n",
      "\n",
      "Tree with max depth of 22\n",
      "                     0            1  accuracy    macro avg  weighted avg\n",
      "precision     0.995186     0.997295   0.99574     0.996240      0.995746\n",
      "recall        0.999034     0.986619   0.99574     0.992826      0.995740\n",
      "f1-score      0.997106     0.991928   0.99574     0.994517      0.995732\n",
      "support    3104.000000  1121.000000   0.99574  4225.000000   4225.000000\n",
      "\n"
     ]
    },
    {
     "name": "stdout",
     "output_type": "stream",
     "text": [
      "Tree with max depth of 23\n",
      "                     0            1  accuracy    macro avg  weighted avg\n",
      "precision     0.995186     0.997295   0.99574     0.996240      0.995746\n",
      "recall        0.999034     0.986619   0.99574     0.992826      0.995740\n",
      "f1-score      0.997106     0.991928   0.99574     0.994517      0.995732\n",
      "support    3104.000000  1121.000000   0.99574  4225.000000   4225.000000\n",
      "\n",
      "Tree with max depth of 24\n",
      "                     0            1  accuracy    macro avg  weighted avg\n",
      "precision     0.995186     0.997295   0.99574     0.996240      0.995746\n",
      "recall        0.999034     0.986619   0.99574     0.992826      0.995740\n",
      "f1-score      0.997106     0.991928   0.99574     0.994517      0.995732\n",
      "support    3104.000000  1121.000000   0.99574  4225.000000   4225.000000\n",
      "\n"
     ]
    }
   ],
   "source": [
    "for i in range(2, 25):\n",
    "    # Make the model\n",
    "    forest = RandomForestClassifier(max_depth=i, random_state=217)\n",
    "\n",
    "    # Fit the model (on train and only train)\n",
    "    forest = forest.fit(X_train9, y_train9)\n",
    "\n",
    "    # Use the model\n",
    "    # We'll evaluate the model's performance on train, first\n",
    "    y_predictions = forest.predict(X_train9)\n",
    "\n",
    "    # Produce the classification report on the actual y values and this model's predicted y values\n",
    "    report = classification_report(y_train9, y_predictions, output_dict=True)\n",
    "    print(f\"Tree with max depth of {i}\")\n",
    "    print(pd.DataFrame(report))\n",
    "    print()"
   ]
  },
  {
   "cell_type": "code",
   "execution_count": 229,
   "id": "f808b544",
   "metadata": {},
   "outputs": [
    {
     "data": {
      "text/html": [
       "<div>\n",
       "<style scoped>\n",
       "    .dataframe tbody tr th:only-of-type {\n",
       "        vertical-align: middle;\n",
       "    }\n",
       "\n",
       "    .dataframe tbody tr th {\n",
       "        vertical-align: top;\n",
       "    }\n",
       "\n",
       "    .dataframe thead th {\n",
       "        text-align: right;\n",
       "    }\n",
       "</style>\n",
       "<table border=\"1\" class=\"dataframe\">\n",
       "  <thead>\n",
       "    <tr style=\"text-align: right;\">\n",
       "      <th></th>\n",
       "      <th>min_samples_per_leaf</th>\n",
       "      <th>max_depth</th>\n",
       "      <th>train_accuracy</th>\n",
       "      <th>validate_accuracy</th>\n",
       "      <th>difference</th>\n",
       "    </tr>\n",
       "  </thead>\n",
       "  <tbody>\n",
       "    <tr>\n",
       "      <th>0</th>\n",
       "      <td>2</td>\n",
       "      <td>4</td>\n",
       "      <td>0.793136</td>\n",
       "      <td>0.804826</td>\n",
       "      <td>-0.011690</td>\n",
       "    </tr>\n",
       "    <tr>\n",
       "      <th>1</th>\n",
       "      <td>3</td>\n",
       "      <td>4</td>\n",
       "      <td>0.792189</td>\n",
       "      <td>0.804116</td>\n",
       "      <td>-0.011927</td>\n",
       "    </tr>\n",
       "    <tr>\n",
       "      <th>2</th>\n",
       "      <td>4</td>\n",
       "      <td>4</td>\n",
       "      <td>0.792899</td>\n",
       "      <td>0.804116</td>\n",
       "      <td>-0.011217</td>\n",
       "    </tr>\n",
       "    <tr>\n",
       "      <th>3</th>\n",
       "      <td>5</td>\n",
       "      <td>4</td>\n",
       "      <td>0.792663</td>\n",
       "      <td>0.801987</td>\n",
       "      <td>-0.009325</td>\n",
       "    </tr>\n",
       "    <tr>\n",
       "      <th>4</th>\n",
       "      <td>6</td>\n",
       "      <td>4</td>\n",
       "      <td>0.793136</td>\n",
       "      <td>0.802697</td>\n",
       "      <td>-0.009561</td>\n",
       "    </tr>\n",
       "    <tr>\n",
       "      <th>5</th>\n",
       "      <td>7</td>\n",
       "      <td>4</td>\n",
       "      <td>0.792899</td>\n",
       "      <td>0.802697</td>\n",
       "      <td>-0.009798</td>\n",
       "    </tr>\n",
       "    <tr>\n",
       "      <th>6</th>\n",
       "      <td>8</td>\n",
       "      <td>4</td>\n",
       "      <td>0.792663</td>\n",
       "      <td>0.801987</td>\n",
       "      <td>-0.009325</td>\n",
       "    </tr>\n",
       "    <tr>\n",
       "      <th>7</th>\n",
       "      <td>9</td>\n",
       "      <td>4</td>\n",
       "      <td>0.792899</td>\n",
       "      <td>0.801987</td>\n",
       "      <td>-0.009088</td>\n",
       "    </tr>\n",
       "    <tr>\n",
       "      <th>8</th>\n",
       "      <td>10</td>\n",
       "      <td>4</td>\n",
       "      <td>0.793136</td>\n",
       "      <td>0.801278</td>\n",
       "      <td>-0.008141</td>\n",
       "    </tr>\n",
       "    <tr>\n",
       "      <th>9</th>\n",
       "      <td>11</td>\n",
       "      <td>4</td>\n",
       "      <td>0.793136</td>\n",
       "      <td>0.802697</td>\n",
       "      <td>-0.009561</td>\n",
       "    </tr>\n",
       "    <tr>\n",
       "      <th>10</th>\n",
       "      <td>12</td>\n",
       "      <td>4</td>\n",
       "      <td>0.792663</td>\n",
       "      <td>0.801987</td>\n",
       "      <td>-0.009325</td>\n",
       "    </tr>\n",
       "    <tr>\n",
       "      <th>11</th>\n",
       "      <td>13</td>\n",
       "      <td>4</td>\n",
       "      <td>0.792426</td>\n",
       "      <td>0.801278</td>\n",
       "      <td>-0.008851</td>\n",
       "    </tr>\n",
       "    <tr>\n",
       "      <th>12</th>\n",
       "      <td>14</td>\n",
       "      <td>4</td>\n",
       "      <td>0.791716</td>\n",
       "      <td>0.801987</td>\n",
       "      <td>-0.010271</td>\n",
       "    </tr>\n",
       "    <tr>\n",
       "      <th>13</th>\n",
       "      <td>15</td>\n",
       "      <td>4</td>\n",
       "      <td>0.791716</td>\n",
       "      <td>0.802697</td>\n",
       "      <td>-0.010981</td>\n",
       "    </tr>\n",
       "    <tr>\n",
       "      <th>14</th>\n",
       "      <td>16</td>\n",
       "      <td>4</td>\n",
       "      <td>0.791953</td>\n",
       "      <td>0.802697</td>\n",
       "      <td>-0.010744</td>\n",
       "    </tr>\n",
       "    <tr>\n",
       "      <th>15</th>\n",
       "      <td>17</td>\n",
       "      <td>4</td>\n",
       "      <td>0.792426</td>\n",
       "      <td>0.803407</td>\n",
       "      <td>-0.010981</td>\n",
       "    </tr>\n",
       "    <tr>\n",
       "      <th>16</th>\n",
       "      <td>18</td>\n",
       "      <td>4</td>\n",
       "      <td>0.791479</td>\n",
       "      <td>0.803407</td>\n",
       "      <td>-0.011927</td>\n",
       "    </tr>\n",
       "    <tr>\n",
       "      <th>17</th>\n",
       "      <td>19</td>\n",
       "      <td>4</td>\n",
       "      <td>0.791953</td>\n",
       "      <td>0.804116</td>\n",
       "      <td>-0.012164</td>\n",
       "    </tr>\n",
       "    <tr>\n",
       "      <th>18</th>\n",
       "      <td>20</td>\n",
       "      <td>4</td>\n",
       "      <td>0.791716</td>\n",
       "      <td>0.803407</td>\n",
       "      <td>-0.011691</td>\n",
       "    </tr>\n",
       "    <tr>\n",
       "      <th>19</th>\n",
       "      <td>21</td>\n",
       "      <td>4</td>\n",
       "      <td>0.791953</td>\n",
       "      <td>0.803407</td>\n",
       "      <td>-0.011454</td>\n",
       "    </tr>\n",
       "    <tr>\n",
       "      <th>20</th>\n",
       "      <td>22</td>\n",
       "      <td>4</td>\n",
       "      <td>0.793373</td>\n",
       "      <td>0.802697</td>\n",
       "      <td>-0.009324</td>\n",
       "    </tr>\n",
       "    <tr>\n",
       "      <th>21</th>\n",
       "      <td>23</td>\n",
       "      <td>4</td>\n",
       "      <td>0.792426</td>\n",
       "      <td>0.801987</td>\n",
       "      <td>-0.009561</td>\n",
       "    </tr>\n",
       "    <tr>\n",
       "      <th>22</th>\n",
       "      <td>24</td>\n",
       "      <td>4</td>\n",
       "      <td>0.792899</td>\n",
       "      <td>0.801278</td>\n",
       "      <td>-0.008378</td>\n",
       "    </tr>\n",
       "    <tr>\n",
       "      <th>23</th>\n",
       "      <td>25</td>\n",
       "      <td>4</td>\n",
       "      <td>0.793136</td>\n",
       "      <td>0.802697</td>\n",
       "      <td>-0.009561</td>\n",
       "    </tr>\n",
       "    <tr>\n",
       "      <th>24</th>\n",
       "      <td>26</td>\n",
       "      <td>4</td>\n",
       "      <td>0.792663</td>\n",
       "      <td>0.801278</td>\n",
       "      <td>-0.008615</td>\n",
       "    </tr>\n",
       "    <tr>\n",
       "      <th>25</th>\n",
       "      <td>27</td>\n",
       "      <td>4</td>\n",
       "      <td>0.792189</td>\n",
       "      <td>0.801278</td>\n",
       "      <td>-0.009088</td>\n",
       "    </tr>\n",
       "    <tr>\n",
       "      <th>26</th>\n",
       "      <td>28</td>\n",
       "      <td>4</td>\n",
       "      <td>0.792426</td>\n",
       "      <td>0.800568</td>\n",
       "      <td>-0.008142</td>\n",
       "    </tr>\n",
       "    <tr>\n",
       "      <th>27</th>\n",
       "      <td>29</td>\n",
       "      <td>4</td>\n",
       "      <td>0.792189</td>\n",
       "      <td>0.801987</td>\n",
       "      <td>-0.009798</td>\n",
       "    </tr>\n",
       "    <tr>\n",
       "      <th>28</th>\n",
       "      <td>30</td>\n",
       "      <td>4</td>\n",
       "      <td>0.792189</td>\n",
       "      <td>0.801987</td>\n",
       "      <td>-0.009798</td>\n",
       "    </tr>\n",
       "    <tr>\n",
       "      <th>29</th>\n",
       "      <td>31</td>\n",
       "      <td>4</td>\n",
       "      <td>0.791953</td>\n",
       "      <td>0.801987</td>\n",
       "      <td>-0.010035</td>\n",
       "    </tr>\n",
       "    <tr>\n",
       "      <th>30</th>\n",
       "      <td>32</td>\n",
       "      <td>4</td>\n",
       "      <td>0.791716</td>\n",
       "      <td>0.801987</td>\n",
       "      <td>-0.010271</td>\n",
       "    </tr>\n",
       "    <tr>\n",
       "      <th>31</th>\n",
       "      <td>33</td>\n",
       "      <td>4</td>\n",
       "      <td>0.791716</td>\n",
       "      <td>0.801987</td>\n",
       "      <td>-0.010271</td>\n",
       "    </tr>\n",
       "    <tr>\n",
       "      <th>32</th>\n",
       "      <td>34</td>\n",
       "      <td>4</td>\n",
       "      <td>0.791716</td>\n",
       "      <td>0.801987</td>\n",
       "      <td>-0.010271</td>\n",
       "    </tr>\n",
       "    <tr>\n",
       "      <th>33</th>\n",
       "      <td>35</td>\n",
       "      <td>4</td>\n",
       "      <td>0.791243</td>\n",
       "      <td>0.801987</td>\n",
       "      <td>-0.010745</td>\n",
       "    </tr>\n",
       "    <tr>\n",
       "      <th>34</th>\n",
       "      <td>36</td>\n",
       "      <td>4</td>\n",
       "      <td>0.791716</td>\n",
       "      <td>0.800568</td>\n",
       "      <td>-0.008852</td>\n",
       "    </tr>\n",
       "    <tr>\n",
       "      <th>35</th>\n",
       "      <td>37</td>\n",
       "      <td>4</td>\n",
       "      <td>0.791479</td>\n",
       "      <td>0.800568</td>\n",
       "      <td>-0.009088</td>\n",
       "    </tr>\n",
       "    <tr>\n",
       "      <th>36</th>\n",
       "      <td>38</td>\n",
       "      <td>4</td>\n",
       "      <td>0.791479</td>\n",
       "      <td>0.799858</td>\n",
       "      <td>-0.008379</td>\n",
       "    </tr>\n",
       "    <tr>\n",
       "      <th>37</th>\n",
       "      <td>39</td>\n",
       "      <td>4</td>\n",
       "      <td>0.791479</td>\n",
       "      <td>0.800568</td>\n",
       "      <td>-0.009088</td>\n",
       "    </tr>\n",
       "    <tr>\n",
       "      <th>38</th>\n",
       "      <td>40</td>\n",
       "      <td>4</td>\n",
       "      <td>0.791243</td>\n",
       "      <td>0.800568</td>\n",
       "      <td>-0.009325</td>\n",
       "    </tr>\n",
       "    <tr>\n",
       "      <th>39</th>\n",
       "      <td>41</td>\n",
       "      <td>4</td>\n",
       "      <td>0.791716</td>\n",
       "      <td>0.800568</td>\n",
       "      <td>-0.008852</td>\n",
       "    </tr>\n",
       "    <tr>\n",
       "      <th>40</th>\n",
       "      <td>42</td>\n",
       "      <td>4</td>\n",
       "      <td>0.791006</td>\n",
       "      <td>0.800568</td>\n",
       "      <td>-0.009562</td>\n",
       "    </tr>\n",
       "    <tr>\n",
       "      <th>41</th>\n",
       "      <td>43</td>\n",
       "      <td>4</td>\n",
       "      <td>0.790296</td>\n",
       "      <td>0.800568</td>\n",
       "      <td>-0.010272</td>\n",
       "    </tr>\n",
       "    <tr>\n",
       "      <th>42</th>\n",
       "      <td>44</td>\n",
       "      <td>4</td>\n",
       "      <td>0.790533</td>\n",
       "      <td>0.799858</td>\n",
       "      <td>-0.009326</td>\n",
       "    </tr>\n",
       "    <tr>\n",
       "      <th>43</th>\n",
       "      <td>45</td>\n",
       "      <td>4</td>\n",
       "      <td>0.790769</td>\n",
       "      <td>0.801987</td>\n",
       "      <td>-0.011218</td>\n",
       "    </tr>\n",
       "    <tr>\n",
       "      <th>44</th>\n",
       "      <td>46</td>\n",
       "      <td>4</td>\n",
       "      <td>0.791006</td>\n",
       "      <td>0.801987</td>\n",
       "      <td>-0.010981</td>\n",
       "    </tr>\n",
       "    <tr>\n",
       "      <th>45</th>\n",
       "      <td>47</td>\n",
       "      <td>4</td>\n",
       "      <td>0.791953</td>\n",
       "      <td>0.801278</td>\n",
       "      <td>-0.009325</td>\n",
       "    </tr>\n",
       "    <tr>\n",
       "      <th>46</th>\n",
       "      <td>48</td>\n",
       "      <td>4</td>\n",
       "      <td>0.792189</td>\n",
       "      <td>0.800568</td>\n",
       "      <td>-0.008378</td>\n",
       "    </tr>\n",
       "    <tr>\n",
       "      <th>47</th>\n",
       "      <td>49</td>\n",
       "      <td>4</td>\n",
       "      <td>0.791716</td>\n",
       "      <td>0.799148</td>\n",
       "      <td>-0.007432</td>\n",
       "    </tr>\n",
       "  </tbody>\n",
       "</table>\n",
       "</div>"
      ],
      "text/plain": [
       "    min_samples_per_leaf  max_depth  train_accuracy  validate_accuracy  \\\n",
       "0                      2          4        0.793136           0.804826   \n",
       "1                      3          4        0.792189           0.804116   \n",
       "2                      4          4        0.792899           0.804116   \n",
       "3                      5          4        0.792663           0.801987   \n",
       "4                      6          4        0.793136           0.802697   \n",
       "5                      7          4        0.792899           0.802697   \n",
       "6                      8          4        0.792663           0.801987   \n",
       "7                      9          4        0.792899           0.801987   \n",
       "8                     10          4        0.793136           0.801278   \n",
       "9                     11          4        0.793136           0.802697   \n",
       "10                    12          4        0.792663           0.801987   \n",
       "11                    13          4        0.792426           0.801278   \n",
       "12                    14          4        0.791716           0.801987   \n",
       "13                    15          4        0.791716           0.802697   \n",
       "14                    16          4        0.791953           0.802697   \n",
       "15                    17          4        0.792426           0.803407   \n",
       "16                    18          4        0.791479           0.803407   \n",
       "17                    19          4        0.791953           0.804116   \n",
       "18                    20          4        0.791716           0.803407   \n",
       "19                    21          4        0.791953           0.803407   \n",
       "20                    22          4        0.793373           0.802697   \n",
       "21                    23          4        0.792426           0.801987   \n",
       "22                    24          4        0.792899           0.801278   \n",
       "23                    25          4        0.793136           0.802697   \n",
       "24                    26          4        0.792663           0.801278   \n",
       "25                    27          4        0.792189           0.801278   \n",
       "26                    28          4        0.792426           0.800568   \n",
       "27                    29          4        0.792189           0.801987   \n",
       "28                    30          4        0.792189           0.801987   \n",
       "29                    31          4        0.791953           0.801987   \n",
       "30                    32          4        0.791716           0.801987   \n",
       "31                    33          4        0.791716           0.801987   \n",
       "32                    34          4        0.791716           0.801987   \n",
       "33                    35          4        0.791243           0.801987   \n",
       "34                    36          4        0.791716           0.800568   \n",
       "35                    37          4        0.791479           0.800568   \n",
       "36                    38          4        0.791479           0.799858   \n",
       "37                    39          4        0.791479           0.800568   \n",
       "38                    40          4        0.791243           0.800568   \n",
       "39                    41          4        0.791716           0.800568   \n",
       "40                    42          4        0.791006           0.800568   \n",
       "41                    43          4        0.790296           0.800568   \n",
       "42                    44          4        0.790533           0.799858   \n",
       "43                    45          4        0.790769           0.801987   \n",
       "44                    46          4        0.791006           0.801987   \n",
       "45                    47          4        0.791953           0.801278   \n",
       "46                    48          4        0.792189           0.800568   \n",
       "47                    49          4        0.791716           0.799148   \n",
       "\n",
       "    difference  \n",
       "0    -0.011690  \n",
       "1    -0.011927  \n",
       "2    -0.011217  \n",
       "3    -0.009325  \n",
       "4    -0.009561  \n",
       "5    -0.009798  \n",
       "6    -0.009325  \n",
       "7    -0.009088  \n",
       "8    -0.008141  \n",
       "9    -0.009561  \n",
       "10   -0.009325  \n",
       "11   -0.008851  \n",
       "12   -0.010271  \n",
       "13   -0.010981  \n",
       "14   -0.010744  \n",
       "15   -0.010981  \n",
       "16   -0.011927  \n",
       "17   -0.012164  \n",
       "18   -0.011691  \n",
       "19   -0.011454  \n",
       "20   -0.009324  \n",
       "21   -0.009561  \n",
       "22   -0.008378  \n",
       "23   -0.009561  \n",
       "24   -0.008615  \n",
       "25   -0.009088  \n",
       "26   -0.008142  \n",
       "27   -0.009798  \n",
       "28   -0.009798  \n",
       "29   -0.010035  \n",
       "30   -0.010271  \n",
       "31   -0.010271  \n",
       "32   -0.010271  \n",
       "33   -0.010745  \n",
       "34   -0.008852  \n",
       "35   -0.009088  \n",
       "36   -0.008379  \n",
       "37   -0.009088  \n",
       "38   -0.009325  \n",
       "39   -0.008852  \n",
       "40   -0.009562  \n",
       "41   -0.010272  \n",
       "42   -0.009326  \n",
       "43   -0.011218  \n",
       "44   -0.010981  \n",
       "45   -0.009325  \n",
       "46   -0.008378  \n",
       "47   -0.007432  "
      ]
     },
     "execution_count": 229,
     "metadata": {},
     "output_type": "execute_result"
    }
   ],
   "source": [
    "metrics = []\n",
    "\n",
    "\n",
    "for i in range(2, 50):\n",
    "    # Make the model\n",
    "    depth = 4\n",
    "    n_samples = i\n",
    "    forest = RandomForestClassifier(max_depth=depth, min_samples_leaf=n_samples, random_state=217)\n",
    "\n",
    "    # Fit the model (on train and only train)\n",
    "    forest = forest.fit(X_train9, y_train9)\n",
    "\n",
    "    # Use the model\n",
    "    # We'll evaluate the model's performance on train, first\n",
    "    in_sample_accuracy = forest.score(X_train9, y_train9)\n",
    "    \n",
    "    out_of_sample_accuracy = forest.score(X_validate9, y_validate9)\n",
    "\n",
    "    output = {\n",
    "        \"min_samples_per_leaf\": n_samples,\n",
    "        \"max_depth\": depth,\n",
    "        \"train_accuracy\": in_sample_accuracy,\n",
    "        \"validate_accuracy\": out_of_sample_accuracy\n",
    "    }\n",
    "    \n",
    "    metrics.append(output)\n",
    "    \n",
    "df = pd.DataFrame(metrics)\n",
    "df[\"difference\"] = df.train_accuracy - df.validate_accuracy\n",
    "df"
   ]
  },
  {
   "cell_type": "code",
   "execution_count": 230,
   "id": "7e58980f",
   "metadata": {},
   "outputs": [
    {
     "data": {
      "text/html": [
       "<div>\n",
       "<style scoped>\n",
       "    .dataframe tbody tr th:only-of-type {\n",
       "        vertical-align: middle;\n",
       "    }\n",
       "\n",
       "    .dataframe tbody tr th {\n",
       "        vertical-align: top;\n",
       "    }\n",
       "\n",
       "    .dataframe thead th {\n",
       "        text-align: right;\n",
       "    }\n",
       "</style>\n",
       "<table border=\"1\" class=\"dataframe\">\n",
       "  <thead>\n",
       "    <tr style=\"text-align: right;\">\n",
       "      <th></th>\n",
       "      <th>min_samples_per_leaf</th>\n",
       "      <th>max_depth</th>\n",
       "      <th>train_accuracy</th>\n",
       "      <th>validate_accuracy</th>\n",
       "      <th>difference</th>\n",
       "    </tr>\n",
       "  </thead>\n",
       "  <tbody>\n",
       "    <tr>\n",
       "      <th>0</th>\n",
       "      <td>2</td>\n",
       "      <td>2</td>\n",
       "      <td>0.768757</td>\n",
       "      <td>0.777857</td>\n",
       "      <td>-0.009099</td>\n",
       "    </tr>\n",
       "    <tr>\n",
       "      <th>1</th>\n",
       "      <td>3</td>\n",
       "      <td>3</td>\n",
       "      <td>0.780592</td>\n",
       "      <td>0.785664</td>\n",
       "      <td>-0.005072</td>\n",
       "    </tr>\n",
       "    <tr>\n",
       "      <th>2</th>\n",
       "      <td>4</td>\n",
       "      <td>4</td>\n",
       "      <td>0.792899</td>\n",
       "      <td>0.804116</td>\n",
       "      <td>-0.011217</td>\n",
       "    </tr>\n",
       "    <tr>\n",
       "      <th>3</th>\n",
       "      <td>5</td>\n",
       "      <td>5</td>\n",
       "      <td>0.802367</td>\n",
       "      <td>0.812633</td>\n",
       "      <td>-0.010266</td>\n",
       "    </tr>\n",
       "    <tr>\n",
       "      <th>4</th>\n",
       "      <td>6</td>\n",
       "      <td>6</td>\n",
       "      <td>0.807101</td>\n",
       "      <td>0.814762</td>\n",
       "      <td>-0.007662</td>\n",
       "    </tr>\n",
       "    <tr>\n",
       "      <th>5</th>\n",
       "      <td>7</td>\n",
       "      <td>7</td>\n",
       "      <td>0.815858</td>\n",
       "      <td>0.814053</td>\n",
       "      <td>0.001805</td>\n",
       "    </tr>\n",
       "    <tr>\n",
       "      <th>6</th>\n",
       "      <td>8</td>\n",
       "      <td>8</td>\n",
       "      <td>0.819645</td>\n",
       "      <td>0.812633</td>\n",
       "      <td>0.007012</td>\n",
       "    </tr>\n",
       "    <tr>\n",
       "      <th>7</th>\n",
       "      <td>9</td>\n",
       "      <td>9</td>\n",
       "      <td>0.826036</td>\n",
       "      <td>0.816182</td>\n",
       "      <td>0.009854</td>\n",
       "    </tr>\n",
       "    <tr>\n",
       "      <th>8</th>\n",
       "      <td>10</td>\n",
       "      <td>10</td>\n",
       "      <td>0.826746</td>\n",
       "      <td>0.814762</td>\n",
       "      <td>0.011983</td>\n",
       "    </tr>\n",
       "    <tr>\n",
       "      <th>9</th>\n",
       "      <td>11</td>\n",
       "      <td>11</td>\n",
       "      <td>0.829112</td>\n",
       "      <td>0.813343</td>\n",
       "      <td>0.015770</td>\n",
       "    </tr>\n",
       "    <tr>\n",
       "      <th>10</th>\n",
       "      <td>12</td>\n",
       "      <td>12</td>\n",
       "      <td>0.827456</td>\n",
       "      <td>0.814762</td>\n",
       "      <td>0.012693</td>\n",
       "    </tr>\n",
       "    <tr>\n",
       "      <th>11</th>\n",
       "      <td>13</td>\n",
       "      <td>13</td>\n",
       "      <td>0.823432</td>\n",
       "      <td>0.811214</td>\n",
       "      <td>0.012218</td>\n",
       "    </tr>\n",
       "    <tr>\n",
       "      <th>12</th>\n",
       "      <td>14</td>\n",
       "      <td>14</td>\n",
       "      <td>0.822485</td>\n",
       "      <td>0.815472</td>\n",
       "      <td>0.007013</td>\n",
       "    </tr>\n",
       "    <tr>\n",
       "      <th>13</th>\n",
       "      <td>15</td>\n",
       "      <td>15</td>\n",
       "      <td>0.818698</td>\n",
       "      <td>0.818311</td>\n",
       "      <td>0.000387</td>\n",
       "    </tr>\n",
       "    <tr>\n",
       "      <th>14</th>\n",
       "      <td>16</td>\n",
       "      <td>16</td>\n",
       "      <td>0.818225</td>\n",
       "      <td>0.811923</td>\n",
       "      <td>0.006302</td>\n",
       "    </tr>\n",
       "    <tr>\n",
       "      <th>15</th>\n",
       "      <td>17</td>\n",
       "      <td>17</td>\n",
       "      <td>0.816095</td>\n",
       "      <td>0.815472</td>\n",
       "      <td>0.000623</td>\n",
       "    </tr>\n",
       "    <tr>\n",
       "      <th>16</th>\n",
       "      <td>18</td>\n",
       "      <td>18</td>\n",
       "      <td>0.815385</td>\n",
       "      <td>0.814053</td>\n",
       "      <td>0.001332</td>\n",
       "    </tr>\n",
       "    <tr>\n",
       "      <th>17</th>\n",
       "      <td>19</td>\n",
       "      <td>19</td>\n",
       "      <td>0.813964</td>\n",
       "      <td>0.813343</td>\n",
       "      <td>0.000622</td>\n",
       "    </tr>\n",
       "  </tbody>\n",
       "</table>\n",
       "</div>"
      ],
      "text/plain": [
       "    min_samples_per_leaf  max_depth  train_accuracy  validate_accuracy  \\\n",
       "0                      2          2        0.768757           0.777857   \n",
       "1                      3          3        0.780592           0.785664   \n",
       "2                      4          4        0.792899           0.804116   \n",
       "3                      5          5        0.802367           0.812633   \n",
       "4                      6          6        0.807101           0.814762   \n",
       "5                      7          7        0.815858           0.814053   \n",
       "6                      8          8        0.819645           0.812633   \n",
       "7                      9          9        0.826036           0.816182   \n",
       "8                     10         10        0.826746           0.814762   \n",
       "9                     11         11        0.829112           0.813343   \n",
       "10                    12         12        0.827456           0.814762   \n",
       "11                    13         13        0.823432           0.811214   \n",
       "12                    14         14        0.822485           0.815472   \n",
       "13                    15         15        0.818698           0.818311   \n",
       "14                    16         16        0.818225           0.811923   \n",
       "15                    17         17        0.816095           0.815472   \n",
       "16                    18         18        0.815385           0.814053   \n",
       "17                    19         19        0.813964           0.813343   \n",
       "\n",
       "    difference  \n",
       "0    -0.009099  \n",
       "1    -0.005072  \n",
       "2    -0.011217  \n",
       "3    -0.010266  \n",
       "4    -0.007662  \n",
       "5     0.001805  \n",
       "6     0.007012  \n",
       "7     0.009854  \n",
       "8     0.011983  \n",
       "9     0.015770  \n",
       "10    0.012693  \n",
       "11    0.012218  \n",
       "12    0.007013  \n",
       "13    0.000387  \n",
       "14    0.006302  \n",
       "15    0.000623  \n",
       "16    0.001332  \n",
       "17    0.000622  "
      ]
     },
     "execution_count": 230,
     "metadata": {},
     "output_type": "execute_result"
    }
   ],
   "source": [
    "metrics = []\n",
    "max_depth = 20\n",
    "\n",
    "for i in range(2, max_depth):\n",
    "    # Make the model\n",
    "    depth = i\n",
    "    n_samples = i\n",
    "    forest = RandomForestClassifier(max_depth=depth, min_samples_leaf=n_samples, random_state=217)\n",
    "\n",
    "    # Fit the model (on train and only train)\n",
    "    forest = forest.fit(X_train9, y_train9)\n",
    "\n",
    "    # Use the model\n",
    "    # We'll evaluate the model's performance on train, first\n",
    "    in_sample_accuracy = forest.score(X_train9, y_train9)\n",
    "    \n",
    "    out_of_sample_accuracy = forest.score(X_validate9, y_validate9)\n",
    "\n",
    "    output = {\n",
    "        \"min_samples_per_leaf\": n_samples,\n",
    "        \"max_depth\": depth,\n",
    "        \"train_accuracy\": in_sample_accuracy,\n",
    "        \"validate_accuracy\": out_of_sample_accuracy\n",
    "    }\n",
    "    \n",
    "    metrics.append(output)\n",
    "    \n",
    "df = pd.DataFrame(metrics)\n",
    "df[\"difference\"] = df.train_accuracy - df.validate_accuracy\n",
    "df"
   ]
  },
  {
   "cell_type": "code",
   "execution_count": 231,
   "id": "ef07d684",
   "metadata": {},
   "outputs": [
    {
     "data": {
      "text/html": [
       "<div>\n",
       "<style scoped>\n",
       "    .dataframe tbody tr th:only-of-type {\n",
       "        vertical-align: middle;\n",
       "    }\n",
       "\n",
       "    .dataframe tbody tr th {\n",
       "        vertical-align: top;\n",
       "    }\n",
       "\n",
       "    .dataframe thead th {\n",
       "        text-align: right;\n",
       "    }\n",
       "</style>\n",
       "<table border=\"1\" class=\"dataframe\">\n",
       "  <thead>\n",
       "    <tr style=\"text-align: right;\">\n",
       "      <th></th>\n",
       "      <th>min_samples_per_leaf</th>\n",
       "      <th>max_depth</th>\n",
       "      <th>train_accuracy</th>\n",
       "      <th>validate_accuracy</th>\n",
       "      <th>difference</th>\n",
       "    </tr>\n",
       "  </thead>\n",
       "  <tbody>\n",
       "    <tr>\n",
       "      <th>0</th>\n",
       "      <td>18</td>\n",
       "      <td>2</td>\n",
       "      <td>0.768757</td>\n",
       "      <td>0.777857</td>\n",
       "      <td>-0.009099</td>\n",
       "    </tr>\n",
       "    <tr>\n",
       "      <th>1</th>\n",
       "      <td>17</td>\n",
       "      <td>3</td>\n",
       "      <td>0.778225</td>\n",
       "      <td>0.784244</td>\n",
       "      <td>-0.006019</td>\n",
       "    </tr>\n",
       "    <tr>\n",
       "      <th>2</th>\n",
       "      <td>16</td>\n",
       "      <td>4</td>\n",
       "      <td>0.791953</td>\n",
       "      <td>0.802697</td>\n",
       "      <td>-0.010744</td>\n",
       "    </tr>\n",
       "    <tr>\n",
       "      <th>3</th>\n",
       "      <td>15</td>\n",
       "      <td>5</td>\n",
       "      <td>0.799290</td>\n",
       "      <td>0.812633</td>\n",
       "      <td>-0.013343</td>\n",
       "    </tr>\n",
       "    <tr>\n",
       "      <th>4</th>\n",
       "      <td>14</td>\n",
       "      <td>6</td>\n",
       "      <td>0.805917</td>\n",
       "      <td>0.811923</td>\n",
       "      <td>-0.006006</td>\n",
       "    </tr>\n",
       "    <tr>\n",
       "      <th>5</th>\n",
       "      <td>13</td>\n",
       "      <td>7</td>\n",
       "      <td>0.811598</td>\n",
       "      <td>0.814053</td>\n",
       "      <td>-0.002455</td>\n",
       "    </tr>\n",
       "    <tr>\n",
       "      <th>6</th>\n",
       "      <td>12</td>\n",
       "      <td>8</td>\n",
       "      <td>0.816095</td>\n",
       "      <td>0.815472</td>\n",
       "      <td>0.000623</td>\n",
       "    </tr>\n",
       "    <tr>\n",
       "      <th>7</th>\n",
       "      <td>11</td>\n",
       "      <td>9</td>\n",
       "      <td>0.822249</td>\n",
       "      <td>0.816182</td>\n",
       "      <td>0.006067</td>\n",
       "    </tr>\n",
       "    <tr>\n",
       "      <th>8</th>\n",
       "      <td>10</td>\n",
       "      <td>10</td>\n",
       "      <td>0.826746</td>\n",
       "      <td>0.814762</td>\n",
       "      <td>0.011983</td>\n",
       "    </tr>\n",
       "    <tr>\n",
       "      <th>9</th>\n",
       "      <td>9</td>\n",
       "      <td>11</td>\n",
       "      <td>0.834556</td>\n",
       "      <td>0.810504</td>\n",
       "      <td>0.024052</td>\n",
       "    </tr>\n",
       "    <tr>\n",
       "      <th>10</th>\n",
       "      <td>8</td>\n",
       "      <td>12</td>\n",
       "      <td>0.839053</td>\n",
       "      <td>0.815472</td>\n",
       "      <td>0.023581</td>\n",
       "    </tr>\n",
       "    <tr>\n",
       "      <th>11</th>\n",
       "      <td>7</td>\n",
       "      <td>13</td>\n",
       "      <td>0.846391</td>\n",
       "      <td>0.816182</td>\n",
       "      <td>0.030209</td>\n",
       "    </tr>\n",
       "    <tr>\n",
       "      <th>12</th>\n",
       "      <td>6</td>\n",
       "      <td>14</td>\n",
       "      <td>0.852308</td>\n",
       "      <td>0.809794</td>\n",
       "      <td>0.042514</td>\n",
       "    </tr>\n",
       "    <tr>\n",
       "      <th>13</th>\n",
       "      <td>5</td>\n",
       "      <td>15</td>\n",
       "      <td>0.861775</td>\n",
       "      <td>0.806246</td>\n",
       "      <td>0.055530</td>\n",
       "    </tr>\n",
       "    <tr>\n",
       "      <th>14</th>\n",
       "      <td>4</td>\n",
       "      <td>16</td>\n",
       "      <td>0.873846</td>\n",
       "      <td>0.811214</td>\n",
       "      <td>0.062633</td>\n",
       "    </tr>\n",
       "    <tr>\n",
       "      <th>15</th>\n",
       "      <td>3</td>\n",
       "      <td>17</td>\n",
       "      <td>0.894911</td>\n",
       "      <td>0.806955</td>\n",
       "      <td>0.087956</td>\n",
       "    </tr>\n",
       "    <tr>\n",
       "      <th>16</th>\n",
       "      <td>2</td>\n",
       "      <td>18</td>\n",
       "      <td>0.932071</td>\n",
       "      <td>0.805536</td>\n",
       "      <td>0.126535</td>\n",
       "    </tr>\n",
       "    <tr>\n",
       "      <th>17</th>\n",
       "      <td>1</td>\n",
       "      <td>19</td>\n",
       "      <td>0.995740</td>\n",
       "      <td>0.794890</td>\n",
       "      <td>0.200850</td>\n",
       "    </tr>\n",
       "  </tbody>\n",
       "</table>\n",
       "</div>"
      ],
      "text/plain": [
       "    min_samples_per_leaf  max_depth  train_accuracy  validate_accuracy  \\\n",
       "0                     18          2        0.768757           0.777857   \n",
       "1                     17          3        0.778225           0.784244   \n",
       "2                     16          4        0.791953           0.802697   \n",
       "3                     15          5        0.799290           0.812633   \n",
       "4                     14          6        0.805917           0.811923   \n",
       "5                     13          7        0.811598           0.814053   \n",
       "6                     12          8        0.816095           0.815472   \n",
       "7                     11          9        0.822249           0.816182   \n",
       "8                     10         10        0.826746           0.814762   \n",
       "9                      9         11        0.834556           0.810504   \n",
       "10                     8         12        0.839053           0.815472   \n",
       "11                     7         13        0.846391           0.816182   \n",
       "12                     6         14        0.852308           0.809794   \n",
       "13                     5         15        0.861775           0.806246   \n",
       "14                     4         16        0.873846           0.811214   \n",
       "15                     3         17        0.894911           0.806955   \n",
       "16                     2         18        0.932071           0.805536   \n",
       "17                     1         19        0.995740           0.794890   \n",
       "\n",
       "    difference  \n",
       "0    -0.009099  \n",
       "1    -0.006019  \n",
       "2    -0.010744  \n",
       "3    -0.013343  \n",
       "4    -0.006006  \n",
       "5    -0.002455  \n",
       "6     0.000623  \n",
       "7     0.006067  \n",
       "8     0.011983  \n",
       "9     0.024052  \n",
       "10    0.023581  \n",
       "11    0.030209  \n",
       "12    0.042514  \n",
       "13    0.055530  \n",
       "14    0.062633  \n",
       "15    0.087956  \n",
       "16    0.126535  \n",
       "17    0.200850  "
      ]
     },
     "execution_count": 231,
     "metadata": {},
     "output_type": "execute_result"
    }
   ],
   "source": [
    "metrics = []\n",
    "max_depth = 20\n",
    "\n",
    "for i in range(2, max_depth):\n",
    "    # Make the model\n",
    "    depth = i\n",
    "    n_samples = max_depth - i\n",
    "    forest = RandomForestClassifier(max_depth=depth, min_samples_leaf=n_samples, random_state=217)\n",
    "\n",
    "    # Fit the model (on train and only train)\n",
    "    forest = forest.fit(X_train9, y_train9)\n",
    "\n",
    "    # Use the model\n",
    "    # We'll evaluate the model's performance on train, first\n",
    "    in_sample_accuracy = forest.score(X_train9, y_train9)\n",
    "    \n",
    "    out_of_sample_accuracy = forest.score(X_validate9, y_validate9)\n",
    "\n",
    "    output = {\n",
    "        \"min_samples_per_leaf\": n_samples,\n",
    "        \"max_depth\": depth,\n",
    "        \"train_accuracy\": in_sample_accuracy,\n",
    "        \"validate_accuracy\": out_of_sample_accuracy\n",
    "    }\n",
    "    \n",
    "    metrics.append(output)\n",
    "    \n",
    "df = pd.DataFrame(metrics)\n",
    "df[\"difference\"] = df.train_accuracy - df.validate_accuracy\n",
    "df"
   ]
  },
  {
   "cell_type": "code",
   "execution_count": 232,
   "id": "859be9fc",
   "metadata": {},
   "outputs": [],
   "source": [
    "model10 = KNeighborsClassifier(n_neighbors=5, weights='uniform')"
   ]
  },
  {
   "cell_type": "code",
   "execution_count": 233,
   "id": "814fa3f9",
   "metadata": {},
   "outputs": [
    {
     "data": {
      "text/plain": [
       "KNeighborsClassifier()"
      ]
     },
     "execution_count": 233,
     "metadata": {},
     "output_type": "execute_result"
    }
   ],
   "source": [
    "model10.fit(X_train9, y_train9)"
   ]
  },
  {
   "cell_type": "code",
   "execution_count": 235,
   "id": "f7785afd",
   "metadata": {},
   "outputs": [],
   "source": [
    "y_pred6 = model10.predict(X_train9)"
   ]
  },
  {
   "cell_type": "code",
   "execution_count": 236,
   "id": "928c87ae",
   "metadata": {},
   "outputs": [
    {
     "name": "stdout",
     "output_type": "stream",
     "text": [
      "Accuracy of KNN classifier on training set: 0.83\n"
     ]
    }
   ],
   "source": [
    "print('Accuracy of KNN classifier on training set: {:.2f}'\n",
    "     .format(model10.score(X_train9, y_train9)))"
   ]
  },
  {
   "cell_type": "code",
   "execution_count": 237,
   "id": "1d460112",
   "metadata": {},
   "outputs": [
    {
     "name": "stdout",
     "output_type": "stream",
     "text": [
      "              precision    recall  f1-score   support\n",
      "\n",
      "           0       0.86      0.92      0.89      3104\n",
      "           1       0.72      0.59      0.65      1121\n",
      "\n",
      "    accuracy                           0.83      4225\n",
      "   macro avg       0.79      0.75      0.77      4225\n",
      "weighted avg       0.82      0.83      0.82      4225\n",
      "\n"
     ]
    }
   ],
   "source": [
    "print(classification_report(y_train9, y_pred6))"
   ]
  },
  {
   "cell_type": "code",
   "execution_count": 238,
   "id": "d25163ac",
   "metadata": {},
   "outputs": [
    {
     "name": "stdout",
     "output_type": "stream",
     "text": [
      "Accuracy of KNN classifier on test set: 0.78\n"
     ]
    }
   ],
   "source": [
    "y_pred6 = model10.predict(X_validate9)\n",
    "print('Accuracy of KNN classifier on test set: {:.2f}'\n",
    "     .format(model10.score(X_validate9, y_validate9)))"
   ]
  },
  {
   "cell_type": "code",
   "execution_count": 239,
   "id": "3c0aaa96",
   "metadata": {},
   "outputs": [
    {
     "data": {
      "text/html": [
       "<div>\n",
       "<style scoped>\n",
       "    .dataframe tbody tr th:only-of-type {\n",
       "        vertical-align: middle;\n",
       "    }\n",
       "\n",
       "    .dataframe tbody tr th {\n",
       "        vertical-align: top;\n",
       "    }\n",
       "\n",
       "    .dataframe thead th {\n",
       "        text-align: right;\n",
       "    }\n",
       "</style>\n",
       "<table border=\"1\" class=\"dataframe\">\n",
       "  <thead>\n",
       "    <tr style=\"text-align: right;\">\n",
       "      <th></th>\n",
       "      <th>max_depth</th>\n",
       "      <th>train_accuracy</th>\n",
       "      <th>validate_accuracy</th>\n",
       "      <th>difference</th>\n",
       "    </tr>\n",
       "  </thead>\n",
       "  <tbody>\n",
       "    <tr>\n",
       "      <th>0</th>\n",
       "      <td>4</td>\n",
       "      <td>0.837160</td>\n",
       "      <td>0.776437</td>\n",
       "      <td>0.060723</td>\n",
       "    </tr>\n",
       "    <tr>\n",
       "      <th>1</th>\n",
       "      <td>6</td>\n",
       "      <td>0.821302</td>\n",
       "      <td>0.782825</td>\n",
       "      <td>0.038477</td>\n",
       "    </tr>\n",
       "    <tr>\n",
       "      <th>2</th>\n",
       "      <td>8</td>\n",
       "      <td>0.815385</td>\n",
       "      <td>0.788502</td>\n",
       "      <td>0.026882</td>\n",
       "    </tr>\n",
       "    <tr>\n",
       "      <th>3</th>\n",
       "      <td>10</td>\n",
       "      <td>0.813964</td>\n",
       "      <td>0.792051</td>\n",
       "      <td>0.021913</td>\n",
       "    </tr>\n",
       "    <tr>\n",
       "      <th>4</th>\n",
       "      <td>12</td>\n",
       "      <td>0.811124</td>\n",
       "      <td>0.792051</td>\n",
       "      <td>0.019073</td>\n",
       "    </tr>\n",
       "    <tr>\n",
       "      <th>5</th>\n",
       "      <td>14</td>\n",
       "      <td>0.804734</td>\n",
       "      <td>0.796309</td>\n",
       "      <td>0.008424</td>\n",
       "    </tr>\n",
       "    <tr>\n",
       "      <th>6</th>\n",
       "      <td>16</td>\n",
       "      <td>0.809231</td>\n",
       "      <td>0.797019</td>\n",
       "      <td>0.012212</td>\n",
       "    </tr>\n",
       "    <tr>\n",
       "      <th>7</th>\n",
       "      <td>18</td>\n",
       "      <td>0.805680</td>\n",
       "      <td>0.795600</td>\n",
       "      <td>0.010081</td>\n",
       "    </tr>\n",
       "    <tr>\n",
       "      <th>8</th>\n",
       "      <td>20</td>\n",
       "      <td>0.804970</td>\n",
       "      <td>0.794180</td>\n",
       "      <td>0.010790</td>\n",
       "    </tr>\n",
       "    <tr>\n",
       "      <th>9</th>\n",
       "      <td>22</td>\n",
       "      <td>0.802840</td>\n",
       "      <td>0.792051</td>\n",
       "      <td>0.010789</td>\n",
       "    </tr>\n",
       "    <tr>\n",
       "      <th>10</th>\n",
       "      <td>24</td>\n",
       "      <td>0.802130</td>\n",
       "      <td>0.790632</td>\n",
       "      <td>0.011499</td>\n",
       "    </tr>\n",
       "    <tr>\n",
       "      <th>11</th>\n",
       "      <td>26</td>\n",
       "      <td>0.800237</td>\n",
       "      <td>0.792051</td>\n",
       "      <td>0.008186</td>\n",
       "    </tr>\n",
       "    <tr>\n",
       "      <th>12</th>\n",
       "      <td>28</td>\n",
       "      <td>0.802840</td>\n",
       "      <td>0.793471</td>\n",
       "      <td>0.009370</td>\n",
       "    </tr>\n",
       "    <tr>\n",
       "      <th>13</th>\n",
       "      <td>30</td>\n",
       "      <td>0.802840</td>\n",
       "      <td>0.791341</td>\n",
       "      <td>0.011499</td>\n",
       "    </tr>\n",
       "    <tr>\n",
       "      <th>14</th>\n",
       "      <td>32</td>\n",
       "      <td>0.803314</td>\n",
       "      <td>0.794180</td>\n",
       "      <td>0.009133</td>\n",
       "    </tr>\n",
       "    <tr>\n",
       "      <th>15</th>\n",
       "      <td>34</td>\n",
       "      <td>0.801657</td>\n",
       "      <td>0.796309</td>\n",
       "      <td>0.005347</td>\n",
       "    </tr>\n",
       "    <tr>\n",
       "      <th>16</th>\n",
       "      <td>36</td>\n",
       "      <td>0.799290</td>\n",
       "      <td>0.801278</td>\n",
       "      <td>-0.001988</td>\n",
       "    </tr>\n",
       "    <tr>\n",
       "      <th>17</th>\n",
       "      <td>38</td>\n",
       "      <td>0.796686</td>\n",
       "      <td>0.796309</td>\n",
       "      <td>0.000377</td>\n",
       "    </tr>\n",
       "    <tr>\n",
       "      <th>18</th>\n",
       "      <td>40</td>\n",
       "      <td>0.800000</td>\n",
       "      <td>0.797729</td>\n",
       "      <td>0.002271</td>\n",
       "    </tr>\n",
       "    <tr>\n",
       "      <th>19</th>\n",
       "      <td>42</td>\n",
       "      <td>0.798817</td>\n",
       "      <td>0.799858</td>\n",
       "      <td>-0.001041</td>\n",
       "    </tr>\n",
       "    <tr>\n",
       "      <th>20</th>\n",
       "      <td>44</td>\n",
       "      <td>0.797160</td>\n",
       "      <td>0.797019</td>\n",
       "      <td>0.000141</td>\n",
       "    </tr>\n",
       "    <tr>\n",
       "      <th>21</th>\n",
       "      <td>46</td>\n",
       "      <td>0.798107</td>\n",
       "      <td>0.795600</td>\n",
       "      <td>0.002507</td>\n",
       "    </tr>\n",
       "    <tr>\n",
       "      <th>22</th>\n",
       "      <td>48</td>\n",
       "      <td>0.796923</td>\n",
       "      <td>0.798439</td>\n",
       "      <td>-0.001516</td>\n",
       "    </tr>\n",
       "    <tr>\n",
       "      <th>23</th>\n",
       "      <td>50</td>\n",
       "      <td>0.796450</td>\n",
       "      <td>0.798439</td>\n",
       "      <td>-0.001989</td>\n",
       "    </tr>\n",
       "    <tr>\n",
       "      <th>24</th>\n",
       "      <td>52</td>\n",
       "      <td>0.795030</td>\n",
       "      <td>0.794890</td>\n",
       "      <td>0.000140</td>\n",
       "    </tr>\n",
       "    <tr>\n",
       "      <th>25</th>\n",
       "      <td>54</td>\n",
       "      <td>0.794556</td>\n",
       "      <td>0.793471</td>\n",
       "      <td>0.001086</td>\n",
       "    </tr>\n",
       "    <tr>\n",
       "      <th>26</th>\n",
       "      <td>56</td>\n",
       "      <td>0.794793</td>\n",
       "      <td>0.797019</td>\n",
       "      <td>-0.002226</td>\n",
       "    </tr>\n",
       "    <tr>\n",
       "      <th>27</th>\n",
       "      <td>58</td>\n",
       "      <td>0.795030</td>\n",
       "      <td>0.797019</td>\n",
       "      <td>-0.001990</td>\n",
       "    </tr>\n",
       "    <tr>\n",
       "      <th>28</th>\n",
       "      <td>60</td>\n",
       "      <td>0.794320</td>\n",
       "      <td>0.801278</td>\n",
       "      <td>-0.006958</td>\n",
       "    </tr>\n",
       "    <tr>\n",
       "      <th>29</th>\n",
       "      <td>62</td>\n",
       "      <td>0.796213</td>\n",
       "      <td>0.799858</td>\n",
       "      <td>-0.003645</td>\n",
       "    </tr>\n",
       "    <tr>\n",
       "      <th>30</th>\n",
       "      <td>64</td>\n",
       "      <td>0.794320</td>\n",
       "      <td>0.799858</td>\n",
       "      <td>-0.005539</td>\n",
       "    </tr>\n",
       "    <tr>\n",
       "      <th>31</th>\n",
       "      <td>66</td>\n",
       "      <td>0.795266</td>\n",
       "      <td>0.801278</td>\n",
       "      <td>-0.006011</td>\n",
       "    </tr>\n",
       "    <tr>\n",
       "      <th>32</th>\n",
       "      <td>68</td>\n",
       "      <td>0.795740</td>\n",
       "      <td>0.801987</td>\n",
       "      <td>-0.006248</td>\n",
       "    </tr>\n",
       "    <tr>\n",
       "      <th>33</th>\n",
       "      <td>70</td>\n",
       "      <td>0.796450</td>\n",
       "      <td>0.802697</td>\n",
       "      <td>-0.006247</td>\n",
       "    </tr>\n",
       "    <tr>\n",
       "      <th>34</th>\n",
       "      <td>72</td>\n",
       "      <td>0.795976</td>\n",
       "      <td>0.802697</td>\n",
       "      <td>-0.006721</td>\n",
       "    </tr>\n",
       "    <tr>\n",
       "      <th>35</th>\n",
       "      <td>74</td>\n",
       "      <td>0.796450</td>\n",
       "      <td>0.805536</td>\n",
       "      <td>-0.009086</td>\n",
       "    </tr>\n",
       "    <tr>\n",
       "      <th>36</th>\n",
       "      <td>76</td>\n",
       "      <td>0.795503</td>\n",
       "      <td>0.804116</td>\n",
       "      <td>-0.008613</td>\n",
       "    </tr>\n",
       "    <tr>\n",
       "      <th>37</th>\n",
       "      <td>78</td>\n",
       "      <td>0.795266</td>\n",
       "      <td>0.802697</td>\n",
       "      <td>-0.007431</td>\n",
       "    </tr>\n",
       "    <tr>\n",
       "      <th>38</th>\n",
       "      <td>80</td>\n",
       "      <td>0.795976</td>\n",
       "      <td>0.801278</td>\n",
       "      <td>-0.005301</td>\n",
       "    </tr>\n",
       "    <tr>\n",
       "      <th>39</th>\n",
       "      <td>82</td>\n",
       "      <td>0.795976</td>\n",
       "      <td>0.801987</td>\n",
       "      <td>-0.006011</td>\n",
       "    </tr>\n",
       "    <tr>\n",
       "      <th>40</th>\n",
       "      <td>84</td>\n",
       "      <td>0.794793</td>\n",
       "      <td>0.799858</td>\n",
       "      <td>-0.005065</td>\n",
       "    </tr>\n",
       "    <tr>\n",
       "      <th>41</th>\n",
       "      <td>86</td>\n",
       "      <td>0.793846</td>\n",
       "      <td>0.799148</td>\n",
       "      <td>-0.005302</td>\n",
       "    </tr>\n",
       "    <tr>\n",
       "      <th>42</th>\n",
       "      <td>88</td>\n",
       "      <td>0.792663</td>\n",
       "      <td>0.799858</td>\n",
       "      <td>-0.007195</td>\n",
       "    </tr>\n",
       "    <tr>\n",
       "      <th>43</th>\n",
       "      <td>90</td>\n",
       "      <td>0.791953</td>\n",
       "      <td>0.797019</td>\n",
       "      <td>-0.005066</td>\n",
       "    </tr>\n",
       "    <tr>\n",
       "      <th>44</th>\n",
       "      <td>92</td>\n",
       "      <td>0.794083</td>\n",
       "      <td>0.799858</td>\n",
       "      <td>-0.005775</td>\n",
       "    </tr>\n",
       "    <tr>\n",
       "      <th>45</th>\n",
       "      <td>94</td>\n",
       "      <td>0.793846</td>\n",
       "      <td>0.799858</td>\n",
       "      <td>-0.006012</td>\n",
       "    </tr>\n",
       "    <tr>\n",
       "      <th>46</th>\n",
       "      <td>96</td>\n",
       "      <td>0.791479</td>\n",
       "      <td>0.797019</td>\n",
       "      <td>-0.005540</td>\n",
       "    </tr>\n",
       "    <tr>\n",
       "      <th>47</th>\n",
       "      <td>98</td>\n",
       "      <td>0.792663</td>\n",
       "      <td>0.798439</td>\n",
       "      <td>-0.005776</td>\n",
       "    </tr>\n",
       "    <tr>\n",
       "      <th>48</th>\n",
       "      <td>100</td>\n",
       "      <td>0.792189</td>\n",
       "      <td>0.801278</td>\n",
       "      <td>-0.009088</td>\n",
       "    </tr>\n",
       "  </tbody>\n",
       "</table>\n",
       "</div>"
      ],
      "text/plain": [
       "    max_depth  train_accuracy  validate_accuracy  difference\n",
       "0           4        0.837160           0.776437    0.060723\n",
       "1           6        0.821302           0.782825    0.038477\n",
       "2           8        0.815385           0.788502    0.026882\n",
       "3          10        0.813964           0.792051    0.021913\n",
       "4          12        0.811124           0.792051    0.019073\n",
       "5          14        0.804734           0.796309    0.008424\n",
       "6          16        0.809231           0.797019    0.012212\n",
       "7          18        0.805680           0.795600    0.010081\n",
       "8          20        0.804970           0.794180    0.010790\n",
       "9          22        0.802840           0.792051    0.010789\n",
       "10         24        0.802130           0.790632    0.011499\n",
       "11         26        0.800237           0.792051    0.008186\n",
       "12         28        0.802840           0.793471    0.009370\n",
       "13         30        0.802840           0.791341    0.011499\n",
       "14         32        0.803314           0.794180    0.009133\n",
       "15         34        0.801657           0.796309    0.005347\n",
       "16         36        0.799290           0.801278   -0.001988\n",
       "17         38        0.796686           0.796309    0.000377\n",
       "18         40        0.800000           0.797729    0.002271\n",
       "19         42        0.798817           0.799858   -0.001041\n",
       "20         44        0.797160           0.797019    0.000141\n",
       "21         46        0.798107           0.795600    0.002507\n",
       "22         48        0.796923           0.798439   -0.001516\n",
       "23         50        0.796450           0.798439   -0.001989\n",
       "24         52        0.795030           0.794890    0.000140\n",
       "25         54        0.794556           0.793471    0.001086\n",
       "26         56        0.794793           0.797019   -0.002226\n",
       "27         58        0.795030           0.797019   -0.001990\n",
       "28         60        0.794320           0.801278   -0.006958\n",
       "29         62        0.796213           0.799858   -0.003645\n",
       "30         64        0.794320           0.799858   -0.005539\n",
       "31         66        0.795266           0.801278   -0.006011\n",
       "32         68        0.795740           0.801987   -0.006248\n",
       "33         70        0.796450           0.802697   -0.006247\n",
       "34         72        0.795976           0.802697   -0.006721\n",
       "35         74        0.796450           0.805536   -0.009086\n",
       "36         76        0.795503           0.804116   -0.008613\n",
       "37         78        0.795266           0.802697   -0.007431\n",
       "38         80        0.795976           0.801278   -0.005301\n",
       "39         82        0.795976           0.801987   -0.006011\n",
       "40         84        0.794793           0.799858   -0.005065\n",
       "41         86        0.793846           0.799148   -0.005302\n",
       "42         88        0.792663           0.799858   -0.007195\n",
       "43         90        0.791953           0.797019   -0.005066\n",
       "44         92        0.794083           0.799858   -0.005775\n",
       "45         94        0.793846           0.799858   -0.006012\n",
       "46         96        0.791479           0.797019   -0.005540\n",
       "47         98        0.792663           0.798439   -0.005776\n",
       "48        100        0.792189           0.801278   -0.009088"
      ]
     },
     "execution_count": 239,
     "metadata": {},
     "output_type": "execute_result"
    }
   ],
   "source": [
    "metrics = []\n",
    "\n",
    "for i in range(4, 101, 2):\n",
    "    # Make the model\n",
    "    k_telco = KNeighborsClassifier(n_neighbors=i)\n",
    "\n",
    "    # Fit the model (on train and only train)\n",
    "    k_telco = k_telco.fit(X_train9, y_train9)\n",
    "\n",
    "    # Use the model\n",
    "    # We'll evaluate the model's performance on train, first then check validate\n",
    "    in_sample_accuracy = k_telco.score(X_train9, y_train9)\n",
    "    \n",
    "    out_of_sample_accuracy = k_telco.score(X_validate9, y_validate9)\n",
    "\n",
    "    output = {\n",
    "        \"max_depth\": i,\n",
    "        \"train_accuracy\": in_sample_accuracy,\n",
    "        \"validate_accuracy\": out_of_sample_accuracy\n",
    "    }\n",
    "    \n",
    "    metrics.append(output)\n",
    "    \n",
    "df = pd.DataFrame(metrics)\n",
    "df[\"difference\"] = df.train_accuracy - df.validate_accuracy\n",
    "df"
   ]
  },
  {
   "cell_type": "code",
   "execution_count": 240,
   "id": "f1a174b2",
   "metadata": {},
   "outputs": [
    {
     "data": {
      "text/html": [
       "<div>\n",
       "<style scoped>\n",
       "    .dataframe tbody tr th:only-of-type {\n",
       "        vertical-align: middle;\n",
       "    }\n",
       "\n",
       "    .dataframe tbody tr th {\n",
       "        vertical-align: top;\n",
       "    }\n",
       "\n",
       "    .dataframe thead th {\n",
       "        text-align: right;\n",
       "    }\n",
       "</style>\n",
       "<table border=\"1\" class=\"dataframe\">\n",
       "  <thead>\n",
       "    <tr style=\"text-align: right;\">\n",
       "      <th></th>\n",
       "      <th>max_depth</th>\n",
       "      <th>train_accuracy</th>\n",
       "      <th>validate_accuracy</th>\n",
       "      <th>difference</th>\n",
       "    </tr>\n",
       "  </thead>\n",
       "  <tbody>\n",
       "    <tr>\n",
       "      <th>0</th>\n",
       "      <td>500</td>\n",
       "      <td>0.99574</td>\n",
       "      <td>0.792761</td>\n",
       "      <td>0.202979</td>\n",
       "    </tr>\n",
       "    <tr>\n",
       "      <th>1</th>\n",
       "      <td>510</td>\n",
       "      <td>0.99574</td>\n",
       "      <td>0.792761</td>\n",
       "      <td>0.202979</td>\n",
       "    </tr>\n",
       "    <tr>\n",
       "      <th>2</th>\n",
       "      <td>520</td>\n",
       "      <td>0.99574</td>\n",
       "      <td>0.792761</td>\n",
       "      <td>0.202979</td>\n",
       "    </tr>\n",
       "    <tr>\n",
       "      <th>3</th>\n",
       "      <td>530</td>\n",
       "      <td>0.99574</td>\n",
       "      <td>0.791341</td>\n",
       "      <td>0.204398</td>\n",
       "    </tr>\n",
       "    <tr>\n",
       "      <th>4</th>\n",
       "      <td>540</td>\n",
       "      <td>0.99574</td>\n",
       "      <td>0.791341</td>\n",
       "      <td>0.204398</td>\n",
       "    </tr>\n",
       "    <tr>\n",
       "      <th>5</th>\n",
       "      <td>550</td>\n",
       "      <td>0.99574</td>\n",
       "      <td>0.792051</td>\n",
       "      <td>0.203689</td>\n",
       "    </tr>\n",
       "    <tr>\n",
       "      <th>6</th>\n",
       "      <td>560</td>\n",
       "      <td>0.99574</td>\n",
       "      <td>0.792051</td>\n",
       "      <td>0.203689</td>\n",
       "    </tr>\n",
       "    <tr>\n",
       "      <th>7</th>\n",
       "      <td>570</td>\n",
       "      <td>0.99574</td>\n",
       "      <td>0.792761</td>\n",
       "      <td>0.202979</td>\n",
       "    </tr>\n",
       "    <tr>\n",
       "      <th>8</th>\n",
       "      <td>580</td>\n",
       "      <td>0.99574</td>\n",
       "      <td>0.793471</td>\n",
       "      <td>0.202269</td>\n",
       "    </tr>\n",
       "    <tr>\n",
       "      <th>9</th>\n",
       "      <td>590</td>\n",
       "      <td>0.99574</td>\n",
       "      <td>0.793471</td>\n",
       "      <td>0.202269</td>\n",
       "    </tr>\n",
       "    <tr>\n",
       "      <th>10</th>\n",
       "      <td>600</td>\n",
       "      <td>0.99574</td>\n",
       "      <td>0.792761</td>\n",
       "      <td>0.202979</td>\n",
       "    </tr>\n",
       "    <tr>\n",
       "      <th>11</th>\n",
       "      <td>610</td>\n",
       "      <td>0.99574</td>\n",
       "      <td>0.792761</td>\n",
       "      <td>0.202979</td>\n",
       "    </tr>\n",
       "    <tr>\n",
       "      <th>12</th>\n",
       "      <td>620</td>\n",
       "      <td>0.99574</td>\n",
       "      <td>0.792051</td>\n",
       "      <td>0.203689</td>\n",
       "    </tr>\n",
       "    <tr>\n",
       "      <th>13</th>\n",
       "      <td>630</td>\n",
       "      <td>0.99574</td>\n",
       "      <td>0.791341</td>\n",
       "      <td>0.204398</td>\n",
       "    </tr>\n",
       "    <tr>\n",
       "      <th>14</th>\n",
       "      <td>640</td>\n",
       "      <td>0.99574</td>\n",
       "      <td>0.791341</td>\n",
       "      <td>0.204398</td>\n",
       "    </tr>\n",
       "    <tr>\n",
       "      <th>15</th>\n",
       "      <td>650</td>\n",
       "      <td>0.99574</td>\n",
       "      <td>0.791341</td>\n",
       "      <td>0.204398</td>\n",
       "    </tr>\n",
       "    <tr>\n",
       "      <th>16</th>\n",
       "      <td>660</td>\n",
       "      <td>0.99574</td>\n",
       "      <td>0.790632</td>\n",
       "      <td>0.205108</td>\n",
       "    </tr>\n",
       "    <tr>\n",
       "      <th>17</th>\n",
       "      <td>670</td>\n",
       "      <td>0.99574</td>\n",
       "      <td>0.790632</td>\n",
       "      <td>0.205108</td>\n",
       "    </tr>\n",
       "    <tr>\n",
       "      <th>18</th>\n",
       "      <td>680</td>\n",
       "      <td>0.99574</td>\n",
       "      <td>0.789922</td>\n",
       "      <td>0.205818</td>\n",
       "    </tr>\n",
       "    <tr>\n",
       "      <th>19</th>\n",
       "      <td>690</td>\n",
       "      <td>0.99574</td>\n",
       "      <td>0.789212</td>\n",
       "      <td>0.206527</td>\n",
       "    </tr>\n",
       "    <tr>\n",
       "      <th>20</th>\n",
       "      <td>700</td>\n",
       "      <td>0.99574</td>\n",
       "      <td>0.791341</td>\n",
       "      <td>0.204398</td>\n",
       "    </tr>\n",
       "    <tr>\n",
       "      <th>21</th>\n",
       "      <td>710</td>\n",
       "      <td>0.99574</td>\n",
       "      <td>0.791341</td>\n",
       "      <td>0.204398</td>\n",
       "    </tr>\n",
       "    <tr>\n",
       "      <th>22</th>\n",
       "      <td>720</td>\n",
       "      <td>0.99574</td>\n",
       "      <td>0.791341</td>\n",
       "      <td>0.204398</td>\n",
       "    </tr>\n",
       "    <tr>\n",
       "      <th>23</th>\n",
       "      <td>730</td>\n",
       "      <td>0.99574</td>\n",
       "      <td>0.790632</td>\n",
       "      <td>0.205108</td>\n",
       "    </tr>\n",
       "    <tr>\n",
       "      <th>24</th>\n",
       "      <td>740</td>\n",
       "      <td>0.99574</td>\n",
       "      <td>0.791341</td>\n",
       "      <td>0.204398</td>\n",
       "    </tr>\n",
       "    <tr>\n",
       "      <th>25</th>\n",
       "      <td>750</td>\n",
       "      <td>0.99574</td>\n",
       "      <td>0.790632</td>\n",
       "      <td>0.205108</td>\n",
       "    </tr>\n",
       "    <tr>\n",
       "      <th>26</th>\n",
       "      <td>760</td>\n",
       "      <td>0.99574</td>\n",
       "      <td>0.790632</td>\n",
       "      <td>0.205108</td>\n",
       "    </tr>\n",
       "    <tr>\n",
       "      <th>27</th>\n",
       "      <td>770</td>\n",
       "      <td>0.99574</td>\n",
       "      <td>0.793471</td>\n",
       "      <td>0.202269</td>\n",
       "    </tr>\n",
       "    <tr>\n",
       "      <th>28</th>\n",
       "      <td>780</td>\n",
       "      <td>0.99574</td>\n",
       "      <td>0.792761</td>\n",
       "      <td>0.202979</td>\n",
       "    </tr>\n",
       "    <tr>\n",
       "      <th>29</th>\n",
       "      <td>790</td>\n",
       "      <td>0.99574</td>\n",
       "      <td>0.792761</td>\n",
       "      <td>0.202979</td>\n",
       "    </tr>\n",
       "    <tr>\n",
       "      <th>30</th>\n",
       "      <td>800</td>\n",
       "      <td>0.99574</td>\n",
       "      <td>0.791341</td>\n",
       "      <td>0.204398</td>\n",
       "    </tr>\n",
       "    <tr>\n",
       "      <th>31</th>\n",
       "      <td>810</td>\n",
       "      <td>0.99574</td>\n",
       "      <td>0.792051</td>\n",
       "      <td>0.203689</td>\n",
       "    </tr>\n",
       "    <tr>\n",
       "      <th>32</th>\n",
       "      <td>820</td>\n",
       "      <td>0.99574</td>\n",
       "      <td>0.793471</td>\n",
       "      <td>0.202269</td>\n",
       "    </tr>\n",
       "    <tr>\n",
       "      <th>33</th>\n",
       "      <td>830</td>\n",
       "      <td>0.99574</td>\n",
       "      <td>0.793471</td>\n",
       "      <td>0.202269</td>\n",
       "    </tr>\n",
       "    <tr>\n",
       "      <th>34</th>\n",
       "      <td>840</td>\n",
       "      <td>0.99574</td>\n",
       "      <td>0.792761</td>\n",
       "      <td>0.202979</td>\n",
       "    </tr>\n",
       "    <tr>\n",
       "      <th>35</th>\n",
       "      <td>850</td>\n",
       "      <td>0.99574</td>\n",
       "      <td>0.793471</td>\n",
       "      <td>0.202269</td>\n",
       "    </tr>\n",
       "    <tr>\n",
       "      <th>36</th>\n",
       "      <td>860</td>\n",
       "      <td>0.99574</td>\n",
       "      <td>0.794180</td>\n",
       "      <td>0.201559</td>\n",
       "    </tr>\n",
       "    <tr>\n",
       "      <th>37</th>\n",
       "      <td>870</td>\n",
       "      <td>0.99574</td>\n",
       "      <td>0.793471</td>\n",
       "      <td>0.202269</td>\n",
       "    </tr>\n",
       "    <tr>\n",
       "      <th>38</th>\n",
       "      <td>880</td>\n",
       "      <td>0.99574</td>\n",
       "      <td>0.792051</td>\n",
       "      <td>0.203689</td>\n",
       "    </tr>\n",
       "    <tr>\n",
       "      <th>39</th>\n",
       "      <td>890</td>\n",
       "      <td>0.99574</td>\n",
       "      <td>0.791341</td>\n",
       "      <td>0.204398</td>\n",
       "    </tr>\n",
       "    <tr>\n",
       "      <th>40</th>\n",
       "      <td>900</td>\n",
       "      <td>0.99574</td>\n",
       "      <td>0.791341</td>\n",
       "      <td>0.204398</td>\n",
       "    </tr>\n",
       "    <tr>\n",
       "      <th>41</th>\n",
       "      <td>910</td>\n",
       "      <td>0.99574</td>\n",
       "      <td>0.791341</td>\n",
       "      <td>0.204398</td>\n",
       "    </tr>\n",
       "    <tr>\n",
       "      <th>42</th>\n",
       "      <td>920</td>\n",
       "      <td>0.99574</td>\n",
       "      <td>0.792051</td>\n",
       "      <td>0.203689</td>\n",
       "    </tr>\n",
       "    <tr>\n",
       "      <th>43</th>\n",
       "      <td>930</td>\n",
       "      <td>0.99574</td>\n",
       "      <td>0.792051</td>\n",
       "      <td>0.203689</td>\n",
       "    </tr>\n",
       "    <tr>\n",
       "      <th>44</th>\n",
       "      <td>940</td>\n",
       "      <td>0.99574</td>\n",
       "      <td>0.792051</td>\n",
       "      <td>0.203689</td>\n",
       "    </tr>\n",
       "    <tr>\n",
       "      <th>45</th>\n",
       "      <td>950</td>\n",
       "      <td>0.99574</td>\n",
       "      <td>0.792051</td>\n",
       "      <td>0.203689</td>\n",
       "    </tr>\n",
       "    <tr>\n",
       "      <th>46</th>\n",
       "      <td>960</td>\n",
       "      <td>0.99574</td>\n",
       "      <td>0.792051</td>\n",
       "      <td>0.203689</td>\n",
       "    </tr>\n",
       "    <tr>\n",
       "      <th>47</th>\n",
       "      <td>970</td>\n",
       "      <td>0.99574</td>\n",
       "      <td>0.792051</td>\n",
       "      <td>0.203689</td>\n",
       "    </tr>\n",
       "    <tr>\n",
       "      <th>48</th>\n",
       "      <td>980</td>\n",
       "      <td>0.99574</td>\n",
       "      <td>0.792051</td>\n",
       "      <td>0.203689</td>\n",
       "    </tr>\n",
       "    <tr>\n",
       "      <th>49</th>\n",
       "      <td>990</td>\n",
       "      <td>0.99574</td>\n",
       "      <td>0.792051</td>\n",
       "      <td>0.203689</td>\n",
       "    </tr>\n",
       "    <tr>\n",
       "      <th>50</th>\n",
       "      <td>1000</td>\n",
       "      <td>0.99574</td>\n",
       "      <td>0.792051</td>\n",
       "      <td>0.203689</td>\n",
       "    </tr>\n",
       "  </tbody>\n",
       "</table>\n",
       "</div>"
      ],
      "text/plain": [
       "    max_depth  train_accuracy  validate_accuracy  difference\n",
       "0         500         0.99574           0.792761    0.202979\n",
       "1         510         0.99574           0.792761    0.202979\n",
       "2         520         0.99574           0.792761    0.202979\n",
       "3         530         0.99574           0.791341    0.204398\n",
       "4         540         0.99574           0.791341    0.204398\n",
       "5         550         0.99574           0.792051    0.203689\n",
       "6         560         0.99574           0.792051    0.203689\n",
       "7         570         0.99574           0.792761    0.202979\n",
       "8         580         0.99574           0.793471    0.202269\n",
       "9         590         0.99574           0.793471    0.202269\n",
       "10        600         0.99574           0.792761    0.202979\n",
       "11        610         0.99574           0.792761    0.202979\n",
       "12        620         0.99574           0.792051    0.203689\n",
       "13        630         0.99574           0.791341    0.204398\n",
       "14        640         0.99574           0.791341    0.204398\n",
       "15        650         0.99574           0.791341    0.204398\n",
       "16        660         0.99574           0.790632    0.205108\n",
       "17        670         0.99574           0.790632    0.205108\n",
       "18        680         0.99574           0.789922    0.205818\n",
       "19        690         0.99574           0.789212    0.206527\n",
       "20        700         0.99574           0.791341    0.204398\n",
       "21        710         0.99574           0.791341    0.204398\n",
       "22        720         0.99574           0.791341    0.204398\n",
       "23        730         0.99574           0.790632    0.205108\n",
       "24        740         0.99574           0.791341    0.204398\n",
       "25        750         0.99574           0.790632    0.205108\n",
       "26        760         0.99574           0.790632    0.205108\n",
       "27        770         0.99574           0.793471    0.202269\n",
       "28        780         0.99574           0.792761    0.202979\n",
       "29        790         0.99574           0.792761    0.202979\n",
       "30        800         0.99574           0.791341    0.204398\n",
       "31        810         0.99574           0.792051    0.203689\n",
       "32        820         0.99574           0.793471    0.202269\n",
       "33        830         0.99574           0.793471    0.202269\n",
       "34        840         0.99574           0.792761    0.202979\n",
       "35        850         0.99574           0.793471    0.202269\n",
       "36        860         0.99574           0.794180    0.201559\n",
       "37        870         0.99574           0.793471    0.202269\n",
       "38        880         0.99574           0.792051    0.203689\n",
       "39        890         0.99574           0.791341    0.204398\n",
       "40        900         0.99574           0.791341    0.204398\n",
       "41        910         0.99574           0.791341    0.204398\n",
       "42        920         0.99574           0.792051    0.203689\n",
       "43        930         0.99574           0.792051    0.203689\n",
       "44        940         0.99574           0.792051    0.203689\n",
       "45        950         0.99574           0.792051    0.203689\n",
       "46        960         0.99574           0.792051    0.203689\n",
       "47        970         0.99574           0.792051    0.203689\n",
       "48        980         0.99574           0.792051    0.203689\n",
       "49        990         0.99574           0.792051    0.203689\n",
       "50       1000         0.99574           0.792051    0.203689"
      ]
     },
     "execution_count": 240,
     "metadata": {},
     "output_type": "execute_result"
    }
   ],
   "source": [
    "metrics = []\n",
    "\n",
    "for i in range(500, 1001, 10):\n",
    "    # Make the model\n",
    "    k_telco = KNeighborsClassifier(n_neighbors=i, weights='distance')\n",
    "\n",
    "    # Fit the model (on train and only train)\n",
    "    k_telco = k_telco.fit(X_train9, y_train9)\n",
    "\n",
    "    # Use the model\n",
    "    # We'll evaluate the model's performance on train, first then check validate\n",
    "    in_sample_accuracy = k_telco.score(X_train9, y_train9)\n",
    "    \n",
    "    out_of_sample_accuracy = k_telco.score(X_validate9, y_validate9)\n",
    "\n",
    "    output = {\n",
    "        \"max_depth\": i,\n",
    "        \"train_accuracy\": in_sample_accuracy,\n",
    "        \"validate_accuracy\": out_of_sample_accuracy\n",
    "    }\n",
    "    \n",
    "    metrics.append(output)\n",
    "    \n",
    "df = pd.DataFrame(metrics)\n",
    "df[\"difference\"] = df.train_accuracy - df.validate_accuracy\n",
    "df"
   ]
  },
  {
   "cell_type": "code",
   "execution_count": 241,
   "id": "9c0b1ce8",
   "metadata": {},
   "outputs": [],
   "source": [
    "model11 = LogisticRegression(random_state=217, max_iter=500, solver='lbfgs')"
   ]
  },
  {
   "cell_type": "code",
   "execution_count": 242,
   "id": "9c725b6d",
   "metadata": {},
   "outputs": [],
   "source": [
    "X_col11 = ['tenure', 'monthly_charges', 'contract_type_id', 'internet_service_type_id']\n",
    "y_col11 = 'churn'\n",
    "X_train11, y_train11 = train_telco[X_col11], train_telco[y_col11]\n",
    "X_validate11, y_validate11 = validate_telco[X_col11], validate_telco[y_col11]"
   ]
  },
  {
   "cell_type": "code",
   "execution_count": 243,
   "id": "89a50e8b",
   "metadata": {},
   "outputs": [
    {
     "data": {
      "text/plain": [
       "LogisticRegression(max_iter=500, random_state=217)"
      ]
     },
     "execution_count": 243,
     "metadata": {},
     "output_type": "execute_result"
    }
   ],
   "source": [
    "model11.fit(X_train11, y_train11)"
   ]
  },
  {
   "cell_type": "code",
   "execution_count": 244,
   "id": "28cfa058",
   "metadata": {},
   "outputs": [
    {
     "name": "stdout",
     "output_type": "stream",
     "text": [
      "Coefficient: \n",
      " [[-0.03337827  0.02829283 -1.06011475 -0.05711007]]\n",
      "Intercept: \n",
      " [-0.46039614]\n"
     ]
    }
   ],
   "source": [
    "print('Coefficient: \\n', model11.coef_)\n",
    "print('Intercept: \\n', model11.intercept_)"
   ]
  },
  {
   "cell_type": "code",
   "execution_count": 245,
   "id": "a999d890",
   "metadata": {},
   "outputs": [],
   "source": [
    "y_pred7 = model11.predict(X_train11)\n",
    "y_pred_proba7 = model11.predict_proba(X_train11)"
   ]
  },
  {
   "cell_type": "code",
   "execution_count": 246,
   "id": "a38afbf9",
   "metadata": {},
   "outputs": [
    {
     "name": "stdout",
     "output_type": "stream",
     "text": [
      "Accuracy of Logistic Regression classifier on training set: 0.79\n"
     ]
    }
   ],
   "source": [
    "print('Accuracy of Logistic Regression classifier on training set: {:.2f}'\n",
    "     .format(model11.score(X_train11, y_train11)))"
   ]
  },
  {
   "cell_type": "code",
   "execution_count": 247,
   "id": "48569943",
   "metadata": {},
   "outputs": [
    {
     "name": "stdout",
     "output_type": "stream",
     "text": [
      "[[2778  326]\n",
      " [ 581  540]]\n"
     ]
    }
   ],
   "source": [
    "print(confusion_matrix(y_train11, y_pred7))"
   ]
  },
  {
   "cell_type": "code",
   "execution_count": 248,
   "id": "3f017421",
   "metadata": {
    "scrolled": true
   },
   "outputs": [
    {
     "name": "stdout",
     "output_type": "stream",
     "text": [
      "Model 1: solver = lbfgs, c = 1\n",
      "Accuracy: 0.80\n",
      "[[927 108]\n",
      " [180 194]]\n",
      "              precision    recall  f1-score   support\n",
      "\n",
      "           0       0.84      0.90      0.87      1035\n",
      "           1       0.64      0.52      0.57       374\n",
      "\n",
      "    accuracy                           0.80      1409\n",
      "   macro avg       0.74      0.71      0.72      1409\n",
      "weighted avg       0.79      0.80      0.79      1409\n",
      "\n"
     ]
    }
   ],
   "source": [
    "y_pred7 = model11.predict(X_validate11)\n",
    "\n",
    "print(\"Model 1: solver = lbfgs, c = 1\")\n",
    "\n",
    "# accuracy of model 1\n",
    "print('Accuracy: {:.2f}'.format(model11.score(X_validate11, y_validate11)))\n",
    "\n",
    "# confusion matrix of model 1\n",
    "print(confusion_matrix(y_validate11, y_pred7))\n",
    "\n",
    "# classification report of model 1\n",
    "print(classification_report(y_validate11, y_pred7))"
   ]
  },
  {
   "cell_type": "code",
   "execution_count": null,
   "id": "88b6da6d",
   "metadata": {},
   "outputs": [],
   "source": []
  }
 ],
 "metadata": {
  "kernelspec": {
   "display_name": "Python 3 (ipykernel)",
   "language": "python",
   "name": "python3"
  },
  "language_info": {
   "codemirror_mode": {
    "name": "ipython",
    "version": 3
   },
   "file_extension": ".py",
   "mimetype": "text/x-python",
   "name": "python",
   "nbconvert_exporter": "python",
   "pygments_lexer": "ipython3",
   "version": "3.9.12"
  }
 },
 "nbformat": 4,
 "nbformat_minor": 5
}
